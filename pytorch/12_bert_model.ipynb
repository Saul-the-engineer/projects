{
 "cells": [
  {
   "cell_type": "code",
   "execution_count": null,
   "metadata": {},
   "outputs": [],
   "source": [
    "import torch\n",
    "import torch.nn as nn"
   ]
  },
  {
   "cell_type": "markdown",
   "metadata": {},
   "source": [
    "# Work on showing how the BERT model works and how it was trained"
   ]
  },
  {
   "cell_type": "code",
   "execution_count": null,
   "metadata": {},
   "outputs": [],
   "source": [
    "class BERTEmbedding(nn.Module):\n",
    "    def __init__(self, vocab_size, num_segments, max_sequence_length, hidden_size, dropout=0.1):\n",
    "        super().__init__()\n",
    "        self.token_embedding = nn.Embedding(vocab_size, hidden_size)  # (30_000, 768) Uses Wordpiece Embedding\n",
    "        self.positional_embedding = nn.Embedding(max_sequence_length, hidden_size)  # (512, 768) Positional Embedding max_length is the context window size, model won't be able to see beyond this\n",
    "        self.segment_embedding = nn.Embedding(num_segments, hidden_size)  # (3, 768) Segment Embedding for distinguishing between sentences [CLS], [SEP], [PAD]\n",
    "\n",
    "        self.dropout = nn.Dropout(dropout)\n",
    "        self.positional_input = torch.arange(max_sequence_length).unsqueeze(0)\n",
    "\n",
    "    def forward(self, input_ids, segment_ids):\n",
    "        embeddings = (\n",
    "            self.token_embedding(input_ids)\n",
    "            + self.positional_embedding(self.positional_input)\n",
    "            + self.segment_embedding(segment_ids)\n",
    "        )\n",
    "        return self.dropout(embeddings)"
   ]
  },
  {
   "cell_type": "code",
   "execution_count": null,
   "metadata": {},
   "outputs": [],
   "source": [
    "class BERTTransformerModel(nn.Module):\n",
    "    def __init__(\n",
    "        self,\n",
    "        vocab_size,\n",
    "        num_segments,\n",
    "        max_sequence_length,\n",
    "        hidden_size,\n",
    "        num_attention_heads,\n",
    "        num_layers,\n",
    "        dropout=0.1,\n",
    "    ):\n",
    "        super().__init__()\n",
    "        self.embedding = BERTEmbedding(\n",
    "            vocab_size, num_segments, max_sequence_length, hidden_size, dropout=dropout\n",
    "        )\n",
    "        self.encoder = nn.TransformerEncoder(\n",
    "            nn.TransformerEncoderLayer(hidden_size, num_attention_heads, dropout=dropout),\n",
    "            num_layers,\n",
    "        )\n",
    "        self.fc = nn.Linear(hidden_size, 1)\n",
    "\n",
    "    def forward(self, input_ids, segment_ids):\n",
    "        x = self.embedding(input_ids, segment_ids)\n",
    "        x = self.encoder(x)\n",
    "        x = self.fc(x[:, 0])\n",
    "        return x"
   ]
  },
  {
   "cell_type": "code",
   "execution_count": null,
   "metadata": {},
   "outputs": [],
   "source": []
  }
 ],
 "metadata": {
  "language_info": {
   "name": "python"
  }
 },
 "nbformat": 4,
 "nbformat_minor": 2
}
