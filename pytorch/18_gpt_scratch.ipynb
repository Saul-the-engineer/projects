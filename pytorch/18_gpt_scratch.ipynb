{
 "cells": [
  {
   "cell_type": "markdown",
   "metadata": {},
   "source": [
    "\n",
    "References:\n",
    "\n",
    "https://jaketae.github.io/study/gpt/\n",
    "https://medium.com/@sntaus/building-a-mini-gpt-like-language-model-from-scratch-27257bf5c145"
   ]
  },
  {
   "cell_type": "code",
   "execution_count": 1,
   "metadata": {},
   "outputs": [
    {
     "name": "stderr",
     "output_type": "stream",
     "text": [
      "/home/saul/.pyenv/versions/3.11.8/envs/llm/lib/python3.11/site-packages/tqdm/auto.py:21: TqdmWarning: IProgress not found. Please update jupyter and ipywidgets. See https://ipywidgets.readthedocs.io/en/stable/user_install.html\n",
      "  from .autonotebook import tqdm as notebook_tqdm\n"
     ]
    }
   ],
   "source": [
    "import math\n",
    "import pandas as pd\n",
    "import torch\n",
    "import torch.nn as nn\n",
    "import torch.nn.functional as F\n",
    "import torch.optim as optim\n",
    "\n",
    "from torch.utils.data import DataLoader, Dataset\n",
    "from transformers import AutoTokenizer"
   ]
  },
  {
   "cell_type": "markdown",
   "metadata": {},
   "source": [
    "# 1. Input Embedding"
   ]
  },
  {
   "cell_type": "code",
   "execution_count": 2,
   "metadata": {},
   "outputs": [],
   "source": [
    "class InputEmbedding(nn.Module):\n",
    "    def __init__(self, embed_dim: int, vocab_size: int):\n",
    "        \"\"\"\n",
    "        Initialize the InputEmbedding module.\n",
    "\n",
    "        Args:\n",
    "            embed_dim (int): The dimensionality of the input embedding.\n",
    "            vocab_size (int): The size of the vocabulary.\n",
    "\n",
    "        \"\"\"\n",
    "        super().__init__()\n",
    "        # Store the dimensionality and vocabulary size\n",
    "        self.embed_dim = embed_dim\n",
    "        self.vocab_size = vocab_size\n",
    "\n",
    "        # Create an embedding layer that maps the vocabulary to a embed_dim-dimensional space\n",
    "        # The embedding layer should have shape (vocab_size, embed_dim)\n",
    "        self.embedding = nn.Embedding(vocab_size, embed_dim)\n",
    "    \n",
    "    def forward(self, x):\n",
    "        \"\"\"\n",
    "        Perform the forward pass of the InputEmbedding module.\n",
    "\n",
    "        Args:\n",
    "            x (tensor): The input tensor.\n",
    "\n",
    "        Returns:\n",
    "            tensor: The embedded input tensor after scaling it by the square root of the dimensionality.\n",
    "\n",
    "        \"\"\"\n",
    "        # Embed the input tensor using the embedding layer\n",
    "        # Shape: (batch_size, seq_len) -> (batch_size, seq_len, embed_dim)\n",
    "        embedded_input = self.embedding(x)\n",
    "        # Scale the embedded input tensor by the square root of the dimensionality\n",
    "        # Shape: (batch_size, seq_len, embed_dim) -> (batch_size, seq_len, embed_dim)\n",
    "        scaled_embedded_input = embedded_input * torch.sqrt(torch.tensor(self.embed_dim))\n",
    "        return scaled_embedded_input"
   ]
  },
  {
   "cell_type": "code",
   "execution_count": 3,
   "metadata": {},
   "outputs": [
    {
     "name": "stdout",
     "output_type": "stream",
     "text": [
      "torch.Size([1, 100, 512])\n"
     ]
    }
   ],
   "source": [
    "input_embedding = InputEmbedding(512, 10000)\n",
    "x = torch.rand(1, 100).long()\n",
    "embedded_input = input_embedding(x)\n",
    "print(embedded_input.shape)"
   ]
  },
  {
   "cell_type": "markdown",
   "metadata": {},
   "source": [
    "# 2. Positional Encoding"
   ]
  },
  {
   "cell_type": "code",
   "execution_count": 4,
   "metadata": {},
   "outputs": [],
   "source": [
    "class PositionalEncoding(nn.Module):\n",
    "    def __init__(self, embed_dim: int = 512, max_seq_len: int = 100, dropout: float = 0.1):\n",
    "        \"\"\"Initialize the PositionalEncoding module.\"\"\"\n",
    "        super().__init__()\n",
    "        self.embed_dim = embed_dim\n",
    "        self.max_seq_len = max_seq_len\n",
    "        self.dropout = nn.Dropout(dropout)\n",
    "        # Precompute the positional encoding matrix\n",
    "        self.positional_encoding = self._precompute_positional_encoding(max_seq_len, embed_dim)\n",
    "\n",
    "    def _precompute_positional_encoding(self, max_seq_len, embed_dim):\n",
    "        \"\"\"Precompute the positional encoding matrix.\"\"\"\n",
    "        with torch.no_grad():\n",
    "            # Create a positional encoding matrix of shape (max_seq_len, embed_dim)\n",
    "            positional_encoding = torch.zeros(max_seq_len, embed_dim)\n",
    "            # Create a tensor 'pos' with values [0, 1, 2, ..., max_seq_len - 1] (max_seq_len, 1)\n",
    "            position = torch.arange(0, max_seq_len, dtype=torch.float).unsqueeze(1)\n",
    "            # Compute the positional encoding matrix\n",
    "            division_term = torch.exp(torch.arange(0, embed_dim, 2).float() * (-torch.log(torch.tensor(10000.0)) / embed_dim))\n",
    "            positional_encoding[:, 0::2] = torch.sin(position * division_term)\n",
    "            positional_encoding[:, 1::2] = torch.cos(position * division_term)\n",
    "            # Shape (max_seq_len, embed_dim) -> (1, max_seq_len, embed_dim)\n",
    "            positional_encoding = positional_encoding.unsqueeze(0)\n",
    "\n",
    "        return positional_encoding\n",
    "\n",
    "    def forward(self, x):\n",
    "        \"\"\"Perform the forward pass of the PositionalEncoding module.\"\"\"\n",
    "        # Add the positional encoding matrix to the input tensor\n",
    "        x = x + self.positional_encoding[:, : x.size(1)]\n",
    "        # Apply dropout to the input tensor\n",
    "        x = self.dropout(x)\n",
    "        return x"
   ]
  },
  {
   "cell_type": "code",
   "execution_count": 5,
   "metadata": {},
   "outputs": [
    {
     "name": "stdout",
     "output_type": "stream",
     "text": [
      "torch.Size([1, 100, 512])\n"
     ]
    }
   ],
   "source": [
    "x = torch.rand(1, 100, 512)\n",
    "positional_encoding = PositionalEncoding()\n",
    "output = positional_encoding(x)\n",
    "print(output.shape)"
   ]
  },
  {
   "cell_type": "markdown",
   "metadata": {},
   "source": [
    "# 3. Layer Normalization"
   ]
  },
  {
   "cell_type": "code",
   "execution_count": 6,
   "metadata": {},
   "outputs": [],
   "source": [
    "class LayerNormalization(nn.Module):\n",
    "    def __init__(self, embed_dim: int, eps: float = 1e-6):\n",
    "        \"\"\"Initialize the LayerNormalization module.\"\"\"\n",
    "        super().__init__()\n",
    "        self.eps = eps\n",
    "        # Create two learnable parameters to scale and shift the normalized input\n",
    "        self.gain = nn.Parameter(torch.Tensor(embed_dim).uniform_())  # Initialize with values sampled from a uniform distribution\n",
    "        self.bias = nn.Parameter(torch.Tensor(embed_dim).normal_())    # Initialize with values sampled from a normal distribution\n",
    "\n",
    "\n",
    "    def forward(self, x):\n",
    "        \"\"\"Perform the forward pass of the LayerNormalization module.\"\"\"\n",
    "        # Compute the mean and standard deviation of the input tensor\n",
    "        mean = x.mean(-1, keepdim=True)\n",
    "        std = x.std(-1, keepdim=True)\n",
    "        # Zero center by subtracting the mean from the input tensor\n",
    "        # Normalize scale by dividing by the standard deviation and add epsilon for numerical stability\n",
    "        # Scale and shift the normalized input using the learnable parameters\n",
    "        return (x - mean) / (std + self.eps) * self.gain + self.bias"
   ]
  },
  {
   "cell_type": "markdown",
   "metadata": {},
   "source": [
    "# 4. Feed Forward Block"
   ]
  },
  {
   "cell_type": "code",
   "execution_count": 7,
   "metadata": {},
   "outputs": [],
   "source": [
    "class FeedForwardBlock(nn.Module):\n",
    "    def __init__(self, embed_dim: int, intermediate_size: int, dropout: float = 0.1):\n",
    "        \"\"\"Initialize the FeedForwardBlock module.\n",
    "        embed_dim is the hidden size of the transformer model functions as input and output size of the FeedForwardBlock\n",
    "        intermediate_size is the hidden size of the intermediate layer in the FeedForwardBlock\n",
    "        dropout is the dropout probability\n",
    "        \"\"\"\n",
    "        super().__init__()\n",
    "        # embed_dim is the dimensionality of the input and output of the FeedForwardBlock\n",
    "        # intermediate_size is the dimensionality of the intermediate layer in the FeedForwardBlock\n",
    "        self.fc1 = nn.Linear(embed_dim, intermediate_size) # W1 and B1 in the formula\n",
    "        self.fc2 = nn.Linear(intermediate_size, embed_dim) # W2 and B2 in the formula\n",
    "        self.dropout = nn.Dropout(dropout)\n",
    "\n",
    "    def forward(self, x):\n",
    "        \"\"\"Perform the forward pass of the FeedForwardBlock module.\"\"\"\n",
    "        # (Batch, Seq_len, embed_dim) -> (Batch, Seq_len, intermediate_size) -> (Batch, Seq_len, embed_dim)\n",
    "        x_intermediate = self.dropout(F.relu(self.fc1(x)))\n",
    "        x_output = self.fc2(x_intermediate)\n",
    "        return x_output"
   ]
  },
  {
   "cell_type": "markdown",
   "metadata": {},
   "source": [
    "# 5. Multi-Head Attention Block"
   ]
  },
  {
   "cell_type": "code",
   "execution_count": 8,
   "metadata": {},
   "outputs": [],
   "source": [
    "class MultiHeadAttention(nn.Module):\n",
    "    def __init__(self, embed_dim: int = 512, num_heads: int = 8, attn_dropout: float = 0.1, ff_dropout: float = 0.1, max_len: int = 512):\n",
    "        super().__init__()\n",
    "        self.num_heads = num_heads\n",
    "        assert embed_dim % self.num_heads == 0, \"invalid heads and embedding dimension configuration\"\n",
    "        self.key = nn.Linear(embed_dim, embed_dim)\n",
    "        self.value = nn.Linear(embed_dim, embed_dim)\n",
    "        self.query = nn.Linear(embed_dim, embed_dim)\n",
    "        self.proj = nn.Linear(embed_dim, embed_dim)\n",
    "        self.attn_dropout = nn.Dropout(attn_dropout)\n",
    "        self.proj_dropout = nn.Dropout(ff_dropout)\n",
    "        # Create a buffer to store the mask\n",
    "        # Shape: (1, max_len, max_len)\n",
    "        self.register_buffer(\n",
    "            \"mask\", \n",
    "            torch.triu(torch.ones(max_len, max_len, dtype=torch.bool), diagonal=1)\n",
    "        )\n",
    "    \n",
    "    def forward(self, x, mask=None):\n",
    "        batch_size, seq_len, _ = x.size()\n",
    "        # Apply linear transformations to the input tensor\n",
    "        # Shape: (batch_size, seq_len, embed_dim) -> (batch_size, seq_len, num_heads, head_dim)\n",
    "        q = self.query(x).view(batch_size, seq_len, self.num_heads, -1).transpose(1, 2)\n",
    "        k = self.key(x).view(batch_size, seq_len, self.num_heads, -1).transpose(1, 2)\n",
    "        v = self.value(x).view(batch_size, seq_len, self.num_heads, -1).transpose(1, 2)\n",
    "        \n",
    "        # Compute attention scores using Einsum\n",
    "        # Shape: (batch_size, num_heads, seq_len, seq_len) -> (batch_size, num_heads, seq_len, head_dim)\n",
    "        attn = torch.einsum('bhid,bhjd->bhij', q, k) / math.sqrt(q.size(-1))\n",
    "        \n",
    "        # Apply mask if provided\n",
    "        if mask is not None:\n",
    "            attn = attn.masked_fill(mask == 0, float(\"-inf\"))\n",
    "        \n",
    "        # Apply softmax and dropout\n",
    "        # Shape: (batch_size, num_heads, seq_len, seq_len) -> (batch_size, num_heads, seq_len, head_dim)\n",
    "        attn = self.attn_dropout(F.softmax(attn, dim=-1))\n",
    "        # Shape: (batch_size, num_heads, seq_len, head_dim) -> (batch_size, seq_len, num_heads, head_dim)\n",
    "        y = torch.einsum('bhij,bhjd->bhid', attn, v)\n",
    "        # Shape: (batch_size, seq_len, num_heads, head_dim) -> (batch_size, seq_len, embed_dim)\n",
    "        y = y.transpose(1, 2).contiguous().view(batch_size, seq_len, -1)\n",
    "        # Apply linear transformation and dropout\n",
    "        # Shape: (batch_size, seq_len, embed_dim) -> (batch_size, seq_len, embed_dim)\n",
    "        return self.proj(self.proj_dropout(y))"
   ]
  },
  {
   "cell_type": "code",
   "execution_count": 9,
   "metadata": {},
   "outputs": [
    {
     "name": "stdout",
     "output_type": "stream",
     "text": [
      "torch.Size([1, 100, 512])\n"
     ]
    }
   ],
   "source": [
    "x = torch.rand(1, 100, 512)\n",
    "multi_head_attention = MultiHeadAttention()\n",
    "output = multi_head_attention(x)\n",
    "print(output.shape)"
   ]
  },
  {
   "cell_type": "markdown",
   "metadata": {},
   "source": [
    "# 6. Residual Connection"
   ]
  },
  {
   "cell_type": "code",
   "execution_count": 10,
   "metadata": {},
   "outputs": [],
   "source": [
    "class ResidualConnection(nn.Module):\n",
    "    def __init__(self, embed_dim, dropout: float = 0.1):\n",
    "        \"\"\"Initialize the ResidualConnection module.\"\"\"\n",
    "        super().__init__()\n",
    "        self.layer_norm = LayerNormalization(embed_dim=embed_dim)\n",
    "        self.dropout = nn.Dropout(dropout)\n",
    "\n",
    "    def forward(self, x, sublayer):\n",
    "        \"\"\"Perform the forward pass of the ResidualConnection module.\"\"\"\n",
    "        # Apply layer normalization\n",
    "        # (batch_size, seq_len, embed_dim) -> (batch_size, seq_len, embed_dim)\n",
    "        normalized_x = self.layer_norm(x)\n",
    "        # Apply sublayer (e.g., feedforward block)\n",
    "        # (batch_size, seq_len, embed_dim) -> (batch_size, seq_len, embed_dim)\n",
    "        sublayer_output = sublayer(normalized_x)\n",
    "        # Add residual connection and apply dropout\n",
    "        # (batch_size, seq_len, embed_dim) + (batch_size, seq_len, embed_dim) -> (batch_size, seq_len, embed_dim)\n",
    "        residual_output = x + self.dropout(sublayer_output)\n",
    "        return residual_output"
   ]
  },
  {
   "cell_type": "markdown",
   "metadata": {},
   "source": [
    "# 7. Transformer Block"
   ]
  },
  {
   "cell_type": "code",
   "execution_count": 11,
   "metadata": {},
   "outputs": [],
   "source": [
    "class DecoderBlock(nn.Module):\n",
    "    def __init__(\n",
    "        self, \n",
    "        embed_dim: int = 512, \n",
    "        num_heads: int = 8, \n",
    "        ff_dim: int = 2048, \n",
    "        attn_dropout: float = 0.1, \n",
    "        ff_dropout: float = 0.1, \n",
    "        dropout: float = 0.1,\n",
    "        max_len: int = 512,\n",
    "    ):\n",
    "        super().__init__()\n",
    "        # Initialize multi-head self-attention mechanism\n",
    "        self.MultiHeadAttention = MultiHeadAttention(\n",
    "            embed_dim=embed_dim, \n",
    "            num_heads=num_heads, \n",
    "            attn_dropout=attn_dropout, \n",
    "            ff_dropout=ff_dropout,\n",
    "            max_len=max_len,\n",
    "            )\n",
    "        # Initialize feed-forward block\n",
    "        self.feed_forward = FeedForwardBlock(\n",
    "            embed_dim=embed_dim, \n",
    "            intermediate_size=ff_dim, \n",
    "            dropout=ff_dropout,\n",
    "            )\n",
    "        # Initialize residual connections\n",
    "        self.residual_connection1 = ResidualConnection(embed_dim=embed_dim, dropout=dropout)\n",
    "        self.residual_connection2 = ResidualConnection(embed_dim=embed_dim, dropout=dropout)\n",
    "\n",
    "    def forward(self, x, attention_mask=None):\n",
    "        # Apply self-attention mechanism with residual connection\n",
    "        x_with_attention = self.residual_connection1(x, lambda x: self.MultiHeadAttention(x, mask=attention_mask))\n",
    "        # Apply feed-forward block with residual connection\n",
    "        x_with_ff = self.residual_connection2(x_with_attention, self.feed_forward)\n",
    "        return x_with_ff\n",
    "\n",
    "def generate_square_subsequent_mask(size: int, device: torch.device = \"cpu\"):\n",
    "    \"\"\"Generate a square mask for the sequence.\"\"\"\n",
    "    mask = torch.triu(torch.ones(size, size, dtype=torch.bool, device=device), diagonal=1)\n",
    "    return mask.unsqueeze(0)  # Add batch dimension"
   ]
  },
  {
   "cell_type": "markdown",
   "metadata": {},
   "source": [
    "# 8. Building the Transformer"
   ]
  },
  {
   "cell_type": "code",
   "execution_count": 12,
   "metadata": {},
   "outputs": [],
   "source": [
    "class GPT(nn.Module):\n",
    "    def __init__(\n",
    "        self,\n",
    "        vocab_size: int,\n",
    "        embed_dim: int = 512,\n",
    "        max_len: int = 512,\n",
    "        embed_dropout: float = 0.1,\n",
    "        num_blocks: int = 6,\n",
    "        num_heads: int = 8,\n",
    "        ff_dim: int = 2048,\n",
    "        attn_dropout: float = 0.1,\n",
    "        ff_dropout: float = 0.1\n",
    "    ):\n",
    "        super().__init__()\n",
    "        self.max_len = max_len\n",
    "        self.token_embedding = InputEmbedding(\n",
    "            embed_dim=embed_dim,\n",
    "            vocab_size=vocab_size,\n",
    "            )\n",
    "        self.positional_embedding = PositionalEncoding(\n",
    "            embed_dim=embed_dim,\n",
    "            max_seq_len=max_len,\n",
    "            dropout=embed_dropout,\n",
    "            )\n",
    "        self.blocks = nn.ModuleList([DecoderBlock(\n",
    "            embed_dim=embed_dim,\n",
    "            num_heads=num_heads,\n",
    "            ff_dim=ff_dim, \n",
    "            attn_dropout=attn_dropout,\n",
    "            ff_dropout=ff_dropout,\n",
    "            max_len=max_len,\n",
    "            ) for _ in range(num_blocks)])\n",
    "        \n",
    "        self.fc = nn.Linear(\n",
    "            embed_dim,\n",
    "            vocab_size,\n",
    "            )\n",
    "\n",
    "    def forward(self, input_ids: torch.Tensor, attention_mask: torch.Tensor = None):\n",
    "        # Shape: (batch_size, seq_len) -> (seq_len)\n",
    "        seq_len = input_ids.size(1)\n",
    "        assert seq_len <= self.max_len, \"Sequence longer than model capacity\"\n",
    "        \n",
    "        # Token embedding\n",
    "        # Shape: (batch_size, seq_len) -> (batch_size, seq_len, embed_dim)\n",
    "        x = self.token_embedding(input_ids)  # (batch_size, seq_len, embed_dim)\n",
    "        \n",
    "        # Add positional embedding\n",
    "        # Shape: (batch_size, seq_len, embed_dim) -> (batch_size, seq_len, embed_dim)\n",
    "        x = self.positional_embedding(x)\n",
    "\n",
    "        # Forward through decoder blocks\n",
    "        # output of each block is the hidden state of the transformer\n",
    "        # Shape: (batch_size, seq_len, embed_dim) -> (batch_size, seq_len, embed_dim)\n",
    "        for block in self.blocks:\n",
    "            x = block(x, attention_mask=attention_mask)\n",
    "        \n",
    "        # Linear layer for output logits\n",
    "        # Shape: (batch_size, seq_len, embed_dim) -> (batch_size, seq_len, vocab_size)\n",
    "        x = self.fc(x)  # (batch_size, seq_len, vocab_size)\n",
    "\n",
    "        return x"
   ]
  },
  {
   "cell_type": "markdown",
   "metadata": {},
   "source": [
    "# 9. Sample Usage"
   ]
  },
  {
   "cell_type": "code",
   "execution_count": 13,
   "metadata": {},
   "outputs": [],
   "source": [
    "# Define model parameters\n",
    "vocab_size = 10000  # Example vocab size\n",
    "embed_dim = 512\n",
    "max_len = 200\n",
    "embed_dropout = 0.1\n",
    "num_blocks = 6\n",
    "num_heads = 8\n",
    "ff_dim = 2048\n",
    "attn_dropout = 0.1\n",
    "ff_dropout = 0.1\n",
    "\n",
    "# Initialize GPT model\n",
    "model = GPT(\n",
    "    vocab_size=vocab_size,\n",
    "    embed_dim=embed_dim,\n",
    "    max_len=max_len,\n",
    "    embed_dropout=embed_dropout,\n",
    "    num_blocks=num_blocks,\n",
    "    num_heads=num_heads,\n",
    "    ff_dim=ff_dim,\n",
    "    attn_dropout=attn_dropout,\n",
    "    ff_dropout=ff_dropout\n",
    ")"
   ]
  },
  {
   "cell_type": "code",
   "execution_count": 14,
   "metadata": {},
   "outputs": [
    {
     "name": "stdout",
     "output_type": "stream",
     "text": [
      "Output shape: torch.Size([1, 50, 10000])\n"
     ]
    }
   ],
   "source": [
    "# Generate a random input tensor\n",
    "batch_size = 1\n",
    "seq_len = 50  # Example sequence length\n",
    "random_input = torch.rand(batch_size, seq_len).long()\n",
    "\n",
    "# Pass the random input through the model\n",
    "output = model(random_input)\n",
    "\n",
    "# Print the shape of the output\n",
    "print(\"Output shape:\", output.shape) # Output shape: torch.Size([1, 50, 10000])"
   ]
  },
  {
   "cell_type": "markdown",
   "metadata": {},
   "source": [
    "# 10. Training the Transformer"
   ]
  },
  {
   "cell_type": "markdown",
   "metadata": {},
   "source": [
    "## 10.1 Data Preprocessing"
   ]
  },
  {
   "cell_type": "code",
   "execution_count": 15,
   "metadata": {},
   "outputs": [],
   "source": [
    "sample_data = [\n",
    "    \"Mary had a little lamb\",\n",
    "    \"Its fleece was white as snow\",\n",
    "    \"And everywhere that Mary went\",\n",
    "    \"The lamb was sure to go\",\n",
    "]"
   ]
  },
  {
   "cell_type": "code",
   "execution_count": 16,
   "metadata": {},
   "outputs": [],
   "source": [
    "class Dataset(Dataset):\n",
    "    def __init__(self, data:list, tokenizer, max_length:int):\n",
    "        self.data = data\n",
    "        self.tokenizer = tokenizer\n",
    "        self.max_length = max_length\n",
    "\n",
    "    def __len__(self):\n",
    "        return len(self.data)\n",
    "\n",
    "    def __getitem__(self, idx):\n",
    "        text = self.data[idx]\n",
    "\n",
    "        # Tokenize the text\n",
    "        inputs = self.tokenizer.encode(text, padding=\"max_length\", max_length=self.max_length, truncation=True, return_tensors=\"pt\")\n",
    "\n",
    "        # Convert tokenized text to input IDs\n",
    "        input_ids = inputs[idx, :-1]  # Remove last token as it will be used as label\n",
    "        label = inputs[idx, :-1]  # Shifted by one position for language modeling\n",
    "\n",
    "        return input_ids, label"
   ]
  },
  {
   "cell_type": "code",
   "execution_count": 17,
   "metadata": {},
   "outputs": [],
   "source": [
    "tokenizer = AutoTokenizer.from_pretrained(\"gpt2\")\n",
    "if tokenizer.pad_token is None:\n",
    "    tokenizer.add_special_tokens({'pad_token': '[PAD]'})\n",
    "\n",
    "train_dataset = Dataset(\n",
    "    data = sample_data,\n",
    "    tokenizer = tokenizer,\n",
    "    max_length = 50,\n",
    "    )"
   ]
  },
  {
   "cell_type": "code",
   "execution_count": 18,
   "metadata": {},
   "outputs": [
    {
     "name": "stdout",
     "output_type": "stream",
     "text": [
      "Label: tensor([24119,   550,   257,  1310, 19343, 50257, 50257, 50257, 50257, 50257,\n",
      "        50257, 50257, 50257, 50257, 50257, 50257, 50257, 50257, 50257, 50257,\n",
      "        50257, 50257, 50257, 50257, 50257, 50257, 50257, 50257, 50257, 50257,\n",
      "        50257, 50257, 50257, 50257, 50257, 50257, 50257, 50257, 50257, 50257,\n",
      "        50257, 50257, 50257, 50257, 50257, 50257, 50257, 50257, 50257])\n",
      "Input IDs: tensor([24119,   550,   257,  1310, 19343, 50257, 50257, 50257, 50257, 50257,\n",
      "        50257, 50257, 50257, 50257, 50257, 50257, 50257, 50257, 50257, 50257,\n",
      "        50257, 50257, 50257, 50257, 50257, 50257, 50257, 50257, 50257, 50257,\n",
      "        50257, 50257, 50257, 50257, 50257, 50257, 50257, 50257, 50257, 50257,\n",
      "        50257, 50257, 50257, 50257, 50257, 50257, 50257, 50257, 50257])\n"
     ]
    }
   ],
   "source": [
    "input_ids, label = train_dataset[0]\n",
    "\n",
    "print(\"Label:\", label)\n",
    "print(\"Input IDs:\", input_ids)"
   ]
  },
  {
   "cell_type": "markdown",
   "metadata": {},
   "source": [
    "## 10.2 Model Training"
   ]
  },
  {
   "cell_type": "code",
   "execution_count": 19,
   "metadata": {},
   "outputs": [],
   "source": [
    "device = 'cpu' #torch.device(\"cuda\" if torch.cuda.is_available() else \"cpu\")\n",
    "lr = 5e-5\n",
    "batch_size = 2\n",
    "num_epochs = 5"
   ]
  },
  {
   "cell_type": "code",
   "execution_count": null,
   "metadata": {},
   "outputs": [],
   "source": [
    "model.to(device)\n",
    "optimizer = optim.Adam(model.parameters(), lr=lr)\n",
    "criterion = nn.CrossEntropyLoss()\n",
    "train_loader = DataLoader(train_dataset, batch_size=batch_size, shuffle=True)\n",
    "\n",
    "for epoch in range(num_epochs):\n",
    "    model.train()\n",
    "    total_loss = 0.0\n",
    "\n",
    "    for batch in train_loader:\n",
    "        optimizer.zero_grad()\n",
    "        input_ids, labels = batch.to(device)\n",
    "\n",
    "        # Generate the causal mask\n",
    "        mask = generate_square_subsequent_mask(input_ids.size(1), device=device)\n",
    "\n",
    "        # Forward pass\n",
    "        logits = model(input_ids=input_ids, attention_mask=mask)\n",
    "        \n",
    "        # Flatten the logits and labels for computing the loss\n",
    "        logits_flat = logits.view(-1, logits.size(-1))\n",
    "        labels_flat = labels.view(-1)\n",
    "        \n",
    "        # Compute the loss\n",
    "        loss = criterion(logits_flat, labels_flat)\n",
    "\n",
    "        # Backward pass and optimization step\n",
    "        loss.backward()\n",
    "        optimizer.step()\n",
    "\n",
    "        total_loss += loss.item()\n",
    "\n",
    "    print(f'Epoch {epoch+1}/{num_epochs}, Loss: {total_loss/len(train_loader)}')\n"
   ]
  },
  {
   "cell_type": "markdown",
   "metadata": {},
   "source": [
    "# 11. Inference"
   ]
  },
  {
   "cell_type": "code",
   "execution_count": 21,
   "metadata": {},
   "outputs": [],
   "source": [
    "vocab_size = 50257\n",
    "embed_dim = 768\n",
    "max_len = 1024\n",
    "embed_dropout = 0.1\n",
    "num_blocks = 12  # or 24 for GPT-2 XL\n",
    "num_heads = 12   # or 24 for GPT-2 XL\n",
    "ff_dim = 3072\n",
    "attn_dropout = 0.1\n",
    "ff_dropout = 0.1\n",
    "\n",
    "# Initialize GPT model\n",
    "model = GPT(\n",
    "    vocab_size=vocab_size,\n",
    "    embed_dim=embed_dim,\n",
    "    max_len=max_len,\n",
    "    embed_dropout=embed_dropout,\n",
    "    num_blocks=num_blocks,\n",
    "    num_heads=num_heads,\n",
    "    ff_dim=ff_dim,\n",
    "    attn_dropout=attn_dropout,\n",
    "    ff_dropout=ff_dropout\n",
    ")"
   ]
  },
  {
   "cell_type": "code",
   "execution_count": 22,
   "metadata": {},
   "outputs": [],
   "source": [
    "model_name = \"gpt2\"\n",
    "device = torch.device(\"cpu\")\n",
    "tokenizer = AutoTokenizer.from_pretrained(model_name)"
   ]
  },
  {
   "cell_type": "code",
   "execution_count": 23,
   "metadata": {},
   "outputs": [
    {
     "name": "stdout",
     "output_type": "stream",
     "text": [
      "tensor([[37573, 18252,   351,  9485, 15884,   354,   460,   466,  4998]])\n",
      "torch.Size([1, 9])\n"
     ]
    }
   ],
   "source": [
    "input_txt = \"Machine Learning with PyTorch can do amazing\"\n",
    "\n",
    "input_ids = tokenizer(input_txt, return_tensors=\"pt\")[\"input_ids\"].to(device)\n",
    "print(input_ids)\n",
    "print(input_ids.shape)"
   ]
  },
  {
   "cell_type": "code",
   "execution_count": 24,
   "metadata": {},
   "outputs": [
    {
     "data": {
      "text/html": [
       "<div>\n",
       "<style scoped>\n",
       "    .dataframe tbody tr th:only-of-type {\n",
       "        vertical-align: middle;\n",
       "    }\n",
       "\n",
       "    .dataframe tbody tr th {\n",
       "        vertical-align: top;\n",
       "    }\n",
       "\n",
       "    .dataframe thead th {\n",
       "        text-align: right;\n",
       "    }\n",
       "</style>\n",
       "<table border=\"1\" class=\"dataframe\">\n",
       "  <thead>\n",
       "    <tr style=\"text-align: right;\">\n",
       "      <th></th>\n",
       "      <th>Input</th>\n",
       "      <th>Choice 1</th>\n",
       "      <th>Choice 2</th>\n",
       "      <th>Choice 3</th>\n",
       "      <th>Choice 4</th>\n",
       "      <th>Choice 5</th>\n",
       "    </tr>\n",
       "  </thead>\n",
       "  <tbody>\n",
       "    <tr>\n",
       "      <th>0</th>\n",
       "      <td>Machine Learning with PyTorch can do amazing</td>\n",
       "      <td>manic (87.25%)</td>\n",
       "      <td>Shards (9.53%)</td>\n",
       "      <td>Starting (1.71%)</td>\n",
       "      <td>466 (0.83%)</td>\n",
       "      <td>Song (0.40%)</td>\n",
       "    </tr>\n",
       "    <tr>\n",
       "      <th>1</th>\n",
       "      <td>Machine Learning with PyTorch can do amazing m...</td>\n",
       "      <td>XML (91.81%)</td>\n",
       "      <td>Edge (2.64%)</td>\n",
       "      <td>Trailer (2.25%)</td>\n",
       "      <td>String (2.11%)</td>\n",
       "      <td>;; (0.43%)</td>\n",
       "    </tr>\n",
       "    <tr>\n",
       "      <th>2</th>\n",
       "      <td>Machine Learning with PyTorch can do amazing m...</td>\n",
       "      <td>ername (29.91%)</td>\n",
       "      <td>Rum (29.04%)</td>\n",
       "      <td>Rock (16.35%)</td>\n",
       "      <td>Kelley (11.88%)</td>\n",
       "      <td>TX (3.48%)</td>\n",
       "    </tr>\n",
       "    <tr>\n",
       "      <th>3</th>\n",
       "      <td>Machine Learning with PyTorch can do amazing m...</td>\n",
       "      <td>calam (88.59%)</td>\n",
       "      <td>growing (10.06%)</td>\n",
       "      <td>NAME (0.53%)</td>\n",
       "      <td>shown (0.48%)</td>\n",
       "      <td>formulas (0.14%)</td>\n",
       "    </tr>\n",
       "    <tr>\n",
       "      <th>4</th>\n",
       "      <td>Machine Learning with PyTorch can do amazing m...</td>\n",
       "      <td>juven (51.40%)</td>\n",
       "      <td>arer (43.89%)</td>\n",
       "      <td>osite (2.54%)</td>\n",
       "      <td>ensical (1.35%)</td>\n",
       "      <td>Bound (0.64%)</td>\n",
       "    </tr>\n",
       "  </tbody>\n",
       "</table>\n",
       "</div>"
      ],
      "text/plain": [
       "                                               Input         Choice 1  \\\n",
       "0       Machine Learning with PyTorch can do amazing   manic (87.25%)   \n",
       "1  Machine Learning with PyTorch can do amazing m...     XML (91.81%)   \n",
       "2  Machine Learning with PyTorch can do amazing m...  ername (29.91%)   \n",
       "3  Machine Learning with PyTorch can do amazing m...   calam (88.59%)   \n",
       "4  Machine Learning with PyTorch can do amazing m...   juven (51.40%)   \n",
       "\n",
       "            Choice 2           Choice 3          Choice 4           Choice 5  \n",
       "0     Shards (9.53%)   Starting (1.71%)       466 (0.83%)       Song (0.40%)  \n",
       "1       Edge (2.64%)    Trailer (2.25%)    String (2.11%)         ;; (0.43%)  \n",
       "2       Rum (29.04%)      Rock (16.35%)   Kelley (11.88%)         TX (3.48%)  \n",
       "3   growing (10.06%)       NAME (0.53%)     shown (0.48%)   formulas (0.14%)  \n",
       "4      arer (43.89%)      osite (2.54%)   ensical (1.35%)      Bound (0.64%)  "
      ]
     },
     "execution_count": 24,
     "metadata": {},
     "output_type": "execute_result"
    }
   ],
   "source": [
    "model = model.to(device)\n",
    "iterations = []\n",
    "n_steps = 10\n",
    "choices_per_step = 5\n",
    "\n",
    "with torch.no_grad():\n",
    "    for _ in range(n_steps):\n",
    "        iteration = dict()\n",
    "        iteration[\"Input\"] = tokenizer.decode(input_ids[0])\n",
    "        output = model(input_ids=input_ids)\n",
    "        \n",
    "        # Select logits of the first batch and the last token and apply softmax to get the probability\n",
    "        next_token_logits = output[0, -1, :]\n",
    "        next_token_probs = torch.softmax(next_token_logits, dim=-1)\n",
    "        sorted_ids = torch.argsort(next_token_probs, dim=-1, descending=True)\n",
    "        \n",
    "        # Store tokens with highest probabilities in our little table\n",
    "        for choice_idx in range(choices_per_step):\n",
    "            token_id = sorted_ids[choice_idx]\n",
    "            token_prob = next_token_probs[token_id].cpu().numpy()\n",
    "            token_choice = (\n",
    "                f\"{tokenizer.decode(token_id)} ({100 * token_prob:.2f}%)\"\n",
    "            )\n",
    "            iteration[f\"Choice {choice_idx+1}\"] = token_choice\n",
    "        iterations.append(iteration)\n",
    "\n",
    "            \n",
    "        # Append predicted next token to input\n",
    "        input_ids = torch.cat([input_ids, sorted_ids[None, 0, None]], dim=-1)\n",
    "\n",
    "sample_inference = pd.DataFrame(iterations)\n",
    "sample_inference.head()"
   ]
  },
  {
   "cell_type": "code",
   "execution_count": 25,
   "metadata": {},
   "outputs": [],
   "source": [
    "def generate_text_until_end(\n",
    "        input_text:str, \n",
    "        model:GPT, \n",
    "        tokenizer:AutoTokenizer,  \n",
    "        max_length:int=100, \n",
    "        device='cpu',\n",
    "        ):\n",
    "    model = model.to(device)\n",
    "    input_ids = tokenizer.encode(input_text, return_tensors='pt').to(device)\n",
    "    end_token_id = tokenizer.eos_token_id\n",
    "    generated_ids = input_ids.flatten().clone()  # Convert to 1-dimensional tensor\n",
    "\n",
    "    with torch.no_grad():\n",
    "        while True:\n",
    "            output = model(input_ids=input_ids)\n",
    "            next_token_logits = output[:, -1, :]\n",
    "            # Apply softmax to get probabilities but probably not necessary\n",
    "            # because the max value will still be the max value after softmax\n",
    "            #next_token_probs = torch.softmax(next_token_logits, dim=-1)\n",
    "            next_token_id = torch.argmax(next_token_logits, dim=-1)\n",
    "            generated_ids = torch.cat([generated_ids, next_token_id], dim=-1)\n",
    "            input_ids = next_token_id.unsqueeze(0)\n",
    "\n",
    "            if next_token_id == end_token_id or len(generated_ids) >= max_length:\n",
    "                break\n",
    "\n",
    "    generated_text = tokenizer.decode(generated_ids, skip_special_tokens=True)\n",
    "    return generated_text"
   ]
  },
  {
   "cell_type": "code",
   "execution_count": 26,
   "metadata": {},
   "outputs": [
    {
     "name": "stdout",
     "output_type": "stream",
     "text": [
      "I like to eatostic prosecutors Scorplicensed fatal negate preservation THANKNOT Reincarnirds anonymity offendersradiusidate md\n"
     ]
    }
   ],
   "source": [
    "# Example usage:\n",
    "generated_text = generate_text_until_end(\n",
    "    input_text=\"I like to eat\",\n",
    "    model=model,\n",
    "    tokenizer=tokenizer,\n",
    "    max_length=20,\n",
    "    device='cpu'\n",
    ")\n",
    "\n",
    "print(generated_text)"
   ]
  }
 ],
 "metadata": {
  "kernelspec": {
   "display_name": "llm",
   "language": "python",
   "name": "python3"
  },
  "language_info": {
   "codemirror_mode": {
    "name": "ipython",
    "version": 3
   },
   "file_extension": ".py",
   "mimetype": "text/x-python",
   "name": "python",
   "nbconvert_exporter": "python",
   "pygments_lexer": "ipython3",
   "version": "3.11.8"
  }
 },
 "nbformat": 4,
 "nbformat_minor": 2
}
