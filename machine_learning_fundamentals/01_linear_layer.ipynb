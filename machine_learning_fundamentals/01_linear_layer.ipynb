{
 "cells": [
  {
   "cell_type": "code",
   "execution_count": 1,
   "metadata": {},
   "outputs": [],
   "source": [
    "import torch\n",
    "import torch.nn as nn\n",
    "import numpy as np"
   ]
  },
  {
   "cell_type": "code",
   "execution_count": 2,
   "metadata": {},
   "outputs": [
    {
     "name": "stdout",
     "output_type": "stream",
     "text": [
      "Linear(in_features=4, out_features=3, bias=True)\n",
      "Parameter containing:\n",
      "tensor([ 0.0119, -0.2464, -0.3079], requires_grad=True)\n",
      "Parameter containing:\n",
      "tensor([[ 0.1172,  0.2725,  0.2708, -0.2338],\n",
      "        [-0.0904,  0.1889, -0.3766, -0.0966],\n",
      "        [-0.4790, -0.0961, -0.3069,  0.1273]], requires_grad=True)\n"
     ]
    }
   ],
   "source": [
    "linear = nn.Linear(4,3)\n",
    "print(linear)\n",
    "print(linear.bias)\n",
    "print(linear.weight)"
   ]
  },
  {
   "cell_type": "code",
   "execution_count": 3,
   "metadata": {},
   "outputs": [
    {
     "name": "stdout",
     "output_type": "stream",
     "text": [
      "tensor([[ 0.4386, -0.6212, -1.0626]], grad_fn=<AddmmBackward0>)\n"
     ]
    }
   ],
   "source": [
    "linear_input = torch.from_numpy(\n",
    "    np.ones((1,4)).astype(np.float32)\n",
    "    )\n",
    "\n",
    "print(linear(linear_input))"
   ]
  },
  {
   "cell_type": "code",
   "execution_count": 7,
   "metadata": {},
   "outputs": [
    {
     "name": "stdout",
     "output_type": "stream",
     "text": [
      "tensor([[ 0.4386, -0.6212, -1.0626]], grad_fn=<AddBackward0>)\n"
     ]
    }
   ],
   "source": [
    "print(linear_input @ linear.weight.T + linear.bias)"
   ]
  }
 ],
 "metadata": {
  "kernelspec": {
   "display_name": "pytorch",
   "language": "python",
   "name": "python3"
  },
  "language_info": {
   "codemirror_mode": {
    "name": "ipython",
    "version": 3
   },
   "file_extension": ".py",
   "mimetype": "text/x-python",
   "name": "python",
   "nbconvert_exporter": "python",
   "pygments_lexer": "ipython3",
   "version": "3.11.6"
  }
 },
 "nbformat": 4,
 "nbformat_minor": 2
}
