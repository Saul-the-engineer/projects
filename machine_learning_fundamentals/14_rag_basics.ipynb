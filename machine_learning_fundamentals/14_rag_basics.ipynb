{
 "cells": [
  {
   "cell_type": "markdown",
   "metadata": {},
   "source": [
    "# Retrieval Augmented Generation (RAG) Basics\n",
    "\n",
    "In this notebook, we will cover the basics of Retrieval Augmented Generation (RAG) model. RAG is a model that combines the best of both worlds - retrieval and generation. It uses a retriever to retrieve relevant passages from a large corpus and then uses a generator to generate the answer.\n",
    "\n",
    "References:\n",
    "\n",
    "https://github.com/zenml-io/zenml-projects/blob/feature/evaluation-llm-complete-guide/llm-complete-guide/most_basic_rag_pipeline.py\n",
    "\n",
    "https://docs.zenml.io/user-guide/llmops-guide/evaluation/evaluation-in-65-loc\n"
   ]
  },
  {
   "cell_type": "code",
   "execution_count": 1,
   "metadata": {},
   "outputs": [],
   "source": [
    "import os\n",
    "import re\n",
    "import string\n",
    "\n",
    "from openai import OpenAI\n",
    "from typing import List, Tuple"
   ]
  },
  {
   "cell_type": "markdown",
   "metadata": {},
   "source": [
    "# Helper Functions"
   ]
  },
  {
   "cell_type": "code",
   "execution_count": 2,
   "metadata": {},
   "outputs": [],
   "source": [
    "def preprocess_text(text: str):\n",
    "    text = text.lower()\n",
    "    text = text.translate(str.maketrans('', '', string.punctuation))\n",
    "    text = re.sub(r\"\\s+\", \" \", text).strip()\n",
    "    return text\n",
    "\n",
    "def tokenize(text: str):\n",
    "    return preprocess_text(text).split()"
   ]
  },
  {
   "cell_type": "code",
   "execution_count": 3,
   "metadata": {},
   "outputs": [],
   "source": [
    "def retrieve_relevant_chunks(query, corpus, top_n=2):\n",
    "    query_tokens = set(tokenize(query))\n",
    "    similarities = []\n",
    "    for chunk in corpus:\n",
    "        chunk_tokens = set(tokenize(chunk))\n",
    "        similarity = len(query_tokens.intersection(chunk_tokens)) / len(query_tokens.union(chunk_tokens))\n",
    "        similarities.append(similarity)\n",
    "    top_chunks = sorted(list(enumerate(similarities)), key=lambda x: x[1], reverse=True)[:top_n]\n",
    "    return [corpus[i] for i, _ in top_chunks]\n"
   ]
  },
  {
   "cell_type": "code",
   "execution_count": 4,
   "metadata": {},
   "outputs": [],
   "source": [
    "def modify_query(query:str, chunks: List[str]):\n",
    "    context = \"/n\".join(chunks)\n",
    "    new_query = [\n",
    "            {\n",
    "                \"role\": \"system\",\n",
    "                \"content\": f\"Based on the provided context, answer the following question: {query}\\n\\nContext:\\n{context}\",\n",
    "                },\n",
    "            {\n",
    "                \"role\": \"user\",\n",
    "                \"content\": query,\n",
    "                },\n",
    "        ]\n",
    "    return new_query"
   ]
  },
  {
   "cell_type": "code",
   "execution_count": 5,
   "metadata": {},
   "outputs": [],
   "source": [
    "def answer_question(query: str, corpus: str, top_n=2):\n",
    "    relevant_chunks = retrieve_relevant_chunks(query, corpus, top_n)\n",
    "    if not relevant_chunks:\n",
    "        return \"I'm sorry, I don't know the answer to that question.\"\n",
    "    client = OpenAI(api_key = os.environ.get(\"OPENAI_API_KEY\"))\n",
    "    chat_completion = client.chat.completions.create(\n",
    "        model=\"gpt-3.5-turbo\",\n",
    "        messages=modify_query(query, chunks=relevant_chunks),\n",
    "        max_tokens=100,\n",
    "        temperature=0,\n",
    "    )\n",
    "    answer = chat_completion.choices[0].message.content.strip()\n",
    "    return answer"
   ]
  },
  {
   "cell_type": "markdown",
   "metadata": {},
   "source": [
    "# Example Usage"
   ]
  },
  {
   "cell_type": "code",
   "execution_count": 6,
   "metadata": {},
   "outputs": [
    {
     "name": "stdout",
     "output_type": "stream",
     "text": [
      "Relevant chunks: ['The dense forests of Viridian City are home to many Pokémon species, including Pikachu, who is known for its electric abilities and its cute appearance with yellow fur and a lightning bolt-shaped tail.', 'In the volcanic regions of Cinnabar Island, Charmander can be found basking in the warmth. This Fire-type Pokémon has a flame burning at the tip of its tail, indicating its health and mood.']\n",
      "Modified query: [{'role': 'system', 'content': 'Based on the provided context, answer the following question: What are the unique characteristics of Pokémon found in the forests of Viridian City?\\n\\nContext:\\nThe dense forests of Viridian City are home to many Pokémon species, including Pikachu, who is known for its electric abilities and its cute appearance with yellow fur and a lightning bolt-shaped tail./nIn the volcanic regions of Cinnabar Island, Charmander can be found basking in the warmth. This Fire-type Pokémon has a flame burning at the tip of its tail, indicating its health and mood.'}, {'role': 'user', 'content': 'What are the unique characteristics of Pokémon found in the forests of Viridian City?'}]\n"
     ]
    }
   ],
   "source": [
    "# Example usage\n",
    "query = \"What are the unique characteristics of Pokémon found in the forests of Viridian City?\"\n",
    "corpus = [\n",
    "    \"The dense forests of Viridian City are home to many Pokémon species, including Pikachu, who is known for its electric abilities and its cute appearance with yellow fur and a lightning bolt-shaped tail.\",\n",
    "    \"Trainers often encounter Squirtle near bodies of water, as it is a Water-type Pokémon that can shoot powerful streams of water from its mouth. Its shell is a symbol of resilience and protection.\",\n",
    "    \"In the volcanic regions of Cinnabar Island, Charmander can be found basking in the warmth. This Fire-type Pokémon has a flame burning at the tip of its tail, indicating its health and mood.\",\n",
    "    \"Jigglypuff is a Fairy-type Pokémon known for its soothing lullabies and round, pink appearance. It often wanders through towns and cities, leaving sleepy marks on those who listen to its songs.\",\n",
    "    \"The psychic powers of Abra make it a sought-after Pokémon for trainers seeking mental prowess. However, its tendency to teleport away when threatened can be a challenge for inexperienced trainers.\",\n",
    "    \"Gyarados, a fearsome Water/Flying-type Pokémon, is said to arise from the rage of a Magikarp that has endured countless hardships. Its massive size and powerful attacks make it a force to be reckoned with.\",\n",
    "    \"Bulbasaur, with a plant bulb on its back, is a Grass/Poison-type Pokémon that is often seen in lush green areas. Its symbiotic relationship with the bulb grants it access to a variety of powerful moves.\",\n",
    "    \"Machop, a Fighting-type Pokémon, trains tirelessly to strengthen its muscles and hone its combat skills. Its impressive physical strength makes it a formidable opponent in battles.\",\n",
    "    \"Eevee, a Normal-type Pokémon with the ability to evolve into multiple different forms, is often sought after by trainers for its adaptability and versatility in battles.\",\n",
    "]\n",
    "\n",
    "relevant_chunks = retrieve_relevant_chunks(query=query, corpus=corpus, top_n=2)\n",
    "query_modification = modify_query(query=query, chunks=relevant_chunks)\n",
    "\n",
    "print(f\"Relevant chunks: {relevant_chunks}\")\n",
    "print(f\"Modified query: {query_modification}\")"
   ]
  },
  {
   "cell_type": "code",
   "execution_count": 7,
   "metadata": {},
   "outputs": [
    {
     "name": "stdout",
     "output_type": "stream",
     "text": [
      "Pokémon found in the forests of Viridian City are known for their diverse types and abilities. One notable characteristic is that they are often Grass-type or Bug-type Pokémon, reflecting the natural environment of the forest. These Pokémon may have abilities related to plants, nature, or insects, making them well-adapted to forest habitats. Additionally, they may have unique moves and evolutions that are specific to forest-dwelling species.\n"
     ]
    }
   ],
   "source": [
    "run_query = True\n",
    "if run_query:\n",
    "    answer = answer_question(query, corpus)\n",
    "    print(answer)"
   ]
  },
  {
   "cell_type": "markdown",
   "metadata": {},
   "source": [
    "# Sample Evaluation"
   ]
  },
  {
   "cell_type": "code",
   "execution_count": 8,
   "metadata": {},
   "outputs": [],
   "source": [
    "def evaluate_retrieval(question, expected_answer, corpus, top_n=2):\n",
    "    \"\"\"Check if the retrieved chunks contain any words from expected answer\"\"\"\n",
    "    relevant_chunks = retrieve_relevant_chunks(question, corpus, top_n)\n",
    "    score = any(\n",
    "        any(word in chunk for word in tokenize(expected_answer))\n",
    "        for chunk in relevant_chunks\n",
    "    )\n",
    "    return score"
   ]
  },
  {
   "cell_type": "code",
   "execution_count": 9,
   "metadata": {},
   "outputs": [],
   "source": [
    "def evaluate_generation(question, expected_answer, generated_answer):\n",
    "    \"\"\"Use ChatGPT to evaluate the relevance of the generated answer to the question and expected answer. Binary.\"\"\"\n",
    "    client = OpenAI(api_key=os.environ.get(\"OPENAI_API_KEY\"))\n",
    "    chat_completion = client.chat.completions.create(\n",
    "        messages=[\n",
    "            {\n",
    "                \"role\": \"system\",\n",
    "                \"content\": \"You are an evaluation judge. Given a question, an expected answer, and a generated answer, your task is to determine if the generated answer is relevant and accurate. Respond with 'YES' if the generated answer is satisfactory, or 'NO' if it is not.\",\n",
    "            },\n",
    "            {\n",
    "                \"role\": \"user\",\n",
    "                \"content\": f\"Question: {question}\\nExpected Answer: {expected_answer}\\nGenerated Answer: {generated_answer}\\nIs the generated answer relevant and accurate?\",\n",
    "            },\n",
    "        ],\n",
    "        model=\"gpt-3.5-turbo\",\n",
    "    )\n",
    "\n",
    "    judgment = chat_completion.choices[0].message.content.strip().lower()\n",
    "    return judgment == \"yes\""
   ]
  },
  {
   "cell_type": "code",
   "execution_count": 10,
   "metadata": {},
   "outputs": [],
   "source": [
    "eval_data = [\n",
    "    {\n",
    "        \"question\": \"What are the types of attacks commonly associated with Water-type Pokémon?\",\n",
    "        \"expected_answer\": \"Water-type Pokémon are known for their mastery over water-based attacks, such as Water Gun, Hydro Pump, Surf, and Bubble Beam.\",\n",
    "    },\n",
    "    {\n",
    "        \"question\": \"How does the evolutionary process of Eevee differ from other Pokémon?\",\n",
    "        \"expected_answer\": \"Eevee has the unique ability to evolve into different Pokémon species depending on various factors, such as the use of evolution stones, friendship levels, time of day, and location.\",\n",
    "    },\n",
    "    {\n",
    "        \"question\": \"What is the signature move of Pikachu, and how does it reflect its Electric-type abilities?\",\n",
    "        \"expected_answer\": \"Pikachu's signature move is Thunderbolt, a powerful Electric-type attack that allows it to unleash bolts of lightning against its opponents. This move showcases Pikachu's mastery over electricity.\",\n",
    "    },\n",
    "    {\n",
    "        \"question\": \"Describe the appearance and behavior of a Jigglypuff.\",\n",
    "        \"expected_answer\": \"Jigglypuff is a Fairy-type Pokémon known for its round, pink body, large blue eyes, and tuft of fur on its forehead. It is often seen with a microphone-like marker, which it uses to draw on the faces of those who fall asleep listening to its soothing songs.\",\n",
    "    },\n",
    "    {\n",
    "        \"question\": \"What are the different evolutionary stages of a Charmander, and how does its appearance change during evolution?\",\n",
    "        \"expected_answer\": \"Charmander evolves into Charmeleon starting at level 16, and then into Charizard starting at level 36. As it evolves, Charmander's appearance changes from a small, lizard-like creature with a flame-tipped tail to a larger, more dragon-like Pokémon with wings and increased fiery capabilities.\",\n",
    "    },\n",
    "]"
   ]
  },
  {
   "cell_type": "code",
   "execution_count": 11,
   "metadata": {},
   "outputs": [
    {
     "name": "stdout",
     "output_type": "stream",
     "text": [
      "Retrieval Accuracy: 1.00\n",
      "Generation Accuracy: 0.60\n"
     ]
    }
   ],
   "source": [
    "retrieval_scores = []\n",
    "generation_scores = []\n",
    "\n",
    "for item in eval_data:\n",
    "    retrieval_score = evaluate_retrieval(\n",
    "        item[\"question\"], item[\"expected_answer\"], corpus\n",
    "    )\n",
    "    retrieval_scores.append(retrieval_score)\n",
    "\n",
    "    generated_answer = answer_question(item[\"question\"], corpus)\n",
    "    generation_score = evaluate_generation(\n",
    "        item[\"question\"], item[\"expected_answer\"], generated_answer\n",
    "    )\n",
    "    generation_scores.append(generation_score)\n",
    "\n",
    "retrieval_accuracy = sum(retrieval_scores) / len(retrieval_scores)\n",
    "generation_accuracy = sum(generation_scores) / len(generation_scores)\n",
    "\n",
    "print(f\"Retrieval Accuracy: {retrieval_accuracy:.2f}\")\n",
    "print(f\"Generation Accuracy: {generation_accuracy:.2f}\")"
   ]
  }
 ],
 "metadata": {
  "kernelspec": {
   "display_name": "llm",
   "language": "python",
   "name": "python3"
  },
  "language_info": {
   "codemirror_mode": {
    "name": "ipython",
    "version": 3
   },
   "file_extension": ".py",
   "mimetype": "text/x-python",
   "name": "python",
   "nbconvert_exporter": "python",
   "pygments_lexer": "ipython3",
   "version": "3.11.8"
  }
 },
 "nbformat": 4,
 "nbformat_minor": 2
}
