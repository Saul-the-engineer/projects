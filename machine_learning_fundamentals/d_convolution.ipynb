{
 "cells": [
  {
   "cell_type": "markdown",
   "metadata": {},
   "source": [
    "# Convolution\n",
    "Convolution is a fundamental operation in many fields, including signal processing, image processing, and deep learning. It involves the blending of two functions to produce a third function that expresses how the shape of one is modified by the other. In the context of discrete data, convolution is the process of applying a filter or kernel to an input to produce an output. This operation is central to many applications, from image blurring and sharpening to feature extraction in neural networks.\n",
    "\n",
    "## Historical Background\n",
    "Convolution has its roots in the mathematical fields of integral transforms and functional analysis. The concept has been widely used in engineering disciplines, particularly in systems theory and communications, where it describes the output of linear time-invariant systems. In recent decades, convolution has gained immense popularity in the field of computer vision and deep learning, revolutionizing how machines perceive and interpret visual data.\n",
    "\n",
    "## Mathematical Definition\n",
    "In the continuous domain, the convolution of two functions \n",
    "\n",
    "$$\n",
    "(f∗g)(t)= \\int_{-\\infty}^{\\infty}\n",
    " f(τ)g(t−τ)dτ\n",
    "$$\n",
    "\n",
    "In the discrete domain, which is more relevant for digital signal processing and image processing, the convolution of two sequences \n",
    "𝑓\n",
    "f and \n",
    "𝑔\n",
    "g is given by:\n",
    "\n",
    "$$\n",
    "(f∗g)[n]= \\sum_{m=-\\infty}^{\\infty} f[m]g[n-m]\n",
    "$$\n",
    "\n",
    "# Convolution in Deep Learning\n",
    "In the realm of deep learning, convolutional neural networks (CNNs) leverage the convolution operation to automatically learn and extract hierarchical features from input data, such as images. The convolutional layers apply multiple filters to the input, capturing various aspects like edges, textures, and patterns. This process significantly improves the network's ability to recognize and classify objects within images.\n",
    "\n",
    "# Properties of Convolution\n",
    "Some important properties of convolution include:\n",
    "\n",
    "Commutativity: The order of convolution does not affect the result.\n",
    "\n",
    "Associativity: Convolution is associative, meaning that the grouping of functions does not affect the final output.\n",
    "\n",
    "Distributivity over addition: Convolution distributes over addition, allowing the convolution of two functions to be added before or after convolution.\n",
    "\n",
    "Identity element: The identity element of convolution is the Dirac delta function, which acts as a neutral element when convolved with another function.\n",
    "\n",
    "\n",
    "# References:\n"
   ]
  },
  {
   "cell_type": "code",
   "execution_count": 1,
   "metadata": {},
   "outputs": [],
   "source": [
    "import torch\n",
    "import torch.nn as nn\n",
    "import torch.nn.functional as F"
   ]
  },
  {
   "attachments": {
    "image.png": {
     "image/png": "[encoded data removed]"
    }
   },
   "cell_type": "markdown",
   "metadata": {},
   "source": [
    "# 1D Convolution\n",
    "\n",
    "![image.png](attachment:image.png)\n",
    "\n",
    "## Best Practices:\n",
    "1. Weight Initialization:\n",
    "   * Use Kaiming Initialization for ReLU activation.\n",
    "    nn.init.kaiming_uniform_(conv1d.weight, nonlinearity='relu')\n",
    "2. Kernel Size:\n",
    "   * Small Kernels (e.g., 3): Commonly used in many applications as they can capture local patterns and are computationally efficient.\n",
    "   * Larger Kernels: Can be useful for capturing more extended dependencies. However, they are more computationally expensive and can increase the risk of overfitting.\n",
    "   * Odd Sizes: Typically preferred to maintain symmetry, ensuring that each output feature is centered relative to the input features.\n",
    "3. Use of Bias:\n",
    "   * With Bias: Bias terms allow the network to learn an additional degree of freedom, which can help the model fit the data better.\n",
    "   * Without Bias: In some normalization techniques, such as Batch Normalization, biases are less critical because the normalization layer can shift the output.\n",
    "4. Padding:\n",
    "   * Valid Padding (No Padding): Reduces the spatial dimensions of the input.\n",
    "   * Same Padding: Ensures the output has the same dimensions as the input, which can be crucial for certain applications.\n",
    "   * Custom Padding: Allows for specific control over the padding size, which can be useful for specific tasks.\n",
    "5. Activation Function\n",
    "   * nn.ReLU() or nn.LeakyReLU() for ReLU activation.\n",
    "6. Stride:\n",
    "   * Stride of 1: Ensures every position of the input is considered, preserving more detail.\n",
    "   * Larger Stride: Reduces the spatial dimensions and computation, useful for downsampling but at the cost of some detail. \n",
    "7. Dropout\n",
    "   * nn.Dropout(p=0.5)\n",
    "8. Batch Normalization\n",
    "   * nn.BatchNorm1d(num_features)\n",
    "9. Network Architecture:\n",
    "   * Stacking Convolutions: Multiple convolutional layers can be stacked to learn more complex features.\n",
    "   * Residual Connections: Can help in training deeper networks by allowing gradients to flow more easily.\n",
    "   * Pooling Layers: Often used after convolutions to reduce spatial dimensions and aggregate information."
   ]
  },
  {
   "cell_type": "code",
   "execution_count": 2,
   "metadata": {},
   "outputs": [],
   "source": [
    "signal1d = torch.tensor([[1, 2, 3, 4, 5, 6, 7, 8, 9, 10]], dtype=torch.float32)"
   ]
  },
  {
   "cell_type": "code",
   "execution_count": 3,
   "metadata": {},
   "outputs": [
    {
     "name": "stdout",
     "output_type": "stream",
     "text": [
      "Input shape: torch.Size([1, 10])\n",
      "Convolutional output shape: torch.Size([1, 8])\n",
      "tensor([[ 6.1000,  9.1000, 12.1000, 15.1000, 18.1000, 21.1000, 24.1000, 27.1000]],\n",
      "       grad_fn=<SqueezeBackward1>)\n"
     ]
    }
   ],
   "source": [
    "# 1D convolution\n",
    "conv1d = nn.Conv1d(in_channels=1, out_channels=1, kernel_size=3)\n",
    "conv1d.weight.data = torch.tensor([[[1.0, 1.0, 1.0]]], dtype=torch.float32)\n",
    "conv1d.bias.data = torch.tensor([0.1], dtype=torch.float32)\n",
    "output = conv1d(signal1d.view(1, -1))\n",
    "print(f\"Input shape: {signal1d.shape}\")\n",
    "print(f\"Convolutional output shape: {output.shape}\")\n",
    "print(output)"
   ]
  },
  {
   "cell_type": "code",
   "execution_count": 4,
   "metadata": {},
   "outputs": [
    {
     "name": "stdout",
     "output_type": "stream",
     "text": [
      "Input shape: torch.Size([1, 10])\n",
      "Convolutional output shape: torch.Size([1, 10])\n",
      "tensor([[ 3.1000,  6.1000,  9.1000, 12.1000, 15.1000, 18.1000, 21.1000, 24.1000,\n",
      "         27.1000, 19.1000]], grad_fn=<SqueezeBackward1>)\n"
     ]
    }
   ],
   "source": [
    "# 1D convolution with padding (padding=1 adds 0s to the beginning and end of the signal)\n",
    "conv1d = nn.Conv1d(in_channels=1, out_channels=1, kernel_size=3, padding=1)\n",
    "conv1d.weight.data = torch.tensor([[[1.0, 1.0, 1.0]]], dtype=torch.float32)\n",
    "conv1d.bias.data = torch.tensor([0.1], dtype=torch.float32)\n",
    "output = conv1d(signal1d.view(1, -1))\n",
    "print(f\"Input shape: {signal1d.shape}\")\n",
    "print(f\"Convolutional output shape: {output.shape}\")\n",
    "print(output)"
   ]
  },
  {
   "cell_type": "code",
   "execution_count": 5,
   "metadata": {},
   "outputs": [
    {
     "name": "stdout",
     "output_type": "stream",
     "text": [
      "Input shape: torch.Size([1, 10])\n",
      "Convolutional output shape: torch.Size([2, 8])\n",
      "tensor([[ 6.1000,  9.1000, 12.1000, 15.1000, 18.1000, 21.1000, 24.1000, 27.1000],\n",
      "        [12.2000, 18.2000, 24.2000, 30.2000, 36.2000, 42.2000, 48.2000, 54.2000]],\n",
      "       grad_fn=<SqueezeBackward1>)\n"
     ]
    }
   ],
   "source": [
    "# 1D convolution\n",
    "conv1d = nn.Conv1d(in_channels=1, out_channels=2, kernel_size=3)\n",
    "conv1d.weight.data = torch.tensor([\n",
    "    [[1.0, 1.0, 1.0]],\n",
    "    [[2.0, 2.0, 2.0]],\n",
    "    ], dtype=torch.float32)\n",
    "conv1d.bias.data = torch.tensor([0.1, 0.2], dtype=torch.float32)\n",
    "output = conv1d(signal1d.view(1, -1))\n",
    "print(f\"Input shape: {signal1d.shape}\")\n",
    "print(f\"Convolutional output shape: {output.shape}\")\n",
    "print(output)"
   ]
  },
  {
   "cell_type": "markdown",
   "metadata": {},
   "source": [
    "# 2D Convolution"
   ]
  },
  {
   "cell_type": "code",
   "execution_count": null,
   "metadata": {},
   "outputs": [],
   "source": []
  }
 ],
 "metadata": {
  "kernelspec": {
   "display_name": "llm",
   "language": "python",
   "name": "python3"
  },
  "language_info": {
   "codemirror_mode": {
    "name": "ipython",
    "version": 3
   },
   "file_extension": ".py",
   "mimetype": "text/x-python",
   "name": "python",
   "nbconvert_exporter": "python",
   "pygments_lexer": "ipython3",
   "version": "3.11.8"
  }
 },
 "nbformat": 4,
 "nbformat_minor": 2
}
