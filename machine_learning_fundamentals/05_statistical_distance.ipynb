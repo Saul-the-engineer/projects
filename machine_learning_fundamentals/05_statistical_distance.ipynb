{
 "cells": [
  {
   "cell_type": "markdown",
   "metadata": {},
   "source": [
    "# Kullback-Leibler Divergence and Jensen-Shannon Divergence\n",
    "\n",
    "KL Divergence calculates a value, in bits, that represents how much information required to represent the differences between two probability distributions\n",
    "\n",
    "## Statistical Distance\n",
    "\n",
    "Statistical distance is a concept used to quantify the difference between statistical objects, such as probability distributions for a random variable.\n",
    "\n",
    "This is about comparing the entire probability distribution in terms of shape, not just comparing the mean or variance of the distribution.\n",
    "### Applications of Statistical Distances and Divergence Measures\n",
    "\n",
    "There are various situations where statistical distances and divergence measures, such as Kullback-Leibler Divergence (KL Divergence) and Jensen-Shannon Divergence, are commonly used:\n",
    "\n",
    "1. **Comparing Probability Distributions:**\n",
    "   - Evaluate the difference between two probability distributions, like a true distribution and an approximation. This is crucial for understanding how well an approximation matches the true distribution.\n",
    "\n",
    "2. **Model Evaluation:**\n",
    "   - Assess the performance of machine learning models by comparing predicted and actual probability distributions. Statistical distances provide insights into the accuracy and generalization of models.\n",
    "\n",
    "3. **Information Gain and Mutual Information:**\n",
    "   - Serve as the foundation for calculating information gain and mutual information. These measures are essential for feature selection, identifying informative features for building robust models.\n",
    "\n",
    "4. **Loss Functions for Classification Models:**\n",
    "   - Cross-entropy, derived from KL Divergence, is a commonly used loss function for classification models. It measures the difference between predicted and true distributions, guiding the model towards better predictions.\n",
    "\n",
    "5. **Generative Adversarial Networks (GANs):**\n",
    "   - Play a role in training GANs to approximate target probability distributions. Divergence scores are used in optimizing the generator to produce distributions similar to the target.\n",
    "\n",
    "6. **Understanding Complex Modeling Problems:**\n",
    "   - Valuable tools for gaining insights into complex modeling problems, helping understand how well a model approximates a target distribution and guiding the optimization process.\n",
    "\n",
    "\n",
    "## Kullback-Leibler Divergence\n",
    "\n",
    "Kullback-Leibler Divergence (KL Divergence) calculates a score that measures the divergence of one probability distribution (P) from another (Q). It is denoted as KL(P || Q) and is not symmetric. Where the “||” operator indicates “divergence” or Ps divergence from Q. KL Divergence is always non-negative and becomes zero if and only if P and Q are identical.\n",
    "\n",
    "KL divergence can be calculated as the negative sum of probability of each event in P multiplied by the log of the probability of the event in Q over the probability of the event in P.\n",
    "\n",
    "KL(P || Q) = sum x in X P(x) * log(P(x) / Q(x))\n",
    "\n",
    "The log can be base-2 to give units in “bits,” or the natural logarithm base-e with units in “nats.” When the score is 0, it suggests that both distributions are identical, otherwise the score is positive. When KL Divergence is calculated with a logarithmic base of 2, the resulting unit is in \"bits.\"\n",
    "This means that the score obtained from KL Divergence, when expressed in bits, represents the amount of additional information needed to encode events from one distribution using an optimal code based on the other distribution.\n",
    "\n",
    "The intuition for the KL divergence score is that when the probability for an event from P is large, but the probability for the same event in Q is small, there is a large divergence. When the probability from P is small and the probability from Q is large, there is also a large divergence, but not as large as the first case.\n",
    "\n",
    "## Jensen-Shannon Divergence\n",
    "\n",
    "Jensen-Shannon Divergence is an extension of KL Divergence that provides a normalized and symmetrical version. It calculates a score and distance measure between two probability distributions in a symmetrical way. It is defined as the average of the KL Divergence between P and the average of P and Q.\n",
    "\n",
    "## Applications\n",
    "\n",
    "- KL Divergence and Jensen-Shannon Divergence find applications in machine learning.\n",
    "- They are used to calculate the difference between an actual and observed probability distribution, valuable in tasks like model evaluation and feature selection.\n",
    "- KL Divergence is a key concept in information theory and is used in various fields where probability distributions are compared.\n",
    "\n",
    "Understanding these measures is crucial for tasks involving the comparison of probability distributions, helping in assessing the similarity or dissimilarity between different sets of data.\n",
    "\n",
    "## Differences between KL Divergence and Cross-Entropy\n",
    "### Cross Entropy and KL Divergence\n",
    "cross entropy is focused on the distribution of the labels which kl divergence is focused on the entire distribution\n",
    "\n",
    "#### Cross Entropy (H(P, Q))\n",
    "Cross entropy is a measure of how well one probability distribution predicts a set of events from another distribution. In the context of machine learning it is how well the model's predicted probability distribution aligns with the true distribution of the labels. Cross entropy is primarily focused on measuring the dissimilarity or difference between two probability distributions over the same events, with a particular emphasis on the distribution of the labels. For two probability distributions P and Q, the cross entropy from P to Q is given by the formula:\n",
    "\n",
    "\\[ H(P, Q) = -\\sum_{i} P(i) \\log(Q(i)) \\]\n",
    "\n",
    "It quantifies the average number of bits needed to encode events from P when using the optimal code based on Q. Cross entropy is always non-negative and is minimized when P and Q are the same.\n",
    "\n",
    "#### KL Divergence (\\(D_{KL}(P \\,||\\, Q)\\))\n",
    "Kullback-Leibler (KL) divergence is a broader concept that measures the information lost when one probability distribution is used to approximate another. It quantifies the extra amount of information needed to represent events from one distribution when using the optimal code based on another distribution. In the context of probability distributions associated with machine learning, KL divergence can be used to assess how one distribution diverges from another, considering the entire distribution.\n",
    "\n",
    "<b>KL divergence measures the information lost when using Q to approximate P. It quantifies the difference between two probability distributions P and Q.</b>\n",
    "\n",
    "\\[ D_{KL}(P \\,||\\, Q) = \\sum_{i} P(i) \\log\\left(\\frac{P(i)}{Q(i)}\\right) \\]\n",
    "\n",
    "It represents the extra amount of information needed to encode events from P when using the code based on Q instead of the optimal code for P. KL divergence is not symmetric (\\(D_{KL}(P \\,||\\, Q) \\neq D_{KL}(Q \\,||\\, P)\\)).\n",
    "\n",
    "#### Relationship\n",
    "\n",
    "Cross entropy includes both the entropy of the true distribution P and the KL divergence between P and Q:\n",
    "\n",
    "\\[ H(P, Q) = H(P) + D_{KL}(P \\,||\\, Q) \\]\n",
    "\n",
    "The entropy term H(P) is a constant for a given true distribution and does not depend on the predicted distribution Q.\n",
    "\n",
    "\n",
    "### References\n",
    "https://towardsdatascience.com/light-on-math-machine-learning-intuitive-guide-to-understanding-kl-divergence-2b382ca2b2a8\n",
    "\n",
    "https://machinelearningmastery.com/divergence-between-probability-distributions/"
   ]
  },
  {
   "cell_type": "code",
   "execution_count": 1,
   "metadata": {},
   "outputs": [],
   "source": [
    "import numpy as np\n",
    "import torch\n",
    "import matplotlib.pyplot as plt\n",
    "\n",
    "import torch.nn.functional as F\n",
    "from typing import List, Tuple, Dict, Any, Optional, Union"
   ]
  },
  {
   "cell_type": "markdown",
   "metadata": {},
   "source": [
    "### What is information Entropy?\n",
    "\n",
    "Quantifying information is the foundation of the field of information theory.\n",
    "\n",
    "The intuition behind quantifying information is the idea of measuring how much surprise there is in an event. Those events that are rare (low probability) are more surprising and therefore have more information than those events that are common (high probability).\n",
    "\n",
    "Low Probability Event: High Information (surprising).\n",
    "High Probability Event: Low Information (unsurprising).\n",
    "\n",
    "Rare events are more uncertain or more surprising and require more information to represent them than common events."
   ]
  },
  {
   "cell_type": "code",
   "execution_count": 2,
   "metadata": {},
   "outputs": [
    {
     "name": "stdout",
     "output_type": "stream",
     "text": [
      "p(x)=0.500, information: 1.000 bits\n",
      "p(x)=0.900, information: 0.152 bits\n",
      "p(x)=0.100, information: 3.322 bits\n",
      "p(x)=0.167, information: 2.585 bits\n",
      "Events that are more likely to happen have less information, and events that are less likely to happen have more information.\n"
     ]
    }
   ],
   "source": [
    "def get_shannon_information(p: float) -> float:\n",
    "    h = -np.log2(p)\n",
    "    return h\n",
    "\n",
    "# probability of getting heads in a fair coin toss: p = 0.5\n",
    "p = 0.5\n",
    "print(f'p(x)={p:.3f}, information: {get_shannon_information(p):.3f} bits')\n",
    "\n",
    "# probability of getting heads in a biased coin toss: p = 0.9\n",
    "p = 0.9\n",
    "print(f'p(x)={p:.3f}, information: {get_shannon_information(p):.3f} bits')\n",
    "\n",
    "# probability of getting heads in a biased coin toss: p = 0.1\n",
    "p = 0.1\n",
    "print(f'p(x)={p:.3f}, information: {get_shannon_information(p):.3f} bits')\n",
    "\n",
    "# probability of rolling a 6 on a fair die: p = 1/6\n",
    "p = 1/6\n",
    "print(f'p(x)={p:.3f}, information: {get_shannon_information(p):.3f} bits')\n",
    "\n",
    "print('Events that are more likely to happen have less information, and events that are less likely to happen have more information.')"
   ]
  },
  {
   "cell_type": "markdown",
   "metadata": {},
   "source": [
    "### Back to Kl Divergence"
   ]
  },
  {
   "cell_type": "code",
   "execution_count": 3,
   "metadata": {},
   "outputs": [
    {
     "name": "stdout",
     "output_type": "stream",
     "text": [
      "P=1.000 Q=1.000\n"
     ]
    }
   ],
   "source": [
    "events = ['red', 'green', 'blue']\n",
    "target_probability_distribution = [0.10, 0.40, 0.50]\n",
    "p = torch.tensor(target_probability_distribution)\n",
    "approximation_probability_distribution = [0.80, 0.15, 0.05]\n",
    "q = torch.tensor(approximation_probability_distribution)\n",
    "print('P=%.3f Q=%.3f' % (sum(p), sum(q)))"
   ]
  },
  {
   "cell_type": "code",
   "execution_count": 4,
   "metadata": {},
   "outputs": [
    {
     "data": {
      "image/png": "[encoded data removed]",
      "text/plain": [
       "<Figure size 640x480 with 2 Axes>"
      ]
     },
     "metadata": {},
     "output_type": "display_data"
    }
   ],
   "source": [
    "# plot first distribution\n",
    "plt.subplot(2,1,1)\n",
    "plt.bar(events, p)\n",
    "# plot second distribution\n",
    "plt.subplot(2,1,2)\n",
    "plt.bar(events, q)\n",
    "# show the plot\n",
    "plt.show()"
   ]
  },
  {
   "cell_type": "code",
   "execution_count": 5,
   "metadata": {},
   "outputs": [],
   "source": [
    "def kl_divergence_bits(p:torch.Tensor, q:torch.Tensor) -> float:\n",
    "    \"\"\"\n",
    "    Calculates the Kullback-Leibler (KL) divergence between two probability distributions\n",
    "    \"\"\"\n",
    "\n",
    "    # Avoiding division by zero by adding a small epsilon\n",
    "    epsilon = 1e-10\n",
    "    \n",
    "    # Calculate KL Divergence using NumPy functions\n",
    "    kl_divergence = torch.sum(p * torch.log2((p + epsilon) / (q + epsilon)))\n",
    "    \n",
    "    return kl_divergence\n",
    "\n",
    "def kl_divergence_nats(p:torch.Tensor, q:torch.Tensor) -> float:\n",
    "    \"\"\"\n",
    "    Calculates the Kullback-Leibler (KL) divergence between two probability distributions\n",
    "    \"\"\"\n",
    "    \n",
    "    # Avoiding division by zero by adding a small epsilon\n",
    "    epsilon = 1e-10\n",
    "    \n",
    "    # Calculate KL Divergence using NumPy functions\n",
    "    kl_divergence = torch.sum(p * torch.log((p + epsilon) / (q + epsilon)))\n",
    "    \n",
    "    return kl_divergence"
   ]
  },
  {
   "cell_type": "code",
   "execution_count": 6,
   "metadata": {},
   "outputs": [
    {
     "name": "stdout",
     "output_type": "stream",
     "text": [
      "KL(P || Q): 1.927 bits\n",
      "KL(Q || P): 2.022 bits\n"
     ]
    }
   ],
   "source": [
    "# calculate (P || Q)\n",
    "kl_pq = kl_divergence_bits(p, q)\n",
    "print('KL(P || Q): %.3f bits' % kl_pq)\n",
    "# calculate (Q || P)\n",
    "kl_qp = kl_divergence_bits(q, p)\n",
    "print('KL(Q || P): %.3f bits' % kl_qp)"
   ]
  },
  {
   "cell_type": "code",
   "execution_count": 7,
   "metadata": {},
   "outputs": [
    {
     "name": "stdout",
     "output_type": "stream",
     "text": [
      "KL(P || Q): 1.336 nats\n",
      "KL(Q || P): 1.401 nats\n"
     ]
    }
   ],
   "source": [
    "# calculate (P || Q)\n",
    "kl_pq = kl_divergence_nats(p, q)\n",
    "print('KL(P || Q): %.3f nats' % kl_pq)\n",
    "# calculate (Q || P)\n",
    "kl_qp = kl_divergence_nats(q, p)\n",
    "print('KL(Q || P): %.3f nats' % kl_qp)"
   ]
  },
  {
   "cell_type": "markdown",
   "metadata": {},
   "source": [
    "### Jensen-Shannon Divergence\n",
    "\n",
    "The Jensen-Shannon divergence (JS divergence) is a measure of difference or similarity between two probability distributions. It provides a symmetrical and normalized score, making it more practical for comparisons.\n",
    "\n",
    "### Calculation Formula\n",
    "\n",
    "The JS divergence between distributions P and Q is calculated as:\n",
    "\n",
    "\\[ JS(P || Q) = \\frac{1}{2} \\cdot KL(P || M) + \\frac{1}{2} \\cdot KL(Q || M) \\]\n",
    "\n",
    "Where \\( M = \\frac{1}{2} \\cdot (P + Q) \\), and \\( KL() \\) is the Kullback-Leibler divergence.\n",
    "\n",
    "### Properties\n",
    "\n",
    "- Symmetry: \\( JS(P || Q) = JS(Q || P) \\)\n",
    "- Normalization: Scores range from 0 (identical) to 1 (maximally different) when using the base-2 logarithm.\n",
    "\n",
    "### Jensen-Shannon Distance\n",
    "\n",
    "Taking the square root of the JS divergence score gives the Jensen-Shannon distance, denoted as JS distance.\n",
    "\n",
    "### Example\n",
    "\n",
    "A function to calculate JS divergence can be defined, utilizing the previously prepared kl_divergence() function.\n",
    "\n",
    "```python\n",
    "def js_divergence(p, q):\n",
    "    M = 0.5 * (p + q)\n",
    "    return 0.5 * kl_divergence(p, M) + 0.5 * kl_divergence(q, M)\n"
   ]
  },
  {
   "cell_type": "code",
   "execution_count": 8,
   "metadata": {},
   "outputs": [],
   "source": [
    "def js_divergence(p: torch.Tensor, q: torch.Tensor) -> float:\n",
    "    \"\"\"\n",
    "    Calculates the Jensen-Shannon (JS) divergence between two probability distributions\n",
    "\n",
    "    :param p: True probability distribution\n",
    "    :type p: List[float]\n",
    "    :param q: Approximation probability distribution\n",
    "    :type q: List[float]\n",
    "    :return: Statistical distance between two probability distributions\n",
    "    :rtype: float\n",
    "    \"\"\"\n",
    "    # Calculate JS Divergence using PyTorch functions\n",
    "    m_tensor = 0.5 * (p + q)\n",
    "    js_divergence = 0.5 * kl_divergence_bits(p, m_tensor) + 0.5 * kl_divergence_bits(q, m_tensor)\n",
    "    \n",
    "    return js_divergence  # Convert result to Python float"
   ]
  },
  {
   "cell_type": "code",
   "execution_count": 9,
   "metadata": {},
   "outputs": [
    {
     "name": "stdout",
     "output_type": "stream",
     "text": [
      "JS(P || Q) divergence: 0.420 bits\n"
     ]
    }
   ],
   "source": [
    "# calculate JS(P || Q)\n",
    "js_pq = js_divergence(p, q)\n",
    "print('JS(P || Q) divergence: %.3f bits' % js_pq)"
   ]
  },
  {
   "cell_type": "code",
   "execution_count": 10,
   "metadata": {},
   "outputs": [
    {
     "name": "stdout",
     "output_type": "stream",
     "text": [
      "JS(Q || P) divergence: 0.420 bits\n"
     ]
    }
   ],
   "source": [
    "# calculate JS(Q || P)\n",
    "js_qp = js_divergence(q, p)\n",
    "print('JS(Q || P) divergence: %.3f bits' % js_qp)"
   ]
  },
  {
   "cell_type": "markdown",
   "metadata": {},
   "source": [
    "### Example as a loss function"
   ]
  },
  {
   "cell_type": "code",
   "execution_count": 16,
   "metadata": {},
   "outputs": [],
   "source": [
    "# def kl_divergence_torch(p:torch.Tensor, q:torch.Tensor) -> float:\n",
    "#     \"\"\"\n",
    "#     Calculation of KL divergence using PyTorch functions\n",
    "#     \"\"\"\n",
    "#     eps = 1e-10\n",
    "#     p_log = torch.log(p + eps)\n",
    "#     q_log = torch.log(q + eps)\n",
    "#     loss = (p * (p_log - q_log))\n",
    "#     loss = loss.sum() / p.size(0)\n",
    "#     return loss\n",
    "\n",
    "def kl_divergence_torch(input, target, reduction='batchmean', log_target=False):\n",
    "    # Avoiding underflow issues by adding a small epsilon\n",
    "    epsilon = 1e-10\n",
    "\n",
    "    if not log_target:\n",
    "        # Compute KL divergence pointwise\n",
    "        loss_pointwise = target * (target.log() - input)\n",
    "    else:\n",
    "        # Compute KL divergence pointwise with log_target=True\n",
    "        loss_pointwise = target.exp() * (target - input)\n",
    "\n",
    "    # Apply reduction\n",
    "    if reduction == 'mean':\n",
    "        loss = loss_pointwise.mean()\n",
    "    elif reduction == 'batchmean':\n",
    "        loss = loss_pointwise.sum() / input.size(0)\n",
    "    elif reduction == 'sum':\n",
    "        loss = loss_pointwise.sum()\n",
    "    else:  # reduction == 'none'\n",
    "        loss = loss_pointwise\n",
    "\n",
    "    return loss"
   ]
  },
  {
   "cell_type": "code",
   "execution_count": 24,
   "metadata": {},
   "outputs": [
    {
     "name": "stdout",
     "output_type": "stream",
     "text": [
      "KL(P || Q): 0.265 nats\n"
     ]
    }
   ],
   "source": [
    "# calculate (P || Q)\n",
    "kl_pq = kl_divergence_torch(p , q, log_target=True)\n",
    "print('KL(P || Q): %.3f nats' % kl_pq)"
   ]
  },
  {
   "cell_type": "code",
   "execution_count": 23,
   "metadata": {},
   "outputs": [
    {
     "name": "stdout",
     "output_type": "stream",
     "text": [
      "KL(P || Q) divergence: 0.265 bits\n"
     ]
    }
   ],
   "source": [
    "kl_loss = F.kl_div(p, q, reduction='batchmean', log_target=True)\n",
    "print('KL(P || Q) divergence: %.3f bits' % kl_loss)"
   ]
  },
  {
   "cell_type": "code",
   "execution_count": null,
   "metadata": {},
   "outputs": [],
   "source": [
    "# # It should be implemented as follows:\n",
    "# outputs = model(x)\n",
    "# targets_log = torch.og(targets + 1e-10)\n",
    "# loss = F.kl_div(outputs, targets_log, reduction='batchmean')\n",
    "# kl_loss.backward\n",
    "# optimizer.step()"
   ]
  }
 ],
 "metadata": {
  "kernelspec": {
   "display_name": "pytorch-dev",
   "language": "python",
   "name": "python3"
  },
  "language_info": {
   "codemirror_mode": {
    "name": "ipython",
    "version": 3
   },
   "file_extension": ".py",
   "mimetype": "text/x-python",
   "name": "python",
   "nbconvert_exporter": "python",
   "pygments_lexer": "ipython3",
   "version": "3.11.5"
  }
 },
 "nbformat": 4,
 "nbformat_minor": 2
}
