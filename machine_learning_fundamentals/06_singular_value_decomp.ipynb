{
 "cells": [
  {
   "cell_type": "code",
   "execution_count": 1,
   "metadata": {},
   "outputs": [],
   "source": [
    "import torch\n",
    "import numpy as np\n",
    "from numpy.linalg import norm, eigh"
   ]
  },
  {
   "cell_type": "code",
   "execution_count": 2,
   "metadata": {},
   "outputs": [],
   "source": [
    "def svd(a):\n",
    "    \"\"\"\n",
    "    Singular Value Decomposition (SVD) of a matrix A.\n",
    "\n",
    "    :param A: Input matrix of shape (m, n)\n",
    "    :return: U, S, V such that A ≈ U @ diag(S) @ V.T\n",
    "    \"\"\"\n",
    "    eigen_values, eigen_vectors = eigh(a.T @ a)\n",
    "\n",
    "    # Compute U Vectorize this:\n",
    "    # u0 = A @ eigen_vectors[:, 0] / norm(A @ eigen_vectors[:, 0])\n",
    "    # u1 = A @ eigen_vectors[:, 1] / norm(A @ eigen_vectors[:, 1])\n",
    "    # u2 = A @ eigen_vectors[:, 2] / norm(A @ eigen_vectors[:, 2])\n",
    "\n",
    "    u = np.dot(a, eigen_vectors)\n",
    "    u /= np.linalg.norm(u, axis=0)\n",
    "\n",
    "    # Compute V\n",
    "    v = eigen_vectors\n",
    "\n",
    "    # Compute diagonal matrix of singular values\n",
    "    s = u.T @ a @ v\n",
    "\n",
    "    return u, s, v"
   ]
  },
  {
   "cell_type": "code",
   "execution_count": 3,
   "metadata": {},
   "outputs": [
    {
     "data": {
      "text/plain": [
       "array([[-5,  2,  3],\n",
       "       [ 2,  5,  1],\n",
       "       [-3,  1, -5]])"
      ]
     },
     "execution_count": 3,
     "metadata": {},
     "output_type": "execute_result"
    }
   ],
   "source": [
    "# Example usage\n",
    "A = np.array([[-5, 2, 3], [2, 5, 1], [-3, 1, -5]])\n",
    "A"
   ]
  },
  {
   "cell_type": "code",
   "execution_count": 4,
   "metadata": {},
   "outputs": [],
   "source": [
    "# Compute SVD using the custom function\n",
    "U, S, V = svd(A)"
   ]
  },
  {
   "cell_type": "code",
   "execution_count": 17,
   "metadata": {},
   "outputs": [
    {
     "name": "stdout",
     "output_type": "stream",
     "text": [
      "True\n"
     ]
    }
   ],
   "source": [
    "# A = U @ S @ V.T\n",
    "print(np.allclose(A, U @ S @ V.T))"
   ]
  },
  {
   "cell_type": "code",
   "execution_count": 7,
   "metadata": {},
   "outputs": [],
   "source": [
    "# Compare with the built-in function\n",
    "u, s, v = torch.svd(torch.from_numpy(A).float())"
   ]
  },
  {
   "cell_type": "code",
   "execution_count": 20,
   "metadata": {},
   "outputs": [
    {
     "data": {
      "text/plain": [
       "tensor([[-5.0000,  2.0000,  3.0000],\n",
       "        [ 2.0000,  5.0000,  1.0000],\n",
       "        [-3.0000,  1.0000, -5.0000]])"
      ]
     },
     "execution_count": 20,
     "metadata": {},
     "output_type": "execute_result"
    }
   ],
   "source": [
    "rank = torch.linalg.matrix_rank(torch.from_numpy(A).float())\n",
    "u[:, :rank] @ torch.diag(s[:rank]) @ v[:, :rank].t()"
   ]
  },
  {
   "cell_type": "markdown",
   "metadata": {},
   "source": [
    "# Validate outputs\n",
    "\n",
    "### U"
   ]
  },
  {
   "cell_type": "code",
   "execution_count": 9,
   "metadata": {},
   "outputs": [
    {
     "name": "stdout",
     "output_type": "stream",
     "text": [
      "[[-0.26726124  0.77151675  0.57735027]\n",
      " [ 0.80178373 -0.15430335  0.57735027]\n",
      " [ 0.53452248  0.6172134  -0.57735027]]\n"
     ]
    }
   ],
   "source": [
    "print(U)"
   ]
  },
  {
   "cell_type": "code",
   "execution_count": 10,
   "metadata": {},
   "outputs": [
    {
     "name": "stdout",
     "output_type": "stream",
     "text": [
      "tensor([[-0.5774, -0.7715,  0.2673],\n",
      "        [-0.5773,  0.1543, -0.8018],\n",
      "        [ 0.5774, -0.6172, -0.5345]])\n"
     ]
    }
   ],
   "source": [
    "print(u)"
   ]
  },
  {
   "cell_type": "markdown",
   "metadata": {},
   "source": [
    "### S"
   ]
  },
  {
   "cell_type": "code",
   "execution_count": 11,
   "metadata": {},
   "outputs": [
    {
     "name": "stdout",
     "output_type": "stream",
     "text": [
      "[[ 5.00000000e+00  4.61927558e-17 -5.80878766e-17]\n",
      " [-1.78966239e-16  6.24499800e+00 -1.05776474e-15]\n",
      " [-2.24630037e-16 -1.28454465e-17  6.24499800e+00]]\n"
     ]
    }
   ],
   "source": [
    "print(S)"
   ]
  },
  {
   "cell_type": "code",
   "execution_count": 12,
   "metadata": {},
   "outputs": [
    {
     "name": "stdout",
     "output_type": "stream",
     "text": [
      "tensor([6.2450, 6.2450, 5.0000])\n"
     ]
    }
   ],
   "source": [
    "print(s)"
   ]
  },
  {
   "cell_type": "markdown",
   "metadata": {},
   "source": [
    "### V"
   ]
  },
  {
   "cell_type": "code",
   "execution_count": 13,
   "metadata": {},
   "outputs": [
    {
     "name": "stdout",
     "output_type": "stream",
     "text": [
      "[[ 0.26726124 -0.96362411  0.        ]\n",
      " [ 0.80178373  0.22237479  0.5547002 ]\n",
      " [-0.53452248 -0.14824986  0.83205029]]\n"
     ]
    }
   ],
   "source": [
    "print(V)"
   ]
  },
  {
   "cell_type": "code",
   "execution_count": 14,
   "metadata": {},
   "outputs": [
    {
     "name": "stdout",
     "output_type": "stream",
     "text": [
      "tensor([[-0.0000,  0.9636, -0.2673],\n",
      "        [-0.5547, -0.2224, -0.8018],\n",
      "        [-0.8321,  0.1482,  0.5345]])\n"
     ]
    }
   ],
   "source": [
    "print(v)"
   ]
  }
 ],
 "metadata": {
  "kernelspec": {
   "display_name": "pytorch",
   "language": "python",
   "name": "python3"
  },
  "language_info": {
   "codemirror_mode": {
    "name": "ipython",
    "version": 3
   },
   "file_extension": ".py",
   "mimetype": "text/x-python",
   "name": "python",
   "nbconvert_exporter": "python",
   "pygments_lexer": "ipython3",
   "version": "3.11.6"
  }
 },
 "nbformat": 4,
 "nbformat_minor": 2
}
