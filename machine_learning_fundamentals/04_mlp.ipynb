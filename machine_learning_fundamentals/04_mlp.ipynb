{
 "cells": [
  {
   "cell_type": "markdown",
   "metadata": {},
   "source": [
    "### Building a multi-layer perceptron with numpy"
   ]
  },
  {
   "cell_type": "code",
   "execution_count": 1,
   "metadata": {},
   "outputs": [],
   "source": [
    "import numpy as np\n",
    "import matplotlib.pyplot as plt\n",
    "\n",
    "from sklearn.datasets import fetch_california_housing\n",
    "from sklearn.preprocessing import StandardScaler\n",
    "from sklearn.model_selection import train_test_split"
   ]
  },
  {
   "cell_type": "code",
   "execution_count": 2,
   "metadata": {},
   "outputs": [],
   "source": [
    "# build linear layer class\n",
    "class Linear:\n",
    "    def __init__(self, input_size, output_size):\n",
    "        self.input_size = input_size\n",
    "        self.output_size = output_size\n",
    "        self.weight = np.random.randn(input_size, output_size)\n",
    "        self.bias = np.random.randn(output_size)\n",
    "\n",
    "    def forward(self, input):\n",
    "        return np.dot(input, self.weight) + self.bias\n",
    "\n",
    "    def backward(self, input, grad_output):\n",
    "        grad_input = np.dot(grad_output, self.weight.T)\n",
    "        grad_weight = np.dot(input.T, grad_output)\n",
    "        grad_bias = np.sum(grad_output, axis=0)\n",
    "        return grad_input, grad_weight, grad_bias"
   ]
  },
  {
   "cell_type": "code",
   "execution_count": 3,
   "metadata": {},
   "outputs": [],
   "source": [
    "# build ReLU activation class\n",
    "class ReLU:\n",
    "    def __init__(self):\n",
    "        pass\n",
    "\n",
    "    def forward(self, input):\n",
    "        return np.maximum(0, input)\n",
    "\n",
    "    def backward(self, input, grad_output):\n",
    "        relu_grad = input > 0\n",
    "        return grad_output * relu_grad.astype(float)"
   ]
  },
  {
   "cell_type": "code",
   "execution_count": 4,
   "metadata": {},
   "outputs": [],
   "source": [
    "# build model class\n",
    "class Model:\n",
    "    def __init__(self, input_size, output_size):\n",
    "        fc1 = Linear(input_size, 32)\n",
    "        relu1 = ReLU()\n",
    "        fc2 = Linear(32, 1)\n",
    "        self.layers = [fc1, relu1, fc2]\n",
    "        self.layer_outputs = []\n",
    "        self.train_status = False\n",
    "\n",
    "    def forward(self, input):\n",
    "        if self.train_status:\n",
    "            x = input\n",
    "            self.layer_outputs = [x]\n",
    "            for layer in self.layers:\n",
    "                x = layer.forward(x)\n",
    "        else:\n",
    "            x = input\n",
    "            for layer in self.layers:\n",
    "                x = layer.forward(x)\n",
    "        return x\n",
    "\n",
    "    def backward(self, grad_loss):\n",
    "        layer_grads = []\n",
    "        grad_input = grad_loss\n",
    "        for layer, output in zip(self.layers[::-1], self.layer_outputs[::-1]):\n",
    "            grad_input, grad_weight, grad_bias = layer.backward(output, grad_input)\n",
    "            layer_grads.append((grad_weight, grad_bias))\n",
    "        return layer_grads[::-1]\n",
    "    \n",
    "    def train(self):\n",
    "        self.train_status = True\n",
    "\n",
    "    def eval(self):\n",
    "        self.train_status = False\n",
    "  "
   ]
  },
  {
   "cell_type": "code",
   "execution_count": 5,
   "metadata": {},
   "outputs": [],
   "source": [
    "class MeanSquaredError:\n",
    "    def __init__(self):\n",
    "        pass\n",
    "\n",
    "    def forward(self, y_pred, y_true):\n",
    "        return ((y_pred - y_true) ** 2).mean()\n",
    "\n",
    "    def backward(self, y_pred, y_true):\n",
    "        return 2 * (y_pred - y_true) / y_true.size"
   ]
  },
  {
   "cell_type": "code",
   "execution_count": 6,
   "metadata": {},
   "outputs": [],
   "source": [
    "# build stochastic gradient descent optimizer\n",
    "class SGD:\n",
    "    def __init__(self, learning_rate):\n",
    "        self.learning_rate = learning_rate\n",
    "\n",
    "    def update_parameters(self, model, gradients):\n",
    "        for layer, (grad_weight, grad_bias) in zip(model.layers, gradients):\n",
    "            layer.weight -= self.learning_rate * grad_weight\n",
    "            layer.bias -= self.learning_rate * grad_bias"
   ]
  },
  {
   "cell_type": "markdown",
   "metadata": {},
   "source": [
    "### load dataset"
   ]
  },
  {
   "cell_type": "code",
   "execution_count": 7,
   "metadata": {},
   "outputs": [],
   "source": [
    "housing = fetch_california_housing()\n",
    "x_train_full, x_test, y_train_full, y_test = train_test_split(housing.data, housing.target.reshape(-1, 1), random_state=42)\n",
    "x_train, x_valid, y_train, y_valid = train_test_split(x_train_full, y_train_full, random_state=42)\n",
    "\n",
    "scaler = StandardScaler()\n",
    "x_train = scaler.fit_transform(x_train)\n",
    "x_valid = scaler.transform(x_valid)\n",
    "x_test = scaler.transform(x_test)"
   ]
  },
  {
   "cell_type": "code",
   "execution_count": 15,
   "metadata": {},
   "outputs": [
    {
     "name": "stdout",
     "output_type": "stream",
     "text": [
      "[1/25] Train loss: 75.8720 - Val loss: 179.7754\n",
      "[2/25] Train loss: 24.4627 - Val loss: 107.8967\n",
      "[3/25] Train loss: 15.8702 - Val loss: 32.7390\n",
      "[4/25] Train loss: 16.2630 - Val loss: 106.6319\n",
      "[5/25] Train loss: 13.3244 - Val loss: 102.1778\n",
      "[6/25] Train loss: 11.3100 - Val loss: 12.6102\n",
      "[7/25] Train loss: 11.2229 - Val loss: 14.0804\n",
      "[8/25] Train loss: 11.0843 - Val loss: 12.9163\n",
      "[9/25] Train loss: 11.0103 - Val loss: 13.0488\n",
      "[10/25] Train loss: 10.9499 - Val loss: 12.9651\n",
      "[11/25] Train loss: 10.9059 - Val loss: 12.9435\n",
      "[12/25] Train loss: 10.8717 - Val loss: 12.9200\n",
      "[13/25] Train loss: 10.8434 - Val loss: 12.9045\n",
      "[14/25] Train loss: 10.8198 - Val loss: 12.8935\n",
      "[15/25] Train loss: 10.8000 - Val loss: 12.8875\n",
      "[16/25] Train loss: 10.7834 - Val loss: 12.8841\n",
      "[17/25] Train loss: 10.7692 - Val loss: 12.8819\n",
      "[18/25] Train loss: 10.7582 - Val loss: 12.8803\n",
      "[19/25] Train loss: 10.7496 - Val loss: 12.8786\n",
      "[20/25] Train loss: 10.7426 - Val loss: 12.8773\n",
      "[21/25] Train loss: 10.7367 - Val loss: 12.8765\n",
      "[22/25] Train loss: 10.7320 - Val loss: 12.8761\n",
      "[23/25] Train loss: 10.7281 - Val loss: 12.8758\n",
      "[24/25] Train loss: 10.7249 - Val loss: 12.8759\n",
      "[25/25] Train loss: 10.7226 - Val loss: 12.8764\n"
     ]
    }
   ],
   "source": [
    "# training loop\n",
    "n_epochs = 25\n",
    "batch_size = 128\n",
    "n_iterations = len(x_train) // batch_size\n",
    "lr = 0.01\n",
    "\n",
    "model = Model(x_train.shape[1], 1)\n",
    "criterion = MeanSquaredError()\n",
    "optimizer = SGD(learning_rate=lr)\n",
    "\n",
    "train_losses = []\n",
    "valid_losses = []\n",
    "\n",
    "for epoch in range(n_epochs):\n",
    "    epoch_loss = 0.0\n",
    "    epoch_valid_loss = 0.0\n",
    "    for batch in range(n_iterations):\n",
    "        # get batch\n",
    "        start = batch * batch_size\n",
    "        end = start + batch_size\n",
    "        x_batch = x_train[start:end]\n",
    "        y_batch = y_train[start:end]\n",
    "\n",
    "        # forward pass\n",
    "        model.train()\n",
    "        y_pred_batch = model.forward(x_batch)\n",
    "        loss = criterion.forward(y_pred_batch, y_batch)\n",
    "        epoch_loss += loss\n",
    "\n",
    "        # backward pass\n",
    "        grad_loss  = criterion.backward(y_pred_batch, y_batch)\n",
    "        gradients = model.backward(grad_loss)\n",
    "\n",
    "        # Update parameters using SGD\n",
    "        optimizer.update_parameters(model, gradients)\n",
    "\n",
    "        # forward pass on validation set\n",
    "        model.eval()\n",
    "        y_valid_pred = model.forward(x_valid)\n",
    "        valid_loss = criterion.forward(y_valid_pred, y_valid)\n",
    "        epoch_valid_loss += valid_loss\n",
    "    \n",
    "    # append average loss for epoch\n",
    "    epoch_loss /= n_iterations\n",
    "    epoch_valid_loss /= n_iterations\n",
    "    train_losses.append(epoch_loss)\n",
    "    valid_losses.append(epoch_valid_loss)\n",
    "\n",
    "    # Print average loss every epoch\n",
    "    print(f'[{epoch+1}/{n_epochs}] Train loss: {epoch_loss:.4f} - Val loss: {epoch_valid_loss:.4f}')\n"
   ]
  },
  {
   "cell_type": "code",
   "execution_count": 13,
   "metadata": {},
   "outputs": [
    {
     "data": {
      "image/png": "[encoded data removed]",
      "text/plain": [
       "<Figure size 640x480 with 1 Axes>"
      ]
     },
     "metadata": {},
     "output_type": "display_data"
    }
   ],
   "source": [
    "# plot losses\n",
    "plt.plot(train_losses, label=\"Train\")\n",
    "plt.plot(valid_losses, label=\"Validation\")\n",
    "plt.xlabel(\"Epoch\")\n",
    "plt.ylabel(\"Loss\")\n",
    "plt.legend()\n",
    "plt.show()"
   ]
  },
  {
   "cell_type": "code",
   "execution_count": null,
   "metadata": {},
   "outputs": [],
   "source": []
  }
 ],
 "metadata": {
  "kernelspec": {
   "display_name": "pytorch-dev",
   "language": "python",
   "name": "python3"
  },
  "language_info": {
   "codemirror_mode": {
    "name": "ipython",
    "version": 3
   },
   "file_extension": ".py",
   "mimetype": "text/x-python",
   "name": "python",
   "nbconvert_exporter": "python",
   "pygments_lexer": "ipython3",
   "version": "3.11.5"
  }
 },
 "nbformat": 4,
 "nbformat_minor": 2
}
