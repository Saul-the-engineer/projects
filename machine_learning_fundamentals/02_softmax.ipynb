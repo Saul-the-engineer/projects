{
 "cells": [
  {
   "cell_type": "code",
   "execution_count": 1,
   "metadata": {},
   "outputs": [],
   "source": [
    "import torch\n",
    "import torch.nn as nn\n",
    "import torch.nn.functional as F\n",
    "import numpy as np"
   ]
  },
  {
   "cell_type": "code",
   "execution_count": 2,
   "metadata": {},
   "outputs": [],
   "source": [
    "linear = nn.Linear(4,3)\n",
    "\n",
    "input = torch.from_numpy(\n",
    "    np.ones((1,4)).astype(np.float32)\n",
    "    )\n",
    "output = torch.from_numpy(\n",
    "    np.array([0]).astype(np.int64)\n",
    "    )\n",
    "\n",
    "logits = linear(input)\n",
    "print(f\"Logits: {logits}\")"
   ]
  },
  {
   "cell_type": "code",
   "execution_count": 3,
   "metadata": {},
   "outputs": [
    {
     "name": "stdout",
     "output_type": "stream",
     "text": [
      "Logits: tensor([[-0.3152, -0.1919,  0.4955]], grad_fn=<AddmmBackward0>)\n",
      "Softmax: tensor([[0.2283, 0.2582, 0.5135]], grad_fn=<SoftmaxBackward0>)\n",
      "Cross-Entropy: 1.4772653579711914\n"
     ]
    }
   ],
   "source": [
    "probabilities = F.softmax(logits, dim=1)\n",
    "loss = F.cross_entropy(input=logits, target=output,)\n",
    "print(f\"Softmax: {probabilities}\")\n",
    "print(f\"Cross-Entropy: {loss}\")"
   ]
  },
  {
   "cell_type": "code",
   "execution_count": 4,
   "metadata": {},
   "outputs": [
    {
     "name": "stdout",
     "output_type": "stream",
     "text": [
      "Softmax Manual: tensor([[0.2283, 0.2582, 0.5135]], grad_fn=<DivBackward0>)\n",
      "Cross-Entropy Manual: 1.4772652387619019\n"
     ]
    }
   ],
   "source": [
    "def softmax(x):\n",
    "    probs = torch.exp(x) / torch.sum(torch.exp(x), axis=1)\n",
    "    return probs\n",
    "\n",
    "def cross_entropy(input, target):\n",
    "    input = torch.log(input)\n",
    "    target_temp = torch.zeros(input.shape)\n",
    "    target_temp[0, target] = 1\n",
    "    target = target_temp\n",
    "    n_examples = input.shape[0] # should be 1\n",
    "    cost = 0\n",
    "    for _ in range(n_examples):\n",
    "        cost += torch.sum(torch.matmul(target, input.T))\n",
    "    cost /= -n_examples\n",
    "    return cost\n",
    "\n",
    "\n",
    "print(f\"Softmax Manual: {softmax(logits)}\")\n",
    "print(f\"Cross-Entropy Manual: {cross_entropy(input=probabilities, target=output,)}\")"
   ]
  }
 ],
 "metadata": {
  "kernelspec": {
   "display_name": "pytorch",
   "language": "python",
   "name": "python3"
  },
  "language_info": {
   "codemirror_mode": {
    "name": "ipython",
    "version": 3
   },
   "file_extension": ".py",
   "mimetype": "text/x-python",
   "name": "python",
   "nbconvert_exporter": "python",
   "pygments_lexer": "ipython3",
   "version": "3.11.6"
  }
 },
 "nbformat": 4,
 "nbformat_minor": 2
}
