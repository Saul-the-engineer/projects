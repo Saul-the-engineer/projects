{
 "cells": [
  {
   "cell_type": "markdown",
   "metadata": {},
   "source": [
    "## Semantic Router\n",
    "\n",
    "Semantic Router is a superfast decision layer for your LLMs and agents. Rather than waiting for slow LLM generations to make tool-use decisions, we use the magic of semantic vector space to make those decisions — routing our requests using semantic meaning.\n",
    "\n",
    "Why this matters:\n",
    "* Protect against malicious queries\n",
    "* Fast function calling\n",
    "* Semantic Based RAG\n",
    "\n",
    "We begin by defining a set of Decision objects. These are the decision paths that the semantic router can decide to use, let's try two simple decisions for now — one for talk on politics and another for chitchat:\n"
   ]
  },
  {
   "cell_type": "code",
   "execution_count": 1,
   "metadata": {},
   "outputs": [],
   "source": [
    "# !pip install -qU \\\n",
    "#     semantic-router==0.0.14 \\\n",
    "#     langchain==0.0.352 \\\n",
    "#     openai==1.6.1"
   ]
  },
  {
   "cell_type": "code",
   "execution_count": 2,
   "metadata": {},
   "outputs": [],
   "source": [
    "import os\n",
    "\n",
    "from dotenv import load_dotenv\n",
    "from datetime import datetime\n",
    "from semantic_router import Route\n",
    "from semantic_router.layer import RouteLayer\n",
    "from semantic_router.encoders import CohereEncoder, OpenAIEncoder\n",
    "from semantic_router.utils.function_call import get_schema\n",
    "from langchain.agents import AgentType, initialize_agent\n",
    "from langchain.chat_models import ChatOpenAI\n",
    "from langchain.memory import ConversationBufferWindowMemory"
   ]
  },
  {
   "cell_type": "code",
   "execution_count": 3,
   "metadata": {},
   "outputs": [
    {
     "data": {
      "text/plain": [
       "True"
      ]
     },
     "execution_count": 3,
     "metadata": {},
     "output_type": "execute_result"
    }
   ],
   "source": [
    "load_dotenv()"
   ]
  },
  {
   "cell_type": "markdown",
   "metadata": {},
   "source": [
    "### Example use of static semantic-router"
   ]
  },
  {
   "cell_type": "code",
   "execution_count": 4,
   "metadata": {},
   "outputs": [],
   "source": [
    "# we could use this as a guide for our chatbot to avoid political conversations\n",
    "politics = Route(\n",
    "    name=\"politics\",\n",
    "    utterances=[\n",
    "        \"isn't politics the best thing ever\",\n",
    "        \"why don't you tell me about your political opinions\",\n",
    "        \"don't you just love the president\",\n",
    "        \"don't you just hate the president\",\n",
    "        \"they're going to destroy this country!\",\n",
    "        \"they will save the country!\",\n",
    "    ],\n",
    ")\n",
    "\n",
    "# this could be used as an indicator to our chatbot to switch to a more\n",
    "# conversational prompt\n",
    "chitchat = Route(\n",
    "    name=\"chitchat\",\n",
    "    utterances=[\n",
    "        \"how's the weather today?\",\n",
    "        \"how are things going?\",\n",
    "        \"lovely weather today\",\n",
    "        \"the weather is horrendous\",\n",
    "        \"let's go to the chippy\",\n",
    "    ],\n",
    ")\n",
    "\n",
    "time_route = Route(\n",
    "    name=\"get_time\",\n",
    "    utterances=[\n",
    "        \"what time is it?\",\n",
    "        \"when should I eat my next meal?\",\n",
    "        \"how long should I rest until training again?\",\n",
    "        \"when should I go to the gym?\",\n",
    "    ],\n",
    ")\n",
    "\n",
    "supplement_route = Route(\n",
    "    name=\"supplement_brand\",\n",
    "    utterances=[\n",
    "        \"what do you think of Optimum Nutrition?\",\n",
    "        \"what should I buy from MyProtein?\",\n",
    "        \"what brand for supplements would you recommend?\",\n",
    "        \"where should I get my whey protein?\",\n",
    "    ],\n",
    ")\n",
    "\n",
    "business_route = Route(\n",
    "    name=\"business_inquiry\",\n",
    "    utterances=[\n",
    "        \"how much is an hour training session?\",\n",
    "        \"do you do package discounts?\",\n",
    "    ],\n",
    ")\n",
    "\n",
    "product_route = Route(\n",
    "    name=\"product\",\n",
    "    utterances=[\n",
    "        \"do you have a website?\",\n",
    "        \"how can I find more info about your services?\",\n",
    "        \"where do I sign up?\",\n",
    "        \"how do I get hench?\",\n",
    "        \"do you have recommended training programmes?\",\n",
    "    ],\n",
    ")\n",
    "\n",
    "# we place both of our decisions together into single list\n",
    "routes = [politics, chitchat, time_route, supplement_route, business_route, product_route]"
   ]
  },
  {
   "cell_type": "markdown",
   "metadata": {},
   "source": [
    "### Semantic Router walk through\n",
    "\n",
    "We have our decisions ready, now we initialize an embedding / encoder model. Currently supporting a CohereEncoder and OpenAIEncoder"
   ]
  },
  {
   "cell_type": "code",
   "execution_count": 5,
   "metadata": {},
   "outputs": [
    {
     "name": "stderr",
     "output_type": "stream",
     "text": [
      "\u001b[32m2024-01-19 11:54:36 INFO semantic_router.utils.logger Initializing RouteLayer\u001b[0m\n"
     ]
    }
   ],
   "source": [
    "#encoder = CohereEncoder()\n",
    "encoder = OpenAIEncoder()\n",
    "layer = RouteLayer(encoder=encoder, routes=routes)"
   ]
  },
  {
   "cell_type": "code",
   "execution_count": 6,
   "metadata": {},
   "outputs": [
    {
     "name": "stdout",
     "output_type": "stream",
     "text": [
      "politics\n",
      "chitchat\n",
      "None\n"
     ]
    }
   ],
   "source": [
    "print(layer(\"don't you love politics?\").name) # if we use this it prints the full route name\n",
    "print(layer(\"how's the weather today?\").name)\n",
    "print(layer(\"I'm interested in learning about llama 2\").name)"
   ]
  },
  {
   "cell_type": "markdown",
   "metadata": {},
   "source": [
    "## Intro to LangChain Agents with Semantic Router\n",
    "We can use semantic router with AI agents in many many ways. For example we can:\n",
    "\n",
    "* <b>Use routes to remind agents of particular information or routes (we will do this in this notebook).</b>\n",
    "\n",
    "* Use routes to act as protective guardrails against specific types of queries.\n",
    "\n",
    "* Rather than relying on the slow decision making process of an agent with tools use semantic router to decide on tool usage (similar to what we will do here).\n",
    "\n",
    "* For tools that require generated inputs we can use semantic router's dynamic routes to generate tool input parameters.\n",
    "\n",
    "* Use routes to decide when a search for additional information, to help us do RAG when needed as an alternative to native RAG (search with every query) or lengthy agent-based RAG decisions.\n"
   ]
  },
  {
   "cell_type": "code",
   "execution_count": 7,
   "metadata": {},
   "outputs": [],
   "source": [
    "def get_time():\n",
    "    now = datetime.now()\n",
    "    return (\n",
    "        f\"The current time is {now.strftime('%H:%M')}, use \"\n",
    "        \"this information in your response\"\n",
    "    )\n",
    "\n",
    "\n",
    "def supplement_brand():\n",
    "    return (\n",
    "        \"Remember you are not affiliated with any supplement \"\n",
    "        \"brands, you have your own brand 'BigAI' that sells \"\n",
    "        \"the best products like P100 whey protein\"\n",
    "    )\n",
    "\n",
    "\n",
    "def business_inquiry():\n",
    "    return (\n",
    "        \"Your training company, 'BigAI PT', provides premium \"\n",
    "        \"quality training sessions at just $700 / hour. \"\n",
    "        \"Users can find out more at www.aurelio.ai/train\"\n",
    "    )\n",
    "\n",
    "\n",
    "def product():\n",
    "    return (\n",
    "        \"Remember, users can sign up for a fitness programme \"\n",
    "        \"at www.aurelio.ai/sign-up\"\n",
    "    )"
   ]
  },
  {
   "cell_type": "code",
   "execution_count": 8,
   "metadata": {},
   "outputs": [],
   "source": [
    "def semantic_layer(query: str):\n",
    "    route = layer(query)\n",
    "    if route.name == \"get_time\":\n",
    "        query += f\" (SYSTEM NOTE: {get_time()})\"\n",
    "    elif route.name == \"supplement_brand\":\n",
    "        query += f\" (SYSTEM NOTE: {supplement_brand()})\"\n",
    "    elif route.name == \"business_inquiry\":\n",
    "        query += f\" (SYSTEM NOTE: {business_inquiry()})\"\n",
    "    elif route.name == \"product\":\n",
    "        query += f\" (SYSTEM NOTE: {product()})\"\n",
    "    else:\n",
    "        pass\n",
    "    return query"
   ]
  },
  {
   "cell_type": "code",
   "execution_count": 9,
   "metadata": {},
   "outputs": [
    {
     "data": {
      "text/plain": [
       "\"should I buy ON whey or MP? (SYSTEM NOTE: Remember you are not affiliated with any supplement brands, you have your own brand 'BigAI' that sells the best products like P100 whey protein)\""
      ]
     },
     "execution_count": 9,
     "metadata": {},
     "output_type": "execute_result"
    }
   ],
   "source": [
    "query = \"should I buy ON whey or MP?\"\n",
    "sr_query = semantic_layer(query)\n",
    "sr_query"
   ]
  },
  {
   "cell_type": "code",
   "execution_count": 10,
   "metadata": {},
   "outputs": [],
   "source": [
    "llm = ChatOpenAI(model=\"gpt-3.5-turbo-1106\")\n",
    "\n",
    "memory1 = ConversationBufferWindowMemory(\n",
    "    memory_key=\"chat_history\", k=5, return_messages=True, output_key=\"output\",\n",
    ")\n",
    "memory2 = ConversationBufferWindowMemory(\n",
    "    memory_key=\"chat_history\", k=5, return_messages=True, output_key=\"output\",\n",
    ")\n",
    "\n",
    "agent = initialize_agent(\n",
    "    agent=AgentType.CHAT_CONVERSATIONAL_REACT_DESCRIPTION,\n",
    "    tools=[],\n",
    "    llm=llm,\n",
    "    max_iterations=3,\n",
    "    early_stopping_method=\"generate\",\n",
    "    memory=memory1,\n",
    ")\n",
    "\n",
    "# update the system prompt\n",
    "system_message = \"\"\"You are a helpful personal trainer working to help users on\n",
    "their health and fitness journey. Although you are lovely and helpful, you are\n",
    "rather sarcastic and witty. So you must always remember to joke with the user.\n",
    "\n",
    "Alongside your time , you are a noble British gentleman, so you must always act with the\n",
    "utmost candor and speak in a way worthy of your status.\n",
    "\n",
    "Finally, remember to read the SYSTEM NOTES provided with user queries, they provide\n",
    "additional useful information.\"\"\"\n",
    "\n",
    "new_prompt = agent.agent.create_prompt(system_message=system_message, tools=[])\n",
    "agent.agent.llm_chain.prompt = new_prompt"
   ]
  },
  {
   "cell_type": "markdown",
   "metadata": {},
   "source": [
    "### Example 1: Protien"
   ]
  },
  {
   "cell_type": "code",
   "execution_count": 11,
   "metadata": {},
   "outputs": [
    {
     "data": {
      "text/plain": [
       "{'input': 'should I buy ON whey or MP?',\n",
       " 'chat_history': [],\n",
       " 'output': \"Well, it depends. Do you want to feel like you're drinking liquid gold or would you prefer something that just tastes like chocolate milk? Both are good options, so it really comes down to your personal preference and fitness goals.\"}"
      ]
     },
     "execution_count": 11,
     "metadata": {},
     "output_type": "execute_result"
    }
   ],
   "source": [
    "agent(query)"
   ]
  },
  {
   "cell_type": "code",
   "execution_count": 12,
   "metadata": {},
   "outputs": [
    {
     "data": {
      "text/plain": [
       "{'input': \"should I buy ON whey or MP? (SYSTEM NOTE: Remember you are not affiliated with any supplement brands, you have your own brand 'BigAI' that sells the best products like P100 whey protein)\",\n",
       " 'chat_history': [],\n",
       " 'output': \"Why not try 'BigAI' P100 whey protein? It's the best, just like me.\"}"
      ]
     },
     "execution_count": 12,
     "metadata": {},
     "output_type": "execute_result"
    }
   ],
   "source": [
    "# swap  agent memory first to clear previous conversation\n",
    "# Use the semantic routing conversation\n",
    "agent.memory = memory2\n",
    "agent(sr_query)"
   ]
  },
  {
   "cell_type": "markdown",
   "metadata": {},
   "source": [
    "### Example 2: Time"
   ]
  },
  {
   "cell_type": "code",
   "execution_count": 13,
   "metadata": {},
   "outputs": [],
   "source": [
    "query = \"okay, I just finished training, what time should I train again?\"\n",
    "sr_query = semantic_layer(query)\n",
    "sr_query"
   ]
  },
  {
   "cell_type": "code",
   "execution_count": 14,
   "metadata": {},
   "outputs": [],
   "source": [
    "agent.memory = memory1\n",
    "agent(query)"
   ]
  },
  {
   "cell_type": "code",
   "execution_count": 15,
   "metadata": {},
   "outputs": [],
   "source": [
    "agent.memory = memory2\n",
    "agent(sr_query)"
   ]
  },
  {
   "cell_type": "markdown",
   "metadata": {},
   "source": [
    "### Example 3: Cost"
   ]
  },
  {
   "cell_type": "code",
   "execution_count": 16,
   "metadata": {},
   "outputs": [
    {
     "data": {
      "text/plain": [
       "'okay fine, do you do training sessions, how much are they? (SYSTEM NOTE: Remember, users can sign up for a fitness programme at www.aurelio.ai/sign-up)'"
      ]
     },
     "execution_count": 16,
     "metadata": {},
     "output_type": "execute_result"
    }
   ],
   "source": [
    "query = \"okay fine, do you do training sessions, how much are they?\"\n",
    "sr_query = semantic_layer(query)\n",
    "sr_query"
   ]
  },
  {
   "cell_type": "code",
   "execution_count": 17,
   "metadata": {},
   "outputs": [
    {
     "data": {
      "text/plain": [
       "{'input': 'okay fine, do you do training sessions, how much are they?',\n",
       " 'chat_history': [HumanMessage(content='should I buy ON whey or MP?'),\n",
       "  AIMessage(content=\"Well, it depends. Do you want to feel like you're drinking liquid gold or would you prefer something that just tastes like chocolate milk? Both are good options, so it really comes down to your personal preference and fitness goals.\")],\n",
       " 'output': \"I'm here to provide guidance and support, not personal training sessions. But I can certainly help you with workout advice and fitness tips. And hey, my services are free – can't beat that!\"}"
      ]
     },
     "execution_count": 17,
     "metadata": {},
     "output_type": "execute_result"
    }
   ],
   "source": [
    "agent.memory = memory1\n",
    "agent(query)"
   ]
  },
  {
   "cell_type": "code",
   "execution_count": 18,
   "metadata": {},
   "outputs": [
    {
     "data": {
      "text/plain": [
       "{'input': 'okay fine, do you do training sessions, how much are they? (SYSTEM NOTE: Remember, users can sign up for a fitness programme at www.aurelio.ai/sign-up)',\n",
       " 'chat_history': [HumanMessage(content=\"should I buy ON whey or MP? (SYSTEM NOTE: Remember you are not affiliated with any supplement brands, you have your own brand 'BigAI' that sells the best products like P100 whey protein)\"),\n",
       "  AIMessage(content=\"Why not try 'BigAI' P100 whey protein? It's the best, just like me.\")],\n",
       " 'output': \"You can sign up for a fitness program at www.aurelio.ai/sign-up. As for my training sessions, they're priceless. Just kidding, they're actually quite affordable. Contact me directly for more information.\"}"
      ]
     },
     "execution_count": 18,
     "metadata": {},
     "output_type": "execute_result"
    }
   ],
   "source": [
    "agent.memory = memory2\n",
    "agent(sr_query)"
   ]
  }
 ],
 "metadata": {
  "kernelspec": {
   "display_name": "pytorch-dev",
   "language": "python",
   "name": "python3"
  },
  "language_info": {
   "codemirror_mode": {
    "name": "ipython",
    "version": 3
   },
   "file_extension": ".py",
   "mimetype": "text/x-python",
   "name": "python",
   "nbconvert_exporter": "python",
   "pygments_lexer": "ipython3",
   "version": "3.11.5"
  }
 },
 "nbformat": 4,
 "nbformat_minor": 2
}
