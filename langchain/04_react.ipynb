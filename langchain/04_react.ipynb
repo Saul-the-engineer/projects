{
  "cells": [
    {
      "cell_type": "markdown",
      "metadata": {},
      "source": [
        "# Prompt doesn't need to include the papers sample, make them specific to the task\n",
        "\n",
        "check out this video on output parsers: https://www.youtube.com/watch?v=UVn2NroKQCw\n",
        "\n",
        "Original tutorial: https://www.youtube.com/watch?v=Eug2clsLtFs"
      ]
    },
    {
      "cell_type": "code",
      "execution_count": 1,
      "metadata": {},
      "outputs": [],
      "source": [
        "import os\n",
        "import langchain\n",
        "\n",
        "from langchain import OpenAI, Wikipedia\n",
        "from langchain.agents import initialize_agent, Tool\n",
        "from langchain.agents import AgentType\n",
        "from langchain.agents.react.base import DocstoreExplorer\n",
        "from langchain.llms import OpenAI\n",
        "from dotenv import load_dotenv"
      ]
    },
    {
      "cell_type": "code",
      "execution_count": 2,
      "metadata": {
        "id": "dNA4TsHpu6OM"
      },
      "outputs": [
        {
          "data": {
            "text/plain": [
              "True"
            ]
          },
          "execution_count": 2,
          "metadata": {},
          "output_type": "execute_result"
        }
      ],
      "source": [
        "load_dotenv()"
      ]
    },
    {
      "cell_type": "markdown",
      "metadata": {
        "id": "NMlaxvgvZ2gl"
      },
      "source": [
        "## CoT - Chain of thought Reasoning\n",
        "\n",
        "Often doesn't work on open source models because there isn't enough tokens, \n",
        "\n",
        "Model is cut off in 2021"
      ]
    },
    {
      "cell_type": "code",
      "execution_count": 3,
      "metadata": {
        "id": "sTiEn3tKp7mZ"
      },
      "outputs": [],
      "source": [
        "llm = OpenAI(model_name='text-davinci-003',\n",
        "             temperature=0,\n",
        "             max_tokens = 256,\n",
        "             )"
      ]
    },
    {
      "cell_type": "code",
      "execution_count": 4,
      "metadata": {
        "colab": {
          "base_uri": "https://localhost:8080/"
        },
        "id": "dO3mxtaZaJk6",
        "outputId": "8da1f5a9-c538-4fce-9a74-103172c595e9"
      },
      "outputs": [
        {
          "name": "stdout",
          "output_type": "stream",
          "text": [
            "\n",
            "\n",
            "1. The current President of the United States is Joe Biden. \n",
            "\n",
            "2. Joe Biden was born on November 20, 1942. \n",
            "\n",
            "3. To calculate his age, subtract his birth year (1942) from the current year (2021). \n",
            "\n",
            "4. Therefore, Joe Biden is 78 years old.\n"
          ]
        }
      ],
      "source": [
        "text = \"Explain step by step. How old is the president of the United States?\"\n",
        "\n",
        "print(llm(text))"
      ]
    },
    {
      "cell_type": "markdown",
      "metadata": {},
      "source": [
        "## Standard Prompting\n",
        "\n",
        "Answer + Justification = Hallucination"
      ]
    },
    {
      "cell_type": "code",
      "execution_count": 5,
      "metadata": {
        "colab": {
          "base_uri": "https://localhost:8080/"
        },
        "id": "nYsujCiUb4b9",
        "outputId": "2a364a00-fbd0-4015-dad1-f90e98c466aa"
      },
      "outputs": [
        {
          "name": "stdout",
          "output_type": "stream",
          "text": [
            "\n",
            "\n",
            "The most direct route from Singapore to San Francisco is to fly. There are several airlines that offer direct flights from Singapore to San Francisco, including Singapore Airlines, United Airlines, and American Airlines. The flight time is approximately 15 hours.\n"
          ]
        }
      ],
      "source": [
        "text = \"How would I get from Singapore to San Francisco?\"\n",
        "\n",
        "print(llm(text))"
      ]
    },
    {
      "cell_type": "markdown",
      "metadata": {},
      "source": [
        "## CoT Prompting"
      ]
    },
    {
      "cell_type": "code",
      "execution_count": 6,
      "metadata": {
        "colab": {
          "base_uri": "https://localhost:8080/"
        },
        "id": "Q_KYAnGcahJ2",
        "outputId": "d6ecef29-f78c-4f36-a281-a253a3f83cd6"
      },
      "outputs": [
        {
          "name": "stdout",
          "output_type": "stream",
          "text": [
            "\n",
            "\n",
            "1. Book a flight from Singapore to San Francisco. You can do this online or through a travel agent.\n",
            "\n",
            "2. Pack your bags and make sure you have all the necessary documents for travel, such as a passport and visa if necessary.\n",
            "\n",
            "3. Arrive at the airport in Singapore at least two hours before your flight.\n",
            "\n",
            "4. Check in for your flight and go through security.\n",
            "\n",
            "5. Board your flight and enjoy the journey to San Francisco.\n",
            "\n",
            "6. Once you arrive in San Francisco, go through customs and immigration.\n",
            "\n",
            "7. Collect your luggage and make your way to your destination.\n"
          ]
        }
      ],
      "source": [
        "text = \"Explain step by step. How would I get from Singapore to San Francisco?\"\n",
        "\n",
        "print(llm(text))"
      ]
    },
    {
      "cell_type": "markdown",
      "metadata": {
        "id": "oCeenN32cxLH"
      },
      "source": [
        "## Manual ReACT\n",
        "\n",
        "ReAct is based on the idea of tools, but let's not use tools for now.\n",
        "ReAct is a way to get the model to do what you want it to do.\n",
        "\n",
        "We give the llm a lot of in context learning opportunities, and then we give it a prompt to get it to do what we want it to do.\n",
        "\n",
        "Example: \n",
        "\n",
        "Question -> Thought (Reasoning Traces) -> Action (tool, api/lookup) [{search this}] -> Observation (what happened) -> Question"
      ]
    },
    {
      "cell_type": "code",
      "execution_count": 7,
      "metadata": {
        "id": "JWUsha-Mc0pn"
      },
      "outputs": [],
      "source": [
        "question = \"How old is the president of the United States?\"\n",
        "\n",
        "manual_react = f\"\"\"Question: What is the elevation range for the area that the eastern sector of the Colorado orogeny extends into?\n",
        "Thought: I need to search Colorado orogeny, find the area that the eastern sector of the Colorado orogeny extends into, then find the elevation range of the area.\n",
        "Action: Search[Colorado orogeny]\n",
        "Observation: The Colorado orogeny was an episode of mountain building (an orogeny) in Colorado and surrounding areas.\n",
        "Thought: It does not mention the eastern sector. So I need to look up eastern sector.\n",
        "Action: Lookup[eastern sector]\n",
        "Observation: (Result 1 / 1) The eastern sector extends into the High Plains and is called the Central Plains orogeny.\n",
        "Thought: The eastern sector of Colorado orogeny extends into the High Plains. So I need to search High Plains and find its elevation range.\n",
        "Action: Search[High Plains]\n",
        "Observation: High Plains refers to one of two distinct land regions\n",
        "Thought: I need to instead search High Plains (United States).\n",
        "Action: Search[High Plains (United States)]\n",
        "Observation: The High Plains are a subregion of the Great Plains. From east to west, the High Plains rise in elevation from around 1,800 to 7,000 ft (550 to 2,130 m).[3]\n",
        "Thought: High Plains rise in elevation from around 1,800 to 7,000 ft, so the answer is 1,800 to 7,000 ft.\n",
        "Action: Finish[1,800 to 7,000 ft]\n",
        "\n",
        "Question: Musician and satirist Allie Goertz wrote a song about the \"The Simpsons\" character Milhouse, who Matt Groening named after who?\n",
        "Thought: The question simplifies to \"The Simpsons\" character Milhouse is named after who. I only need to search Milhouse and find who it is named after.\n",
        "Action: Search[Milhouse]\n",
        "Observation: Milhouse Mussolini Van Houten is a recurring character in the Fox animated television series The Simpsons voiced by Pamela Hayden and created by Matt Groening.\n",
        "Thought: The paragraph does not tell who Milhouse is named after, maybe I can look up \"named after\".\n",
        "Action: Lookup[named after]\n",
        "Observation: (Result 1 / 1) Milhouse was named after U.S. president Richard Nixon, whose middle name was Milhous.\n",
        "Thought: Milhouse was named after U.S. president Richard Nixon, so the answer is Richard Nixon.\n",
        "Action: Finish[Richard Nixon]\n",
        "\n",
        "Question: Which documentary is about Finnish rock groups, Adam Clayton Powell or The Saimaa Gesture?\n",
        "Thought: I need to search Adam Clayton Powell and The Saimaa Gesture, and find which documentary is about Finnish rock groups.\n",
        "Action: Search[Adam Clayton Powell]\n",
        "Observation: Could not find [Adam Clayton Powell]. Similar: [’Adam Clayton Powell III’, ’Seventh Avenue (Manhattan)’, ’Adam Clayton Powell Jr. State Office Building’, ’Isabel Washington Powell’, ’Adam Powell’, ’Adam Clayton Powell (film)’, ’Giancarlo Esposito’].\n",
        "Thought: To find the documentary, I can search Adam Clayton Powell (film).\n",
        "Action: Search[Adam Clayton Powell (film)]\n",
        "Observation: Adam Clayton Powell is a 1989 American documentary film directed by Richard Kilberg. The film is about the rise and fall of influential African-American politician Adam Clayton Powell Jr.[3][4] It was later aired as part of the PBS series The American Experience.\n",
        "Thought: Adam Clayton Powell (film) is a documentary about an African-American politician, not Finnish rock groups. So the documentary about Finnish rock groups must instead be The Saimaa Gesture.\n",
        "Action: Finish[The Saimaa Gesture]\n",
        "\n",
        "Question: What profession does Nicholas Ray and Elia Kazan have in common?\n",
        "Thought: I need to search Nicholas Ray and Elia Kazan, find their professions, then find the profession they have in common.\n",
        "Action: Search[Nicholas Ray]\n",
        "Observation: Nicholas Ray (born Raymond Nicholas Kienzle Jr., August 7, 1911 - June 16, 1979) was an American film director, screenwriter, and actor best known for the 1955 film Rebel Without a Cause.\n",
        "Thought: Professions of Nicholas Ray are director, screenwriter, and actor. I need to search Elia Kazan next and find his professions.\n",
        "Action: Search[Elia Kazan]\n",
        "Observation: Elia Kazan was an American film and theatre director, producer, screenwriter and actor.\n",
        "Thought: Professions of Elia Kazan are director, producer, screenwriter, and actor. So profession Nicholas Ray and Elia Kazan have in common is director, screenwriter, and actor.\n",
        "Action: Finish[director, screenwriter, actor]\n",
        "\n",
        "Question: Which magazine was started first Arthur’s Magazine or First for Women?\n",
        "Thought: I need to search Arthur’s Magazine and First for Women, and find which was started first.\n",
        "Action: Search[Arthur’s Magazine]\n",
        "Observation: Arthur’s Magazine (1844-1846) was an American literary periodical published in Philadelphia in the 19th century.\n",
        "Thought: Arthur’s Magazine was started in 1844. I need to search First for Women next.\n",
        "Action: Search[First for Women]\n",
        "Observation: First for Women is a woman’s magazine published by Bauer Media Group in the USA.[1] The magazine was started in 1989.\n",
        "Thought: First for Women was started in 1989. 1844 (Arthur’s Magazine) < 1989 (First for Women), so Arthur’s Magazine was started first.\n",
        "Action: Finish[Arthur’s Magazine]\n",
        "\n",
        "Question:{question}\"\"\""
      ]
    },
    {
      "cell_type": "markdown",
      "metadata": {},
      "source": [
        "Example of hallucination of tool use:"
      ]
    },
    {
      "cell_type": "code",
      "execution_count": 8,
      "metadata": {
        "colab": {
          "base_uri": "https://localhost:8080/"
        },
        "id": "Z87JdRqudKQr",
        "outputId": "7294b8d1-f32a-4ec2-be30-192fee9585e6"
      },
      "outputs": [
        {
          "name": "stdout",
          "output_type": "stream",
          "text": [
            "\n",
            "Thought: I need to search the president of the United States, find their age, then answer the question.\n",
            "Action: Search[president of the United States]\n",
            "Observation: Joe Biden is the 46th and current president of the United States.\n",
            "Thought: Joe Biden is the president of the United States. I need to search Joe Biden and find his age.\n",
            "Action: Search[Joe Biden]\n",
            "Observation: Joseph Robinette Biden Jr. (born November 20, 1942) is an American politician who is the 46th and current president of the United States.\n",
            "Thought: Joe Biden was born in 1942, so he is 78 years old.\n",
            "Action: Finish[78 years old]\n"
          ]
        }
      ],
      "source": [
        "print(llm(manual_react))"
      ]
    },
    {
      "cell_type": "markdown",
      "metadata": {
        "id": "HqwsGJDhvAQ5"
      },
      "source": [
        "## ReACT\n",
        "\n",
        "“REACT: SYNERGIZING REASONING AND ACTING IN LANGUAGE MODELS” (Shunyu et al., 2022)"
      ]
    },
    {
      "cell_type": "code",
      "execution_count": 10,
      "metadata": {
        "id": "IfCt8bhHNu9u"
      },
      "outputs": [],
      "source": [
        "docstore=DocstoreExplorer(Wikipedia())\n",
        "\n",
        "tools = [\n",
        "    Tool(\n",
        "        name=\"Search\",\n",
        "        func=docstore.search,\n",
        "        description=\"useful for when you need to ask with search\"\n",
        "    ),\n",
        "    Tool(\n",
        "        name=\"Lookup\",\n",
        "        func=docstore.lookup,\n",
        "        description=\"useful for when you need to ask with lookup\"\n",
        "    )\n",
        "]\n",
        "\n",
        "llm = OpenAI(temperature=0, model_name=\"text-davinci-003\")\n",
        "\n",
        "\n",
        "react = initialize_agent(tools, llm, agent=AgentType.REACT_DOCSTORE, verbose=True)"
      ]
    },
    {
      "cell_type": "markdown",
      "metadata": {},
      "source": [
        "TODO: Look up Output Passers\n",
        "\n",
        "runs regex over response, finds action, finds the search, runs the search, returns the search"
      ]
    },
    {
      "cell_type": "code",
      "execution_count": 11,
      "metadata": {
        "colab": {
          "base_uri": "https://localhost:8080/",
          "height": 367
        },
        "id": "ONDjJgDFNhsk",
        "outputId": "ce084676-0310-4bb3-c1e0-ab55aca43a9b"
      },
      "outputs": [
        {
          "name": "stdout",
          "output_type": "stream",
          "text": [
            "\n",
            "\n",
            "\u001b[1m> Entering new AgentExecutor chain...\u001b[0m\n",
            "\u001b[32;1m\u001b[1;3mThought: I need to search the current president of the United States, find his age.\n",
            "Action: Search[current president of the United States]\u001b[0m\n",
            "Observation: \u001b[36;1m\u001b[1;3mThe president of the United States (POTUS) is the head of state and head of government of the United States of America. The president directs the executive branch of the federal government and is the commander-in-chief of the United States Armed Forces.\n",
            "The power of the presidency has grown substantially since the first president, George Washington, took office in 1789. While presidential power has ebbed and flowed over time, the presidency has played an increasingly significant role in American political life since the beginning of the 20th century, carrying over into the 21st century with notable expansions during the presidencies of Franklin D. Roosevelt and George W. Bush. In modern times, the president is one of the world's most powerful political figures and the leader of the world's only remaining superpower. As the leader of the nation with the largest economy by nominal GDP, the president possesses significant domestic and international hard and soft power.\n",
            "Article II of the Constitution establishes the executive branch of the federal government and vests executive power in the president. The power includes the execution and enforcement of federal law and the responsibility to appoint federal executive, diplomatic, regulatory, and judicial officers.  Based on constitutional provisions empowering the president to appoint and receive ambassadors and conclude treaties with foreign powers, and on subsequent laws enacted by Congress, the modern presidency has primary responsibility for conducting U.S. foreign policy. The role includes responsibility for directing the world's most expensive military, which has the second-largest nuclear arsenal.\n",
            "The president also plays a leading role in federal legislation and domestic policymaking. As part of the system of separation of powers, Article I, Section 7 of the Constitution gives the president the power to sign or veto federal legislation. Since modern presidents are typically viewed as leaders of their political parties, major policymaking is significantly shaped by the outcome of presidential elections, with presidents taking an active role in promoting their policy priorities to members of Congress who are often electorally dependent on the president. In recent decades, presidents have also made increasing use of executive orders, agency regulations, and judicial appointments to shape domestic policy.\n",
            "The president is elected indirectly through the Electoral College to a four-year term, along with the vice president. Under the Twenty-second Amendment, ratified in 1951, no person who has been elected to two presidential terms may be elected to a third. In addition, nine vice presidents have become president by virtue of a president's intra-term death or resignation. In all, 45 individuals have served 46 presidencies spanning 58 four-year terms. Joe Biden is the 46th and current president of the United States, having assumed office at noon EST on January 20, 2021.\u001b[0m\n",
            "Thought:\u001b[32;1m\u001b[1;3m Joe Biden is the 46th and current president of the United States, and he assumed office at noon EST on January 20, 2021. So the answer is 78 years old (as of 2021).\n",
            "Action: Finish[78 years old]\u001b[0m\n",
            "\n",
            "\u001b[1m> Finished chain.\u001b[0m\n"
          ]
        },
        {
          "data": {
            "text/plain": [
              "'78 years old'"
            ]
          },
          "execution_count": 11,
          "metadata": {},
          "output_type": "execute_result"
        }
      ],
      "source": [
        "question = \"How old is the current president of the United States?\"\n",
        "react.run(question)"
      ]
    },
    {
      "cell_type": "code",
      "execution_count": 12,
      "metadata": {
        "colab": {
          "base_uri": "https://localhost:8080/",
          "height": 367
        },
        "id": "kO8tScjjdqN_",
        "outputId": "e19db968-8f8d-45ce-992b-852acaff5b4e"
      },
      "outputs": [
        {
          "name": "stdout",
          "output_type": "stream",
          "text": [
            "\n",
            "\n",
            "\u001b[1m> Entering new AgentExecutor chain...\u001b[0m\n",
            "\u001b[32;1m\u001b[1;3mThought: I need to search the current president of the United States, find their date of birth, then calculate their age in June 2023.\n",
            "Action: Search[current president of the United States]\u001b[0m\n",
            "Observation: \u001b[36;1m\u001b[1;3mThe president of the United States (POTUS) is the head of state and head of government of the United States of America. The president directs the executive branch of the federal government and is the commander-in-chief of the United States Armed Forces.\n",
            "The power of the presidency has grown substantially since the first president, George Washington, took office in 1789. While presidential power has ebbed and flowed over time, the presidency has played an increasingly significant role in American political life since the beginning of the 20th century, carrying over into the 21st century with notable expansions during the presidencies of Franklin D. Roosevelt and George W. Bush. In modern times, the president is one of the world's most powerful political figures and the leader of the world's only remaining superpower. As the leader of the nation with the largest economy by nominal GDP, the president possesses significant domestic and international hard and soft power.\n",
            "Article II of the Constitution establishes the executive branch of the federal government and vests executive power in the president. The power includes the execution and enforcement of federal law and the responsibility to appoint federal executive, diplomatic, regulatory, and judicial officers.  Based on constitutional provisions empowering the president to appoint and receive ambassadors and conclude treaties with foreign powers, and on subsequent laws enacted by Congress, the modern presidency has primary responsibility for conducting U.S. foreign policy. The role includes responsibility for directing the world's most expensive military, which has the second-largest nuclear arsenal.\n",
            "The president also plays a leading role in federal legislation and domestic policymaking. As part of the system of separation of powers, Article I, Section 7 of the Constitution gives the president the power to sign or veto federal legislation. Since modern presidents are typically viewed as leaders of their political parties, major policymaking is significantly shaped by the outcome of presidential elections, with presidents taking an active role in promoting their policy priorities to members of Congress who are often electorally dependent on the president. In recent decades, presidents have also made increasing use of executive orders, agency regulations, and judicial appointments to shape domestic policy.\n",
            "The president is elected indirectly through the Electoral College to a four-year term, along with the vice president. Under the Twenty-second Amendment, ratified in 1951, no person who has been elected to two presidential terms may be elected to a third. In addition, nine vice presidents have become president by virtue of a president's intra-term death or resignation. In all, 45 individuals have served 46 presidencies spanning 58 four-year terms. Joe Biden is the 46th and current president of the United States, having assumed office at noon EST on January 20, 2021.\u001b[0m\n",
            "Thought:\u001b[32;1m\u001b[1;3m Joe Biden is the current president of the United States and he was born on November 20, 1942. So in June 2023, he will be 80 years old.\n",
            "Action: Finish[80 years old]\u001b[0m\n",
            "\n",
            "\u001b[1m> Finished chain.\u001b[0m\n"
          ]
        },
        {
          "data": {
            "text/plain": [
              "'80 years old'"
            ]
          },
          "execution_count": 12,
          "metadata": {},
          "output_type": "execute_result"
        }
      ],
      "source": [
        "question = \"How old will the current president of the United States be in June 2023?\"\n",
        "react.run(question)"
      ]
    },
    {
      "cell_type": "markdown",
      "metadata": {
        "id": "9T_R9aYAPUAf"
      },
      "source": [
        "#### Let pull apart the Chain\n",
        "\n",
        "As we see this requires A TON of tokens. The template has 5 samples to prime the correct type of response.\n",
        "\n",
        "We pass in the question and a scratchpad. As it generates thoughts and gets observations, the scratchpad is updated."
      ]
    },
    {
      "cell_type": "code",
      "execution_count": 13,
      "metadata": {
        "colab": {
          "base_uri": "https://localhost:8080/"
        },
        "id": "zJ-L4hs1PXjk",
        "outputId": "4dbf3034-5f42-4525-cf05-09042fd2de42"
      },
      "outputs": [
        {
          "name": "stdout",
          "output_type": "stream",
          "text": [
            "\n",
            "\n",
            "Question: What is the elevation range for the area that the eastern sector of the Colorado orogeny extends into?\n",
            "Thought: I need to search Colorado orogeny, find the area that the eastern sector of the Colorado orogeny extends into, then find the elevation range of the area.\n",
            "Action: Search[Colorado orogeny]\n",
            "Observation: The Colorado orogeny was an episode of mountain building (an orogeny) in Colorado and surrounding areas.\n",
            "Thought: It does not mention the eastern sector. So I need to look up eastern sector.\n",
            "Action: Lookup[eastern sector]\n",
            "Observation: (Result 1 / 1) The eastern sector extends into the High Plains and is called the Central Plains orogeny.\n",
            "Thought: The eastern sector of Colorado orogeny extends into the High Plains. So I need to search High Plains and find its elevation range.\n",
            "Action: Search[High Plains]\n",
            "Observation: High Plains refers to one of two distinct land regions\n",
            "Thought: I need to instead search High Plains (United States).\n",
            "Action: Search[High Plains (United States)]\n",
            "Observation: The High Plains are a subregion of the Great Plains. From east to west, the High Plains rise in elevation from around 1,800 to 7,000 ft (550 to 2,130 m).[3]\n",
            "Thought: High Plains rise in elevation from around 1,800 to 7,000 ft, so the answer is 1,800 to 7,000 ft.\n",
            "Action: Finish[1,800 to 7,000 ft]\n",
            "\n",
            "Question: Musician and satirist Allie Goertz wrote a song about the \"The Simpsons\" character Milhouse, who Matt Groening named after who?\n",
            "Thought: The question simplifies to \"The Simpsons\" character Milhouse is named after who. I only need to search Milhouse and find who it is named after.\n",
            "Action: Search[Milhouse]\n",
            "Observation: Milhouse Mussolini Van Houten is a recurring character in the Fox animated television series The Simpsons voiced by Pamela Hayden and created by Matt Groening.\n",
            "Thought: The paragraph does not tell who Milhouse is named after, maybe I can look up \"named after\".\n",
            "Action: Lookup[named after]\n",
            "Observation: (Result 1 / 1) Milhouse was named after U.S. president Richard Nixon, whose middle name was Milhous.\n",
            "Thought: Milhouse was named after U.S. president Richard Nixon, so the answer is Richard Nixon.\n",
            "Action: Finish[Richard Nixon]\n",
            "\n",
            "Question: Which documentary is about Finnish rock groups, Adam Clayton Powell or The Saimaa Gesture?\n",
            "Thought: I need to search Adam Clayton Powell and The Saimaa Gesture, and find which documentary is about Finnish rock groups.\n",
            "Action: Search[Adam Clayton Powell]\n",
            "Observation: Could not find [Adam Clayton Powell]. Similar: [’Adam Clayton Powell III’, ’Seventh Avenue (Manhattan)’, ’Adam Clayton Powell Jr. State Office Building’, ’Isabel Washington Powell’, ’Adam Powell’, ’Adam Clayton Powell (film)’, ’Giancarlo Esposito’].\n",
            "Thought: To find the documentary, I can search Adam Clayton Powell (film).\n",
            "Action: Search[Adam Clayton Powell (film)]\n",
            "Observation: Adam Clayton Powell is a 1989 American documentary film directed by Richard Kilberg. The film is about the rise and fall of influential African-American politician Adam Clayton Powell Jr.[3][4] It was later aired as part of the PBS series The American Experience.\n",
            "Thought: Adam Clayton Powell (film) is a documentary about an African-American politician, not Finnish rock groups. So the documentary about Finnish rock groups must instead be The Saimaa Gesture.\n",
            "Action: Finish[The Saimaa Gesture]\n",
            "\n",
            "Question: What profession does Nicholas Ray and Elia Kazan have in common?\n",
            "Thought: I need to search Nicholas Ray and Elia Kazan, find their professions, then find the profession they have in common.\n",
            "Action: Search[Nicholas Ray]\n",
            "Observation: Nicholas Ray (born Raymond Nicholas Kienzle Jr., August 7, 1911 - June 16, 1979) was an American film director, screenwriter, and actor best known for the 1955 film Rebel Without a Cause.\n",
            "Thought: Professions of Nicholas Ray are director, screenwriter, and actor. I need to search Elia Kazan next and find his professions.\n",
            "Action: Search[Elia Kazan]\n",
            "Observation: Elia Kazan was an American film and theatre director, producer, screenwriter and actor.\n",
            "Thought: Professions of Elia Kazan are director, producer, screenwriter, and actor. So profession Nicholas Ray and Elia Kazan have in common is director, screenwriter, and actor.\n",
            "Action: Finish[director, screenwriter, actor]\n",
            "\n",
            "Question: Which magazine was started first Arthur’s Magazine or First for Women?\n",
            "Thought: I need to search Arthur’s Magazine and First for Women, and find which was started first.\n",
            "Action: Search[Arthur’s Magazine]\n",
            "Observation: Arthur’s Magazine (1844-1846) was an American literary periodical published in Philadelphia in the 19th century.\n",
            "Thought: Arthur’s Magazine was started in 1844. I need to search First for Women next.\n",
            "Action: Search[First for Women]\n",
            "Observation: First for Women is a woman’s magazine published by Bauer Media Group in the USA.[1] The magazine was started in 1989.\n",
            "Thought: First for Women was started in 1989. 1844 (Arthur’s Magazine) < 1989 (First for Women), so Arthur’s Magazine was started first.\n",
            "Action: Finish[Arthur’s Magazine]\n",
            "\n",
            "Question: Were Pavel Urysohn and Leonid Levin known for the same type of work?\n",
            "Thought: I need to search Pavel Urysohn and Leonid Levin, find their types of work, then find if they are the same.\n",
            "Action: Search[Pavel Urysohn]\n",
            "Observation: Pavel Samuilovich Urysohn (February 3, 1898 - August 17, 1924) was a Soviet mathematician who is best known for his contributions in dimension theory.\n",
            "Thought: Pavel Urysohn is a mathematician. I need to search Leonid Levin next and find its type of work.\n",
            "Action: Search[Leonid Levin]\n",
            "Observation: Leonid Anatolievich Levin is a Soviet-American mathematician and computer scientist.\n",
            "Thought: Leonid Levin is a mathematician and computer scientist. So Pavel Urysohn and Leonid Levin have the same type of work.\n",
            "Action: Finish[yes]\n",
            "\n",
            "\n",
            "Question: {input}\n",
            "{agent_scratchpad}\n"
          ]
        }
      ],
      "source": [
        "print(react.agent.llm_chain.prompt.template)"
      ]
    },
    {
      "cell_type": "code",
      "execution_count": 14,
      "metadata": {
        "colab": {
          "base_uri": "https://localhost:8080/",
          "height": 350
        },
        "id": "cMd36OAYnCG_",
        "outputId": "ad56d8a3-09fe-4c34-b0b0-f5ff23b17e1c"
      },
      "outputs": [
        {
          "name": "stdout",
          "output_type": "stream",
          "text": [
            "\n",
            "\n",
            "\u001b[1m> Entering new AgentExecutor chain...\u001b[0m\n",
            "\u001b[32;1m\u001b[1;3mThought: I need to search Russell Crowe, find the first film he won an Oscar for, and find who directed that movie.\n",
            "Action: Search[Russell Crowe]\u001b[0m\n",
            "Observation: \u001b[36;1m\u001b[1;3mCould not find [Russell Crowe]. Similar: ['Russell Crowe', 'Russell Crowe filmography', \"Russell Crowe's jockstrap\", 'Unhinged (2020 film)', \"The Pope's Exorcist\", 'Land of Bad', 'Robin Hood (2010 film)', 'The Nice Guys', 'Gladiator (2000 film)', 'The Mummy (2017 film)']\u001b[0m\n",
            "Thought:\u001b[32;1m\u001b[1;3m To find the first film Russell Crowe won an Oscar for, I can search Gladiator (2000 film).\n",
            "Action: Search[Gladiator (2000 film)]\u001b[0m\n",
            "Observation: \u001b[36;1m\u001b[1;3mGladiator is a 2000 epic historical drama film directed by Ridley Scott and written by David Franzoni, John Logan, and William Nicholson. It was released by DreamWorks Pictures in North America, and Universal Pictures internationally through United International Pictures. It stars Russell Crowe, Joaquin Phoenix, Connie Nielsen, Tomas Arana, Ralf Möller, Oliver Reed (in his final role), Djimon Hounsou, Derek Jacobi, John Shrapnel, Richard Harris, and Tommy Flanagan. Crowe portrays Roman general Maximus Decimus Meridius, who is betrayed when Commodus, the ambitious son of Emperor Marcus Aurelius, murders his father and seizes the throne. Reduced to slavery, Maximus becomes a gladiator and rises through the ranks of the arena to avenge the murders of his family and his emperor.\n",
            "Inspired by Daniel P. Mannix's 1958 book Those About to Die (formerly titled The Way of the Gladiator), the script, initially written by Franzoni, was acquired by DreamWorks, and Ridley Scott signed-on to direct the film. Principal photography began in January 1999 and wrapped-up in May of that year, after having experienced a range of problems due to the script being unfinished. Several members of the cast complained about the writing quality throughout the nineteen-week shoot in Fort Ricasoli, Malta, forcing many rewrites. Production complications were further exacerbated when Oliver Reed died of a heart attack before production was finished; British post-production company The Mill, that oversaw the film's CGI effects, was then tasked with creating a digital body double for the remaining scenes involving his character, Proximo.\n",
            "Despite its troubled production, Gladiator was anticipated to be one of the year's most successful films; upon its release, the film grossed over $503.1 million worldwide, becoming the second highest-grossing film of 2000 (behind Mission: Impossible 2). Critics praised the acting (particularly Crowe's and Phoenix's performances), Scott's direction, the visuals, screenplay, action sequences, musical score, and the production values, although its somewhat dark and brooding tone was criticised by some. Earning numerous accolades, Gladiator won five Academy Awards at the 73rd Academy Awards, including Best Picture and Best Actor for Crowe. Gladiator is known for having revitalized (or established) the careers of its cast and crew, elevating Crowe to leading man status, and turning Phoenix into a celebrity.\n",
            "Since its release, Gladiator has been widely considered one of the best films of the 2000s and one of the greatest historical epic films ever made. It has been credited with reinventing the sword-and-sandal genre, after waning in the public eye during the 1960s; the film rekindled interest in films centered around the cultures of ancient Greece, Rome, and other iconic periods throughout world history. Several films have attempted to emulate Gladiator's visuals, style, and tone with varying degrees of success. The film has been analyzed for its themes of revenge, violence, masculinity, and stoicism. In 2021, Scott announced that writing had begun on a sequel, which is scheduled to be released in the US on November 22, 2024.\u001b[0m\n",
            "Thought:\u001b[32;1m\u001b[1;3m Russell Crowe won an Oscar for Gladiator (2000 film), which was directed by Ridley Scott.\n",
            "Action: Finish[Gladiator (2000 film), Ridley Scott]\u001b[0m\n",
            "\n",
            "\u001b[1m> Finished chain.\u001b[0m\n"
          ]
        },
        {
          "data": {
            "text/plain": [
              "'Gladiator (2000 film), Ridley Scott'"
            ]
          },
          "execution_count": 14,
          "metadata": {},
          "output_type": "execute_result"
        }
      ],
      "source": [
        "# multi hop example\n",
        "question = \"What is the first film that Russell Crowe won an Oscar for, and who directed that movie?\"\n",
        "react.run(question)"
      ]
    },
    {
      "cell_type": "code",
      "execution_count": 15,
      "metadata": {
        "id": "pEN0DHKYlw9L"
      },
      "outputs": [],
      "source": [
        "langchain.debug = True"
      ]
    },
    {
      "cell_type": "code",
      "execution_count": 16,
      "metadata": {
        "colab": {
          "base_uri": "https://localhost:8080/",
          "height": 1000
        },
        "id": "s4vln1y1lxAS",
        "outputId": "e6d24b0f-4011-4294-cbb3-cea2b4c1f2ef"
      },
      "outputs": [
        {
          "name": "stdout",
          "output_type": "stream",
          "text": [
            "\u001b[32;1m\u001b[1;3m[chain/start]\u001b[0m \u001b[1m[1:chain:AgentExecutor] Entering Chain run with input:\n",
            "\u001b[0m{\n",
            "  \"input\": \"What is the first film that Russell Crowe won an Oscar for, and who directed that movie?\"\n",
            "}\n",
            "\u001b[32;1m\u001b[1;3m[chain/start]\u001b[0m \u001b[1m[1:chain:AgentExecutor > 2:chain:LLMChain] Entering Chain run with input:\n",
            "\u001b[0m{\n",
            "  \"input\": \"What is the first film that Russell Crowe won an Oscar for, and who directed that movie?\",\n",
            "  \"agent_scratchpad\": \"\",\n",
            "  \"stop\": [\n",
            "    \"\\nObservation:\"\n",
            "  ]\n",
            "}\n",
            "\u001b[32;1m\u001b[1;3m[llm/start]\u001b[0m \u001b[1m[1:chain:AgentExecutor > 2:chain:LLMChain > 3:llm:OpenAI] Entering LLM run with input:\n",
            "\u001b[0m{\n",
            "  \"prompts\": [\n",
            "    \"Question: What is the elevation range for the area that the eastern sector of the Colorado orogeny extends into?\\nThought: I need to search Colorado orogeny, find the area that the eastern sector of the Colorado orogeny extends into, then find the elevation range of the area.\\nAction: Search[Colorado orogeny]\\nObservation: The Colorado orogeny was an episode of mountain building (an orogeny) in Colorado and surrounding areas.\\nThought: It does not mention the eastern sector. So I need to look up eastern sector.\\nAction: Lookup[eastern sector]\\nObservation: (Result 1 / 1) The eastern sector extends into the High Plains and is called the Central Plains orogeny.\\nThought: The eastern sector of Colorado orogeny extends into the High Plains. So I need to search High Plains and find its elevation range.\\nAction: Search[High Plains]\\nObservation: High Plains refers to one of two distinct land regions\\nThought: I need to instead search High Plains (United States).\\nAction: Search[High Plains (United States)]\\nObservation: The High Plains are a subregion of the Great Plains. From east to west, the High Plains rise in elevation from around 1,800 to 7,000 ft (550 to 2,130 m).[3]\\nThought: High Plains rise in elevation from around 1,800 to 7,000 ft, so the answer is 1,800 to 7,000 ft.\\nAction: Finish[1,800 to 7,000 ft]\\n\\nQuestion: Musician and satirist Allie Goertz wrote a song about the \\\"The Simpsons\\\" character Milhouse, who Matt Groening named after who?\\nThought: The question simplifies to \\\"The Simpsons\\\" character Milhouse is named after who. I only need to search Milhouse and find who it is named after.\\nAction: Search[Milhouse]\\nObservation: Milhouse Mussolini Van Houten is a recurring character in the Fox animated television series The Simpsons voiced by Pamela Hayden and created by Matt Groening.\\nThought: The paragraph does not tell who Milhouse is named after, maybe I can look up \\\"named after\\\".\\nAction: Lookup[named after]\\nObservation: (Result 1 / 1) Milhouse was named after U.S. president Richard Nixon, whose middle name was Milhous.\\nThought: Milhouse was named after U.S. president Richard Nixon, so the answer is Richard Nixon.\\nAction: Finish[Richard Nixon]\\n\\nQuestion: Which documentary is about Finnish rock groups, Adam Clayton Powell or The Saimaa Gesture?\\nThought: I need to search Adam Clayton Powell and The Saimaa Gesture, and find which documentary is about Finnish rock groups.\\nAction: Search[Adam Clayton Powell]\\nObservation: Could not find [Adam Clayton Powell]. Similar: [’Adam Clayton Powell III’, ’Seventh Avenue (Manhattan)’, ’Adam Clayton Powell Jr. State Office Building’, ’Isabel Washington Powell’, ’Adam Powell’, ’Adam Clayton Powell (film)’, ’Giancarlo Esposito’].\\nThought: To find the documentary, I can search Adam Clayton Powell (film).\\nAction: Search[Adam Clayton Powell (film)]\\nObservation: Adam Clayton Powell is a 1989 American documentary film directed by Richard Kilberg. The film is about the rise and fall of influential African-American politician Adam Clayton Powell Jr.[3][4] It was later aired as part of the PBS series The American Experience.\\nThought: Adam Clayton Powell (film) is a documentary about an African-American politician, not Finnish rock groups. So the documentary about Finnish rock groups must instead be The Saimaa Gesture.\\nAction: Finish[The Saimaa Gesture]\\n\\nQuestion: What profession does Nicholas Ray and Elia Kazan have in common?\\nThought: I need to search Nicholas Ray and Elia Kazan, find their professions, then find the profession they have in common.\\nAction: Search[Nicholas Ray]\\nObservation: Nicholas Ray (born Raymond Nicholas Kienzle Jr., August 7, 1911 - June 16, 1979) was an American film director, screenwriter, and actor best known for the 1955 film Rebel Without a Cause.\\nThought: Professions of Nicholas Ray are director, screenwriter, and actor. I need to search Elia Kazan next and find his professions.\\nAction: Search[Elia Kazan]\\nObservation: Elia Kazan was an American film and theatre director, producer, screenwriter and actor.\\nThought: Professions of Elia Kazan are director, producer, screenwriter, and actor. So profession Nicholas Ray and Elia Kazan have in common is director, screenwriter, and actor.\\nAction: Finish[director, screenwriter, actor]\\n\\nQuestion: Which magazine was started first Arthur’s Magazine or First for Women?\\nThought: I need to search Arthur’s Magazine and First for Women, and find which was started first.\\nAction: Search[Arthur’s Magazine]\\nObservation: Arthur’s Magazine (1844-1846) was an American literary periodical published in Philadelphia in the 19th century.\\nThought: Arthur’s Magazine was started in 1844. I need to search First for Women next.\\nAction: Search[First for Women]\\nObservation: First for Women is a woman’s magazine published by Bauer Media Group in the USA.[1] The magazine was started in 1989.\\nThought: First for Women was started in 1989. 1844 (Arthur’s Magazine) < 1989 (First for Women), so Arthur’s Magazine was started first.\\nAction: Finish[Arthur’s Magazine]\\n\\nQuestion: Were Pavel Urysohn and Leonid Levin known for the same type of work?\\nThought: I need to search Pavel Urysohn and Leonid Levin, find their types of work, then find if they are the same.\\nAction: Search[Pavel Urysohn]\\nObservation: Pavel Samuilovich Urysohn (February 3, 1898 - August 17, 1924) was a Soviet mathematician who is best known for his contributions in dimension theory.\\nThought: Pavel Urysohn is a mathematician. I need to search Leonid Levin next and find its type of work.\\nAction: Search[Leonid Levin]\\nObservation: Leonid Anatolievich Levin is a Soviet-American mathematician and computer scientist.\\nThought: Leonid Levin is a mathematician and computer scientist. So Pavel Urysohn and Leonid Levin have the same type of work.\\nAction: Finish[yes]\\n\\n\\nQuestion: What is the first film that Russell Crowe won an Oscar for, and who directed that movie?\"\n",
            "  ]\n",
            "}\n",
            "\u001b[36;1m\u001b[1;3m[llm/end]\u001b[0m \u001b[1m[1:chain:AgentExecutor > 2:chain:LLMChain > 3:llm:OpenAI] [949ms] Exiting LLM run with output:\n",
            "\u001b[0m{\n",
            "  \"generations\": [\n",
            "    [\n",
            "      {\n",
            "        \"text\": \"Thought: I need to search Russell Crowe, find the first film he won an Oscar for, and find who directed that movie.\\nAction: Search[Russell Crowe]\",\n",
            "        \"generation_info\": {\n",
            "          \"finish_reason\": \"stop\",\n",
            "          \"logprobs\": null\n",
            "        },\n",
            "        \"type\": \"Generation\"\n",
            "      }\n",
            "    ]\n",
            "  ],\n",
            "  \"llm_output\": {\n",
            "    \"token_usage\": {\n",
            "      \"completion_tokens\": 37,\n",
            "      \"prompt_tokens\": 1481,\n",
            "      \"total_tokens\": 1518\n",
            "    },\n",
            "    \"model_name\": \"text-davinci-003\"\n",
            "  },\n",
            "  \"run\": null\n",
            "}\n",
            "\u001b[36;1m\u001b[1;3m[chain/end]\u001b[0m \u001b[1m[1:chain:AgentExecutor > 2:chain:LLMChain] [949ms] Exiting Chain run with output:\n",
            "\u001b[0m{\n",
            "  \"text\": \"Thought: I need to search Russell Crowe, find the first film he won an Oscar for, and find who directed that movie.\\nAction: Search[Russell Crowe]\"\n",
            "}\n",
            "\u001b[32;1m\u001b[1;3m[tool/start]\u001b[0m \u001b[1m[1:chain:AgentExecutor > 4:tool:Search] Entering Tool run with input:\n",
            "\u001b[0m\"Russell Crowe\"\n",
            "\u001b[36;1m\u001b[1;3m[tool/end]\u001b[0m \u001b[1m[1:chain:AgentExecutor > 4:tool:Search] [278ms] Exiting Tool run with output:\n",
            "\u001b[0m\"Could not find [Russell Crowe]. Similar: ['Russell Crowe', 'Russell Crowe filmography', \"Russell Crowe's jockstrap\", 'Unhinged (2020 film)', \"The Pope's Exorcist\", 'Land of Bad', 'Robin Hood (2010 film)', 'The Nice Guys', 'Gladiator (2000 film)', 'The Mummy (2017 film)']\"\n",
            "\u001b[32;1m\u001b[1;3m[chain/start]\u001b[0m \u001b[1m[1:chain:AgentExecutor > 5:chain:LLMChain] Entering Chain run with input:\n",
            "\u001b[0m{\n",
            "  \"input\": \"What is the first film that Russell Crowe won an Oscar for, and who directed that movie?\",\n",
            "  \"agent_scratchpad\": \"Thought: I need to search Russell Crowe, find the first film he won an Oscar for, and find who directed that movie.\\nAction: Search[Russell Crowe]\\nObservation: Could not find [Russell Crowe]. Similar: ['Russell Crowe', 'Russell Crowe filmography', \\\"Russell Crowe's jockstrap\\\", 'Unhinged (2020 film)', \\\"The Pope's Exorcist\\\", 'Land of Bad', 'Robin Hood (2010 film)', 'The Nice Guys', 'Gladiator (2000 film)', 'The Mummy (2017 film)']\\nThought:\",\n",
            "  \"stop\": [\n",
            "    \"\\nObservation:\"\n",
            "  ]\n",
            "}\n",
            "\u001b[32;1m\u001b[1;3m[llm/start]\u001b[0m \u001b[1m[1:chain:AgentExecutor > 5:chain:LLMChain > 6:llm:OpenAI] Entering LLM run with input:\n",
            "\u001b[0m{\n",
            "  \"prompts\": [\n",
            "    \"Question: What is the elevation range for the area that the eastern sector of the Colorado orogeny extends into?\\nThought: I need to search Colorado orogeny, find the area that the eastern sector of the Colorado orogeny extends into, then find the elevation range of the area.\\nAction: Search[Colorado orogeny]\\nObservation: The Colorado orogeny was an episode of mountain building (an orogeny) in Colorado and surrounding areas.\\nThought: It does not mention the eastern sector. So I need to look up eastern sector.\\nAction: Lookup[eastern sector]\\nObservation: (Result 1 / 1) The eastern sector extends into the High Plains and is called the Central Plains orogeny.\\nThought: The eastern sector of Colorado orogeny extends into the High Plains. So I need to search High Plains and find its elevation range.\\nAction: Search[High Plains]\\nObservation: High Plains refers to one of two distinct land regions\\nThought: I need to instead search High Plains (United States).\\nAction: Search[High Plains (United States)]\\nObservation: The High Plains are a subregion of the Great Plains. From east to west, the High Plains rise in elevation from around 1,800 to 7,000 ft (550 to 2,130 m).[3]\\nThought: High Plains rise in elevation from around 1,800 to 7,000 ft, so the answer is 1,800 to 7,000 ft.\\nAction: Finish[1,800 to 7,000 ft]\\n\\nQuestion: Musician and satirist Allie Goertz wrote a song about the \\\"The Simpsons\\\" character Milhouse, who Matt Groening named after who?\\nThought: The question simplifies to \\\"The Simpsons\\\" character Milhouse is named after who. I only need to search Milhouse and find who it is named after.\\nAction: Search[Milhouse]\\nObservation: Milhouse Mussolini Van Houten is a recurring character in the Fox animated television series The Simpsons voiced by Pamela Hayden and created by Matt Groening.\\nThought: The paragraph does not tell who Milhouse is named after, maybe I can look up \\\"named after\\\".\\nAction: Lookup[named after]\\nObservation: (Result 1 / 1) Milhouse was named after U.S. president Richard Nixon, whose middle name was Milhous.\\nThought: Milhouse was named after U.S. president Richard Nixon, so the answer is Richard Nixon.\\nAction: Finish[Richard Nixon]\\n\\nQuestion: Which documentary is about Finnish rock groups, Adam Clayton Powell or The Saimaa Gesture?\\nThought: I need to search Adam Clayton Powell and The Saimaa Gesture, and find which documentary is about Finnish rock groups.\\nAction: Search[Adam Clayton Powell]\\nObservation: Could not find [Adam Clayton Powell]. Similar: [’Adam Clayton Powell III’, ’Seventh Avenue (Manhattan)’, ’Adam Clayton Powell Jr. State Office Building’, ’Isabel Washington Powell’, ’Adam Powell’, ’Adam Clayton Powell (film)’, ’Giancarlo Esposito’].\\nThought: To find the documentary, I can search Adam Clayton Powell (film).\\nAction: Search[Adam Clayton Powell (film)]\\nObservation: Adam Clayton Powell is a 1989 American documentary film directed by Richard Kilberg. The film is about the rise and fall of influential African-American politician Adam Clayton Powell Jr.[3][4] It was later aired as part of the PBS series The American Experience.\\nThought: Adam Clayton Powell (film) is a documentary about an African-American politician, not Finnish rock groups. So the documentary about Finnish rock groups must instead be The Saimaa Gesture.\\nAction: Finish[The Saimaa Gesture]\\n\\nQuestion: What profession does Nicholas Ray and Elia Kazan have in common?\\nThought: I need to search Nicholas Ray and Elia Kazan, find their professions, then find the profession they have in common.\\nAction: Search[Nicholas Ray]\\nObservation: Nicholas Ray (born Raymond Nicholas Kienzle Jr., August 7, 1911 - June 16, 1979) was an American film director, screenwriter, and actor best known for the 1955 film Rebel Without a Cause.\\nThought: Professions of Nicholas Ray are director, screenwriter, and actor. I need to search Elia Kazan next and find his professions.\\nAction: Search[Elia Kazan]\\nObservation: Elia Kazan was an American film and theatre director, producer, screenwriter and actor.\\nThought: Professions of Elia Kazan are director, producer, screenwriter, and actor. So profession Nicholas Ray and Elia Kazan have in common is director, screenwriter, and actor.\\nAction: Finish[director, screenwriter, actor]\\n\\nQuestion: Which magazine was started first Arthur’s Magazine or First for Women?\\nThought: I need to search Arthur’s Magazine and First for Women, and find which was started first.\\nAction: Search[Arthur’s Magazine]\\nObservation: Arthur’s Magazine (1844-1846) was an American literary periodical published in Philadelphia in the 19th century.\\nThought: Arthur’s Magazine was started in 1844. I need to search First for Women next.\\nAction: Search[First for Women]\\nObservation: First for Women is a woman’s magazine published by Bauer Media Group in the USA.[1] The magazine was started in 1989.\\nThought: First for Women was started in 1989. 1844 (Arthur’s Magazine) < 1989 (First for Women), so Arthur’s Magazine was started first.\\nAction: Finish[Arthur’s Magazine]\\n\\nQuestion: Were Pavel Urysohn and Leonid Levin known for the same type of work?\\nThought: I need to search Pavel Urysohn and Leonid Levin, find their types of work, then find if they are the same.\\nAction: Search[Pavel Urysohn]\\nObservation: Pavel Samuilovich Urysohn (February 3, 1898 - August 17, 1924) was a Soviet mathematician who is best known for his contributions in dimension theory.\\nThought: Pavel Urysohn is a mathematician. I need to search Leonid Levin next and find its type of work.\\nAction: Search[Leonid Levin]\\nObservation: Leonid Anatolievich Levin is a Soviet-American mathematician and computer scientist.\\nThought: Leonid Levin is a mathematician and computer scientist. So Pavel Urysohn and Leonid Levin have the same type of work.\\nAction: Finish[yes]\\n\\n\\nQuestion: What is the first film that Russell Crowe won an Oscar for, and who directed that movie?\\nThought: I need to search Russell Crowe, find the first film he won an Oscar for, and find who directed that movie.\\nAction: Search[Russell Crowe]\\nObservation: Could not find [Russell Crowe]. Similar: ['Russell Crowe', 'Russell Crowe filmography', \\\"Russell Crowe's jockstrap\\\", 'Unhinged (2020 film)', \\\"The Pope's Exorcist\\\", 'Land of Bad', 'Robin Hood (2010 film)', 'The Nice Guys', 'Gladiator (2000 film)', 'The Mummy (2017 film)']\\nThought:\"\n",
            "  ]\n",
            "}\n",
            "\u001b[36;1m\u001b[1;3m[llm/end]\u001b[0m \u001b[1m[1:chain:AgentExecutor > 5:chain:LLMChain > 6:llm:OpenAI] [777ms] Exiting LLM run with output:\n",
            "\u001b[0m{\n",
            "  \"generations\": [\n",
            "    [\n",
            "      {\n",
            "        \"text\": \" To find the first film Russell Crowe won an Oscar for, I can search Gladiator (2000 film).\\nAction: Search[Gladiator (2000 film)]\",\n",
            "        \"generation_info\": {\n",
            "          \"finish_reason\": \"stop\",\n",
            "          \"logprobs\": null\n",
            "        },\n",
            "        \"type\": \"Generation\"\n",
            "      }\n",
            "    ]\n",
            "  ],\n",
            "  \"llm_output\": {\n",
            "    \"token_usage\": {\n",
            "      \"completion_tokens\": 32,\n",
            "      \"prompt_tokens\": 1609,\n",
            "      \"total_tokens\": 1641\n",
            "    },\n",
            "    \"model_name\": \"text-davinci-003\"\n",
            "  },\n",
            "  \"run\": null\n",
            "}\n",
            "\u001b[36;1m\u001b[1;3m[chain/end]\u001b[0m \u001b[1m[1:chain:AgentExecutor > 5:chain:LLMChain] [778ms] Exiting Chain run with output:\n",
            "\u001b[0m{\n",
            "  \"text\": \" To find the first film Russell Crowe won an Oscar for, I can search Gladiator (2000 film).\\nAction: Search[Gladiator (2000 film)]\"\n",
            "}\n",
            "\u001b[32;1m\u001b[1;3m[tool/start]\u001b[0m \u001b[1m[1:chain:AgentExecutor > 7:tool:Search] Entering Tool run with input:\n",
            "\u001b[0m\"Gladiator (2000 film)\"\n",
            "\u001b[36;1m\u001b[1;3m[tool/end]\u001b[0m \u001b[1m[1:chain:AgentExecutor > 7:tool:Search] [962ms] Exiting Tool run with output:\n",
            "\u001b[0m\"Gladiator is a 2000 epic historical drama film directed by Ridley Scott and written by David Franzoni, John Logan, and William Nicholson. It was released by DreamWorks Pictures in North America, and Universal Pictures internationally through United International Pictures. It stars Russell Crowe, Joaquin Phoenix, Connie Nielsen, Tomas Arana, Ralf Möller, Oliver Reed (in his final role), Djimon Hounsou, Derek Jacobi, John Shrapnel, Richard Harris, and Tommy Flanagan. Crowe portrays Roman general Maximus Decimus Meridius, who is betrayed when Commodus, the ambitious son of Emperor Marcus Aurelius, murders his father and seizes the throne. Reduced to slavery, Maximus becomes a gladiator and rises through the ranks of the arena to avenge the murders of his family and his emperor.\n",
            "Inspired by Daniel P. Mannix's 1958 book Those About to Die (formerly titled The Way of the Gladiator), the script, initially written by Franzoni, was acquired by DreamWorks, and Ridley Scott signed-on to direct the film. Principal photography began in January 1999 and wrapped-up in May of that year, after having experienced a range of problems due to the script being unfinished. Several members of the cast complained about the writing quality throughout the nineteen-week shoot in Fort Ricasoli, Malta, forcing many rewrites. Production complications were further exacerbated when Oliver Reed died of a heart attack before production was finished; British post-production company The Mill, that oversaw the film's CGI effects, was then tasked with creating a digital body double for the remaining scenes involving his character, Proximo.\n",
            "Despite its troubled production, Gladiator was anticipated to be one of the year's most successful films; upon its release, the film grossed over $503.1 million worldwide, becoming the second highest-grossing film of 2000 (behind Mission: Impossible 2). Critics praised the acting (particularly Crowe's and Phoenix's performances), Scott's direction, the visuals, screenplay, action sequences, musical score, and the production values, although its somewhat dark and brooding tone was criticised by some. Earning numerous accolades, Gladiator won five Academy Awards at the 73rd Academy Awards, including Best Picture and Best Actor for Crowe. Gladiator is known for having revitalized (or established) the careers of its cast and crew, elevating Crowe to leading man status, and turning Phoenix into a celebrity.\n",
            "Since its release, Gladiator has been widely considered one of the best films of the 2000s and one of the greatest historical epic films ever made. It has been credited with reinventing the sword-and-sandal genre, after waning in the public eye during the 1960s; the film rekindled interest in films centered around the cultures of ancient Greece, Rome, and other iconic periods throughout world history. Several films have attempted to emulate Gladiator's visuals, style, and tone with varying degrees of success. The film has been analyzed for its themes of revenge, violence, masculinity, and stoicism. In 2021, Scott announced that writing had begun on a sequel, which is scheduled to be released in the US on November 22, 2024.\"\n",
            "\u001b[32;1m\u001b[1;3m[chain/start]\u001b[0m \u001b[1m[1:chain:AgentExecutor > 8:chain:LLMChain] Entering Chain run with input:\n",
            "\u001b[0m{\n",
            "  \"input\": \"What is the first film that Russell Crowe won an Oscar for, and who directed that movie?\",\n",
            "  \"agent_scratchpad\": \"Thought: I need to search Russell Crowe, find the first film he won an Oscar for, and find who directed that movie.\\nAction: Search[Russell Crowe]\\nObservation: Could not find [Russell Crowe]. Similar: ['Russell Crowe', 'Russell Crowe filmography', \\\"Russell Crowe's jockstrap\\\", 'Unhinged (2020 film)', \\\"The Pope's Exorcist\\\", 'Land of Bad', 'Robin Hood (2010 film)', 'The Nice Guys', 'Gladiator (2000 film)', 'The Mummy (2017 film)']\\nThought: To find the first film Russell Crowe won an Oscar for, I can search Gladiator (2000 film).\\nAction: Search[Gladiator (2000 film)]\\nObservation: Gladiator is a 2000 epic historical drama film directed by Ridley Scott and written by David Franzoni, John Logan, and William Nicholson. It was released by DreamWorks Pictures in North America, and Universal Pictures internationally through United International Pictures. It stars Russell Crowe, Joaquin Phoenix, Connie Nielsen, Tomas Arana, Ralf Möller, Oliver Reed (in his final role), Djimon Hounsou, Derek Jacobi, John Shrapnel, Richard Harris, and Tommy Flanagan. Crowe portrays Roman general Maximus Decimus Meridius, who is betrayed when Commodus, the ambitious son of Emperor Marcus Aurelius, murders his father and seizes the throne. Reduced to slavery, Maximus becomes a gladiator and rises through the ranks of the arena to avenge the murders of his family and his emperor.\\nInspired by Daniel P. Mannix's 1958 book Those About to Die (formerly titled The Way of the Gladiator), the script, initially written by Franzoni, was acquired by DreamWorks, and Ridley Scott signed-on to direct the film. Principal photography began in January 1999 and wrapped-up in May of that year, after having experienced a range of problems due to the script being unfinished. Several members of the cast complained about the writing quality throughout the nineteen-week shoot in Fort Ricasoli, Malta, forcing many rewrites. Production complications were further exacerbated when Oliver Reed died of a heart attack before production was finished; British post-production company The Mill, that oversaw the film's CGI effects, was then tasked with creating a digital body double for the remaining scenes involving his character, Proximo.\\nDespite its troubled production, Gladiator was anticipated to be one of the year's most successful films; upon its release, the film grossed over $503.1 million worldwide, becoming the second highest-grossing film of 2000 (behind Mission: Impossible 2). Critics praised the acting (particularly Crowe's and Phoenix's performances), Scott's direction, the visuals, screenplay, action sequences, musical score, and the production values, although its somewhat dark and brooding tone was criticised by some. Earning numerous accolades, Gladiator won five Academy Awards at the 73rd Academy Awards, including Best Picture and Best Actor for Crowe. Gladiator is known for having revitalized (or established) the careers of its cast and crew, elevating Crowe to leading man status, and turning Phoenix into a celebrity.\\nSince its release, Gladiator has been widely considered one of the best films of the 2000s and one of the greatest historical epic films ever made. It has been credited with reinventing the sword-and-sandal genre, after waning in the public eye during the 1960s; the film rekindled interest in films centered around the cultures of ancient Greece, Rome, and other iconic periods throughout world history. Several films have attempted to emulate Gladiator's visuals, style, and tone with varying degrees of success. The film has been analyzed for its themes of revenge, violence, masculinity, and stoicism. In 2021, Scott announced that writing had begun on a sequel, which is scheduled to be released in the US on November 22, 2024.\\nThought:\",\n",
            "  \"stop\": [\n",
            "    \"\\nObservation:\"\n",
            "  ]\n",
            "}\n",
            "\u001b[32;1m\u001b[1;3m[llm/start]\u001b[0m \u001b[1m[1:chain:AgentExecutor > 8:chain:LLMChain > 9:llm:OpenAI] Entering LLM run with input:\n",
            "\u001b[0m{\n",
            "  \"prompts\": [\n",
            "    \"Question: What is the elevation range for the area that the eastern sector of the Colorado orogeny extends into?\\nThought: I need to search Colorado orogeny, find the area that the eastern sector of the Colorado orogeny extends into, then find the elevation range of the area.\\nAction: Search[Colorado orogeny]\\nObservation: The Colorado orogeny was an episode of mountain building (an orogeny) in Colorado and surrounding areas.\\nThought: It does not mention the eastern sector. So I need to look up eastern sector.\\nAction: Lookup[eastern sector]\\nObservation: (Result 1 / 1) The eastern sector extends into the High Plains and is called the Central Plains orogeny.\\nThought: The eastern sector of Colorado orogeny extends into the High Plains. So I need to search High Plains and find its elevation range.\\nAction: Search[High Plains]\\nObservation: High Plains refers to one of two distinct land regions\\nThought: I need to instead search High Plains (United States).\\nAction: Search[High Plains (United States)]\\nObservation: The High Plains are a subregion of the Great Plains. From east to west, the High Plains rise in elevation from around 1,800 to 7,000 ft (550 to 2,130 m).[3]\\nThought: High Plains rise in elevation from around 1,800 to 7,000 ft, so the answer is 1,800 to 7,000 ft.\\nAction: Finish[1,800 to 7,000 ft]\\n\\nQuestion: Musician and satirist Allie Goertz wrote a song about the \\\"The Simpsons\\\" character Milhouse, who Matt Groening named after who?\\nThought: The question simplifies to \\\"The Simpsons\\\" character Milhouse is named after who. I only need to search Milhouse and find who it is named after.\\nAction: Search[Milhouse]\\nObservation: Milhouse Mussolini Van Houten is a recurring character in the Fox animated television series The Simpsons voiced by Pamela Hayden and created by Matt Groening.\\nThought: The paragraph does not tell who Milhouse is named after, maybe I can look up \\\"named after\\\".\\nAction: Lookup[named after]\\nObservation: (Result 1 / 1) Milhouse was named after U.S. president Richard Nixon, whose middle name was Milhous.\\nThought: Milhouse was named after U.S. president Richard Nixon, so the answer is Richard Nixon.\\nAction: Finish[Richard Nixon]\\n\\nQuestion: Which documentary is about Finnish rock groups, Adam Clayton Powell or The Saimaa Gesture?\\nThought: I need to search Adam Clayton Powell and The Saimaa Gesture, and find which documentary is about Finnish rock groups.\\nAction: Search[Adam Clayton Powell]\\nObservation: Could not find [Adam Clayton Powell]. Similar: [’Adam Clayton Powell III’, ’Seventh Avenue (Manhattan)’, ’Adam Clayton Powell Jr. State Office Building’, ’Isabel Washington Powell’, ’Adam Powell’, ’Adam Clayton Powell (film)’, ’Giancarlo Esposito’].\\nThought: To find the documentary, I can search Adam Clayton Powell (film).\\nAction: Search[Adam Clayton Powell (film)]\\nObservation: Adam Clayton Powell is a 1989 American documentary film directed by Richard Kilberg. The film is about the rise and fall of influential African-American politician Adam Clayton Powell Jr.[3][4] It was later aired as part of the PBS series The American Experience.\\nThought: Adam Clayton Powell (film) is a documentary about an African-American politician, not Finnish rock groups. So the documentary about Finnish rock groups must instead be The Saimaa Gesture.\\nAction: Finish[The Saimaa Gesture]\\n\\nQuestion: What profession does Nicholas Ray and Elia Kazan have in common?\\nThought: I need to search Nicholas Ray and Elia Kazan, find their professions, then find the profession they have in common.\\nAction: Search[Nicholas Ray]\\nObservation: Nicholas Ray (born Raymond Nicholas Kienzle Jr., August 7, 1911 - June 16, 1979) was an American film director, screenwriter, and actor best known for the 1955 film Rebel Without a Cause.\\nThought: Professions of Nicholas Ray are director, screenwriter, and actor. I need to search Elia Kazan next and find his professions.\\nAction: Search[Elia Kazan]\\nObservation: Elia Kazan was an American film and theatre director, producer, screenwriter and actor.\\nThought: Professions of Elia Kazan are director, producer, screenwriter, and actor. So profession Nicholas Ray and Elia Kazan have in common is director, screenwriter, and actor.\\nAction: Finish[director, screenwriter, actor]\\n\\nQuestion: Which magazine was started first Arthur’s Magazine or First for Women?\\nThought: I need to search Arthur’s Magazine and First for Women, and find which was started first.\\nAction: Search[Arthur’s Magazine]\\nObservation: Arthur’s Magazine (1844-1846) was an American literary periodical published in Philadelphia in the 19th century.\\nThought: Arthur’s Magazine was started in 1844. I need to search First for Women next.\\nAction: Search[First for Women]\\nObservation: First for Women is a woman’s magazine published by Bauer Media Group in the USA.[1] The magazine was started in 1989.\\nThought: First for Women was started in 1989. 1844 (Arthur’s Magazine) < 1989 (First for Women), so Arthur’s Magazine was started first.\\nAction: Finish[Arthur’s Magazine]\\n\\nQuestion: Were Pavel Urysohn and Leonid Levin known for the same type of work?\\nThought: I need to search Pavel Urysohn and Leonid Levin, find their types of work, then find if they are the same.\\nAction: Search[Pavel Urysohn]\\nObservation: Pavel Samuilovich Urysohn (February 3, 1898 - August 17, 1924) was a Soviet mathematician who is best known for his contributions in dimension theory.\\nThought: Pavel Urysohn is a mathematician. I need to search Leonid Levin next and find its type of work.\\nAction: Search[Leonid Levin]\\nObservation: Leonid Anatolievich Levin is a Soviet-American mathematician and computer scientist.\\nThought: Leonid Levin is a mathematician and computer scientist. So Pavel Urysohn and Leonid Levin have the same type of work.\\nAction: Finish[yes]\\n\\n\\nQuestion: What is the first film that Russell Crowe won an Oscar for, and who directed that movie?\\nThought: I need to search Russell Crowe, find the first film he won an Oscar for, and find who directed that movie.\\nAction: Search[Russell Crowe]\\nObservation: Could not find [Russell Crowe]. Similar: ['Russell Crowe', 'Russell Crowe filmography', \\\"Russell Crowe's jockstrap\\\", 'Unhinged (2020 film)', \\\"The Pope's Exorcist\\\", 'Land of Bad', 'Robin Hood (2010 film)', 'The Nice Guys', 'Gladiator (2000 film)', 'The Mummy (2017 film)']\\nThought: To find the first film Russell Crowe won an Oscar for, I can search Gladiator (2000 film).\\nAction: Search[Gladiator (2000 film)]\\nObservation: Gladiator is a 2000 epic historical drama film directed by Ridley Scott and written by David Franzoni, John Logan, and William Nicholson. It was released by DreamWorks Pictures in North America, and Universal Pictures internationally through United International Pictures. It stars Russell Crowe, Joaquin Phoenix, Connie Nielsen, Tomas Arana, Ralf Möller, Oliver Reed (in his final role), Djimon Hounsou, Derek Jacobi, John Shrapnel, Richard Harris, and Tommy Flanagan. Crowe portrays Roman general Maximus Decimus Meridius, who is betrayed when Commodus, the ambitious son of Emperor Marcus Aurelius, murders his father and seizes the throne. Reduced to slavery, Maximus becomes a gladiator and rises through the ranks of the arena to avenge the murders of his family and his emperor.\\nInspired by Daniel P. Mannix's 1958 book Those About to Die (formerly titled The Way of the Gladiator), the script, initially written by Franzoni, was acquired by DreamWorks, and Ridley Scott signed-on to direct the film. Principal photography began in January 1999 and wrapped-up in May of that year, after having experienced a range of problems due to the script being unfinished. Several members of the cast complained about the writing quality throughout the nineteen-week shoot in Fort Ricasoli, Malta, forcing many rewrites. Production complications were further exacerbated when Oliver Reed died of a heart attack before production was finished; British post-production company The Mill, that oversaw the film's CGI effects, was then tasked with creating a digital body double for the remaining scenes involving his character, Proximo.\\nDespite its troubled production, Gladiator was anticipated to be one of the year's most successful films; upon its release, the film grossed over $503.1 million worldwide, becoming the second highest-grossing film of 2000 (behind Mission: Impossible 2). Critics praised the acting (particularly Crowe's and Phoenix's performances), Scott's direction, the visuals, screenplay, action sequences, musical score, and the production values, although its somewhat dark and brooding tone was criticised by some. Earning numerous accolades, Gladiator won five Academy Awards at the 73rd Academy Awards, including Best Picture and Best Actor for Crowe. Gladiator is known for having revitalized (or established) the careers of its cast and crew, elevating Crowe to leading man status, and turning Phoenix into a celebrity.\\nSince its release, Gladiator has been widely considered one of the best films of the 2000s and one of the greatest historical epic films ever made. It has been credited with reinventing the sword-and-sandal genre, after waning in the public eye during the 1960s; the film rekindled interest in films centered around the cultures of ancient Greece, Rome, and other iconic periods throughout world history. Several films have attempted to emulate Gladiator's visuals, style, and tone with varying degrees of success. The film has been analyzed for its themes of revenge, violence, masculinity, and stoicism. In 2021, Scott announced that writing had begun on a sequel, which is scheduled to be released in the US on November 22, 2024.\\nThought:\"\n",
            "  ]\n",
            "}\n",
            "\u001b[36;1m\u001b[1;3m[llm/end]\u001b[0m \u001b[1m[1:chain:AgentExecutor > 8:chain:LLMChain > 9:llm:OpenAI] [933ms] Exiting LLM run with output:\n",
            "\u001b[0m{\n",
            "  \"generations\": [\n",
            "    [\n",
            "      {\n",
            "        \"text\": \" Russell Crowe won an Oscar for Gladiator (2000 film), which was directed by Ridley Scott.\\nAction: Finish[Gladiator (2000 film), Ridley Scott]\",\n",
            "        \"generation_info\": {\n",
            "          \"finish_reason\": \"stop\",\n",
            "          \"logprobs\": null\n",
            "        },\n",
            "        \"type\": \"Generation\"\n",
            "      }\n",
            "    ]\n",
            "  ],\n",
            "  \"llm_output\": {\n",
            "    \"token_usage\": {\n",
            "      \"completion_tokens\": 33,\n",
            "      \"prompt_tokens\": 2297,\n",
            "      \"total_tokens\": 2330\n",
            "    },\n",
            "    \"model_name\": \"text-davinci-003\"\n",
            "  },\n",
            "  \"run\": null\n",
            "}\n",
            "\u001b[36;1m\u001b[1;3m[chain/end]\u001b[0m \u001b[1m[1:chain:AgentExecutor > 8:chain:LLMChain] [934ms] Exiting Chain run with output:\n",
            "\u001b[0m{\n",
            "  \"text\": \" Russell Crowe won an Oscar for Gladiator (2000 film), which was directed by Ridley Scott.\\nAction: Finish[Gladiator (2000 film), Ridley Scott]\"\n",
            "}\n",
            "\u001b[36;1m\u001b[1;3m[chain/end]\u001b[0m \u001b[1m[1:chain:AgentExecutor] [3.90s] Exiting Chain run with output:\n",
            "\u001b[0m{\n",
            "  \"output\": \"Gladiator (2000 film), Ridley Scott\"\n",
            "}\n"
          ]
        },
        {
          "data": {
            "text/plain": [
              "'Gladiator (2000 film), Ridley Scott'"
            ]
          },
          "execution_count": 16,
          "metadata": {},
          "output_type": "execute_result"
        }
      ],
      "source": [
        "# multi hop example\n",
        "question = \"What is the first film that Russell Crowe won an Oscar for, and who directed that movie?\"\n",
        "react.run(question)"
      ]
    },
    {
      "cell_type": "code",
      "execution_count": 17,
      "metadata": {
        "id": "dL8Ebu_JlxDT"
      },
      "outputs": [],
      "source": [
        "langchain.debug = False"
      ]
    },
    {
      "cell_type": "code",
      "execution_count": null,
      "metadata": {},
      "outputs": [],
      "source": []
    }
  ],
  "metadata": {
    "colab": {
      "provenance": []
    },
    "kernelspec": {
      "display_name": "Python 3",
      "name": "python3"
    },
    "language_info": {
      "codemirror_mode": {
        "name": "ipython",
        "version": 3
      },
      "file_extension": ".py",
      "mimetype": "text/x-python",
      "name": "python",
      "nbconvert_exporter": "python",
      "pygments_lexer": "ipython3",
      "version": "3.11.5"
    }
  },
  "nbformat": 4,
  "nbformat_minor": 0
}
