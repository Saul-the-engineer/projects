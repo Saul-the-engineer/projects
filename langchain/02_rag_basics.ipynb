{
 "cells": [
  {
   "cell_type": "markdown",
   "metadata": {},
   "source": [
    "# Retrieval Augmented Generation (RAG) Basics\n",
    "\n",
    "In this notebook, we will cover the basics of Retrieval Augmented Generation (RAG) model. RAG is a model that combines the best of both worlds - retrieval and generation. It uses a retriever to retrieve relevant passages from a large corpus and then uses a generator to generate the answer.\n",
    "\n",
    "References:\n"
   ]
  },
  {
   "cell_type": "code",
   "execution_count": null,
   "metadata": {},
   "outputs": [],
   "source": [
    "import os\n",
    "import re\n",
    "import string\n",
    "from openai import OpenAI"
   ]
  },
  {
   "cell_type": "markdown",
   "metadata": {},
   "source": [
    "# Helper Functions"
   ]
  },
  {
   "cell_type": "code",
   "execution_count": null,
   "metadata": {},
   "outputs": [],
   "source": [
    "def preprocess_text(text: str):\n",
    "    text = text.lower()\n",
    "    text = text.translate(str.maketrans('', '', string.punctuation))\n",
    "    text = re.sub(r\"\\s+\", \" \", text).strip()\n",
    "    return text\n",
    "\n",
    "def tokenize(text: str):\n",
    "    return preprocess_text(text).split()"
   ]
  },
  {
   "cell_type": "code",
   "execution_count": null,
   "metadata": {},
   "outputs": [],
   "source": [
    "def retrieve_relevant_chunks(query, corpus, top_n=2):\n",
    "    query_tokens = set(tokenize(query))\n",
    "    similarities = []\n",
    "    for chunk in corpus:\n",
    "        chunk_tokens = set(tokenize(chunk))\n",
    "        similarity = len(query_tokens.intersection(chunk_tokens)) / len(query_tokens.union(chunk_tokens))\n",
    "        similarities.append(similarity)\n",
    "    top_chunks = sorted(list(enumerate(similarities)), key=lambda x: x[1], reverse=True)[:top_n]\n",
    "    return [corpus[i] for i, _ in top_chunks]\n"
   ]
  },
  {
   "cell_type": "code",
   "execution_count": null,
   "metadata": {},
   "outputs": [],
   "source": [
    "def answer_question(query: str, corpus: str, top_n=2):\n",
    "    relevant_chunks = retrieve_relevant_chunks(query, corpus, top_n)\n",
    "    if not relevant_chunks:\n",
    "        return \"I'm sorry, I don't know the answer to that question.\"\n",
    "    context = \"/n\".join(relevant_chunks)\n",
    "    client = OpenAI(api_key = os.environ.get(\"OPENAI_API_KEY\"))\n",
    "    chat_completion = client.chat_completion.create(\n",
    "        model=\"gpt-3.5-turbo\",\n",
    "        messages=[\n",
    "            {\n",
    "                \"role\": \"system\",\n",
    "                \"content\": f\"Based on the provided context, answer the following question: {query}\\n\\nContext:\\n{context}\",\n",
    "                },\n",
    "            {\n",
    "                \"role\": \"user\",\n",
    "                \"content\": query,\n",
    "                },\n",
    "        ],\n",
    "        max_tokens=100,\n",
    "        temperature=0,\n",
    "    )\n",
    "    answer = chat_completion.choices[0].message.content.strip()\n",
    "    return answer"
   ]
  },
  {
   "cell_type": "code",
   "execution_count": null,
   "metadata": {},
   "outputs": [],
   "source": [
    "# Example usage\n",
    "query = \"Who is the president of the United States?\"\n",
    "corpus = [\n",
    "    \"The president of the United States is Joe Biden.\",\n",
    "    \"Joe Biden is the current president of the United States.\",\n",
    "    \"The current president of the United States is Joe Biden.\",\n",
    "]\n",
    "answer = answer_question(query, corpus)\n",
    "print(answer)"
   ]
  }
 ],
 "metadata": {
  "language_info": {
   "name": "python"
  }
 },
 "nbformat": 4,
 "nbformat_minor": 2
}
