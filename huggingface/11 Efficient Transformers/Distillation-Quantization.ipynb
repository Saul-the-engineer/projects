{
 "cells": [
  {
   "cell_type": "markdown",
   "metadata": {},
   "source": [
    "# Making Transformers Efficient in Production"
   ]
  },
  {
   "cell_type": "markdown",
   "metadata": {},
   "source": [
    "Transformers can be trained to be very accurate, but sometimes that is not enough. A model is not useful if it is too slow or too large to be run. So what can be done to create a fast, compact and yet highly accurate transformer model?"
   ]
  },
  {
   "cell_type": "markdown",
   "metadata": {},
   "source": [
    "In 2019, Roblox faced this scenario. Their experience can be found in their blog post on medium.com.<br>\n",
    "<a href=\"https://medium.com/@quocnle/how-we-scaled-bert-to-serve-1-billion-daily-requests-on-cpus-d99be090db26#:~:text=To%20scale%20to%20more%20than,workers%20horizontally%20across%20many%20servers.\">How We Scaled Bert To Serve 1+ Billion Daily Requests on CPUs</a>"
   ]
  },
  {
   "cell_type": "code",
   "execution_count": 1,
   "metadata": {},
   "outputs": [
    {
     "name": "stderr",
     "output_type": "stream",
     "text": [
      "/usr/lib/python3/dist-packages/requests/__init__.py:89: RequestsDependencyWarning: urllib3 (1.26.12) or chardet (3.0.4) doesn't match a supported version!\n",
      "  warnings.warn(\"urllib3 ({}) or chardet ({}) doesn't match a supported \"\n"
     ]
    }
   ],
   "source": [
    "import pandas as pd\n",
    "import numpy as np\n",
    "import torch\n",
    "from transformers import pipeline\n",
    "import matplotlib.pyplot as plt"
   ]
  },
  {
   "cell_type": "code",
   "execution_count": 2,
   "metadata": {},
   "outputs": [],
   "source": [
    "device = torch.device(\"cuda:0\" if torch.cuda.is_available() else \"cpu\")"
   ]
  },
  {
   "cell_type": "markdown",
   "metadata": {},
   "source": [
    "The model we will use is a BERT model that has been fine-tuned to classify the intent expressed in text. The BERT model is available on Huggingface.co\n",
    "\n",
    "Let's see how it works."
   ]
  },
  {
   "cell_type": "code",
   "execution_count": 3,
   "metadata": {},
   "outputs": [],
   "source": [
    "query = \"\"\"Hey, I'd like to rent a vehicle from Nov 1st to Nov 15th in\n",
    "Paris and I need a 15 passenger van\"\"\""
   ]
  },
  {
   "cell_type": "code",
   "execution_count": 4,
   "metadata": {},
   "outputs": [],
   "source": [
    "bert_ckpt = \"transformersbook/bert-base-uncased-finetuned-clinc\"\n",
    "BERTpipe = pipeline(\"text-classification\", model=bert_ckpt, device=device)"
   ]
  },
  {
   "cell_type": "code",
   "execution_count": 5,
   "metadata": {},
   "outputs": [],
   "source": [
    "# Let's also build a BERT pipeline that isn't on the GPU for comparison later\n",
    "BERTpipe_cpu = pipeline(\"text-classification\", model=bert_ckpt)"
   ]
  },
  {
   "cell_type": "code",
   "execution_count": 6,
   "metadata": {},
   "outputs": [
    {
     "data": {
      "text/plain": [
       "[{'label': 'car_rental', 'score': 0.549003541469574}]"
      ]
     },
     "execution_count": 6,
     "metadata": {},
     "output_type": "execute_result"
    }
   ],
   "source": [
    "BERTpipe(query)"
   ]
  },
  {
   "cell_type": "markdown",
   "metadata": {},
   "source": [
    "### Let's build up our performance benchmark class\n",
    "We will use this class throughout the notebook to gather statistics about each of our methods"
   ]
  },
  {
   "cell_type": "code",
   "execution_count": 7,
   "metadata": {},
   "outputs": [],
   "source": [
    "class PerformanceBenchmark:\n",
    "    def __init__(self, pipeline, dataset, optim_type=\"BERT baseline\"):\n",
    "        self.pipeline = pipeline\n",
    "        self.dataset = dataset\n",
    "        self.optim_type = optim_type\n",
    "\n",
    "    def compute_accuracy(self):\n",
    "        # We'll define this later\n",
    "        pass\n",
    "\n",
    "    def compute_size(self):\n",
    "        # We'll define this later\n",
    "        pass\n",
    "\n",
    "    def time_pipeline(self):\n",
    "        # We'll define this later\n",
    "        pass\n",
    "\n",
    "    def run_benchmark(self):\n",
    "        metrics = {}\n",
    "        metrics[self.optim_type] = self.compute_size()\n",
    "        metrics[self.optim_type].update(self.time_pipeline())\n",
    "        metrics[self.optim_type].update(self.compute_accuracy())\n",
    "        return metrics"
   ]
  },
  {
   "cell_type": "markdown",
   "metadata": {},
   "source": [
    "#### compute_accuracy - for the dataset and model in the class, compute accuracy"
   ]
  },
  {
   "cell_type": "code",
   "execution_count": 8,
   "metadata": {},
   "outputs": [
    {
     "name": "stderr",
     "output_type": "stream",
     "text": [
      "<ipython-input-8-a31c3b22739c>:3: FutureWarning: load_metric is deprecated and will be removed in the next major version of datasets. Use 'evaluate.load' instead, from the new library 🤗 Evaluate: https://huggingface.co/docs/evaluate\n",
      "  accuracy_score = load_metric(\"accuracy\")\n"
     ]
    }
   ],
   "source": [
    "from datasets import load_metric\n",
    "\n",
    "accuracy_score = load_metric(\"accuracy\")\n",
    "\n",
    "def compute_accuracy(self):\n",
    "    \"\"\"This overrides the PerformanceBenchmark.compute_accuracy() method\"\"\"\n",
    "    preds, labels = [], []\n",
    "    for example in self.dataset:\n",
    "        pred = self.pipeline(example[\"text\"])[0][\"label\"]\n",
    "        label = example[\"intent\"]\n",
    "        preds.append(intents.str2int(pred))\n",
    "        labels.append(label)\n",
    "    accuracy = accuracy_score.compute(predictions=preds, references=labels)\n",
    "    print(f\"Accuracy on test set - {accuracy['accuracy']:.3f}\")\n",
    "    return accuracy\n",
    "\n",
    "PerformanceBenchmark.compute_accuracy = compute_accuracy"
   ]
  },
  {
   "cell_type": "markdown",
   "metadata": {},
   "source": [
    "#### compute_size takes the model and saves it temporarily to disk and checks the size of the file"
   ]
  },
  {
   "cell_type": "code",
   "execution_count": 9,
   "metadata": {},
   "outputs": [],
   "source": [
    "from pathlib import Path\n",
    "\n",
    "def compute_size(self):\n",
    "    \"\"\"This overrides the PerformanceBenchmark.compute_size() method\"\"\"\n",
    "    state_dict = self.pipeline.model.state_dict()\n",
    "    tmp_path = Path(\"model.pt\")\n",
    "    torch.save(state_dict, tmp_path)\n",
    "    # Calculate size in megabytes\n",
    "    size_mb = Path(tmp_path).stat().st_size / (1024 * 1024)\n",
    "    # Delete temporary file\n",
    "    tmp_path.unlink()\n",
    "    print(f\"Model size (MB) - {size_mb:.2f}\")\n",
    "    return {\"size_mb\": size_mb}\n",
    "\n",
    "PerformanceBenchmark.compute_size = compute_size"
   ]
  },
  {
   "cell_type": "markdown",
   "metadata": {},
   "source": [
    "#### time_pipeline takes a simple query and runs it 100 times to get the average time and standard deviation\n",
    "Use the perf_counter to get a more accurate time in seconds. Multiply by 1000 to get milliseconds"
   ]
  },
  {
   "cell_type": "code",
   "execution_count": 10,
   "metadata": {},
   "outputs": [],
   "source": [
    "from time import perf_counter\n",
    "\n",
    "def time_pipeline(self, query=\"What is the pin number for my account?\"):\n",
    "    \"\"\"This overrides the PerformanceBenchmark.time_pipeline() method\"\"\"\n",
    "    latencies = []\n",
    "    # Warmup the caches etc.\n",
    "    for _ in range(10):\n",
    "        _ = self.pipeline(query)\n",
    "    # Timed run\n",
    "    for _ in range(100):\n",
    "        start_time = perf_counter()\n",
    "        _ = self.pipeline(query)\n",
    "        latency = perf_counter() - start_time\n",
    "        latencies.append(latency)\n",
    "    # Compute run statistics\n",
    "    time_avg_ms = 1000 * np.mean(latencies)\n",
    "    time_std_ms = 1000 * np.std(latencies)\n",
    "    print(f\"Average latency (ms) - {time_avg_ms:.2f} +\\- {time_std_ms:.2f}\")\n",
    "    return {\"time_avg_ms\": time_avg_ms, \"time_std_ms\": time_std_ms}\n",
    "\n",
    "PerformanceBenchmark.time_pipeline = time_pipeline"
   ]
  },
  {
   "cell_type": "markdown",
   "metadata": {},
   "source": [
    "#### We will also need a function to plot our results"
   ]
  },
  {
   "cell_type": "code",
   "execution_count": 11,
   "metadata": {},
   "outputs": [],
   "source": [
    "import pandas as pd\n",
    "\n",
    "def plot_metrics(perf_metrics, current_optim_type):\n",
    "    df = pd.DataFrame.from_dict(perf_metrics, orient='index')\n",
    "\n",
    "    for idx in df.index:\n",
    "        df_opt = df.loc[idx]\n",
    "        # Add a dashed circle around the current optimization type\n",
    "        if idx == current_optim_type:\n",
    "            plt.scatter(df_opt[\"time_avg_ms\"], df_opt[\"accuracy\"] * 100,\n",
    "                        alpha=0.5, s=df_opt[\"size_mb\"], label=idx,\n",
    "                        marker='$\\u25CC$')\n",
    "        else:\n",
    "            plt.scatter(df_opt[\"time_avg_ms\"], df_opt[\"accuracy\"] * 100,\n",
    "                        s=df_opt[\"size_mb\"], label=idx, alpha=0.5)\n",
    "\n",
    "    legend = plt.legend(bbox_to_anchor=(1,1))\n",
    "    for handle in legend.legendHandles:\n",
    "        handle.set_sizes([20])\n",
    "\n",
    "    plt.ylim(80,90)\n",
    "    # Use the slowest model to define the x-axis range\n",
    "    xlim = int(perf_metrics[\"BERT baseline - CPU\"][\"time_avg_ms\"] + 3)\n",
    "    plt.xlim(1, xlim)\n",
    "    plt.ylabel(\"Accuracy (%)\")\n",
    "    plt.xlabel(\"Average latency (ms)\")\n",
    "    plt.show()"
   ]
  },
  {
   "cell_type": "markdown",
   "metadata": {},
   "source": [
    "### Now let's load up the data\n",
    "The clinc_oos dataset covers 150 intent classes in over 10 domains. It includes queries that are out-of-scope (OOS), i.e. queries that do not fall in any of the supported intents. "
   ]
  },
  {
   "cell_type": "code",
   "execution_count": 12,
   "metadata": {},
   "outputs": [
    {
     "name": "stderr",
     "output_type": "stream",
     "text": [
      "Found cached dataset clinc_oos (/var/snell_home/.cache/huggingface/datasets/clinc_oos/plus/1.0.0/abcc41d382f8137f039adc747af44714941e8196e845dfbdd8ae7a7e020e6ba1)\n"
     ]
    },
    {
     "data": {
      "application/vnd.jupyter.widget-view+json": {
       "model_id": "a52a1097f8aa4452ab6394fb1e5aff80",
       "version_major": 2,
       "version_minor": 0
      },
      "text/plain": [
       "  0%|          | 0/3 [00:00<?, ?it/s]"
      ]
     },
     "metadata": {},
     "output_type": "display_data"
    }
   ],
   "source": [
    "from datasets import load_dataset\n",
    "\n",
    "clinc = load_dataset(\"clinc_oos\", \"plus\")"
   ]
  },
  {
   "cell_type": "markdown",
   "metadata": {},
   "source": [
    "#### What does it look like?"
   ]
  },
  {
   "cell_type": "code",
   "execution_count": 13,
   "metadata": {},
   "outputs": [
    {
     "data": {
      "text/plain": [
       "DatasetDict({\n",
       "    train: Dataset({\n",
       "        features: ['text', 'intent'],\n",
       "        num_rows: 15250\n",
       "    })\n",
       "    validation: Dataset({\n",
       "        features: ['text', 'intent'],\n",
       "        num_rows: 3100\n",
       "    })\n",
       "    test: Dataset({\n",
       "        features: ['text', 'intent'],\n",
       "        num_rows: 5500\n",
       "    })\n",
       "})"
      ]
     },
     "execution_count": 13,
     "metadata": {},
     "output_type": "execute_result"
    }
   ],
   "source": [
    "clinc"
   ]
  },
  {
   "cell_type": "code",
   "execution_count": 14,
   "metadata": {},
   "outputs": [
    {
     "data": {
      "text/plain": [
       "{'text': 'transfer $100 from my checking to saving account', 'intent': 133}"
      ]
     },
     "execution_count": 14,
     "metadata": {},
     "output_type": "execute_result"
    }
   ],
   "source": [
    "sample = clinc[\"test\"][42]\n",
    "sample"
   ]
  },
  {
   "cell_type": "code",
   "execution_count": 15,
   "metadata": {},
   "outputs": [
    {
     "data": {
      "text/plain": [
       "'transfer'"
      ]
     },
     "execution_count": 15,
     "metadata": {},
     "output_type": "execute_result"
    }
   ],
   "source": [
    "# What is the intent of the sample in text form?\n",
    "intents = clinc[\"test\"].features[\"intent\"]\n",
    "intents.int2str(sample['intent'])"
   ]
  },
  {
   "cell_type": "code",
   "execution_count": 16,
   "metadata": {},
   "outputs": [
    {
     "data": {
      "text/plain": [
       "42     250\n",
       "89     100\n",
       "2      100\n",
       "21     100\n",
       "137    100\n",
       "      ... \n",
       "119    100\n",
       "98     100\n",
       "30     100\n",
       "132    100\n",
       "51     100\n",
       "Name: intent, Length: 151, dtype: int64"
      ]
     },
     "execution_count": 16,
     "metadata": {},
     "output_type": "execute_result"
    }
   ],
   "source": [
    "# How is it distributed?\n",
    "df = pd.DataFrame(clinc['train'])\n",
    "df['intent'].value_counts()"
   ]
  },
  {
   "cell_type": "code",
   "execution_count": 17,
   "metadata": {},
   "outputs": [
    {
     "data": {
      "text/plain": [
       "[{'label': 'transfer', 'score': 0.5653557181358337}]"
      ]
     },
     "execution_count": 17,
     "metadata": {},
     "output_type": "execute_result"
    }
   ],
   "source": [
    "# What happens when we run in through our pipeline?\n",
    "BERTpipe(sample['text'])"
   ]
  },
  {
   "cell_type": "code",
   "execution_count": 18,
   "metadata": {},
   "outputs": [
    {
     "data": {
      "text/plain": [
       "'pin_change'"
      ]
     },
     "execution_count": 18,
     "metadata": {},
     "output_type": "execute_result"
    }
   ],
   "source": [
    "# What is intent 89?\n",
    "intents.int2str(89)"
   ]
  },
  {
   "cell_type": "code",
   "execution_count": 19,
   "metadata": {},
   "outputs": [
    {
     "data": {
      "text/plain": [
       "'oos'"
      ]
     },
     "execution_count": 19,
     "metadata": {},
     "output_type": "execute_result"
    }
   ],
   "source": [
    "# What is intent 42?\n",
    "intents.int2str(42)"
   ]
  },
  {
   "cell_type": "markdown",
   "metadata": {},
   "source": [
    "### Now let's use our performance benchmark class and see how our pipeline does."
   ]
  },
  {
   "cell_type": "code",
   "execution_count": 20,
   "metadata": {},
   "outputs": [
    {
     "name": "stdout",
     "output_type": "stream",
     "text": [
      "Model size (MB) - 418.15\n"
     ]
    },
    {
     "name": "stderr",
     "output_type": "stream",
     "text": [
      "/usr/local/lib/python3.8/dist-packages/transformers/pipelines/base.py:1043: UserWarning: You seem to be using the pipelines sequentially on GPU. In order to maximize efficiency please use a dataset\n",
      "  warnings.warn(\n"
     ]
    },
    {
     "name": "stdout",
     "output_type": "stream",
     "text": [
      "Average latency (ms) - 6.18 +\\- 0.16\n",
      "Accuracy on test set - 0.867\n",
      "CPU times: user 34.9 s, sys: 249 ms, total: 35.2 s\n",
      "Wall time: 35.2 s\n"
     ]
    }
   ],
   "source": [
    "%%time\n",
    "optim_type = \"BERT baseline\"\n",
    "pb = PerformanceBenchmark(BERTpipe, clinc['test'], optim_type=optim_type)\n",
    "perf_metrics = pb.run_benchmark()"
   ]
  },
  {
   "cell_type": "code",
   "execution_count": 21,
   "metadata": {},
   "outputs": [
    {
     "name": "stdout",
     "output_type": "stream",
     "text": [
      "Model size (MB) - 418.15\n",
      "Average latency (ms) - 15.94 +\\- 0.63\n",
      "Accuracy on test set - 0.867\n",
      "CPU times: user 14min 52s, sys: 1.49 s, total: 14min 54s\n",
      "Wall time: 1min 29s\n"
     ]
    }
   ],
   "source": [
    "%%time\n",
    "optim_type = \"BERT baseline - CPU\"\n",
    "pb = PerformanceBenchmark(BERTpipe_cpu, clinc[\"test\"], optim_type=optim_type)\n",
    "perf_metrics.update(pb.run_benchmark())"
   ]
  },
  {
   "cell_type": "code",
   "execution_count": 22,
   "metadata": {},
   "outputs": [
    {
     "data": {
      "image/png": "[encoded data removed]",
      "text/plain": [
       "<Figure size 640x480 with 1 Axes>"
      ]
     },
     "metadata": {},
     "output_type": "display_data"
    }
   ],
   "source": [
    "# Plot the latency vs accuracy with the radius being the size of the model on dis\n",
    "plot_metrics(perf_metrics, \"BERT baseline\")"
   ]
  },
  {
   "cell_type": "markdown",
   "metadata": {},
   "source": [
    "# How can we make a smaller and faster model? - Distillation"
   ]
  },
  {
   "cell_type": "markdown",
   "metadata": {},
   "source": [
    "Distillation is the process of training a smaller model (student) to act like another model (teacher)"
   ]
  },
  {
   "cell_type": "markdown",
   "metadata": {},
   "source": [
    "<img alt=\"Knowledge distillation\" caption=\"The knowledge distillation process\" src=\"notebooks/images/chapter08_kd.png\" id=\"kd\"/> "
   ]
  },
  {
   "cell_type": "markdown",
   "metadata": {},
   "source": [
    "$L_{KD}$ is the Kullback-Leibler(KL) divergence which measures the difference between two probability distributions <br>\n",
    "We compare the full output of the teacher model with the output of the student model"
   ]
  },
  {
   "cell_type": "markdown",
   "metadata": {},
   "source": [
    "$$D_{KL}(p,q) = \\sum \\limits _{i} p_i(x)log \\frac{p_i(x)}{q_i(x)}$$"
   ]
  },
  {
   "cell_type": "markdown",
   "metadata": {},
   "source": [
    "$$L_{KD} = T^2D_{KL}$$"
   ]
  },
  {
   "cell_type": "markdown",
   "metadata": {},
   "source": [
    "And now the loss for the student is:"
   ]
  },
  {
   "cell_type": "markdown",
   "metadata": {},
   "source": [
    "$$L_{Student} = \\alpha L_{CE} + (1 - \\alpha)L_{KD}$$"
   ]
  },
  {
   "cell_type": "markdown",
   "metadata": {},
   "source": [
    "where $L_{CE}$ is the normal Cross Entropy loss of the student when comparing to the correct output and <br>\n",
    "T is the smoothing 'temperature' for the Softmax output"
   ]
  },
  {
   "cell_type": "markdown",
   "metadata": {},
   "source": [
    "Now to implement knowledge distillation we need to add a few things to the Trainer base class:\n",
    "\n",
    "<ul>\n",
    "<li>The new hyperparameters $\\alpha$  and T, which control the relative weight of the distillation loss and how much the probability distribution of the labels should be smoothed\n",
    "\n",
    "<li>The fine-tuned teacher model, which in our case is BERT-base\n",
    "\n",
    "<li>A new loss function that combines the cross-entropy loss with the knowledge distillation loss\n",
    "</ul>\n",
    "Adding the new hyperparameters is quite simple, since we just need to subclass TrainingArguments and include them as new attributes:"
   ]
  },
  {
   "cell_type": "code",
   "execution_count": 23,
   "metadata": {},
   "outputs": [],
   "source": [
    "from transformers import TrainingArguments\n",
    "\n",
    "class DistillationTrainingArguments(TrainingArguments):\n",
    "    def __init__(self, *args, alpha=0.5, temperature=2.0, **kwargs):\n",
    "        super().__init__(*args, **kwargs)\n",
    "        self.alpha = alpha\n",
    "        self.temperature = temperature"
   ]
  },
  {
   "cell_type": "markdown",
   "metadata": {},
   "source": [
    "For the trainer itself, we need a new loss function. The way to implement this is by subclassing Trainer and overriding the compute_loss() method to include the knowledge distillation loss term $L_{KD}$:"
   ]
  },
  {
   "cell_type": "code",
   "execution_count": 24,
   "metadata": {},
   "outputs": [],
   "source": [
    "import torch.nn as nn\n",
    "import torch.nn.functional as F\n",
    "from transformers import Trainer\n",
    "\n",
    "class DistillationTrainer(Trainer):\n",
    "    def __init__(self, *args, teacher_model=None, **kwargs):\n",
    "        super().__init__(*args, **kwargs)\n",
    "        self.teacher_model = teacher_model\n",
    "\n",
    "    def compute_loss(self, model, inputs, return_outputs=False):\n",
    "        outputs_stu = model(**inputs)\n",
    "        # Extract cross-entropy loss and logits from student\n",
    "        loss_ce = outputs_stu.loss\n",
    "        logits_stu = outputs_stu.logits\n",
    "        # Extract logits from teacher\n",
    "        with torch.no_grad():\n",
    "            outputs_tea = self.teacher_model(**inputs)\n",
    "            logits_tea = outputs_tea.logits\n",
    "        # Soften probabilities and compute distillation loss\n",
    "        loss_fct = nn.KLDivLoss(reduction=\"batchmean\")\n",
    "        loss_kd = self.args.temperature ** 2 * loss_fct(\n",
    "            F.log_softmax(logits_stu / self.args.temperature, dim=-1),\n",
    "            F.softmax(logits_tea / self.args.temperature, dim=-1))\n",
    "        # Return weighted student loss\n",
    "        loss = self.args.alpha * loss_ce + (1. - self.args.alpha) * loss_kd\n",
    "        return (loss, outputs_stu) if return_outputs else loss"
   ]
  },
  {
   "cell_type": "code",
   "execution_count": 25,
   "metadata": {},
   "outputs": [],
   "source": [
    "def compute_metrics(pred):\n",
    "    predictions, labels = pred\n",
    "    predictions = np.argmax(predictions, axis=1)\n",
    "    return accuracy_score.compute(predictions=predictions, references=labels)"
   ]
  },
  {
   "cell_type": "markdown",
   "metadata": {},
   "source": [
    "## First set up the Teacher"
   ]
  },
  {
   "cell_type": "code",
   "execution_count": 26,
   "metadata": {},
   "outputs": [],
   "source": [
    "from transformers import AutoModelForSequenceClassification\n",
    "\n",
    "num_labels = intents.num_classes"
   ]
  },
  {
   "cell_type": "code",
   "execution_count": 27,
   "metadata": {},
   "outputs": [],
   "source": [
    "# Pull the pretrained model from the textbook from huggingface\n",
    "teacher_ckpt = \"transformersbook/bert-base-uncased-finetuned-clinc\"\n",
    "teacher_model = (AutoModelForSequenceClassification\n",
    "                 .from_pretrained(teacher_ckpt, num_labels=num_labels)\n",
    "                 .to(device))"
   ]
  },
  {
   "cell_type": "markdown",
   "metadata": {},
   "source": [
    "## Set up the student from a base instantiation of distilbert"
   ]
  },
  {
   "cell_type": "code",
   "execution_count": 28,
   "metadata": {
    "scrolled": true
   },
   "outputs": [
    {
     "name": "stderr",
     "output_type": "stream",
     "text": [
      "Loading cached processed dataset at /var/snell_home/.cache/huggingface/datasets/clinc_oos/plus/1.0.0/abcc41d382f8137f039adc747af44714941e8196e845dfbdd8ae7a7e020e6ba1/cache-88e55836c84bca2f.arrow\n",
      "Loading cached processed dataset at /var/snell_home/.cache/huggingface/datasets/clinc_oos/plus/1.0.0/abcc41d382f8137f039adc747af44714941e8196e845dfbdd8ae7a7e020e6ba1/cache-e98e92af6fcb170f.arrow\n",
      "Loading cached processed dataset at /var/snell_home/.cache/huggingface/datasets/clinc_oos/plus/1.0.0/abcc41d382f8137f039adc747af44714941e8196e845dfbdd8ae7a7e020e6ba1/cache-ab8d419ed3e377c8.arrow\n"
     ]
    }
   ],
   "source": [
    "from transformers import AutoTokenizer\n",
    "\n",
    "student_ckpt = \"distilbert-base-uncased\"\n",
    "student_tokenizer = AutoTokenizer.from_pretrained(student_ckpt)\n",
    "\n",
    "# Tokenize the dataset using the student_tokenizer\n",
    "def tokenize_text(batch):\n",
    "    return student_tokenizer(batch[\"text\"], truncation=True)\n",
    "\n",
    "# tokenize - after tokenization, we no longer need the text. We feed the tokens to the model\n",
    "clinc_enc = clinc.map(tokenize_text, batched=True, remove_columns=[\"text\"])\n",
    "clinc_enc = clinc_enc.rename_column(\"intent\", \"labels\")"
   ]
  },
  {
   "cell_type": "markdown",
   "metadata": {},
   "source": [
    "One other thing we need to do is provide the student model with the mappings between each intent and label ID. These mappings can be obtained from our BERT-base model that we downloaded in the pipeline:"
   ]
  },
  {
   "cell_type": "code",
   "execution_count": 29,
   "metadata": {},
   "outputs": [],
   "source": [
    "id2label = BERTpipe.model.config.id2label\n",
    "label2id = BERTpipe.model.config.label2id"
   ]
  },
  {
   "cell_type": "code",
   "execution_count": 30,
   "metadata": {},
   "outputs": [],
   "source": [
    "from transformers import AutoConfig\n",
    "\n",
    "student_config = (AutoConfig.from_pretrained(student_ckpt, num_labels=num_labels,\n",
    "                                             id2label=id2label, label2id=label2id))"
   ]
  },
  {
   "cell_type": "code",
   "execution_count": 31,
   "metadata": {},
   "outputs": [],
   "source": [
    "batch_size = 48\n",
    "\n",
    "finetuned_ckpt = \"distilbert-base-uncased-finetuned-clinc\"\n",
    "student_training_args = DistillationTrainingArguments(\n",
    "            output_dir=finetuned_ckpt, \n",
    "            evaluation_strategy = \"epoch\",\n",
    "            num_train_epochs=7, \n",
    "            learning_rate=2e-5,\n",
    "            per_device_train_batch_size=batch_size,\n",
    "            per_device_eval_batch_size=batch_size, \n",
    "            alpha=1, \n",
    "            weight_decay=0.01,\n",
    "            push_to_hub=False)"
   ]
  },
  {
   "cell_type": "code",
   "execution_count": 32,
   "metadata": {},
   "outputs": [],
   "source": [
    "# Setup the student initially as an AutoModelForSequenceClassification with the base student\n",
    "\n",
    "def student_init():\n",
    "    return (AutoModelForSequenceClassification.from_pretrained(student_ckpt, config=student_config).to(device))"
   ]
  },
  {
   "cell_type": "code",
   "execution_count": 33,
   "metadata": {
    "scrolled": true
   },
   "outputs": [
    {
     "name": "stderr",
     "output_type": "stream",
     "text": [
      "loading weights file pytorch_model.bin from cache at /var/snell_home/.cache/huggingface/hub/models--distilbert-base-uncased/snapshots/043235d6088ecd3dd5fb5ca3592b6913fd516027/pytorch_model.bin\n",
      "Some weights of the model checkpoint at distilbert-base-uncased were not used when initializing DistilBertForSequenceClassification: ['vocab_projector.bias', 'vocab_transform.bias', 'vocab_layer_norm.weight', 'vocab_projector.weight', 'vocab_transform.weight', 'vocab_layer_norm.bias']\n",
      "- This IS expected if you are initializing DistilBertForSequenceClassification from the checkpoint of a model trained on another task or with another architecture (e.g. initializing a BertForSequenceClassification model from a BertForPreTraining model).\n",
      "- This IS NOT expected if you are initializing DistilBertForSequenceClassification from the checkpoint of a model that you expect to be exactly identical (initializing a BertForSequenceClassification model from a BertForSequenceClassification model).\n",
      "Some weights of DistilBertForSequenceClassification were not initialized from the model checkpoint at distilbert-base-uncased and are newly initialized: ['pre_classifier.weight', 'classifier.weight', 'classifier.bias', 'pre_classifier.bias']\n",
      "You should probably TRAIN this model on a down-stream task to be able to use it for predictions and inference.\n",
      "loading weights file pytorch_model.bin from cache at /var/snell_home/.cache/huggingface/hub/models--distilbert-base-uncased/snapshots/043235d6088ecd3dd5fb5ca3592b6913fd516027/pytorch_model.bin\n",
      "Some weights of the model checkpoint at distilbert-base-uncased were not used when initializing DistilBertForSequenceClassification: ['vocab_projector.bias', 'vocab_transform.bias', 'vocab_layer_norm.weight', 'vocab_projector.weight', 'vocab_transform.weight', 'vocab_layer_norm.bias']\n",
      "- This IS expected if you are initializing DistilBertForSequenceClassification from the checkpoint of a model trained on another task or with another architecture (e.g. initializing a BertForSequenceClassification model from a BertForPreTraining model).\n",
      "- This IS NOT expected if you are initializing DistilBertForSequenceClassification from the checkpoint of a model that you expect to be exactly identical (initializing a BertForSequenceClassification model from a BertForSequenceClassification model).\n",
      "Some weights of DistilBertForSequenceClassification were not initialized from the model checkpoint at distilbert-base-uncased and are newly initialized: ['pre_classifier.weight', 'classifier.weight', 'classifier.bias', 'pre_classifier.bias']\n",
      "You should probably TRAIN this model on a down-stream task to be able to use it for predictions and inference.\n",
      "/usr/local/lib/python3.8/dist-packages/transformers/optimization.py:306: FutureWarning: This implementation of AdamW is deprecated and will be removed in a future version. Use the PyTorch implementation torch.optim.AdamW instead, or set `no_deprecation_warning=True` to disable this warning\n",
      "  warnings.warn(\n",
      "/usr/local/lib/python3.8/dist-packages/torch/nn/parallel/data_parallel.py:32: UserWarning: \n",
      "    There is an imbalance between your GPUs. You may want to exclude GPU 1 which\n",
      "    has less than 75% of the memory or cores of GPU 0. You can do so by setting\n",
      "    the device_ids argument to DataParallel, or by setting the CUDA_VISIBLE_DEVICES\n",
      "    environment variable.\n",
      "  warnings.warn(imbalance_warn.format(device_ids[min_pos], device_ids[max_pos]))\n",
      "***** Running training *****\n",
      "  Num examples = 15250\n",
      "  Num Epochs = 7\n",
      "  Instantaneous batch size per device = 48\n",
      "  Total train batch size (w. parallel, distributed & accumulation) = 96\n",
      "  Gradient Accumulation steps = 1\n",
      "  Total optimization steps = 1113\n",
      "  Number of trainable parameters = 67069591\n",
      "Automatic Weights & Biases logging enabled, to disable set os.environ[\"WANDB_DISABLED\"] = \"true\"\n",
      "Failed to detect the name of this notebook, you can set it manually with the WANDB_NOTEBOOK_NAME environment variable to enable code saving.\n",
      "\u001b[34m\u001b[1mwandb\u001b[0m: Currently logged in as: \u001b[33mqsnell\u001b[0m. Use \u001b[1m`wandb login --relogin`\u001b[0m to force relogin\n"
     ]
    },
    {
     "data": {
      "text/html": [
       "Tracking run with wandb version 0.13.5"
      ],
      "text/plain": [
       "<IPython.core.display.HTML object>"
      ]
     },
     "metadata": {},
     "output_type": "display_data"
    },
    {
     "data": {
      "text/html": [
       "Run data is saved locally in <code>/work/Transforming NLP/wandb/run-20221115_171112-1xl0n7tb</code>"
      ],
      "text/plain": [
       "<IPython.core.display.HTML object>"
      ]
     },
     "metadata": {},
     "output_type": "display_data"
    },
    {
     "data": {
      "text/html": [
       "Syncing run <strong><a href=\"https://wandb.ai/qsnell/huggingface/runs/1xl0n7tb\" target=\"_blank\">distilbert-base-uncased-finetuned-clinc</a></strong> to <a href=\"https://wandb.ai/qsnell/huggingface\" target=\"_blank\">Weights & Biases</a> (<a href=\"https://wandb.me/run\" target=\"_blank\">docs</a>)<br/>"
      ],
      "text/plain": [
       "<IPython.core.display.HTML object>"
      ]
     },
     "metadata": {},
     "output_type": "display_data"
    },
    {
     "name": "stderr",
     "output_type": "stream",
     "text": [
      "You're using a DistilBertTokenizerFast tokenizer. Please note that with a fast tokenizer, using the `__call__` method is faster than using a method to encode the text followed by a call to the `pad` method to get a padded encoding.\n",
      "/usr/local/lib/python3.8/dist-packages/torch/nn/parallel/_functions.py:68: UserWarning: Was asked to gather along dimension 0, but all input tensors were scalars; will instead unsqueeze and return a vector.\n",
      "  warnings.warn('Was asked to gather along dimension 0, but all '\n"
     ]
    },
    {
     "data": {
      "text/html": [
       "\n",
       "    <div>\n",
       "      \n",
       "      <progress value='1113' max='1113' style='width:300px; height:20px; vertical-align: middle;'></progress>\n",
       "      [1113/1113 04:11, Epoch 7/7]\n",
       "    </div>\n",
       "    <table border=\"1\" class=\"dataframe\">\n",
       "  <thead>\n",
       " <tr style=\"text-align: left;\">\n",
       "      <th>Epoch</th>\n",
       "      <th>Training Loss</th>\n",
       "      <th>Validation Loss</th>\n",
       "      <th>Accuracy</th>\n",
       "    </tr>\n",
       "  </thead>\n",
       "  <tbody>\n",
       "    <tr>\n",
       "      <td>1</td>\n",
       "      <td>No log</td>\n",
       "      <td>3.916222</td>\n",
       "      <td>0.654194</td>\n",
       "    </tr>\n",
       "    <tr>\n",
       "      <td>2</td>\n",
       "      <td>No log</td>\n",
       "      <td>2.765645</td>\n",
       "      <td>0.784516</td>\n",
       "    </tr>\n",
       "    <tr>\n",
       "      <td>3</td>\n",
       "      <td>No log</td>\n",
       "      <td>1.937886</td>\n",
       "      <td>0.833871</td>\n",
       "    </tr>\n",
       "    <tr>\n",
       "      <td>4</td>\n",
       "      <td>3.399500</td>\n",
       "      <td>1.418895</td>\n",
       "      <td>0.880323</td>\n",
       "    </tr>\n",
       "    <tr>\n",
       "      <td>5</td>\n",
       "      <td>3.399500</td>\n",
       "      <td>1.120463</td>\n",
       "      <td>0.898710</td>\n",
       "    </tr>\n",
       "    <tr>\n",
       "      <td>6</td>\n",
       "      <td>3.399500</td>\n",
       "      <td>0.967777</td>\n",
       "      <td>0.911290</td>\n",
       "    </tr>\n",
       "    <tr>\n",
       "      <td>7</td>\n",
       "      <td>1.298200</td>\n",
       "      <td>0.921484</td>\n",
       "      <td>0.912258</td>\n",
       "    </tr>\n",
       "  </tbody>\n",
       "</table><p>"
      ],
      "text/plain": [
       "<IPython.core.display.HTML object>"
      ]
     },
     "metadata": {},
     "output_type": "display_data"
    },
    {
     "name": "stderr",
     "output_type": "stream",
     "text": [
      "/usr/local/lib/python3.8/dist-packages/torch/nn/parallel/data_parallel.py:32: UserWarning: \n",
      "    There is an imbalance between your GPUs. You may want to exclude GPU 1 which\n",
      "    has less than 75% of the memory or cores of GPU 0. You can do so by setting\n",
      "    the device_ids argument to DataParallel, or by setting the CUDA_VISIBLE_DEVICES\n",
      "    environment variable.\n",
      "  warnings.warn(imbalance_warn.format(device_ids[min_pos], device_ids[max_pos]))\n",
      "***** Running Evaluation *****\n",
      "  Num examples = 3100\n",
      "  Batch size = 96\n",
      "/usr/local/lib/python3.8/dist-packages/torch/nn/parallel/_functions.py:68: UserWarning: Was asked to gather along dimension 0, but all input tensors were scalars; will instead unsqueeze and return a vector.\n",
      "  warnings.warn('Was asked to gather along dimension 0, but all '\n",
      "/usr/local/lib/python3.8/dist-packages/torch/nn/parallel/data_parallel.py:32: UserWarning: \n",
      "    There is an imbalance between your GPUs. You may want to exclude GPU 1 which\n",
      "    has less than 75% of the memory or cores of GPU 0. You can do so by setting\n",
      "    the device_ids argument to DataParallel, or by setting the CUDA_VISIBLE_DEVICES\n",
      "    environment variable.\n",
      "  warnings.warn(imbalance_warn.format(device_ids[min_pos], device_ids[max_pos]))\n",
      "***** Running Evaluation *****\n",
      "  Num examples = 3100\n",
      "  Batch size = 96\n",
      "/usr/local/lib/python3.8/dist-packages/torch/nn/parallel/_functions.py:68: UserWarning: Was asked to gather along dimension 0, but all input tensors were scalars; will instead unsqueeze and return a vector.\n",
      "  warnings.warn('Was asked to gather along dimension 0, but all '\n",
      "/usr/local/lib/python3.8/dist-packages/torch/nn/parallel/data_parallel.py:32: UserWarning: \n",
      "    There is an imbalance between your GPUs. You may want to exclude GPU 1 which\n",
      "    has less than 75% of the memory or cores of GPU 0. You can do so by setting\n",
      "    the device_ids argument to DataParallel, or by setting the CUDA_VISIBLE_DEVICES\n",
      "    environment variable.\n",
      "  warnings.warn(imbalance_warn.format(device_ids[min_pos], device_ids[max_pos]))\n",
      "***** Running Evaluation *****\n",
      "  Num examples = 3100\n",
      "  Batch size = 96\n",
      "/usr/local/lib/python3.8/dist-packages/torch/nn/parallel/_functions.py:68: UserWarning: Was asked to gather along dimension 0, but all input tensors were scalars; will instead unsqueeze and return a vector.\n",
      "  warnings.warn('Was asked to gather along dimension 0, but all '\n",
      "Saving model checkpoint to distilbert-base-uncased-finetuned-clinc/checkpoint-500\n",
      "Configuration saved in distilbert-base-uncased-finetuned-clinc/checkpoint-500/config.json\n",
      "Model weights saved in distilbert-base-uncased-finetuned-clinc/checkpoint-500/pytorch_model.bin\n",
      "tokenizer config file saved in distilbert-base-uncased-finetuned-clinc/checkpoint-500/tokenizer_config.json\n",
      "Special tokens file saved in distilbert-base-uncased-finetuned-clinc/checkpoint-500/special_tokens_map.json\n",
      "/usr/local/lib/python3.8/dist-packages/torch/nn/parallel/_functions.py:68: UserWarning: Was asked to gather along dimension 0, but all input tensors were scalars; will instead unsqueeze and return a vector.\n",
      "  warnings.warn('Was asked to gather along dimension 0, but all '\n",
      "/usr/local/lib/python3.8/dist-packages/torch/nn/parallel/data_parallel.py:32: UserWarning: \n",
      "    There is an imbalance between your GPUs. You may want to exclude GPU 1 which\n",
      "    has less than 75% of the memory or cores of GPU 0. You can do so by setting\n",
      "    the device_ids argument to DataParallel, or by setting the CUDA_VISIBLE_DEVICES\n",
      "    environment variable.\n",
      "  warnings.warn(imbalance_warn.format(device_ids[min_pos], device_ids[max_pos]))\n",
      "***** Running Evaluation *****\n",
      "  Num examples = 3100\n",
      "  Batch size = 96\n",
      "/usr/local/lib/python3.8/dist-packages/torch/nn/parallel/_functions.py:68: UserWarning: Was asked to gather along dimension 0, but all input tensors were scalars; will instead unsqueeze and return a vector.\n",
      "  warnings.warn('Was asked to gather along dimension 0, but all '\n",
      "/usr/local/lib/python3.8/dist-packages/torch/nn/parallel/data_parallel.py:32: UserWarning: \n",
      "    There is an imbalance between your GPUs. You may want to exclude GPU 1 which\n",
      "    has less than 75% of the memory or cores of GPU 0. You can do so by setting\n",
      "    the device_ids argument to DataParallel, or by setting the CUDA_VISIBLE_DEVICES\n",
      "    environment variable.\n",
      "  warnings.warn(imbalance_warn.format(device_ids[min_pos], device_ids[max_pos]))\n",
      "***** Running Evaluation *****\n",
      "  Num examples = 3100\n",
      "  Batch size = 96\n",
      "/usr/local/lib/python3.8/dist-packages/torch/nn/parallel/_functions.py:68: UserWarning: Was asked to gather along dimension 0, but all input tensors were scalars; will instead unsqueeze and return a vector.\n",
      "  warnings.warn('Was asked to gather along dimension 0, but all '\n",
      "/usr/local/lib/python3.8/dist-packages/torch/nn/parallel/data_parallel.py:32: UserWarning: \n",
      "    There is an imbalance between your GPUs. You may want to exclude GPU 1 which\n",
      "    has less than 75% of the memory or cores of GPU 0. You can do so by setting\n",
      "    the device_ids argument to DataParallel, or by setting the CUDA_VISIBLE_DEVICES\n",
      "    environment variable.\n",
      "  warnings.warn(imbalance_warn.format(device_ids[min_pos], device_ids[max_pos]))\n",
      "***** Running Evaluation *****\n",
      "  Num examples = 3100\n",
      "  Batch size = 96\n",
      "/usr/local/lib/python3.8/dist-packages/torch/nn/parallel/_functions.py:68: UserWarning: Was asked to gather along dimension 0, but all input tensors were scalars; will instead unsqueeze and return a vector.\n",
      "  warnings.warn('Was asked to gather along dimension 0, but all '\n",
      "Saving model checkpoint to distilbert-base-uncased-finetuned-clinc/checkpoint-1000\n",
      "Configuration saved in distilbert-base-uncased-finetuned-clinc/checkpoint-1000/config.json\n",
      "Model weights saved in distilbert-base-uncased-finetuned-clinc/checkpoint-1000/pytorch_model.bin\n",
      "tokenizer config file saved in distilbert-base-uncased-finetuned-clinc/checkpoint-1000/tokenizer_config.json\n",
      "Special tokens file saved in distilbert-base-uncased-finetuned-clinc/checkpoint-1000/special_tokens_map.json\n",
      "/usr/local/lib/python3.8/dist-packages/torch/nn/parallel/_functions.py:68: UserWarning: Was asked to gather along dimension 0, but all input tensors were scalars; will instead unsqueeze and return a vector.\n",
      "  warnings.warn('Was asked to gather along dimension 0, but all '\n",
      "/usr/local/lib/python3.8/dist-packages/torch/nn/parallel/data_parallel.py:32: UserWarning: \n",
      "    There is an imbalance between your GPUs. You may want to exclude GPU 1 which\n",
      "    has less than 75% of the memory or cores of GPU 0. You can do so by setting\n",
      "    the device_ids argument to DataParallel, or by setting the CUDA_VISIBLE_DEVICES\n",
      "    environment variable.\n",
      "  warnings.warn(imbalance_warn.format(device_ids[min_pos], device_ids[max_pos]))\n",
      "***** Running Evaluation *****\n",
      "  Num examples = 3100\n",
      "  Batch size = 96\n",
      "\n",
      "\n",
      "Training completed. Do not forget to share your model on huggingface.co/models =)\n",
      "\n",
      "\n"
     ]
    },
    {
     "data": {
      "text/plain": [
       "TrainOutput(global_step=1113, training_loss=2.205098394649262, metrics={'train_runtime': 255.3666, 'train_samples_per_second': 418.027, 'train_steps_per_second': 4.358, 'total_flos': 621590082732108.0, 'train_loss': 2.205098394649262, 'epoch': 7.0})"
      ]
     },
     "execution_count": 33,
     "metadata": {},
     "output_type": "execute_result"
    }
   ],
   "source": [
    "distilbert_trainer = DistillationTrainer(model_init=student_init,\n",
    "                                         teacher_model=teacher_model, \n",
    "                                         args=student_training_args,\n",
    "                                         train_dataset=clinc_enc['train'], \n",
    "                                         eval_dataset=clinc_enc['validation'],\n",
    "                                         compute_metrics=compute_metrics, \n",
    "                                         tokenizer=student_tokenizer)\n",
    "\n",
    "distilbert_trainer.train()"
   ]
  },
  {
   "cell_type": "code",
   "execution_count": 34,
   "metadata": {},
   "outputs": [
    {
     "name": "stderr",
     "output_type": "stream",
     "text": [
      "Configuration saved in distilbert-base-uncased-finetuned-clinc/config.json\n",
      "Model weights saved in distilbert-base-uncased-finetuned-clinc/pytorch_model.bin\n",
      "tokenizer config file saved in distilbert-base-uncased-finetuned-clinc/tokenizer_config.json\n",
      "Special tokens file saved in distilbert-base-uncased-finetuned-clinc/special_tokens_map.json\n"
     ]
    },
    {
     "data": {
      "text/plain": [
       "('distilbert-base-uncased-finetuned-clinc/tokenizer_config.json',\n",
       " 'distilbert-base-uncased-finetuned-clinc/special_tokens_map.json',\n",
       " 'distilbert-base-uncased-finetuned-clinc/vocab.txt',\n",
       " 'distilbert-base-uncased-finetuned-clinc/added_tokens.json',\n",
       " 'distilbert-base-uncased-finetuned-clinc/tokenizer.json')"
      ]
     },
     "execution_count": 34,
     "metadata": {},
     "output_type": "execute_result"
    }
   ],
   "source": [
    "distilbert_trainer.model.save_pretrained(finetuned_ckpt)\n",
    "student_tokenizer.save_pretrained(finetuned_ckpt)"
   ]
  },
  {
   "cell_type": "markdown",
   "metadata": {},
   "source": [
    "#### Now let's see how it compares"
   ]
  },
  {
   "cell_type": "code",
   "execution_count": 35,
   "metadata": {},
   "outputs": [
    {
     "name": "stderr",
     "output_type": "stream",
     "text": [
      "loading configuration file distilbert-base-uncased-finetuned-clinc/config.json\n",
      "Model config DistilBertConfig {\n",
      "  \"_name_or_path\": \"distilbert-base-uncased-finetuned-clinc\",\n",
      "  \"activation\": \"gelu\",\n",
      "  \"architectures\": [\n",
      "    \"DistilBertForSequenceClassification\"\n",
      "  ],\n",
      "  \"attention_dropout\": 0.1,\n",
      "  \"dim\": 768,\n",
      "  \"dropout\": 0.1,\n",
      "  \"hidden_dim\": 3072,\n",
      "  \"id2label\": {\n",
      "    \"0\": \"restaurant_reviews\",\n",
      "    \"1\": \"nutrition_info\",\n",
      "    \"2\": \"account_blocked\",\n",
      "    \"3\": \"oil_change_how\",\n",
      "    \"4\": \"time\",\n",
      "    \"5\": \"weather\",\n",
      "    \"6\": \"redeem_rewards\",\n",
      "    \"7\": \"interest_rate\",\n",
      "    \"8\": \"gas_type\",\n",
      "    \"9\": \"accept_reservations\",\n",
      "    \"10\": \"smart_home\",\n",
      "    \"11\": \"user_name\",\n",
      "    \"12\": \"report_lost_card\",\n",
      "    \"13\": \"repeat\",\n",
      "    \"14\": \"whisper_mode\",\n",
      "    \"15\": \"what_are_your_hobbies\",\n",
      "    \"16\": \"order\",\n",
      "    \"17\": \"jump_start\",\n",
      "    \"18\": \"schedule_meeting\",\n",
      "    \"19\": \"meeting_schedule\",\n",
      "    \"20\": \"freeze_account\",\n",
      "    \"21\": \"what_song\",\n",
      "    \"22\": \"meaning_of_life\",\n",
      "    \"23\": \"restaurant_reservation\",\n",
      "    \"24\": \"traffic\",\n",
      "    \"25\": \"make_call\",\n",
      "    \"26\": \"text\",\n",
      "    \"27\": \"bill_balance\",\n",
      "    \"28\": \"improve_credit_score\",\n",
      "    \"29\": \"change_language\",\n",
      "    \"30\": \"no\",\n",
      "    \"31\": \"measurement_conversion\",\n",
      "    \"32\": \"timer\",\n",
      "    \"33\": \"flip_coin\",\n",
      "    \"34\": \"do_you_have_pets\",\n",
      "    \"35\": \"balance\",\n",
      "    \"36\": \"tell_joke\",\n",
      "    \"37\": \"last_maintenance\",\n",
      "    \"38\": \"exchange_rate\",\n",
      "    \"39\": \"uber\",\n",
      "    \"40\": \"car_rental\",\n",
      "    \"41\": \"credit_limit\",\n",
      "    \"42\": \"oos\",\n",
      "    \"43\": \"shopping_list\",\n",
      "    \"44\": \"expiration_date\",\n",
      "    \"45\": \"routing\",\n",
      "    \"46\": \"meal_suggestion\",\n",
      "    \"47\": \"tire_change\",\n",
      "    \"48\": \"todo_list\",\n",
      "    \"49\": \"card_declined\",\n",
      "    \"50\": \"rewards_balance\",\n",
      "    \"51\": \"change_accent\",\n",
      "    \"52\": \"vaccines\",\n",
      "    \"53\": \"reminder_update\",\n",
      "    \"54\": \"food_last\",\n",
      "    \"55\": \"change_ai_name\",\n",
      "    \"56\": \"bill_due\",\n",
      "    \"57\": \"who_do_you_work_for\",\n",
      "    \"58\": \"share_location\",\n",
      "    \"59\": \"international_visa\",\n",
      "    \"60\": \"calendar\",\n",
      "    \"61\": \"translate\",\n",
      "    \"62\": \"carry_on\",\n",
      "    \"63\": \"book_flight\",\n",
      "    \"64\": \"insurance_change\",\n",
      "    \"65\": \"todo_list_update\",\n",
      "    \"66\": \"timezone\",\n",
      "    \"67\": \"cancel_reservation\",\n",
      "    \"68\": \"transactions\",\n",
      "    \"69\": \"credit_score\",\n",
      "    \"70\": \"report_fraud\",\n",
      "    \"71\": \"spending_history\",\n",
      "    \"72\": \"directions\",\n",
      "    \"73\": \"spelling\",\n",
      "    \"74\": \"insurance\",\n",
      "    \"75\": \"what_is_your_name\",\n",
      "    \"76\": \"reminder\",\n",
      "    \"77\": \"where_are_you_from\",\n",
      "    \"78\": \"distance\",\n",
      "    \"79\": \"payday\",\n",
      "    \"80\": \"flight_status\",\n",
      "    \"81\": \"find_phone\",\n",
      "    \"82\": \"greeting\",\n",
      "    \"83\": \"alarm\",\n",
      "    \"84\": \"order_status\",\n",
      "    \"85\": \"confirm_reservation\",\n",
      "    \"86\": \"cook_time\",\n",
      "    \"87\": \"damaged_card\",\n",
      "    \"88\": \"reset_settings\",\n",
      "    \"89\": \"pin_change\",\n",
      "    \"90\": \"replacement_card_duration\",\n",
      "    \"91\": \"new_card\",\n",
      "    \"92\": \"roll_dice\",\n",
      "    \"93\": \"income\",\n",
      "    \"94\": \"taxes\",\n",
      "    \"95\": \"date\",\n",
      "    \"96\": \"who_made_you\",\n",
      "    \"97\": \"pto_request\",\n",
      "    \"98\": \"tire_pressure\",\n",
      "    \"99\": \"how_old_are_you\",\n",
      "    \"100\": \"rollover_401k\",\n",
      "    \"101\": \"pto_request_status\",\n",
      "    \"102\": \"how_busy\",\n",
      "    \"103\": \"application_status\",\n",
      "    \"104\": \"recipe\",\n",
      "    \"105\": \"calendar_update\",\n",
      "    \"106\": \"play_music\",\n",
      "    \"107\": \"yes\",\n",
      "    \"108\": \"direct_deposit\",\n",
      "    \"109\": \"credit_limit_change\",\n",
      "    \"110\": \"gas\",\n",
      "    \"111\": \"pay_bill\",\n",
      "    \"112\": \"ingredients_list\",\n",
      "    \"113\": \"lost_luggage\",\n",
      "    \"114\": \"goodbye\",\n",
      "    \"115\": \"what_can_i_ask_you\",\n",
      "    \"116\": \"book_hotel\",\n",
      "    \"117\": \"are_you_a_bot\",\n",
      "    \"118\": \"next_song\",\n",
      "    \"119\": \"change_speed\",\n",
      "    \"120\": \"plug_type\",\n",
      "    \"121\": \"maybe\",\n",
      "    \"122\": \"w2\",\n",
      "    \"123\": \"oil_change_when\",\n",
      "    \"124\": \"thank_you\",\n",
      "    \"125\": \"shopping_list_update\",\n",
      "    \"126\": \"pto_balance\",\n",
      "    \"127\": \"order_checks\",\n",
      "    \"128\": \"travel_alert\",\n",
      "    \"129\": \"fun_fact\",\n",
      "    \"130\": \"sync_device\",\n",
      "    \"131\": \"schedule_maintenance\",\n",
      "    \"132\": \"apr\",\n",
      "    \"133\": \"transfer\",\n",
      "    \"134\": \"ingredient_substitution\",\n",
      "    \"135\": \"calories\",\n",
      "    \"136\": \"current_location\",\n",
      "    \"137\": \"international_fees\",\n",
      "    \"138\": \"calculator\",\n",
      "    \"139\": \"definition\",\n",
      "    \"140\": \"next_holiday\",\n",
      "    \"141\": \"update_playlist\",\n",
      "    \"142\": \"mpg\",\n",
      "    \"143\": \"min_payment\",\n",
      "    \"144\": \"change_user_name\",\n",
      "    \"145\": \"restaurant_suggestion\",\n",
      "    \"146\": \"travel_notification\",\n",
      "    \"147\": \"cancel\",\n",
      "    \"148\": \"pto_used\",\n",
      "    \"149\": \"travel_suggestion\",\n",
      "    \"150\": \"change_volume\"\n",
      "  },\n",
      "  \"initializer_range\": 0.02,\n",
      "  \"label2id\": {\n",
      "    \"accept_reservations\": 9,\n",
      "    \"account_blocked\": 2,\n",
      "    \"alarm\": 83,\n",
      "    \"application_status\": 103,\n",
      "    \"apr\": 132,\n",
      "    \"are_you_a_bot\": 117,\n",
      "    \"balance\": 35,\n",
      "    \"bill_balance\": 27,\n",
      "    \"bill_due\": 56,\n",
      "    \"book_flight\": 63,\n",
      "    \"book_hotel\": 116,\n",
      "    \"calculator\": 138,\n",
      "    \"calendar\": 60,\n",
      "    \"calendar_update\": 105,\n",
      "    \"calories\": 135,\n",
      "    \"cancel\": 147,\n",
      "    \"cancel_reservation\": 67,\n",
      "    \"car_rental\": 40,\n",
      "    \"card_declined\": 49,\n",
      "    \"carry_on\": 62,\n",
      "    \"change_accent\": 51,\n",
      "    \"change_ai_name\": 55,\n",
      "    \"change_language\": 29,\n",
      "    \"change_speed\": 119,\n",
      "    \"change_user_name\": 144,\n",
      "    \"change_volume\": 150,\n",
      "    \"confirm_reservation\": 85,\n",
      "    \"cook_time\": 86,\n",
      "    \"credit_limit\": 41,\n",
      "    \"credit_limit_change\": 109,\n",
      "    \"credit_score\": 69,\n",
      "    \"current_location\": 136,\n",
      "    \"damaged_card\": 87,\n",
      "    \"date\": 95,\n",
      "    \"definition\": 139,\n",
      "    \"direct_deposit\": 108,\n",
      "    \"directions\": 72,\n",
      "    \"distance\": 78,\n",
      "    \"do_you_have_pets\": 34,\n",
      "    \"exchange_rate\": 38,\n",
      "    \"expiration_date\": 44,\n",
      "    \"find_phone\": 81,\n",
      "    \"flight_status\": 80,\n",
      "    \"flip_coin\": 33,\n",
      "    \"food_last\": 54,\n",
      "    \"freeze_account\": 20,\n",
      "    \"fun_fact\": 129,\n",
      "    \"gas\": 110,\n",
      "    \"gas_type\": 8,\n",
      "    \"goodbye\": 114,\n",
      "    \"greeting\": 82,\n",
      "    \"how_busy\": 102,\n",
      "    \"how_old_are_you\": 99,\n",
      "    \"improve_credit_score\": 28,\n",
      "    \"income\": 93,\n",
      "    \"ingredient_substitution\": 134,\n",
      "    \"ingredients_list\": 112,\n",
      "    \"insurance\": 74,\n",
      "    \"insurance_change\": 64,\n",
      "    \"interest_rate\": 7,\n",
      "    \"international_fees\": 137,\n",
      "    \"international_visa\": 59,\n",
      "    \"jump_start\": 17,\n",
      "    \"last_maintenance\": 37,\n",
      "    \"lost_luggage\": 113,\n",
      "    \"make_call\": 25,\n",
      "    \"maybe\": 121,\n",
      "    \"meal_suggestion\": 46,\n",
      "    \"meaning_of_life\": 22,\n",
      "    \"measurement_conversion\": 31,\n",
      "    \"meeting_schedule\": 19,\n",
      "    \"min_payment\": 143,\n",
      "    \"mpg\": 142,\n",
      "    \"new_card\": 91,\n",
      "    \"next_holiday\": 140,\n",
      "    \"next_song\": 118,\n",
      "    \"no\": 30,\n",
      "    \"nutrition_info\": 1,\n",
      "    \"oil_change_how\": 3,\n",
      "    \"oil_change_when\": 123,\n",
      "    \"oos\": 42,\n",
      "    \"order\": 16,\n",
      "    \"order_checks\": 127,\n",
      "    \"order_status\": 84,\n",
      "    \"pay_bill\": 111,\n",
      "    \"payday\": 79,\n",
      "    \"pin_change\": 89,\n",
      "    \"play_music\": 106,\n",
      "    \"plug_type\": 120,\n",
      "    \"pto_balance\": 126,\n",
      "    \"pto_request\": 97,\n",
      "    \"pto_request_status\": 101,\n",
      "    \"pto_used\": 148,\n",
      "    \"recipe\": 104,\n",
      "    \"redeem_rewards\": 6,\n",
      "    \"reminder\": 76,\n",
      "    \"reminder_update\": 53,\n",
      "    \"repeat\": 13,\n",
      "    \"replacement_card_duration\": 90,\n",
      "    \"report_fraud\": 70,\n",
      "    \"report_lost_card\": 12,\n",
      "    \"reset_settings\": 88,\n",
      "    \"restaurant_reservation\": 23,\n",
      "    \"restaurant_reviews\": 0,\n",
      "    \"restaurant_suggestion\": 145,\n",
      "    \"rewards_balance\": 50,\n",
      "    \"roll_dice\": 92,\n",
      "    \"rollover_401k\": 100,\n",
      "    \"routing\": 45,\n",
      "    \"schedule_maintenance\": 131,\n",
      "    \"schedule_meeting\": 18,\n",
      "    \"share_location\": 58,\n",
      "    \"shopping_list\": 43,\n",
      "    \"shopping_list_update\": 125,\n",
      "    \"smart_home\": 10,\n",
      "    \"spelling\": 73,\n",
      "    \"spending_history\": 71,\n",
      "    \"sync_device\": 130,\n",
      "    \"taxes\": 94,\n",
      "    \"tell_joke\": 36,\n",
      "    \"text\": 26,\n",
      "    \"thank_you\": 124,\n",
      "    \"time\": 4,\n",
      "    \"timer\": 32,\n",
      "    \"timezone\": 66,\n",
      "    \"tire_change\": 47,\n",
      "    \"tire_pressure\": 98,\n",
      "    \"todo_list\": 48,\n",
      "    \"todo_list_update\": 65,\n",
      "    \"traffic\": 24,\n",
      "    \"transactions\": 68,\n",
      "    \"transfer\": 133,\n",
      "    \"translate\": 61,\n",
      "    \"travel_alert\": 128,\n",
      "    \"travel_notification\": 146,\n",
      "    \"travel_suggestion\": 149,\n",
      "    \"uber\": 39,\n",
      "    \"update_playlist\": 141,\n",
      "    \"user_name\": 11,\n",
      "    \"vaccines\": 52,\n",
      "    \"w2\": 122,\n",
      "    \"weather\": 5,\n",
      "    \"what_are_your_hobbies\": 15,\n",
      "    \"what_can_i_ask_you\": 115,\n",
      "    \"what_is_your_name\": 75,\n",
      "    \"what_song\": 21,\n",
      "    \"where_are_you_from\": 77,\n",
      "    \"whisper_mode\": 14,\n",
      "    \"who_do_you_work_for\": 57,\n",
      "    \"who_made_you\": 96,\n",
      "    \"yes\": 107\n",
      "  },\n",
      "  \"max_position_embeddings\": 512,\n",
      "  \"model_type\": \"distilbert\",\n",
      "  \"n_heads\": 12,\n",
      "  \"n_layers\": 6,\n",
      "  \"pad_token_id\": 0,\n",
      "  \"problem_type\": \"single_label_classification\",\n",
      "  \"qa_dropout\": 0.1,\n",
      "  \"seq_classif_dropout\": 0.2,\n",
      "  \"sinusoidal_pos_embds\": false,\n",
      "  \"tie_weights_\": true,\n",
      "  \"torch_dtype\": \"float32\",\n",
      "  \"transformers_version\": \"4.24.0\",\n",
      "  \"vocab_size\": 30522\n",
      "}\n",
      "\n",
      "loading configuration file distilbert-base-uncased-finetuned-clinc/config.json\n",
      "Model config DistilBertConfig {\n",
      "  \"_name_or_path\": \"distilbert-base-uncased-finetuned-clinc\",\n",
      "  \"activation\": \"gelu\",\n",
      "  \"architectures\": [\n",
      "    \"DistilBertForSequenceClassification\"\n",
      "  ],\n",
      "  \"attention_dropout\": 0.1,\n",
      "  \"dim\": 768,\n",
      "  \"dropout\": 0.1,\n",
      "  \"hidden_dim\": 3072,\n",
      "  \"id2label\": {\n",
      "    \"0\": \"restaurant_reviews\",\n",
      "    \"1\": \"nutrition_info\",\n",
      "    \"2\": \"account_blocked\",\n",
      "    \"3\": \"oil_change_how\",\n",
      "    \"4\": \"time\",\n",
      "    \"5\": \"weather\",\n",
      "    \"6\": \"redeem_rewards\",\n",
      "    \"7\": \"interest_rate\",\n",
      "    \"8\": \"gas_type\",\n",
      "    \"9\": \"accept_reservations\",\n",
      "    \"10\": \"smart_home\",\n",
      "    \"11\": \"user_name\",\n",
      "    \"12\": \"report_lost_card\",\n",
      "    \"13\": \"repeat\",\n",
      "    \"14\": \"whisper_mode\",\n",
      "    \"15\": \"what_are_your_hobbies\",\n",
      "    \"16\": \"order\",\n",
      "    \"17\": \"jump_start\",\n",
      "    \"18\": \"schedule_meeting\",\n",
      "    \"19\": \"meeting_schedule\",\n",
      "    \"20\": \"freeze_account\",\n",
      "    \"21\": \"what_song\",\n",
      "    \"22\": \"meaning_of_life\",\n",
      "    \"23\": \"restaurant_reservation\",\n",
      "    \"24\": \"traffic\",\n",
      "    \"25\": \"make_call\",\n",
      "    \"26\": \"text\",\n",
      "    \"27\": \"bill_balance\",\n",
      "    \"28\": \"improve_credit_score\",\n",
      "    \"29\": \"change_language\",\n",
      "    \"30\": \"no\",\n",
      "    \"31\": \"measurement_conversion\",\n",
      "    \"32\": \"timer\",\n",
      "    \"33\": \"flip_coin\",\n",
      "    \"34\": \"do_you_have_pets\",\n",
      "    \"35\": \"balance\",\n",
      "    \"36\": \"tell_joke\",\n",
      "    \"37\": \"last_maintenance\",\n",
      "    \"38\": \"exchange_rate\",\n",
      "    \"39\": \"uber\",\n",
      "    \"40\": \"car_rental\",\n",
      "    \"41\": \"credit_limit\",\n",
      "    \"42\": \"oos\",\n",
      "    \"43\": \"shopping_list\",\n",
      "    \"44\": \"expiration_date\",\n",
      "    \"45\": \"routing\",\n",
      "    \"46\": \"meal_suggestion\",\n",
      "    \"47\": \"tire_change\",\n",
      "    \"48\": \"todo_list\",\n",
      "    \"49\": \"card_declined\",\n",
      "    \"50\": \"rewards_balance\",\n",
      "    \"51\": \"change_accent\",\n",
      "    \"52\": \"vaccines\",\n",
      "    \"53\": \"reminder_update\",\n",
      "    \"54\": \"food_last\",\n",
      "    \"55\": \"change_ai_name\",\n",
      "    \"56\": \"bill_due\",\n",
      "    \"57\": \"who_do_you_work_for\",\n",
      "    \"58\": \"share_location\",\n",
      "    \"59\": \"international_visa\",\n",
      "    \"60\": \"calendar\",\n",
      "    \"61\": \"translate\",\n",
      "    \"62\": \"carry_on\",\n",
      "    \"63\": \"book_flight\",\n",
      "    \"64\": \"insurance_change\",\n",
      "    \"65\": \"todo_list_update\",\n",
      "    \"66\": \"timezone\",\n",
      "    \"67\": \"cancel_reservation\",\n",
      "    \"68\": \"transactions\",\n",
      "    \"69\": \"credit_score\",\n",
      "    \"70\": \"report_fraud\",\n",
      "    \"71\": \"spending_history\",\n",
      "    \"72\": \"directions\",\n",
      "    \"73\": \"spelling\",\n",
      "    \"74\": \"insurance\",\n",
      "    \"75\": \"what_is_your_name\",\n",
      "    \"76\": \"reminder\",\n",
      "    \"77\": \"where_are_you_from\",\n",
      "    \"78\": \"distance\",\n",
      "    \"79\": \"payday\",\n",
      "    \"80\": \"flight_status\",\n",
      "    \"81\": \"find_phone\",\n",
      "    \"82\": \"greeting\",\n",
      "    \"83\": \"alarm\",\n",
      "    \"84\": \"order_status\",\n",
      "    \"85\": \"confirm_reservation\",\n",
      "    \"86\": \"cook_time\",\n",
      "    \"87\": \"damaged_card\",\n",
      "    \"88\": \"reset_settings\",\n",
      "    \"89\": \"pin_change\",\n",
      "    \"90\": \"replacement_card_duration\",\n",
      "    \"91\": \"new_card\",\n",
      "    \"92\": \"roll_dice\",\n",
      "    \"93\": \"income\",\n",
      "    \"94\": \"taxes\",\n",
      "    \"95\": \"date\",\n",
      "    \"96\": \"who_made_you\",\n",
      "    \"97\": \"pto_request\",\n",
      "    \"98\": \"tire_pressure\",\n",
      "    \"99\": \"how_old_are_you\",\n",
      "    \"100\": \"rollover_401k\",\n",
      "    \"101\": \"pto_request_status\",\n",
      "    \"102\": \"how_busy\",\n",
      "    \"103\": \"application_status\",\n",
      "    \"104\": \"recipe\",\n",
      "    \"105\": \"calendar_update\",\n",
      "    \"106\": \"play_music\",\n",
      "    \"107\": \"yes\",\n",
      "    \"108\": \"direct_deposit\",\n",
      "    \"109\": \"credit_limit_change\",\n",
      "    \"110\": \"gas\",\n",
      "    \"111\": \"pay_bill\",\n",
      "    \"112\": \"ingredients_list\",\n",
      "    \"113\": \"lost_luggage\",\n",
      "    \"114\": \"goodbye\",\n",
      "    \"115\": \"what_can_i_ask_you\",\n",
      "    \"116\": \"book_hotel\",\n",
      "    \"117\": \"are_you_a_bot\",\n",
      "    \"118\": \"next_song\",\n",
      "    \"119\": \"change_speed\",\n",
      "    \"120\": \"plug_type\",\n",
      "    \"121\": \"maybe\",\n",
      "    \"122\": \"w2\",\n",
      "    \"123\": \"oil_change_when\",\n",
      "    \"124\": \"thank_you\",\n",
      "    \"125\": \"shopping_list_update\",\n",
      "    \"126\": \"pto_balance\",\n",
      "    \"127\": \"order_checks\",\n",
      "    \"128\": \"travel_alert\",\n",
      "    \"129\": \"fun_fact\",\n",
      "    \"130\": \"sync_device\",\n",
      "    \"131\": \"schedule_maintenance\",\n",
      "    \"132\": \"apr\",\n",
      "    \"133\": \"transfer\",\n",
      "    \"134\": \"ingredient_substitution\",\n",
      "    \"135\": \"calories\",\n",
      "    \"136\": \"current_location\",\n",
      "    \"137\": \"international_fees\",\n",
      "    \"138\": \"calculator\",\n",
      "    \"139\": \"definition\",\n",
      "    \"140\": \"next_holiday\",\n",
      "    \"141\": \"update_playlist\",\n",
      "    \"142\": \"mpg\",\n",
      "    \"143\": \"min_payment\",\n",
      "    \"144\": \"change_user_name\",\n",
      "    \"145\": \"restaurant_suggestion\",\n",
      "    \"146\": \"travel_notification\",\n",
      "    \"147\": \"cancel\",\n",
      "    \"148\": \"pto_used\",\n",
      "    \"149\": \"travel_suggestion\",\n",
      "    \"150\": \"change_volume\"\n",
      "  },\n",
      "  \"initializer_range\": 0.02,\n",
      "  \"label2id\": {\n",
      "    \"accept_reservations\": 9,\n",
      "    \"account_blocked\": 2,\n",
      "    \"alarm\": 83,\n",
      "    \"application_status\": 103,\n",
      "    \"apr\": 132,\n",
      "    \"are_you_a_bot\": 117,\n",
      "    \"balance\": 35,\n",
      "    \"bill_balance\": 27,\n",
      "    \"bill_due\": 56,\n",
      "    \"book_flight\": 63,\n",
      "    \"book_hotel\": 116,\n",
      "    \"calculator\": 138,\n",
      "    \"calendar\": 60,\n",
      "    \"calendar_update\": 105,\n",
      "    \"calories\": 135,\n",
      "    \"cancel\": 147,\n",
      "    \"cancel_reservation\": 67,\n",
      "    \"car_rental\": 40,\n",
      "    \"card_declined\": 49,\n",
      "    \"carry_on\": 62,\n",
      "    \"change_accent\": 51,\n",
      "    \"change_ai_name\": 55,\n",
      "    \"change_language\": 29,\n",
      "    \"change_speed\": 119,\n",
      "    \"change_user_name\": 144,\n",
      "    \"change_volume\": 150,\n",
      "    \"confirm_reservation\": 85,\n",
      "    \"cook_time\": 86,\n",
      "    \"credit_limit\": 41,\n",
      "    \"credit_limit_change\": 109,\n",
      "    \"credit_score\": 69,\n",
      "    \"current_location\": 136,\n",
      "    \"damaged_card\": 87,\n",
      "    \"date\": 95,\n",
      "    \"definition\": 139,\n",
      "    \"direct_deposit\": 108,\n",
      "    \"directions\": 72,\n",
      "    \"distance\": 78,\n",
      "    \"do_you_have_pets\": 34,\n",
      "    \"exchange_rate\": 38,\n",
      "    \"expiration_date\": 44,\n",
      "    \"find_phone\": 81,\n",
      "    \"flight_status\": 80,\n",
      "    \"flip_coin\": 33,\n",
      "    \"food_last\": 54,\n",
      "    \"freeze_account\": 20,\n",
      "    \"fun_fact\": 129,\n",
      "    \"gas\": 110,\n",
      "    \"gas_type\": 8,\n",
      "    \"goodbye\": 114,\n",
      "    \"greeting\": 82,\n",
      "    \"how_busy\": 102,\n",
      "    \"how_old_are_you\": 99,\n",
      "    \"improve_credit_score\": 28,\n",
      "    \"income\": 93,\n",
      "    \"ingredient_substitution\": 134,\n",
      "    \"ingredients_list\": 112,\n",
      "    \"insurance\": 74,\n",
      "    \"insurance_change\": 64,\n",
      "    \"interest_rate\": 7,\n",
      "    \"international_fees\": 137,\n",
      "    \"international_visa\": 59,\n",
      "    \"jump_start\": 17,\n",
      "    \"last_maintenance\": 37,\n",
      "    \"lost_luggage\": 113,\n",
      "    \"make_call\": 25,\n",
      "    \"maybe\": 121,\n",
      "    \"meal_suggestion\": 46,\n",
      "    \"meaning_of_life\": 22,\n",
      "    \"measurement_conversion\": 31,\n",
      "    \"meeting_schedule\": 19,\n",
      "    \"min_payment\": 143,\n",
      "    \"mpg\": 142,\n",
      "    \"new_card\": 91,\n",
      "    \"next_holiday\": 140,\n",
      "    \"next_song\": 118,\n",
      "    \"no\": 30,\n",
      "    \"nutrition_info\": 1,\n",
      "    \"oil_change_how\": 3,\n",
      "    \"oil_change_when\": 123,\n",
      "    \"oos\": 42,\n",
      "    \"order\": 16,\n",
      "    \"order_checks\": 127,\n",
      "    \"order_status\": 84,\n",
      "    \"pay_bill\": 111,\n",
      "    \"payday\": 79,\n",
      "    \"pin_change\": 89,\n",
      "    \"play_music\": 106,\n",
      "    \"plug_type\": 120,\n",
      "    \"pto_balance\": 126,\n",
      "    \"pto_request\": 97,\n",
      "    \"pto_request_status\": 101,\n",
      "    \"pto_used\": 148,\n",
      "    \"recipe\": 104,\n",
      "    \"redeem_rewards\": 6,\n",
      "    \"reminder\": 76,\n",
      "    \"reminder_update\": 53,\n",
      "    \"repeat\": 13,\n",
      "    \"replacement_card_duration\": 90,\n",
      "    \"report_fraud\": 70,\n",
      "    \"report_lost_card\": 12,\n",
      "    \"reset_settings\": 88,\n",
      "    \"restaurant_reservation\": 23,\n",
      "    \"restaurant_reviews\": 0,\n",
      "    \"restaurant_suggestion\": 145,\n",
      "    \"rewards_balance\": 50,\n",
      "    \"roll_dice\": 92,\n",
      "    \"rollover_401k\": 100,\n",
      "    \"routing\": 45,\n",
      "    \"schedule_maintenance\": 131,\n",
      "    \"schedule_meeting\": 18,\n",
      "    \"share_location\": 58,\n",
      "    \"shopping_list\": 43,\n",
      "    \"shopping_list_update\": 125,\n",
      "    \"smart_home\": 10,\n",
      "    \"spelling\": 73,\n",
      "    \"spending_history\": 71,\n",
      "    \"sync_device\": 130,\n",
      "    \"taxes\": 94,\n",
      "    \"tell_joke\": 36,\n",
      "    \"text\": 26,\n",
      "    \"thank_you\": 124,\n",
      "    \"time\": 4,\n",
      "    \"timer\": 32,\n",
      "    \"timezone\": 66,\n",
      "    \"tire_change\": 47,\n",
      "    \"tire_pressure\": 98,\n",
      "    \"todo_list\": 48,\n",
      "    \"todo_list_update\": 65,\n",
      "    \"traffic\": 24,\n",
      "    \"transactions\": 68,\n",
      "    \"transfer\": 133,\n",
      "    \"translate\": 61,\n",
      "    \"travel_alert\": 128,\n",
      "    \"travel_notification\": 146,\n",
      "    \"travel_suggestion\": 149,\n",
      "    \"uber\": 39,\n",
      "    \"update_playlist\": 141,\n",
      "    \"user_name\": 11,\n",
      "    \"vaccines\": 52,\n",
      "    \"w2\": 122,\n",
      "    \"weather\": 5,\n",
      "    \"what_are_your_hobbies\": 15,\n",
      "    \"what_can_i_ask_you\": 115,\n",
      "    \"what_is_your_name\": 75,\n",
      "    \"what_song\": 21,\n",
      "    \"where_are_you_from\": 77,\n",
      "    \"whisper_mode\": 14,\n",
      "    \"who_do_you_work_for\": 57,\n",
      "    \"who_made_you\": 96,\n",
      "    \"yes\": 107\n",
      "  },\n",
      "  \"max_position_embeddings\": 512,\n",
      "  \"model_type\": \"distilbert\",\n",
      "  \"n_heads\": 12,\n",
      "  \"n_layers\": 6,\n",
      "  \"pad_token_id\": 0,\n",
      "  \"problem_type\": \"single_label_classification\",\n",
      "  \"qa_dropout\": 0.1,\n",
      "  \"seq_classif_dropout\": 0.2,\n",
      "  \"sinusoidal_pos_embds\": false,\n",
      "  \"tie_weights_\": true,\n",
      "  \"torch_dtype\": \"float32\",\n",
      "  \"transformers_version\": \"4.24.0\",\n",
      "  \"vocab_size\": 30522\n",
      "}\n",
      "\n",
      "loading weights file distilbert-base-uncased-finetuned-clinc/pytorch_model.bin\n",
      "All model checkpoint weights were used when initializing DistilBertForSequenceClassification.\n",
      "\n",
      "All the weights of DistilBertForSequenceClassification were initialized from the model checkpoint at distilbert-base-uncased-finetuned-clinc.\n",
      "If your task is similar to the task the model of the checkpoint was trained on, you can already use DistilBertForSequenceClassification for predictions without further training.\n",
      "loading file vocab.txt\n",
      "loading file tokenizer.json\n",
      "loading file added_tokens.json\n",
      "loading file special_tokens_map.json\n",
      "loading file tokenizer_config.json\n"
     ]
    },
    {
     "data": {
      "text/plain": [
       "DistilBertForSequenceClassification(\n",
       "  (distilbert): DistilBertModel(\n",
       "    (embeddings): Embeddings(\n",
       "      (word_embeddings): Embedding(30522, 768, padding_idx=0)\n",
       "      (position_embeddings): Embedding(512, 768)\n",
       "      (LayerNorm): LayerNorm((768,), eps=1e-12, elementwise_affine=True)\n",
       "      (dropout): Dropout(p=0.1, inplace=False)\n",
       "    )\n",
       "    (transformer): Transformer(\n",
       "      (layer): ModuleList(\n",
       "        (0): TransformerBlock(\n",
       "          (attention): MultiHeadSelfAttention(\n",
       "            (dropout): Dropout(p=0.1, inplace=False)\n",
       "            (q_lin): Linear(in_features=768, out_features=768, bias=True)\n",
       "            (k_lin): Linear(in_features=768, out_features=768, bias=True)\n",
       "            (v_lin): Linear(in_features=768, out_features=768, bias=True)\n",
       "            (out_lin): Linear(in_features=768, out_features=768, bias=True)\n",
       "          )\n",
       "          (sa_layer_norm): LayerNorm((768,), eps=1e-12, elementwise_affine=True)\n",
       "          (ffn): FFN(\n",
       "            (dropout): Dropout(p=0.1, inplace=False)\n",
       "            (lin1): Linear(in_features=768, out_features=3072, bias=True)\n",
       "            (lin2): Linear(in_features=3072, out_features=768, bias=True)\n",
       "            (activation): GELUActivation()\n",
       "          )\n",
       "          (output_layer_norm): LayerNorm((768,), eps=1e-12, elementwise_affine=True)\n",
       "        )\n",
       "        (1): TransformerBlock(\n",
       "          (attention): MultiHeadSelfAttention(\n",
       "            (dropout): Dropout(p=0.1, inplace=False)\n",
       "            (q_lin): Linear(in_features=768, out_features=768, bias=True)\n",
       "            (k_lin): Linear(in_features=768, out_features=768, bias=True)\n",
       "            (v_lin): Linear(in_features=768, out_features=768, bias=True)\n",
       "            (out_lin): Linear(in_features=768, out_features=768, bias=True)\n",
       "          )\n",
       "          (sa_layer_norm): LayerNorm((768,), eps=1e-12, elementwise_affine=True)\n",
       "          (ffn): FFN(\n",
       "            (dropout): Dropout(p=0.1, inplace=False)\n",
       "            (lin1): Linear(in_features=768, out_features=3072, bias=True)\n",
       "            (lin2): Linear(in_features=3072, out_features=768, bias=True)\n",
       "            (activation): GELUActivation()\n",
       "          )\n",
       "          (output_layer_norm): LayerNorm((768,), eps=1e-12, elementwise_affine=True)\n",
       "        )\n",
       "        (2): TransformerBlock(\n",
       "          (attention): MultiHeadSelfAttention(\n",
       "            (dropout): Dropout(p=0.1, inplace=False)\n",
       "            (q_lin): Linear(in_features=768, out_features=768, bias=True)\n",
       "            (k_lin): Linear(in_features=768, out_features=768, bias=True)\n",
       "            (v_lin): Linear(in_features=768, out_features=768, bias=True)\n",
       "            (out_lin): Linear(in_features=768, out_features=768, bias=True)\n",
       "          )\n",
       "          (sa_layer_norm): LayerNorm((768,), eps=1e-12, elementwise_affine=True)\n",
       "          (ffn): FFN(\n",
       "            (dropout): Dropout(p=0.1, inplace=False)\n",
       "            (lin1): Linear(in_features=768, out_features=3072, bias=True)\n",
       "            (lin2): Linear(in_features=3072, out_features=768, bias=True)\n",
       "            (activation): GELUActivation()\n",
       "          )\n",
       "          (output_layer_norm): LayerNorm((768,), eps=1e-12, elementwise_affine=True)\n",
       "        )\n",
       "        (3): TransformerBlock(\n",
       "          (attention): MultiHeadSelfAttention(\n",
       "            (dropout): Dropout(p=0.1, inplace=False)\n",
       "            (q_lin): Linear(in_features=768, out_features=768, bias=True)\n",
       "            (k_lin): Linear(in_features=768, out_features=768, bias=True)\n",
       "            (v_lin): Linear(in_features=768, out_features=768, bias=True)\n",
       "            (out_lin): Linear(in_features=768, out_features=768, bias=True)\n",
       "          )\n",
       "          (sa_layer_norm): LayerNorm((768,), eps=1e-12, elementwise_affine=True)\n",
       "          (ffn): FFN(\n",
       "            (dropout): Dropout(p=0.1, inplace=False)\n",
       "            (lin1): Linear(in_features=768, out_features=3072, bias=True)\n",
       "            (lin2): Linear(in_features=3072, out_features=768, bias=True)\n",
       "            (activation): GELUActivation()\n",
       "          )\n",
       "          (output_layer_norm): LayerNorm((768,), eps=1e-12, elementwise_affine=True)\n",
       "        )\n",
       "        (4): TransformerBlock(\n",
       "          (attention): MultiHeadSelfAttention(\n",
       "            (dropout): Dropout(p=0.1, inplace=False)\n",
       "            (q_lin): Linear(in_features=768, out_features=768, bias=True)\n",
       "            (k_lin): Linear(in_features=768, out_features=768, bias=True)\n",
       "            (v_lin): Linear(in_features=768, out_features=768, bias=True)\n",
       "            (out_lin): Linear(in_features=768, out_features=768, bias=True)\n",
       "          )\n",
       "          (sa_layer_norm): LayerNorm((768,), eps=1e-12, elementwise_affine=True)\n",
       "          (ffn): FFN(\n",
       "            (dropout): Dropout(p=0.1, inplace=False)\n",
       "            (lin1): Linear(in_features=768, out_features=3072, bias=True)\n",
       "            (lin2): Linear(in_features=3072, out_features=768, bias=True)\n",
       "            (activation): GELUActivation()\n",
       "          )\n",
       "          (output_layer_norm): LayerNorm((768,), eps=1e-12, elementwise_affine=True)\n",
       "        )\n",
       "        (5): TransformerBlock(\n",
       "          (attention): MultiHeadSelfAttention(\n",
       "            (dropout): Dropout(p=0.1, inplace=False)\n",
       "            (q_lin): Linear(in_features=768, out_features=768, bias=True)\n",
       "            (k_lin): Linear(in_features=768, out_features=768, bias=True)\n",
       "            (v_lin): Linear(in_features=768, out_features=768, bias=True)\n",
       "            (out_lin): Linear(in_features=768, out_features=768, bias=True)\n",
       "          )\n",
       "          (sa_layer_norm): LayerNorm((768,), eps=1e-12, elementwise_affine=True)\n",
       "          (ffn): FFN(\n",
       "            (dropout): Dropout(p=0.1, inplace=False)\n",
       "            (lin1): Linear(in_features=768, out_features=3072, bias=True)\n",
       "            (lin2): Linear(in_features=3072, out_features=768, bias=True)\n",
       "            (activation): GELUActivation()\n",
       "          )\n",
       "          (output_layer_norm): LayerNorm((768,), eps=1e-12, elementwise_affine=True)\n",
       "        )\n",
       "      )\n",
       "    )\n",
       "  )\n",
       "  (pre_classifier): Linear(in_features=768, out_features=768, bias=True)\n",
       "  (classifier): Linear(in_features=768, out_features=151, bias=True)\n",
       "  (dropout): Dropout(p=0.2, inplace=False)\n",
       ")"
      ]
     },
     "execution_count": 35,
     "metadata": {},
     "output_type": "execute_result"
    }
   ],
   "source": [
    "finetuned_ckpt = \"distilbert-base-uncased-finetuned-clinc\"\n",
    "pipe = pipeline(\"text-classification\", model=finetuned_ckpt, device=0)\n",
    "pipe.model"
   ]
  },
  {
   "cell_type": "code",
   "execution_count": 36,
   "metadata": {},
   "outputs": [
    {
     "name": "stdout",
     "output_type": "stream",
     "text": [
      "Model size (MB) - 255.88\n"
     ]
    },
    {
     "name": "stderr",
     "output_type": "stream",
     "text": [
      "/usr/local/lib/python3.8/dist-packages/transformers/pipelines/base.py:1043: UserWarning: You seem to be using the pipelines sequentially on GPU. In order to maximize efficiency please use a dataset\n",
      "  warnings.warn(\n"
     ]
    },
    {
     "name": "stdout",
     "output_type": "stream",
     "text": [
      "Average latency (ms) - 3.58 +\\- 0.14\n",
      "Accuracy on test set - 0.858\n",
      "CPU times: user 20.6 s, sys: 140 ms, total: 20.7 s\n",
      "Wall time: 20.7 s\n"
     ]
    }
   ],
   "source": [
    "%%time\n",
    "optim_type = \"DistilBERT\"\n",
    "pb = PerformanceBenchmark(pipe, clinc[\"test\"], optim_type=optim_type)\n",
    "perf_metrics.update(pb.run_benchmark())"
   ]
  },
  {
   "cell_type": "code",
   "execution_count": 37,
   "metadata": {},
   "outputs": [
    {
     "data": {
      "image/png": "[encoded data removed]",
      "text/plain": [
       "<Figure size 640x480 with 1 Axes>"
      ]
     },
     "metadata": {},
     "output_type": "display_data"
    }
   ],
   "source": [
    "# Plot the latency vs accuracy with the radius being the size of the model on disk\n",
    "plot_metrics(perf_metrics, \"DistilBERT\")"
   ]
  },
  {
   "cell_type": "markdown",
   "metadata": {},
   "source": [
    "## Now let's try quantization"
   ]
  },
  {
   "cell_type": "markdown",
   "metadata": {},
   "source": [
    "At this time (November 2022), torch doesn't support quantization on the gpu. It is coming. <br>\n",
    "It is still instructive to compare the sizes and also notice how close in speed it is to the gpu version of BERT"
   ]
  },
  {
   "cell_type": "markdown",
   "metadata": {},
   "source": [
    "The basic idea behind quantization is that we can “discretize” the floating-point values f in each tensor by mapping their range $[f_{max}, f_{min}]$ into a smaller one $[q_{max}, q_{min}]$ of fixed-point numbers , and linearly distributing all values in between. "
   ]
  },
  {
   "cell_type": "markdown",
   "metadata": {},
   "source": [
    "One of the main reasons why transformers (and deep neural networks more generally) are prime candidates for quantization is that the weights and activations tend to take values in relatively small ranges. This means we don’t have to squeeze the whole range of possible FP32 numbers into, say, the $2^8 = 256$  numbers represented by INT8. To see this, let’s pick out one of the attention weight matrices from our distilled model and plot the frequency distribution of the values:"
   ]
  },
  {
   "cell_type": "code",
   "execution_count": 38,
   "metadata": {},
   "outputs": [
    {
     "data": {
      "image/png": "[encoded data removed]",
      "text/plain": [
       "<Figure size 640x480 with 1 Axes>"
      ]
     },
     "metadata": {},
     "output_type": "display_data"
    }
   ],
   "source": [
    "state_dict = pipe.model.state_dict()\n",
    "weights = state_dict[\"distilbert.transformer.layer.0.attention.out_lin.weight\"]\n",
    "plt.hist(weights.cpu().flatten().numpy(), bins=250, range=(-0.3,0.3), edgecolor=\"C0\")\n",
    "plt.show()"
   ]
  },
  {
   "cell_type": "markdown",
   "metadata": {},
   "source": [
    "The values of the weights are distributed mostly in the range $[-0.1, 0.1]$ <br>\n",
    "We can quantize this tensor as a signed 8-bit integer with the range $[-128, 127]$\n",
    "We keep the zero point at zero (might need to be shifted in some cases) and calculate the scaling factor"
   ]
  },
  {
   "cell_type": "code",
   "execution_count": 39,
   "metadata": {},
   "outputs": [
    {
     "data": {
      "text/plain": [
       "tensor(0.0053, device='cuda:0')"
      ]
     },
     "execution_count": 39,
     "metadata": {},
     "output_type": "execute_result"
    }
   ],
   "source": [
    "zero_point = 0\n",
    "qmin = -128\n",
    "qmax = 127\n",
    "scale = (weights.max() - weights.min()) / (qmax - qmin)\n",
    "scale"
   ]
  },
  {
   "cell_type": "markdown",
   "metadata": {},
   "source": [
    "The quantization is done by dividing all the weights by the scaling factor and shifting to the zero point and then clamping the result into the range $[q_{min}, q_{max}]$. The result is then rounded to the nearest integer value and then cast into an 8 bit number."
   ]
  },
  {
   "cell_type": "code",
   "execution_count": 40,
   "metadata": {},
   "outputs": [
    {
     "data": {
      "text/plain": [
       "tensor([[ -5.,  -8.,   0.,  ...,  -6.,  -4.,   8.],\n",
       "        [  8.,   3.,   1.,  ...,  -4.,   7.,   0.],\n",
       "        [ -9.,  -5.,   5.,  ...,   0.,   6.,  -3.],\n",
       "        ...,\n",
       "        [  5.,   0.,  12.,  ...,  -0.,   6.,  -1.],\n",
       "        [  0.,  -2., -12.,  ...,  12.,  -8., -13.],\n",
       "        [-13.,  -1.,  -9.,  ...,   8.,   2.,  -2.]], device='cuda:0')"
      ]
     },
     "execution_count": 40,
     "metadata": {},
     "output_type": "execute_result"
    }
   ],
   "source": [
    "qweights = (weights / scale + zero_point).clamp(-128, 127).round()\n",
    "qweights"
   ]
  },
  {
   "cell_type": "markdown",
   "metadata": {},
   "source": [
    "This is all simplified by the torch function quantize_per_tensor"
   ]
  },
  {
   "cell_type": "code",
   "execution_count": 41,
   "metadata": {},
   "outputs": [
    {
     "data": {
      "text/plain": [
       "tensor([[ -5,  -8,   0,  ...,  -6,  -4,   8],\n",
       "        [  8,   3,   1,  ...,  -4,   7,   0],\n",
       "        [ -9,  -5,   5,  ...,   0,   6,  -3],\n",
       "        ...,\n",
       "        [  5,   0,  12,  ...,   0,   6,  -1],\n",
       "        [  0,  -2, -12,  ...,  12,  -8, -13],\n",
       "        [-13,  -1,  -9,  ...,   8,   2,  -2]], device='cuda:0',\n",
       "       dtype=torch.int8)"
      ]
     },
     "execution_count": 41,
     "metadata": {},
     "output_type": "execute_result"
    }
   ],
   "source": [
    "from torch import quantize_per_tensor\n",
    "\n",
    "dtype = torch.qint8\n",
    "quantized_weights = quantize_per_tensor(weights, scale, zero_point, dtype)\n",
    "quantized_weights.int_repr()"
   ]
  },
  {
   "cell_type": "code",
   "execution_count": 42,
   "metadata": {},
   "outputs": [
    {
     "data": {
      "image/png": "[encoded data removed]",
      "text/plain": [
       "<Figure size 640x480 with 1 Axes>"
      ]
     },
     "metadata": {},
     "output_type": "display_data"
    }
   ],
   "source": [
    "# Now let's plot the quantized_weights and see what it looks like\n",
    "plt.hist(qweights.cpu().flatten().numpy(), bins=250, range=(-128,127), edgecolor=\"C0\")\n",
    "plt.show()"
   ]
  },
  {
   "cell_type": "code",
   "execution_count": 43,
   "metadata": {},
   "outputs": [
    {
     "data": {
      "image/png": "[encoded data removed]",
      "text/plain": [
       "<Figure size 640x480 with 1 Axes>"
      ]
     },
     "metadata": {},
     "output_type": "display_data"
    }
   ],
   "source": [
    "# Let's zoom in\n",
    "plt.hist(qweights.cpu().flatten().numpy(), bins=250, range=(-25,25), edgecolor=\"C0\")\n",
    "plt.show()"
   ]
  },
  {
   "cell_type": "markdown",
   "metadata": {},
   "source": [
    "The rounding performed in the quantization means that some weight values aren't represented or won't be expressed. <br>\n",
    "This can affect our accuracy, but it may not because the weight differences still cause the activation functions to fire appropriately."
   ]
  },
  {
   "cell_type": "markdown",
   "metadata": {},
   "source": [
    "<img alt=\"Mapping floating-point numbers to 8-bit integers\" width=\"800\" caption=\"Quantizing floating-point numbers as unsigned 8-bit integers (courtesy of Manas Sahni)\" src=\"notebooks/images/chapter08_fp32-to-int8.png\" id=\"fp32toint8\"/>"
   ]
  },
  {
   "cell_type": "markdown",
   "metadata": {},
   "source": [
    "Consider the speed and storage size differences using the weights vs the quantized weights"
   ]
  },
  {
   "cell_type": "code",
   "execution_count": 44,
   "metadata": {},
   "outputs": [
    {
     "name": "stdout",
     "output_type": "stream",
     "text": [
      "CPU times: user 448 µs, sys: 7 µs, total: 455 µs\n",
      "Wall time: 306 µs\n"
     ]
    },
    {
     "data": {
      "text/plain": [
       "tensor([[-0.0176,  0.0078,  0.0203,  ...,  0.0258,  0.0423, -0.0118],\n",
       "        [-0.0662, -0.0078,  0.0096,  ...,  0.0218, -0.0207, -0.0131],\n",
       "        [-0.0007,  0.0154,  0.0218,  ..., -0.0157, -0.0169, -0.0054],\n",
       "        ...,\n",
       "        [-0.0309,  0.0175,  0.0083,  ...,  0.0431,  0.0583,  0.0576],\n",
       "        [-0.0068,  0.0433,  0.0092,  ..., -0.0162, -0.0385, -0.0029],\n",
       "        [-0.0360, -0.0092, -0.0173,  ..., -0.0103,  0.0026, -0.0042]],\n",
       "       device='cuda:0')"
      ]
     },
     "execution_count": 44,
     "metadata": {},
     "output_type": "execute_result"
    }
   ],
   "source": [
    "%%time\n",
    "weights @ weights"
   ]
  },
  {
   "cell_type": "code",
   "execution_count": 45,
   "metadata": {},
   "outputs": [],
   "source": [
    "from torch.nn.quantized import QFunctional"
   ]
  },
  {
   "cell_type": "code",
   "execution_count": 46,
   "metadata": {},
   "outputs": [
    {
     "name": "stdout",
     "output_type": "stream",
     "text": [
      "CPU times: user 104 µs, sys: 2 µs, total: 106 µs\n",
      "Wall time: 133 µs\n"
     ]
    },
    {
     "data": {
      "text/plain": [
       "tensor([[ -584.,   247.,   736.,  ...,   985.,  1486.,  -350.],\n",
       "        [-2359.,  -339.,   452.,  ...,   913.,  -788.,  -620.],\n",
       "        [    5.,   609.,   766.,  ...,  -532.,  -569.,  -131.],\n",
       "        ...,\n",
       "        [-1069.,   595.,   300.,  ...,  1522.,  2132.,  1916.],\n",
       "        [ -268.,  1532.,   306.,  ...,  -523., -1363.,    86.],\n",
       "        [-1241.,  -289.,  -638.,  ...,  -355.,    16.,  -185.]],\n",
       "       device='cuda:0')"
      ]
     },
     "execution_count": 46,
     "metadata": {},
     "output_type": "execute_result"
    }
   ],
   "source": [
    "%%time\n",
    "qweights @ qweights"
   ]
  },
  {
   "cell_type": "markdown",
   "metadata": {},
   "source": [
    "What about the size difference?"
   ]
  },
  {
   "cell_type": "code",
   "execution_count": 47,
   "metadata": {},
   "outputs": [
    {
     "name": "stdout",
     "output_type": "stream",
     "text": [
      "Size of weights:  2359344\n",
      "Size of quantized_weights:  589872\n"
     ]
    }
   ],
   "source": [
    "import sys\n",
    "\n",
    "print(\"Size of weights: \", sys.getsizeof(weights.storage()))\n",
    "print(\"Size of quantized_weights: \", sys.getsizeof(quantized_weights.storage()))"
   ]
  },
  {
   "cell_type": "markdown",
   "metadata": {},
   "source": [
    "That is a dramatic difference in storage size and speed"
   ]
  },
  {
   "cell_type": "markdown",
   "metadata": {},
   "source": [
    "### Let's quantize our model"
   ]
  },
  {
   "cell_type": "markdown",
   "metadata": {},
   "source": [
    "For a full-scale transformer, the compression rate and overall performance depend on which layers are quantized. Changing the precision for all computations introduces disturbances at each point in the model which can compound and affect the model's overall performance. We can restrict our quantization to particular layer types using the quantize_dynamic function. With dynamic quantization, nothing is changed during training. During inference, the weights of the model are converted just ahead of inference time. Thus the matrix multiplications needed for those layers are calculated with optimized functions for smaller integer data types (Note: There are many more integer math units on GPUs than floating point math units). The dynamic conversion can be a performance bottleneck, but is more flexible than a static quantization."
   ]
  },
  {
   "cell_type": "markdown",
   "metadata": {},
   "source": [
    "We will quantize only the linear layers"
   ]
  },
  {
   "cell_type": "code",
   "execution_count": 48,
   "metadata": {},
   "outputs": [
    {
     "name": "stderr",
     "output_type": "stream",
     "text": [
      "loading file vocab.txt\n",
      "loading file tokenizer.json\n",
      "loading file added_tokens.json\n",
      "loading file special_tokens_map.json\n",
      "loading file tokenizer_config.json\n",
      "loading configuration file distilbert-base-uncased-finetuned-clinc/config.json\n",
      "Model config DistilBertConfig {\n",
      "  \"_name_or_path\": \"distilbert-base-uncased-finetuned-clinc\",\n",
      "  \"activation\": \"gelu\",\n",
      "  \"architectures\": [\n",
      "    \"DistilBertForSequenceClassification\"\n",
      "  ],\n",
      "  \"attention_dropout\": 0.1,\n",
      "  \"dim\": 768,\n",
      "  \"dropout\": 0.1,\n",
      "  \"hidden_dim\": 3072,\n",
      "  \"id2label\": {\n",
      "    \"0\": \"restaurant_reviews\",\n",
      "    \"1\": \"nutrition_info\",\n",
      "    \"2\": \"account_blocked\",\n",
      "    \"3\": \"oil_change_how\",\n",
      "    \"4\": \"time\",\n",
      "    \"5\": \"weather\",\n",
      "    \"6\": \"redeem_rewards\",\n",
      "    \"7\": \"interest_rate\",\n",
      "    \"8\": \"gas_type\",\n",
      "    \"9\": \"accept_reservations\",\n",
      "    \"10\": \"smart_home\",\n",
      "    \"11\": \"user_name\",\n",
      "    \"12\": \"report_lost_card\",\n",
      "    \"13\": \"repeat\",\n",
      "    \"14\": \"whisper_mode\",\n",
      "    \"15\": \"what_are_your_hobbies\",\n",
      "    \"16\": \"order\",\n",
      "    \"17\": \"jump_start\",\n",
      "    \"18\": \"schedule_meeting\",\n",
      "    \"19\": \"meeting_schedule\",\n",
      "    \"20\": \"freeze_account\",\n",
      "    \"21\": \"what_song\",\n",
      "    \"22\": \"meaning_of_life\",\n",
      "    \"23\": \"restaurant_reservation\",\n",
      "    \"24\": \"traffic\",\n",
      "    \"25\": \"make_call\",\n",
      "    \"26\": \"text\",\n",
      "    \"27\": \"bill_balance\",\n",
      "    \"28\": \"improve_credit_score\",\n",
      "    \"29\": \"change_language\",\n",
      "    \"30\": \"no\",\n",
      "    \"31\": \"measurement_conversion\",\n",
      "    \"32\": \"timer\",\n",
      "    \"33\": \"flip_coin\",\n",
      "    \"34\": \"do_you_have_pets\",\n",
      "    \"35\": \"balance\",\n",
      "    \"36\": \"tell_joke\",\n",
      "    \"37\": \"last_maintenance\",\n",
      "    \"38\": \"exchange_rate\",\n",
      "    \"39\": \"uber\",\n",
      "    \"40\": \"car_rental\",\n",
      "    \"41\": \"credit_limit\",\n",
      "    \"42\": \"oos\",\n",
      "    \"43\": \"shopping_list\",\n",
      "    \"44\": \"expiration_date\",\n",
      "    \"45\": \"routing\",\n",
      "    \"46\": \"meal_suggestion\",\n",
      "    \"47\": \"tire_change\",\n",
      "    \"48\": \"todo_list\",\n",
      "    \"49\": \"card_declined\",\n",
      "    \"50\": \"rewards_balance\",\n",
      "    \"51\": \"change_accent\",\n",
      "    \"52\": \"vaccines\",\n",
      "    \"53\": \"reminder_update\",\n",
      "    \"54\": \"food_last\",\n",
      "    \"55\": \"change_ai_name\",\n",
      "    \"56\": \"bill_due\",\n",
      "    \"57\": \"who_do_you_work_for\",\n",
      "    \"58\": \"share_location\",\n",
      "    \"59\": \"international_visa\",\n",
      "    \"60\": \"calendar\",\n",
      "    \"61\": \"translate\",\n",
      "    \"62\": \"carry_on\",\n",
      "    \"63\": \"book_flight\",\n",
      "    \"64\": \"insurance_change\",\n",
      "    \"65\": \"todo_list_update\",\n",
      "    \"66\": \"timezone\",\n",
      "    \"67\": \"cancel_reservation\",\n",
      "    \"68\": \"transactions\",\n",
      "    \"69\": \"credit_score\",\n",
      "    \"70\": \"report_fraud\",\n",
      "    \"71\": \"spending_history\",\n",
      "    \"72\": \"directions\",\n",
      "    \"73\": \"spelling\",\n",
      "    \"74\": \"insurance\",\n",
      "    \"75\": \"what_is_your_name\",\n",
      "    \"76\": \"reminder\",\n",
      "    \"77\": \"where_are_you_from\",\n",
      "    \"78\": \"distance\",\n",
      "    \"79\": \"payday\",\n",
      "    \"80\": \"flight_status\",\n",
      "    \"81\": \"find_phone\",\n",
      "    \"82\": \"greeting\",\n",
      "    \"83\": \"alarm\",\n",
      "    \"84\": \"order_status\",\n",
      "    \"85\": \"confirm_reservation\",\n",
      "    \"86\": \"cook_time\",\n",
      "    \"87\": \"damaged_card\",\n",
      "    \"88\": \"reset_settings\",\n",
      "    \"89\": \"pin_change\",\n",
      "    \"90\": \"replacement_card_duration\",\n",
      "    \"91\": \"new_card\",\n",
      "    \"92\": \"roll_dice\",\n",
      "    \"93\": \"income\",\n",
      "    \"94\": \"taxes\",\n",
      "    \"95\": \"date\",\n",
      "    \"96\": \"who_made_you\",\n",
      "    \"97\": \"pto_request\",\n",
      "    \"98\": \"tire_pressure\",\n",
      "    \"99\": \"how_old_are_you\",\n",
      "    \"100\": \"rollover_401k\",\n",
      "    \"101\": \"pto_request_status\",\n",
      "    \"102\": \"how_busy\",\n",
      "    \"103\": \"application_status\",\n",
      "    \"104\": \"recipe\",\n",
      "    \"105\": \"calendar_update\",\n",
      "    \"106\": \"play_music\",\n",
      "    \"107\": \"yes\",\n",
      "    \"108\": \"direct_deposit\",\n",
      "    \"109\": \"credit_limit_change\",\n",
      "    \"110\": \"gas\",\n",
      "    \"111\": \"pay_bill\",\n",
      "    \"112\": \"ingredients_list\",\n",
      "    \"113\": \"lost_luggage\",\n",
      "    \"114\": \"goodbye\",\n",
      "    \"115\": \"what_can_i_ask_you\",\n",
      "    \"116\": \"book_hotel\",\n",
      "    \"117\": \"are_you_a_bot\",\n",
      "    \"118\": \"next_song\",\n",
      "    \"119\": \"change_speed\",\n",
      "    \"120\": \"plug_type\",\n",
      "    \"121\": \"maybe\",\n",
      "    \"122\": \"w2\",\n",
      "    \"123\": \"oil_change_when\",\n",
      "    \"124\": \"thank_you\",\n",
      "    \"125\": \"shopping_list_update\",\n",
      "    \"126\": \"pto_balance\",\n",
      "    \"127\": \"order_checks\",\n",
      "    \"128\": \"travel_alert\",\n",
      "    \"129\": \"fun_fact\",\n",
      "    \"130\": \"sync_device\",\n",
      "    \"131\": \"schedule_maintenance\",\n",
      "    \"132\": \"apr\",\n",
      "    \"133\": \"transfer\",\n",
      "    \"134\": \"ingredient_substitution\",\n",
      "    \"135\": \"calories\",\n",
      "    \"136\": \"current_location\",\n",
      "    \"137\": \"international_fees\",\n",
      "    \"138\": \"calculator\",\n",
      "    \"139\": \"definition\",\n",
      "    \"140\": \"next_holiday\",\n",
      "    \"141\": \"update_playlist\",\n",
      "    \"142\": \"mpg\",\n",
      "    \"143\": \"min_payment\",\n",
      "    \"144\": \"change_user_name\",\n",
      "    \"145\": \"restaurant_suggestion\",\n",
      "    \"146\": \"travel_notification\",\n",
      "    \"147\": \"cancel\",\n",
      "    \"148\": \"pto_used\",\n",
      "    \"149\": \"travel_suggestion\",\n",
      "    \"150\": \"change_volume\"\n",
      "  },\n",
      "  \"initializer_range\": 0.02,\n",
      "  \"label2id\": {\n",
      "    \"accept_reservations\": 9,\n",
      "    \"account_blocked\": 2,\n",
      "    \"alarm\": 83,\n",
      "    \"application_status\": 103,\n",
      "    \"apr\": 132,\n",
      "    \"are_you_a_bot\": 117,\n",
      "    \"balance\": 35,\n",
      "    \"bill_balance\": 27,\n",
      "    \"bill_due\": 56,\n",
      "    \"book_flight\": 63,\n",
      "    \"book_hotel\": 116,\n",
      "    \"calculator\": 138,\n",
      "    \"calendar\": 60,\n",
      "    \"calendar_update\": 105,\n",
      "    \"calories\": 135,\n",
      "    \"cancel\": 147,\n",
      "    \"cancel_reservation\": 67,\n",
      "    \"car_rental\": 40,\n",
      "    \"card_declined\": 49,\n",
      "    \"carry_on\": 62,\n",
      "    \"change_accent\": 51,\n",
      "    \"change_ai_name\": 55,\n",
      "    \"change_language\": 29,\n",
      "    \"change_speed\": 119,\n",
      "    \"change_user_name\": 144,\n",
      "    \"change_volume\": 150,\n",
      "    \"confirm_reservation\": 85,\n",
      "    \"cook_time\": 86,\n",
      "    \"credit_limit\": 41,\n",
      "    \"credit_limit_change\": 109,\n",
      "    \"credit_score\": 69,\n",
      "    \"current_location\": 136,\n",
      "    \"damaged_card\": 87,\n",
      "    \"date\": 95,\n",
      "    \"definition\": 139,\n",
      "    \"direct_deposit\": 108,\n",
      "    \"directions\": 72,\n",
      "    \"distance\": 78,\n",
      "    \"do_you_have_pets\": 34,\n",
      "    \"exchange_rate\": 38,\n",
      "    \"expiration_date\": 44,\n",
      "    \"find_phone\": 81,\n",
      "    \"flight_status\": 80,\n",
      "    \"flip_coin\": 33,\n",
      "    \"food_last\": 54,\n",
      "    \"freeze_account\": 20,\n",
      "    \"fun_fact\": 129,\n",
      "    \"gas\": 110,\n",
      "    \"gas_type\": 8,\n",
      "    \"goodbye\": 114,\n",
      "    \"greeting\": 82,\n",
      "    \"how_busy\": 102,\n",
      "    \"how_old_are_you\": 99,\n",
      "    \"improve_credit_score\": 28,\n",
      "    \"income\": 93,\n",
      "    \"ingredient_substitution\": 134,\n",
      "    \"ingredients_list\": 112,\n",
      "    \"insurance\": 74,\n",
      "    \"insurance_change\": 64,\n",
      "    \"interest_rate\": 7,\n",
      "    \"international_fees\": 137,\n",
      "    \"international_visa\": 59,\n",
      "    \"jump_start\": 17,\n",
      "    \"last_maintenance\": 37,\n",
      "    \"lost_luggage\": 113,\n",
      "    \"make_call\": 25,\n",
      "    \"maybe\": 121,\n",
      "    \"meal_suggestion\": 46,\n",
      "    \"meaning_of_life\": 22,\n",
      "    \"measurement_conversion\": 31,\n",
      "    \"meeting_schedule\": 19,\n",
      "    \"min_payment\": 143,\n",
      "    \"mpg\": 142,\n",
      "    \"new_card\": 91,\n",
      "    \"next_holiday\": 140,\n",
      "    \"next_song\": 118,\n",
      "    \"no\": 30,\n",
      "    \"nutrition_info\": 1,\n",
      "    \"oil_change_how\": 3,\n",
      "    \"oil_change_when\": 123,\n",
      "    \"oos\": 42,\n",
      "    \"order\": 16,\n",
      "    \"order_checks\": 127,\n",
      "    \"order_status\": 84,\n",
      "    \"pay_bill\": 111,\n",
      "    \"payday\": 79,\n",
      "    \"pin_change\": 89,\n",
      "    \"play_music\": 106,\n",
      "    \"plug_type\": 120,\n",
      "    \"pto_balance\": 126,\n",
      "    \"pto_request\": 97,\n",
      "    \"pto_request_status\": 101,\n",
      "    \"pto_used\": 148,\n",
      "    \"recipe\": 104,\n",
      "    \"redeem_rewards\": 6,\n",
      "    \"reminder\": 76,\n",
      "    \"reminder_update\": 53,\n",
      "    \"repeat\": 13,\n",
      "    \"replacement_card_duration\": 90,\n",
      "    \"report_fraud\": 70,\n",
      "    \"report_lost_card\": 12,\n",
      "    \"reset_settings\": 88,\n",
      "    \"restaurant_reservation\": 23,\n",
      "    \"restaurant_reviews\": 0,\n",
      "    \"restaurant_suggestion\": 145,\n",
      "    \"rewards_balance\": 50,\n",
      "    \"roll_dice\": 92,\n",
      "    \"rollover_401k\": 100,\n",
      "    \"routing\": 45,\n",
      "    \"schedule_maintenance\": 131,\n",
      "    \"schedule_meeting\": 18,\n",
      "    \"share_location\": 58,\n",
      "    \"shopping_list\": 43,\n",
      "    \"shopping_list_update\": 125,\n",
      "    \"smart_home\": 10,\n",
      "    \"spelling\": 73,\n",
      "    \"spending_history\": 71,\n",
      "    \"sync_device\": 130,\n",
      "    \"taxes\": 94,\n",
      "    \"tell_joke\": 36,\n",
      "    \"text\": 26,\n",
      "    \"thank_you\": 124,\n",
      "    \"time\": 4,\n",
      "    \"timer\": 32,\n",
      "    \"timezone\": 66,\n",
      "    \"tire_change\": 47,\n",
      "    \"tire_pressure\": 98,\n",
      "    \"todo_list\": 48,\n",
      "    \"todo_list_update\": 65,\n",
      "    \"traffic\": 24,\n",
      "    \"transactions\": 68,\n",
      "    \"transfer\": 133,\n",
      "    \"translate\": 61,\n",
      "    \"travel_alert\": 128,\n",
      "    \"travel_notification\": 146,\n",
      "    \"travel_suggestion\": 149,\n",
      "    \"uber\": 39,\n",
      "    \"update_playlist\": 141,\n",
      "    \"user_name\": 11,\n",
      "    \"vaccines\": 52,\n",
      "    \"w2\": 122,\n",
      "    \"weather\": 5,\n",
      "    \"what_are_your_hobbies\": 15,\n",
      "    \"what_can_i_ask_you\": 115,\n",
      "    \"what_is_your_name\": 75,\n",
      "    \"what_song\": 21,\n",
      "    \"where_are_you_from\": 77,\n",
      "    \"whisper_mode\": 14,\n",
      "    \"who_do_you_work_for\": 57,\n",
      "    \"who_made_you\": 96,\n",
      "    \"yes\": 107\n",
      "  },\n",
      "  \"max_position_embeddings\": 512,\n",
      "  \"model_type\": \"distilbert\",\n",
      "  \"n_heads\": 12,\n",
      "  \"n_layers\": 6,\n",
      "  \"pad_token_id\": 0,\n",
      "  \"problem_type\": \"single_label_classification\",\n",
      "  \"qa_dropout\": 0.1,\n",
      "  \"seq_classif_dropout\": 0.2,\n",
      "  \"sinusoidal_pos_embds\": false,\n",
      "  \"tie_weights_\": true,\n",
      "  \"torch_dtype\": \"float32\",\n",
      "  \"transformers_version\": \"4.24.0\",\n",
      "  \"vocab_size\": 30522\n",
      "}\n",
      "\n",
      "loading weights file distilbert-base-uncased-finetuned-clinc/pytorch_model.bin\n",
      "All model checkpoint weights were used when initializing DistilBertForSequenceClassification.\n",
      "\n",
      "All the weights of DistilBertForSequenceClassification were initialized from the model checkpoint at distilbert-base-uncased-finetuned-clinc.\n",
      "If your task is similar to the task the model of the checkpoint was trained on, you can already use DistilBertForSequenceClassification for predictions without further training.\n"
     ]
    }
   ],
   "source": [
    "from torch.quantization import quantize_dynamic\n",
    "\n",
    "model_ckpt = finetuned_ckpt\n",
    "tokenizer = AutoTokenizer.from_pretrained(model_ckpt)\n",
    "model = (AutoModelForSequenceClassification.from_pretrained(model_ckpt))\n",
    "\n",
    "model_quantized = quantize_dynamic(model, {nn.Linear}, dtype=torch.qint8)"
   ]
  },
  {
   "cell_type": "code",
   "execution_count": 49,
   "metadata": {},
   "outputs": [],
   "source": [
    "pipe = pipeline(\"text-classification\", model=model_quantized, tokenizer=tokenizer)"
   ]
  },
  {
   "cell_type": "code",
   "execution_count": 50,
   "metadata": {},
   "outputs": [
    {
     "name": "stdout",
     "output_type": "stream",
     "text": [
      "Model size (MB) - 132.39\n",
      "Average latency (ms) - 6.61 +\\- 0.15\n",
      "Accuracy on test set - 0.860\n",
      "CPU times: user 6min 17s, sys: 562 ms, total: 6min 17s\n",
      "Wall time: 38.1 s\n"
     ]
    }
   ],
   "source": [
    "%%time\n",
    "optim_type = \"Distillation + quantization - CPU only\"\n",
    "pb = PerformanceBenchmark(pipe, clinc[\"test\"], optim_type=optim_type)\n",
    "perf_metrics.update(pb.run_benchmark())"
   ]
  },
  {
   "cell_type": "code",
   "execution_count": 51,
   "metadata": {},
   "outputs": [
    {
     "data": {
      "image/png": "[encoded data removed]",
      "text/plain": [
       "<Figure size 640x480 with 1 Axes>"
      ]
     },
     "metadata": {},
     "output_type": "display_data"
    }
   ],
   "source": [
    "# Plot the latency vs accuracy with the radius being the size of the model on disk\n",
    "plot_metrics(perf_metrics, optim_type)"
   ]
  },
  {
   "cell_type": "markdown",
   "metadata": {},
   "source": [
    "The quantized model is half the size of the distilled version! <br>\n",
    "The quantized model runing on the CPU only is almost as fast as the BERT baseline running on the GPU!"
   ]
  },
  {
   "cell_type": "markdown",
   "metadata": {},
   "source": [
    "## Let's try ONNX"
   ]
  },
  {
   "cell_type": "markdown",
   "metadata": {},
   "source": [
    "First, we need to convert the distilled model to the ONNX format using convert_graph_to_onnx.convert(). ONNX runs using the OpenMP environment so we need to set the OMP environment variables."
   ]
  },
  {
   "cell_type": "code",
   "execution_count": 52,
   "metadata": {},
   "outputs": [],
   "source": [
    "import os\n",
    "from psutil import cpu_count\n",
    "\n",
    "os.environ[\"OMP_NUM_THREADS\"] = f\"{cpu_count()}\"\n",
    "os.environ[\"OMP_WAIT_POLICY\"] = \"ACTIVE\""
   ]
  },
  {
   "cell_type": "code",
   "execution_count": 53,
   "metadata": {},
   "outputs": [
    {
     "name": "stderr",
     "output_type": "stream",
     "text": [
      "/usr/local/lib/python3.8/dist-packages/transformers/convert_graph_to_onnx.py:380: FutureWarning: The `transformers.convert_graph_to_onnx` package is deprecated and will be removed in version 5 of Transformers\n",
      "  warnings.warn(\n",
      "loading configuration file distilbert-base-uncased-finetuned-clinc/config.json\n",
      "Model config DistilBertConfig {\n",
      "  \"_name_or_path\": \"distilbert-base-uncased-finetuned-clinc\",\n",
      "  \"activation\": \"gelu\",\n",
      "  \"architectures\": [\n",
      "    \"DistilBertForSequenceClassification\"\n",
      "  ],\n",
      "  \"attention_dropout\": 0.1,\n",
      "  \"dim\": 768,\n",
      "  \"dropout\": 0.1,\n",
      "  \"hidden_dim\": 3072,\n",
      "  \"id2label\": {\n",
      "    \"0\": \"restaurant_reviews\",\n",
      "    \"1\": \"nutrition_info\",\n",
      "    \"2\": \"account_blocked\",\n",
      "    \"3\": \"oil_change_how\",\n",
      "    \"4\": \"time\",\n",
      "    \"5\": \"weather\",\n",
      "    \"6\": \"redeem_rewards\",\n",
      "    \"7\": \"interest_rate\",\n",
      "    \"8\": \"gas_type\",\n",
      "    \"9\": \"accept_reservations\",\n",
      "    \"10\": \"smart_home\",\n",
      "    \"11\": \"user_name\",\n",
      "    \"12\": \"report_lost_card\",\n",
      "    \"13\": \"repeat\",\n",
      "    \"14\": \"whisper_mode\",\n",
      "    \"15\": \"what_are_your_hobbies\",\n",
      "    \"16\": \"order\",\n",
      "    \"17\": \"jump_start\",\n",
      "    \"18\": \"schedule_meeting\",\n",
      "    \"19\": \"meeting_schedule\",\n",
      "    \"20\": \"freeze_account\",\n",
      "    \"21\": \"what_song\",\n",
      "    \"22\": \"meaning_of_life\",\n",
      "    \"23\": \"restaurant_reservation\",\n",
      "    \"24\": \"traffic\",\n",
      "    \"25\": \"make_call\",\n",
      "    \"26\": \"text\",\n",
      "    \"27\": \"bill_balance\",\n",
      "    \"28\": \"improve_credit_score\",\n",
      "    \"29\": \"change_language\",\n",
      "    \"30\": \"no\",\n",
      "    \"31\": \"measurement_conversion\",\n",
      "    \"32\": \"timer\",\n",
      "    \"33\": \"flip_coin\",\n",
      "    \"34\": \"do_you_have_pets\",\n",
      "    \"35\": \"balance\",\n",
      "    \"36\": \"tell_joke\",\n",
      "    \"37\": \"last_maintenance\",\n",
      "    \"38\": \"exchange_rate\",\n",
      "    \"39\": \"uber\",\n",
      "    \"40\": \"car_rental\",\n",
      "    \"41\": \"credit_limit\",\n",
      "    \"42\": \"oos\",\n",
      "    \"43\": \"shopping_list\",\n",
      "    \"44\": \"expiration_date\",\n",
      "    \"45\": \"routing\",\n",
      "    \"46\": \"meal_suggestion\",\n",
      "    \"47\": \"tire_change\",\n",
      "    \"48\": \"todo_list\",\n",
      "    \"49\": \"card_declined\",\n",
      "    \"50\": \"rewards_balance\",\n",
      "    \"51\": \"change_accent\",\n",
      "    \"52\": \"vaccines\",\n",
      "    \"53\": \"reminder_update\",\n",
      "    \"54\": \"food_last\",\n",
      "    \"55\": \"change_ai_name\",\n",
      "    \"56\": \"bill_due\",\n",
      "    \"57\": \"who_do_you_work_for\",\n",
      "    \"58\": \"share_location\",\n",
      "    \"59\": \"international_visa\",\n",
      "    \"60\": \"calendar\",\n",
      "    \"61\": \"translate\",\n",
      "    \"62\": \"carry_on\",\n",
      "    \"63\": \"book_flight\",\n",
      "    \"64\": \"insurance_change\",\n",
      "    \"65\": \"todo_list_update\",\n",
      "    \"66\": \"timezone\",\n",
      "    \"67\": \"cancel_reservation\",\n",
      "    \"68\": \"transactions\",\n",
      "    \"69\": \"credit_score\",\n",
      "    \"70\": \"report_fraud\",\n",
      "    \"71\": \"spending_history\",\n",
      "    \"72\": \"directions\",\n",
      "    \"73\": \"spelling\",\n",
      "    \"74\": \"insurance\",\n",
      "    \"75\": \"what_is_your_name\",\n",
      "    \"76\": \"reminder\",\n",
      "    \"77\": \"where_are_you_from\",\n",
      "    \"78\": \"distance\",\n",
      "    \"79\": \"payday\",\n",
      "    \"80\": \"flight_status\",\n",
      "    \"81\": \"find_phone\",\n",
      "    \"82\": \"greeting\",\n",
      "    \"83\": \"alarm\",\n",
      "    \"84\": \"order_status\",\n",
      "    \"85\": \"confirm_reservation\",\n",
      "    \"86\": \"cook_time\",\n",
      "    \"87\": \"damaged_card\",\n",
      "    \"88\": \"reset_settings\",\n",
      "    \"89\": \"pin_change\",\n",
      "    \"90\": \"replacement_card_duration\",\n",
      "    \"91\": \"new_card\",\n",
      "    \"92\": \"roll_dice\",\n",
      "    \"93\": \"income\",\n",
      "    \"94\": \"taxes\",\n",
      "    \"95\": \"date\",\n",
      "    \"96\": \"who_made_you\",\n",
      "    \"97\": \"pto_request\",\n",
      "    \"98\": \"tire_pressure\",\n",
      "    \"99\": \"how_old_are_you\",\n",
      "    \"100\": \"rollover_401k\",\n",
      "    \"101\": \"pto_request_status\",\n",
      "    \"102\": \"how_busy\",\n",
      "    \"103\": \"application_status\",\n",
      "    \"104\": \"recipe\",\n",
      "    \"105\": \"calendar_update\",\n",
      "    \"106\": \"play_music\",\n",
      "    \"107\": \"yes\",\n",
      "    \"108\": \"direct_deposit\",\n",
      "    \"109\": \"credit_limit_change\",\n",
      "    \"110\": \"gas\",\n",
      "    \"111\": \"pay_bill\",\n",
      "    \"112\": \"ingredients_list\",\n",
      "    \"113\": \"lost_luggage\",\n",
      "    \"114\": \"goodbye\",\n",
      "    \"115\": \"what_can_i_ask_you\",\n",
      "    \"116\": \"book_hotel\",\n",
      "    \"117\": \"are_you_a_bot\",\n",
      "    \"118\": \"next_song\",\n",
      "    \"119\": \"change_speed\",\n",
      "    \"120\": \"plug_type\",\n",
      "    \"121\": \"maybe\",\n",
      "    \"122\": \"w2\",\n",
      "    \"123\": \"oil_change_when\",\n",
      "    \"124\": \"thank_you\",\n",
      "    \"125\": \"shopping_list_update\",\n",
      "    \"126\": \"pto_balance\",\n",
      "    \"127\": \"order_checks\",\n",
      "    \"128\": \"travel_alert\",\n",
      "    \"129\": \"fun_fact\",\n",
      "    \"130\": \"sync_device\",\n",
      "    \"131\": \"schedule_maintenance\",\n",
      "    \"132\": \"apr\",\n",
      "    \"133\": \"transfer\",\n",
      "    \"134\": \"ingredient_substitution\",\n",
      "    \"135\": \"calories\",\n",
      "    \"136\": \"current_location\",\n",
      "    \"137\": \"international_fees\",\n",
      "    \"138\": \"calculator\",\n",
      "    \"139\": \"definition\",\n",
      "    \"140\": \"next_holiday\",\n",
      "    \"141\": \"update_playlist\",\n",
      "    \"142\": \"mpg\",\n",
      "    \"143\": \"min_payment\",\n",
      "    \"144\": \"change_user_name\",\n",
      "    \"145\": \"restaurant_suggestion\",\n",
      "    \"146\": \"travel_notification\",\n",
      "    \"147\": \"cancel\",\n",
      "    \"148\": \"pto_used\",\n",
      "    \"149\": \"travel_suggestion\",\n",
      "    \"150\": \"change_volume\"\n",
      "  },\n",
      "  \"initializer_range\": 0.02,\n",
      "  \"label2id\": {\n",
      "    \"accept_reservations\": 9,\n",
      "    \"account_blocked\": 2,\n",
      "    \"alarm\": 83,\n",
      "    \"application_status\": 103,\n",
      "    \"apr\": 132,\n",
      "    \"are_you_a_bot\": 117,\n",
      "    \"balance\": 35,\n",
      "    \"bill_balance\": 27,\n",
      "    \"bill_due\": 56,\n",
      "    \"book_flight\": 63,\n",
      "    \"book_hotel\": 116,\n",
      "    \"calculator\": 138,\n",
      "    \"calendar\": 60,\n",
      "    \"calendar_update\": 105,\n",
      "    \"calories\": 135,\n",
      "    \"cancel\": 147,\n",
      "    \"cancel_reservation\": 67,\n",
      "    \"car_rental\": 40,\n",
      "    \"card_declined\": 49,\n",
      "    \"carry_on\": 62,\n",
      "    \"change_accent\": 51,\n",
      "    \"change_ai_name\": 55,\n",
      "    \"change_language\": 29,\n",
      "    \"change_speed\": 119,\n",
      "    \"change_user_name\": 144,\n",
      "    \"change_volume\": 150,\n",
      "    \"confirm_reservation\": 85,\n",
      "    \"cook_time\": 86,\n",
      "    \"credit_limit\": 41,\n",
      "    \"credit_limit_change\": 109,\n",
      "    \"credit_score\": 69,\n",
      "    \"current_location\": 136,\n",
      "    \"damaged_card\": 87,\n",
      "    \"date\": 95,\n",
      "    \"definition\": 139,\n",
      "    \"direct_deposit\": 108,\n",
      "    \"directions\": 72,\n",
      "    \"distance\": 78,\n",
      "    \"do_you_have_pets\": 34,\n",
      "    \"exchange_rate\": 38,\n",
      "    \"expiration_date\": 44,\n",
      "    \"find_phone\": 81,\n",
      "    \"flight_status\": 80,\n",
      "    \"flip_coin\": 33,\n",
      "    \"food_last\": 54,\n",
      "    \"freeze_account\": 20,\n",
      "    \"fun_fact\": 129,\n",
      "    \"gas\": 110,\n",
      "    \"gas_type\": 8,\n",
      "    \"goodbye\": 114,\n",
      "    \"greeting\": 82,\n",
      "    \"how_busy\": 102,\n",
      "    \"how_old_are_you\": 99,\n",
      "    \"improve_credit_score\": 28,\n",
      "    \"income\": 93,\n",
      "    \"ingredient_substitution\": 134,\n",
      "    \"ingredients_list\": 112,\n",
      "    \"insurance\": 74,\n",
      "    \"insurance_change\": 64,\n",
      "    \"interest_rate\": 7,\n",
      "    \"international_fees\": 137,\n",
      "    \"international_visa\": 59,\n",
      "    \"jump_start\": 17,\n",
      "    \"last_maintenance\": 37,\n",
      "    \"lost_luggage\": 113,\n",
      "    \"make_call\": 25,\n",
      "    \"maybe\": 121,\n",
      "    \"meal_suggestion\": 46,\n",
      "    \"meaning_of_life\": 22,\n",
      "    \"measurement_conversion\": 31,\n",
      "    \"meeting_schedule\": 19,\n",
      "    \"min_payment\": 143,\n",
      "    \"mpg\": 142,\n",
      "    \"new_card\": 91,\n",
      "    \"next_holiday\": 140,\n",
      "    \"next_song\": 118,\n",
      "    \"no\": 30,\n",
      "    \"nutrition_info\": 1,\n",
      "    \"oil_change_how\": 3,\n",
      "    \"oil_change_when\": 123,\n",
      "    \"oos\": 42,\n",
      "    \"order\": 16,\n",
      "    \"order_checks\": 127,\n",
      "    \"order_status\": 84,\n",
      "    \"pay_bill\": 111,\n",
      "    \"payday\": 79,\n",
      "    \"pin_change\": 89,\n",
      "    \"play_music\": 106,\n",
      "    \"plug_type\": 120,\n",
      "    \"pto_balance\": 126,\n",
      "    \"pto_request\": 97,\n",
      "    \"pto_request_status\": 101,\n",
      "    \"pto_used\": 148,\n",
      "    \"recipe\": 104,\n",
      "    \"redeem_rewards\": 6,\n",
      "    \"reminder\": 76,\n",
      "    \"reminder_update\": 53,\n",
      "    \"repeat\": 13,\n",
      "    \"replacement_card_duration\": 90,\n",
      "    \"report_fraud\": 70,\n",
      "    \"report_lost_card\": 12,\n",
      "    \"reset_settings\": 88,\n",
      "    \"restaurant_reservation\": 23,\n",
      "    \"restaurant_reviews\": 0,\n",
      "    \"restaurant_suggestion\": 145,\n",
      "    \"rewards_balance\": 50,\n",
      "    \"roll_dice\": 92,\n",
      "    \"rollover_401k\": 100,\n",
      "    \"routing\": 45,\n",
      "    \"schedule_maintenance\": 131,\n",
      "    \"schedule_meeting\": 18,\n",
      "    \"share_location\": 58,\n",
      "    \"shopping_list\": 43,\n",
      "    \"shopping_list_update\": 125,\n",
      "    \"smart_home\": 10,\n",
      "    \"spelling\": 73,\n",
      "    \"spending_history\": 71,\n",
      "    \"sync_device\": 130,\n",
      "    \"taxes\": 94,\n",
      "    \"tell_joke\": 36,\n",
      "    \"text\": 26,\n",
      "    \"thank_you\": 124,\n",
      "    \"time\": 4,\n",
      "    \"timer\": 32,\n",
      "    \"timezone\": 66,\n",
      "    \"tire_change\": 47,\n",
      "    \"tire_pressure\": 98,\n",
      "    \"todo_list\": 48,\n",
      "    \"todo_list_update\": 65,\n",
      "    \"traffic\": 24,\n",
      "    \"transactions\": 68,\n",
      "    \"transfer\": 133,\n",
      "    \"translate\": 61,\n",
      "    \"travel_alert\": 128,\n",
      "    \"travel_notification\": 146,\n",
      "    \"travel_suggestion\": 149,\n",
      "    \"uber\": 39,\n",
      "    \"update_playlist\": 141,\n",
      "    \"user_name\": 11,\n",
      "    \"vaccines\": 52,\n",
      "    \"w2\": 122,\n",
      "    \"weather\": 5,\n",
      "    \"what_are_your_hobbies\": 15,\n",
      "    \"what_can_i_ask_you\": 115,\n",
      "    \"what_is_your_name\": 75,\n",
      "    \"what_song\": 21,\n",
      "    \"where_are_you_from\": 77,\n",
      "    \"whisper_mode\": 14,\n",
      "    \"who_do_you_work_for\": 57,\n",
      "    \"who_made_you\": 96,\n",
      "    \"yes\": 107\n",
      "  },\n",
      "  \"max_position_embeddings\": 512,\n",
      "  \"model_type\": \"distilbert\",\n",
      "  \"n_heads\": 12,\n",
      "  \"n_layers\": 6,\n",
      "  \"pad_token_id\": 0,\n",
      "  \"problem_type\": \"single_label_classification\",\n",
      "  \"qa_dropout\": 0.1,\n",
      "  \"seq_classif_dropout\": 0.2,\n",
      "  \"sinusoidal_pos_embds\": false,\n",
      "  \"tie_weights_\": true,\n",
      "  \"torch_dtype\": \"float32\",\n",
      "  \"transformers_version\": \"4.24.0\",\n",
      "  \"vocab_size\": 30522\n",
      "}\n",
      "\n",
      "loading configuration file distilbert-base-uncased-finetuned-clinc/config.json\n",
      "Model config DistilBertConfig {\n",
      "  \"_name_or_path\": \"distilbert-base-uncased-finetuned-clinc\",\n",
      "  \"activation\": \"gelu\",\n",
      "  \"architectures\": [\n",
      "    \"DistilBertForSequenceClassification\"\n",
      "  ],\n",
      "  \"attention_dropout\": 0.1,\n",
      "  \"dim\": 768,\n",
      "  \"dropout\": 0.1,\n",
      "  \"hidden_dim\": 3072,\n",
      "  \"id2label\": {\n",
      "    \"0\": \"restaurant_reviews\",\n",
      "    \"1\": \"nutrition_info\",\n",
      "    \"2\": \"account_blocked\",\n",
      "    \"3\": \"oil_change_how\",\n",
      "    \"4\": \"time\",\n",
      "    \"5\": \"weather\",\n",
      "    \"6\": \"redeem_rewards\",\n",
      "    \"7\": \"interest_rate\",\n",
      "    \"8\": \"gas_type\",\n",
      "    \"9\": \"accept_reservations\",\n",
      "    \"10\": \"smart_home\",\n",
      "    \"11\": \"user_name\",\n",
      "    \"12\": \"report_lost_card\",\n",
      "    \"13\": \"repeat\",\n",
      "    \"14\": \"whisper_mode\",\n",
      "    \"15\": \"what_are_your_hobbies\",\n",
      "    \"16\": \"order\",\n",
      "    \"17\": \"jump_start\",\n",
      "    \"18\": \"schedule_meeting\",\n",
      "    \"19\": \"meeting_schedule\",\n",
      "    \"20\": \"freeze_account\",\n",
      "    \"21\": \"what_song\",\n",
      "    \"22\": \"meaning_of_life\",\n",
      "    \"23\": \"restaurant_reservation\",\n",
      "    \"24\": \"traffic\",\n",
      "    \"25\": \"make_call\",\n",
      "    \"26\": \"text\",\n",
      "    \"27\": \"bill_balance\",\n",
      "    \"28\": \"improve_credit_score\",\n",
      "    \"29\": \"change_language\",\n",
      "    \"30\": \"no\",\n",
      "    \"31\": \"measurement_conversion\",\n",
      "    \"32\": \"timer\",\n",
      "    \"33\": \"flip_coin\",\n",
      "    \"34\": \"do_you_have_pets\",\n",
      "    \"35\": \"balance\",\n",
      "    \"36\": \"tell_joke\",\n",
      "    \"37\": \"last_maintenance\",\n",
      "    \"38\": \"exchange_rate\",\n",
      "    \"39\": \"uber\",\n",
      "    \"40\": \"car_rental\",\n",
      "    \"41\": \"credit_limit\",\n",
      "    \"42\": \"oos\",\n",
      "    \"43\": \"shopping_list\",\n",
      "    \"44\": \"expiration_date\",\n",
      "    \"45\": \"routing\",\n",
      "    \"46\": \"meal_suggestion\",\n",
      "    \"47\": \"tire_change\",\n",
      "    \"48\": \"todo_list\",\n",
      "    \"49\": \"card_declined\",\n",
      "    \"50\": \"rewards_balance\",\n",
      "    \"51\": \"change_accent\",\n",
      "    \"52\": \"vaccines\",\n",
      "    \"53\": \"reminder_update\",\n",
      "    \"54\": \"food_last\",\n",
      "    \"55\": \"change_ai_name\",\n",
      "    \"56\": \"bill_due\",\n",
      "    \"57\": \"who_do_you_work_for\",\n",
      "    \"58\": \"share_location\",\n",
      "    \"59\": \"international_visa\",\n",
      "    \"60\": \"calendar\",\n",
      "    \"61\": \"translate\",\n",
      "    \"62\": \"carry_on\",\n",
      "    \"63\": \"book_flight\",\n",
      "    \"64\": \"insurance_change\",\n",
      "    \"65\": \"todo_list_update\",\n",
      "    \"66\": \"timezone\",\n",
      "    \"67\": \"cancel_reservation\",\n",
      "    \"68\": \"transactions\",\n",
      "    \"69\": \"credit_score\",\n",
      "    \"70\": \"report_fraud\",\n",
      "    \"71\": \"spending_history\",\n",
      "    \"72\": \"directions\",\n",
      "    \"73\": \"spelling\",\n",
      "    \"74\": \"insurance\",\n",
      "    \"75\": \"what_is_your_name\",\n",
      "    \"76\": \"reminder\",\n",
      "    \"77\": \"where_are_you_from\",\n",
      "    \"78\": \"distance\",\n",
      "    \"79\": \"payday\",\n",
      "    \"80\": \"flight_status\",\n",
      "    \"81\": \"find_phone\",\n",
      "    \"82\": \"greeting\",\n",
      "    \"83\": \"alarm\",\n",
      "    \"84\": \"order_status\",\n",
      "    \"85\": \"confirm_reservation\",\n",
      "    \"86\": \"cook_time\",\n",
      "    \"87\": \"damaged_card\",\n",
      "    \"88\": \"reset_settings\",\n",
      "    \"89\": \"pin_change\",\n",
      "    \"90\": \"replacement_card_duration\",\n",
      "    \"91\": \"new_card\",\n",
      "    \"92\": \"roll_dice\",\n",
      "    \"93\": \"income\",\n",
      "    \"94\": \"taxes\",\n",
      "    \"95\": \"date\",\n",
      "    \"96\": \"who_made_you\",\n",
      "    \"97\": \"pto_request\",\n",
      "    \"98\": \"tire_pressure\",\n",
      "    \"99\": \"how_old_are_you\",\n",
      "    \"100\": \"rollover_401k\",\n",
      "    \"101\": \"pto_request_status\",\n",
      "    \"102\": \"how_busy\",\n",
      "    \"103\": \"application_status\",\n",
      "    \"104\": \"recipe\",\n",
      "    \"105\": \"calendar_update\",\n",
      "    \"106\": \"play_music\",\n",
      "    \"107\": \"yes\",\n",
      "    \"108\": \"direct_deposit\",\n",
      "    \"109\": \"credit_limit_change\",\n",
      "    \"110\": \"gas\",\n",
      "    \"111\": \"pay_bill\",\n",
      "    \"112\": \"ingredients_list\",\n",
      "    \"113\": \"lost_luggage\",\n",
      "    \"114\": \"goodbye\",\n",
      "    \"115\": \"what_can_i_ask_you\",\n",
      "    \"116\": \"book_hotel\",\n",
      "    \"117\": \"are_you_a_bot\",\n",
      "    \"118\": \"next_song\",\n",
      "    \"119\": \"change_speed\",\n",
      "    \"120\": \"plug_type\",\n",
      "    \"121\": \"maybe\",\n",
      "    \"122\": \"w2\",\n",
      "    \"123\": \"oil_change_when\",\n",
      "    \"124\": \"thank_you\",\n",
      "    \"125\": \"shopping_list_update\",\n",
      "    \"126\": \"pto_balance\",\n",
      "    \"127\": \"order_checks\",\n",
      "    \"128\": \"travel_alert\",\n",
      "    \"129\": \"fun_fact\",\n",
      "    \"130\": \"sync_device\",\n",
      "    \"131\": \"schedule_maintenance\",\n",
      "    \"132\": \"apr\",\n",
      "    \"133\": \"transfer\",\n",
      "    \"134\": \"ingredient_substitution\",\n",
      "    \"135\": \"calories\",\n",
      "    \"136\": \"current_location\",\n",
      "    \"137\": \"international_fees\",\n",
      "    \"138\": \"calculator\",\n",
      "    \"139\": \"definition\",\n",
      "    \"140\": \"next_holiday\",\n",
      "    \"141\": \"update_playlist\",\n",
      "    \"142\": \"mpg\",\n",
      "    \"143\": \"min_payment\",\n",
      "    \"144\": \"change_user_name\",\n",
      "    \"145\": \"restaurant_suggestion\",\n",
      "    \"146\": \"travel_notification\",\n",
      "    \"147\": \"cancel\",\n",
      "    \"148\": \"pto_used\",\n",
      "    \"149\": \"travel_suggestion\",\n",
      "    \"150\": \"change_volume\"\n",
      "  },\n",
      "  \"initializer_range\": 0.02,\n",
      "  \"label2id\": {\n",
      "    \"accept_reservations\": 9,\n",
      "    \"account_blocked\": 2,\n",
      "    \"alarm\": 83,\n",
      "    \"application_status\": 103,\n",
      "    \"apr\": 132,\n",
      "    \"are_you_a_bot\": 117,\n",
      "    \"balance\": 35,\n",
      "    \"bill_balance\": 27,\n",
      "    \"bill_due\": 56,\n",
      "    \"book_flight\": 63,\n",
      "    \"book_hotel\": 116,\n",
      "    \"calculator\": 138,\n",
      "    \"calendar\": 60,\n",
      "    \"calendar_update\": 105,\n",
      "    \"calories\": 135,\n",
      "    \"cancel\": 147,\n",
      "    \"cancel_reservation\": 67,\n",
      "    \"car_rental\": 40,\n",
      "    \"card_declined\": 49,\n",
      "    \"carry_on\": 62,\n",
      "    \"change_accent\": 51,\n",
      "    \"change_ai_name\": 55,\n",
      "    \"change_language\": 29,\n",
      "    \"change_speed\": 119,\n",
      "    \"change_user_name\": 144,\n",
      "    \"change_volume\": 150,\n",
      "    \"confirm_reservation\": 85,\n",
      "    \"cook_time\": 86,\n",
      "    \"credit_limit\": 41,\n",
      "    \"credit_limit_change\": 109,\n",
      "    \"credit_score\": 69,\n",
      "    \"current_location\": 136,\n",
      "    \"damaged_card\": 87,\n",
      "    \"date\": 95,\n",
      "    \"definition\": 139,\n",
      "    \"direct_deposit\": 108,\n",
      "    \"directions\": 72,\n",
      "    \"distance\": 78,\n",
      "    \"do_you_have_pets\": 34,\n",
      "    \"exchange_rate\": 38,\n",
      "    \"expiration_date\": 44,\n",
      "    \"find_phone\": 81,\n",
      "    \"flight_status\": 80,\n",
      "    \"flip_coin\": 33,\n",
      "    \"food_last\": 54,\n",
      "    \"freeze_account\": 20,\n",
      "    \"fun_fact\": 129,\n",
      "    \"gas\": 110,\n",
      "    \"gas_type\": 8,\n",
      "    \"goodbye\": 114,\n",
      "    \"greeting\": 82,\n",
      "    \"how_busy\": 102,\n",
      "    \"how_old_are_you\": 99,\n",
      "    \"improve_credit_score\": 28,\n",
      "    \"income\": 93,\n",
      "    \"ingredient_substitution\": 134,\n",
      "    \"ingredients_list\": 112,\n",
      "    \"insurance\": 74,\n",
      "    \"insurance_change\": 64,\n",
      "    \"interest_rate\": 7,\n",
      "    \"international_fees\": 137,\n",
      "    \"international_visa\": 59,\n",
      "    \"jump_start\": 17,\n",
      "    \"last_maintenance\": 37,\n",
      "    \"lost_luggage\": 113,\n",
      "    \"make_call\": 25,\n",
      "    \"maybe\": 121,\n",
      "    \"meal_suggestion\": 46,\n",
      "    \"meaning_of_life\": 22,\n",
      "    \"measurement_conversion\": 31,\n",
      "    \"meeting_schedule\": 19,\n",
      "    \"min_payment\": 143,\n",
      "    \"mpg\": 142,\n",
      "    \"new_card\": 91,\n",
      "    \"next_holiday\": 140,\n",
      "    \"next_song\": 118,\n",
      "    \"no\": 30,\n",
      "    \"nutrition_info\": 1,\n",
      "    \"oil_change_how\": 3,\n",
      "    \"oil_change_when\": 123,\n",
      "    \"oos\": 42,\n",
      "    \"order\": 16,\n",
      "    \"order_checks\": 127,\n",
      "    \"order_status\": 84,\n",
      "    \"pay_bill\": 111,\n",
      "    \"payday\": 79,\n",
      "    \"pin_change\": 89,\n",
      "    \"play_music\": 106,\n",
      "    \"plug_type\": 120,\n",
      "    \"pto_balance\": 126,\n",
      "    \"pto_request\": 97,\n",
      "    \"pto_request_status\": 101,\n",
      "    \"pto_used\": 148,\n",
      "    \"recipe\": 104,\n",
      "    \"redeem_rewards\": 6,\n",
      "    \"reminder\": 76,\n",
      "    \"reminder_update\": 53,\n",
      "    \"repeat\": 13,\n",
      "    \"replacement_card_duration\": 90,\n",
      "    \"report_fraud\": 70,\n",
      "    \"report_lost_card\": 12,\n",
      "    \"reset_settings\": 88,\n",
      "    \"restaurant_reservation\": 23,\n",
      "    \"restaurant_reviews\": 0,\n",
      "    \"restaurant_suggestion\": 145,\n",
      "    \"rewards_balance\": 50,\n",
      "    \"roll_dice\": 92,\n",
      "    \"rollover_401k\": 100,\n",
      "    \"routing\": 45,\n",
      "    \"schedule_maintenance\": 131,\n",
      "    \"schedule_meeting\": 18,\n",
      "    \"share_location\": 58,\n",
      "    \"shopping_list\": 43,\n",
      "    \"shopping_list_update\": 125,\n",
      "    \"smart_home\": 10,\n",
      "    \"spelling\": 73,\n",
      "    \"spending_history\": 71,\n",
      "    \"sync_device\": 130,\n",
      "    \"taxes\": 94,\n",
      "    \"tell_joke\": 36,\n",
      "    \"text\": 26,\n",
      "    \"thank_you\": 124,\n",
      "    \"time\": 4,\n",
      "    \"timer\": 32,\n",
      "    \"timezone\": 66,\n",
      "    \"tire_change\": 47,\n",
      "    \"tire_pressure\": 98,\n",
      "    \"todo_list\": 48,\n",
      "    \"todo_list_update\": 65,\n",
      "    \"traffic\": 24,\n",
      "    \"transactions\": 68,\n",
      "    \"transfer\": 133,\n",
      "    \"translate\": 61,\n",
      "    \"travel_alert\": 128,\n",
      "    \"travel_notification\": 146,\n",
      "    \"travel_suggestion\": 149,\n",
      "    \"uber\": 39,\n",
      "    \"update_playlist\": 141,\n",
      "    \"user_name\": 11,\n",
      "    \"vaccines\": 52,\n",
      "    \"w2\": 122,\n",
      "    \"weather\": 5,\n",
      "    \"what_are_your_hobbies\": 15,\n",
      "    \"what_can_i_ask_you\": 115,\n",
      "    \"what_is_your_name\": 75,\n",
      "    \"what_song\": 21,\n",
      "    \"where_are_you_from\": 77,\n",
      "    \"whisper_mode\": 14,\n",
      "    \"who_do_you_work_for\": 57,\n",
      "    \"who_made_you\": 96,\n",
      "    \"yes\": 107\n",
      "  },\n",
      "  \"max_position_embeddings\": 512,\n",
      "  \"model_type\": \"distilbert\",\n",
      "  \"n_heads\": 12,\n",
      "  \"n_layers\": 6,\n",
      "  \"pad_token_id\": 0,\n",
      "  \"problem_type\": \"single_label_classification\",\n",
      "  \"qa_dropout\": 0.1,\n",
      "  \"seq_classif_dropout\": 0.2,\n",
      "  \"sinusoidal_pos_embds\": false,\n",
      "  \"tie_weights_\": true,\n",
      "  \"torch_dtype\": \"float32\",\n",
      "  \"transformers_version\": \"4.24.0\",\n",
      "  \"vocab_size\": 30522\n",
      "}\n",
      "\n",
      "loading weights file distilbert-base-uncased-finetuned-clinc/pytorch_model.bin\n"
     ]
    },
    {
     "name": "stdout",
     "output_type": "stream",
     "text": [
      "ONNX opset version set to: 12\n",
      "Loading pipeline (model: distilbert-base-uncased-finetuned-clinc, tokenizer: PreTrainedTokenizerFast(name_or_path='distilbert-base-uncased-finetuned-clinc', vocab_size=30522, model_max_len=512, is_fast=True, padding_side='right', truncation_side='right', special_tokens={'unk_token': '[UNK]', 'sep_token': '[SEP]', 'pad_token': '[PAD]', 'cls_token': '[CLS]', 'mask_token': '[MASK]'}))\n"
     ]
    },
    {
     "name": "stderr",
     "output_type": "stream",
     "text": [
      "All model checkpoint weights were used when initializing DistilBertForSequenceClassification.\n",
      "\n",
      "All the weights of DistilBertForSequenceClassification were initialized from the model checkpoint at distilbert-base-uncased-finetuned-clinc.\n",
      "If your task is similar to the task the model of the checkpoint was trained on, you can already use DistilBertForSequenceClassification for predictions without further training.\n",
      "/usr/local/lib/python3.8/dist-packages/transformers/models/distilbert/modeling_distilbert.py:213: TracerWarning: torch.tensor results are registered as constants in the trace. You can safely ignore this warning if you use this function to create tensors out of constant variables that would be the same every time you call this function. In any other case, this might cause the trace to be incorrect.\n",
      "  mask, torch.tensor(torch.finfo(scores.dtype).min)\n"
     ]
    },
    {
     "name": "stdout",
     "output_type": "stream",
     "text": [
      "Creating folder onnx\n",
      "Using framework PyTorch: 1.13.0+cu116\n",
      "Found input input_ids with shape: {0: 'batch', 1: 'sequence'}\n",
      "Found input attention_mask with shape: {0: 'batch', 1: 'sequence'}\n",
      "Found output output_0 with shape: {0: 'batch'}\n",
      "Ensuring inputs are in correct order\n",
      "head_mask is not present in the generated input list.\n",
      "Generated inputs order: ['input_ids', 'attention_mask']\n"
     ]
    }
   ],
   "source": [
    "from transformers.convert_graph_to_onnx import convert\n",
    "\n",
    "model_ckpt = \"distilbert-base-uncased-finetuned-clinc\"\n",
    "onnx_model_path = Path(\"onnx/model.onnx\")\n",
    "convert(framework=\"pt\", model=model_ckpt, tokenizer=tokenizer,\n",
    "        output=onnx_model_path, opset=12, pipeline_name=\"text-classification\")"
   ]
  },
  {
   "cell_type": "markdown",
   "metadata": {},
   "source": [
    "Now that we have our model saved, we need to create an InferenceSession instance to feed inputs to the model:"
   ]
  },
  {
   "cell_type": "code",
   "execution_count": 57,
   "metadata": {},
   "outputs": [
    {
     "name": "stdout",
     "output_type": "stream",
     "text": [
      "Defaulting to user installation because normal site-packages is not writeable\n",
      "Requirement already satisfied: onnx in /var/snell_home/.local/lib/python3.8/site-packages (1.12.0)\n",
      "Collecting onnxruntime\n",
      "  Downloading onnxruntime-1.13.1-cp38-cp38-manylinux_2_27_x86_64.whl (4.5 MB)\n",
      "\u001b[2K     \u001b[90m━━━━━━━━━━━━━━━━━━━━━━━━━━━━━━━━━━━━━━━━\u001b[0m \u001b[32m4.5/4.5 MB\u001b[0m \u001b[31m24.1 MB/s\u001b[0m eta \u001b[36m0:00:00\u001b[0m00:01\u001b[0m00:01\u001b[0m\n",
      "\u001b[?25hRequirement already satisfied: typing-extensions>=3.6.2.1 in /usr/local/lib/python3.8/dist-packages (from onnx) (4.4.0)\n",
      "Requirement already satisfied: numpy>=1.16.6 in /usr/local/lib/python3.8/dist-packages (from onnx) (1.21.3)\n",
      "Requirement already satisfied: protobuf<=3.20.1,>=3.12.2 in /usr/local/lib/python3.8/dist-packages (from onnx) (3.19.1)\n",
      "Collecting coloredlogs\n",
      "  Downloading coloredlogs-15.0.1-py2.py3-none-any.whl (46 kB)\n",
      "\u001b[2K     \u001b[90m━━━━━━━━━━━━━━━━━━━━━━━━━━━━━━━━━━━━━━━━\u001b[0m \u001b[32m46.0/46.0 KB\u001b[0m \u001b[31m3.8 MB/s\u001b[0m eta \u001b[36m0:00:00\u001b[0m\n",
      "\u001b[?25hCollecting numpy>=1.16.6\n",
      "  Downloading numpy-1.23.4-cp38-cp38-manylinux_2_17_x86_64.manylinux2014_x86_64.whl (17.1 MB)\n",
      "\u001b[2K     \u001b[90m━━━━━━━━━━━━━━━━━━━━━━━━━━━━━━━━━━━━━━━━\u001b[0m \u001b[32m17.1/17.1 MB\u001b[0m \u001b[31m54.7 MB/s\u001b[0m eta \u001b[36m0:00:00\u001b[0m00:01\u001b[0m00:01\u001b[0m\n",
      "\u001b[?25hRequirement already satisfied: flatbuffers in /usr/local/lib/python3.8/dist-packages (from onnxruntime) (2.0)\n",
      "Collecting sympy\n",
      "  Downloading sympy-1.11.1-py3-none-any.whl (6.5 MB)\n",
      "\u001b[2K     \u001b[90m━━━━━━━━━━━━━━━━━━━━━━━━━━━━━━━━━━━━━━━━\u001b[0m \u001b[32m6.5/6.5 MB\u001b[0m \u001b[31m31.9 MB/s\u001b[0m eta \u001b[36m0:00:00\u001b[0m00:01\u001b[0m00:01\u001b[0m\n",
      "\u001b[?25hRequirement already satisfied: packaging in /usr/local/lib/python3.8/dist-packages (from onnxruntime) (21.3)\n",
      "Collecting humanfriendly>=9.1\n",
      "  Downloading humanfriendly-10.0-py2.py3-none-any.whl (86 kB)\n",
      "\u001b[2K     \u001b[90m━━━━━━━━━━━━━━━━━━━━━━━━━━━━━━━━━━━━━━━━\u001b[0m \u001b[32m86.8/86.8 KB\u001b[0m \u001b[31m8.0 MB/s\u001b[0m eta \u001b[36m0:00:00\u001b[0m\n",
      "\u001b[?25hRequirement already satisfied: pyparsing!=3.0.5,>=2.0.2 in /usr/local/lib/python3.8/dist-packages (from packaging->onnxruntime) (2.4.7)\n",
      "Collecting mpmath>=0.19\n",
      "  Downloading mpmath-1.2.1-py3-none-any.whl (532 kB)\n",
      "\u001b[2K     \u001b[90m━━━━━━━━━━━━━━━━━━━━━━━━━━━━━━━━━━━━━━\u001b[0m \u001b[32m532.6/532.6 KB\u001b[0m \u001b[31m40.0 MB/s\u001b[0m eta \u001b[36m0:00:00\u001b[0m\n",
      "\u001b[?25hInstalling collected packages: mpmath, sympy, numpy, humanfriendly, coloredlogs, onnxruntime\n",
      "\u001b[33m  WARNING: The script isympy is installed in '/var/snell_home/.local/bin' which is not on PATH.\n",
      "  Consider adding this directory to PATH or, if you prefer to suppress this warning, use --no-warn-script-location.\u001b[0m\u001b[33m\n",
      "\u001b[0m\u001b[33m  WARNING: The scripts f2py, f2py3 and f2py3.8 are installed in '/var/snell_home/.local/bin' which is not on PATH.\n",
      "  Consider adding this directory to PATH or, if you prefer to suppress this warning, use --no-warn-script-location.\u001b[0m\u001b[33m\n",
      "\u001b[0m\u001b[33m  WARNING: The script humanfriendly is installed in '/var/snell_home/.local/bin' which is not on PATH.\n",
      "  Consider adding this directory to PATH or, if you prefer to suppress this warning, use --no-warn-script-location.\u001b[0m\u001b[33m\n",
      "\u001b[0m\u001b[33m  WARNING: The script coloredlogs is installed in '/var/snell_home/.local/bin' which is not on PATH.\n",
      "  Consider adding this directory to PATH or, if you prefer to suppress this warning, use --no-warn-script-location.\u001b[0m\u001b[33m\n",
      "\u001b[0m\u001b[33m  WARNING: The script onnxruntime_test is installed in '/var/snell_home/.local/bin' which is not on PATH.\n",
      "  Consider adding this directory to PATH or, if you prefer to suppress this warning, use --no-warn-script-location.\u001b[0m\u001b[33m\n",
      "\u001b[0mSuccessfully installed coloredlogs-15.0.1 humanfriendly-10.0 mpmath-1.2.1 numpy-1.23.4 onnxruntime-1.13.1 sympy-1.11.1\n",
      "\u001b[33mWARNING: You are using pip version 22.0.3; however, version 22.3.1 is available.\n",
      "You should consider upgrading via the '/usr/bin/python3 -m pip install --upgrade pip' command.\u001b[0m\u001b[33m\n",
      "\u001b[0m"
     ]
    }
   ],
   "source": [
    "!pip install onnx onnxruntime"
   ]
  },
  {
   "cell_type": "code",
   "execution_count": 58,
   "metadata": {},
   "outputs": [],
   "source": [
    "from onnxruntime import (GraphOptimizationLevel, InferenceSession, SessionOptions)\n",
    "\n",
    "def create_model_for_provider(model_path, provider=\"CPUExecutionProvider\"):\n",
    "    options = SessionOptions()\n",
    "    options.intra_op_num_threads = 1\n",
    "    options.graph_optimization_level = GraphOptimizationLevel.ORT_ENABLE_ALL\n",
    "    session = InferenceSession(str(model_path), options, providers=[provider])\n",
    "    session.disable_fallback()\n",
    "    return session"
   ]
  },
  {
   "cell_type": "code",
   "execution_count": 59,
   "metadata": {},
   "outputs": [],
   "source": [
    "onnx_model = create_model_for_provider(onnx_model_path)"
   ]
  },
  {
   "cell_type": "markdown",
   "metadata": {},
   "source": [
    "Try running one through and see how it does"
   ]
  },
  {
   "cell_type": "code",
   "execution_count": 60,
   "metadata": {},
   "outputs": [
    {
     "data": {
      "text/plain": [
       "(1, 151)"
      ]
     },
     "execution_count": 60,
     "metadata": {},
     "output_type": "execute_result"
    }
   ],
   "source": [
    "inputs = clinc_enc[\"test\"][:1]\n",
    "del inputs[\"labels\"]\n",
    "logits_onnx = onnx_model.run(None, inputs)[0]\n",
    "logits_onnx.shape"
   ]
  },
  {
   "cell_type": "markdown",
   "metadata": {},
   "source": [
    "Now we can get the predicted numerical label and convert it to the predicted category using the intents variable from earlier."
   ]
  },
  {
   "cell_type": "code",
   "execution_count": 65,
   "metadata": {},
   "outputs": [
    {
     "data": {
      "text/plain": [
       "'translate'"
      ]
     },
     "execution_count": 65,
     "metadata": {},
     "output_type": "execute_result"
    }
   ],
   "source": [
    "intents.int2str(int(np.argmax(logits_onnx)))"
   ]
  },
  {
   "cell_type": "code",
   "execution_count": 66,
   "metadata": {},
   "outputs": [
    {
     "data": {
      "text/plain": [
       "{'text': ['how would you say fly in italian'], 'intent': [61]}"
      ]
     },
     "execution_count": 66,
     "metadata": {},
     "output_type": "execute_result"
    }
   ],
   "source": [
    "clinc[\"test\"][:1]"
   ]
  },
  {
   "cell_type": "markdown",
   "metadata": {},
   "source": [
    "The ONNX model is not compatible with the text-classification pipeline, so we’ll create our own class that mimics the core behavior:"
   ]
  },
  {
   "cell_type": "code",
   "execution_count": 67,
   "metadata": {},
   "outputs": [],
   "source": [
    "from scipy.special import softmax\n",
    "\n",
    "class OnnxPipeline:\n",
    "    def __init__(self, model, tokenizer):\n",
    "        self.model = model\n",
    "        self.tokenizer = tokenizer\n",
    "\n",
    "    def __call__(self, query):\n",
    "        model_inputs = self.tokenizer(query, return_tensors=\"pt\")\n",
    "        inputs_onnx = {k: v.cpu().detach().numpy()\n",
    "                       for k, v in model_inputs.items()}\n",
    "        logits = self.model.run(None, inputs_onnx)[0][0, :]\n",
    "        probs = softmax(logits)\n",
    "        pred_idx = np.argmax(probs).item()\n",
    "        return [{\"label\": intents.int2str(pred_idx), \"score\": probs[pred_idx]}]"
   ]
  },
  {
   "cell_type": "markdown",
   "metadata": {},
   "source": [
    "We can then test this on our simple query to see if we recover the car_rental intent:"
   ]
  },
  {
   "cell_type": "code",
   "execution_count": 68,
   "metadata": {},
   "outputs": [
    {
     "data": {
      "text/plain": [
       "[{'label': 'car_rental', 'score': 0.55716974}]"
      ]
     },
     "execution_count": 68,
     "metadata": {},
     "output_type": "execute_result"
    }
   ],
   "source": [
    "pipe = OnnxPipeline(onnx_model, tokenizer)\n",
    "pipe(query)"
   ]
  },
  {
   "cell_type": "markdown",
   "metadata": {},
   "source": [
    "Our current PerformanceBenchmark class won't work for our ONNX model because the size can't be calculated using\n",
    "torch.save(). We have already saved the model when we created it so it is already on the disk.\n",
    "\n",
    "We will simply inherit from our PerformanceBenchmark class and override the compute_size() method"
   ]
  },
  {
   "cell_type": "code",
   "execution_count": 69,
   "metadata": {},
   "outputs": [],
   "source": [
    "class OnnxPerformanceBenchmark(PerformanceBenchmark):\n",
    "    def __init__(self, *args, model_path, **kwargs):\n",
    "        super().__init__(*args, **kwargs)\n",
    "        self.model_path = model_path\n",
    "\n",
    "    def compute_size(self):\n",
    "        size_mb = Path(self.model_path).stat().st_size / (1024 * 1024)\n",
    "        print(f\"Model size (MB) - {size_mb:.2f}\")\n",
    "        return {\"size_mb\": size_mb}"
   ]
  },
  {
   "cell_type": "markdown",
   "metadata": {},
   "source": [
    "Now let's see how it performs"
   ]
  },
  {
   "cell_type": "code",
   "execution_count": 70,
   "metadata": {},
   "outputs": [
    {
     "name": "stdout",
     "output_type": "stream",
     "text": [
      "Model size (MB) - 255.98\n",
      "Average latency (ms) - 16.50 +\\- 0.77\n",
      "Accuracy on test set - 0.858\n"
     ]
    }
   ],
   "source": [
    "optim_type = \"Distillation + ORT\"\n",
    "pb = OnnxPerformanceBenchmark(pipe, clinc[\"test\"], optim_type, model_path=\"onnx/model.onnx\")\n",
    "perf_metrics.update(pb.run_benchmark())"
   ]
  },
  {
   "cell_type": "code",
   "execution_count": 71,
   "metadata": {},
   "outputs": [
    {
     "data": {
      "image/png": "[encoded data removed]",
      "text/plain": [
       "<Figure size 640x480 with 1 Axes>"
      ]
     },
     "metadata": {},
     "output_type": "display_data"
    }
   ],
   "source": [
    "plot_metrics(perf_metrics, optim_type)"
   ]
  },
  {
   "cell_type": "markdown",
   "metadata": {},
   "source": [
    "### Quantization in ONNX\n",
    "\n",
    "The ONNX Runtime (ORT) also offers 3 different ways to quantize: dynamic, static, and quantization-aware training. \n",
    "We will apply dynamic quantization as we did with PyTorch."
   ]
  },
  {
   "cell_type": "code",
   "execution_count": 72,
   "metadata": {},
   "outputs": [
    {
     "name": "stdout",
     "output_type": "stream",
     "text": [
      "Ignore MatMul due to non constant B: /[/distilbert/transformer/layer.0/attention/MatMul]\n",
      "Ignore MatMul due to non constant B: /[/distilbert/transformer/layer.0/attention/MatMul_1]\n",
      "Ignore MatMul due to non constant B: /[/distilbert/transformer/layer.1/attention/MatMul]\n",
      "Ignore MatMul due to non constant B: /[/distilbert/transformer/layer.1/attention/MatMul_1]\n",
      "Ignore MatMul due to non constant B: /[/distilbert/transformer/layer.2/attention/MatMul]\n",
      "Ignore MatMul due to non constant B: /[/distilbert/transformer/layer.2/attention/MatMul_1]\n",
      "Ignore MatMul due to non constant B: /[/distilbert/transformer/layer.3/attention/MatMul]\n",
      "Ignore MatMul due to non constant B: /[/distilbert/transformer/layer.3/attention/MatMul_1]\n",
      "Ignore MatMul due to non constant B: /[/distilbert/transformer/layer.4/attention/MatMul]\n",
      "Ignore MatMul due to non constant B: /[/distilbert/transformer/layer.4/attention/MatMul_1]\n",
      "Ignore MatMul due to non constant B: /[/distilbert/transformer/layer.5/attention/MatMul]\n",
      "Ignore MatMul due to non constant B: /[/distilbert/transformer/layer.5/attention/MatMul_1]\n"
     ]
    }
   ],
   "source": [
    "from onnxruntime.quantization import quantize_dynamic, QuantType\n",
    "\n",
    "model_input = \"onnx/model.onnx\"\n",
    "model_output = \"onnx/model.quant.onnx\"\n",
    "quantize_dynamic(model_input, model_output, weight_type=QuantType.QInt8)"
   ]
  },
  {
   "cell_type": "markdown",
   "metadata": {},
   "source": [
    "Now let's see how our ONNX quantized model does."
   ]
  },
  {
   "cell_type": "code",
   "execution_count": 73,
   "metadata": {},
   "outputs": [],
   "source": [
    "onnx_quantized_model = create_model_for_provider(model_output)\n",
    "pipe = OnnxPipeline(onnx_quantized_model, tokenizer)"
   ]
  },
  {
   "cell_type": "code",
   "execution_count": 74,
   "metadata": {},
   "outputs": [
    {
     "name": "stdout",
     "output_type": "stream",
     "text": [
      "Model size (MB) - 64.33\n",
      "Average latency (ms) - 6.47 +\\- 0.19\n",
      "Accuracy on test set - 0.856\n"
     ]
    }
   ],
   "source": [
    "optim_type = \"Distillation + ORT (quantized)\"\n",
    "pb = OnnxPerformanceBenchmark(pipe, clinc[\"test\"], optim_type, model_path=model_output)\n",
    "perf_metrics.update(pb.run_benchmark())"
   ]
  },
  {
   "cell_type": "code",
   "execution_count": 75,
   "metadata": {},
   "outputs": [
    {
     "data": {
      "image/png": "[encoded data removed]",
      "text/plain": [
       "<Figure size 640x480 with 1 Axes>"
      ]
     },
     "metadata": {},
     "output_type": "display_data"
    }
   ],
   "source": [
    "plot_metrics(perf_metrics, optim_type)"
   ]
  },
  {
   "cell_type": "markdown",
   "metadata": {},
   "source": [
    "Notice the size and speed improvements. PyTorch only optimizes the nn.Linear modules, while ONNX quantizes the embedding layer as well. "
   ]
  },
  {
   "cell_type": "markdown",
   "metadata": {},
   "source": [
    "https://www.codeproject.com/Articles/5286799/Converting-an-ONNX-Object-Detection-Model-to-iOS-C"
   ]
  },
  {
   "cell_type": "code",
   "execution_count": null,
   "metadata": {},
   "outputs": [],
   "source": []
  }
 ],
 "metadata": {
  "kernelspec": {
   "display_name": "Python 3",
   "language": "python",
   "name": "python3"
  },
  "language_info": {
   "codemirror_mode": {
    "name": "ipython",
    "version": 3
   },
   "file_extension": ".py",
   "mimetype": "text/x-python",
   "name": "python",
   "nbconvert_exporter": "python",
   "pygments_lexer": "ipython3",
   "version": "3.8.10"
  }
 },
 "nbformat": 4,
 "nbformat_minor": 2
}
