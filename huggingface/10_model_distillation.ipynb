{
 "cells": [
  {
   "cell_type": "markdown",
   "metadata": {},
   "source": [
    "# Knowledge Distillation and Quantization for Neural Networks\n",
    "\n",
    "## References\n",
    "[Compressing Large Language Models (LLMs) | w/ Python Code](https://www.youtube.com/watch?v=FLkUOkeMd5M&ab_channel=ShawTalebi)"
   ]
  },
  {
   "cell_type": "code",
   "execution_count": 19,
   "metadata": {},
   "outputs": [],
   "source": [
    "import os\n",
    "import torch\n",
    "import torch.nn as nn\n",
    "import torch.optim as optim\n",
    "\n",
    "from typing import List, Dict, Any, Tuple\n",
    "from datasets import load_dataset\n",
    "from transformers import (\n",
    "    AutoTokenizer,\n",
    "    AutoModelForSequenceClassification,\n",
    "    BitsAndBytesConfig,\n",
    ")\n",
    "from transformers import DistilBertForSequenceClassification, DistilBertConfig\n",
    "from torch.utils.data import DataLoader\n",
    "from torch.functional import F\n",
    "from sklearn.metrics import accuracy_score, precision_recall_fscore_support"
   ]
  },
  {
   "cell_type": "markdown",
   "metadata": {},
   "source": [
    "# Data Processing"
   ]
  },
  {
   "cell_type": "code",
   "execution_count": null,
   "metadata": {},
   "outputs": [],
   "source": [
    "data = load_dataset(\"shawhin/phishing-site-classification\")\n",
    "data"
   ]
  },
  {
   "cell_type": "code",
   "execution_count": null,
   "metadata": {},
   "outputs": [],
   "source": [
    "# print a few examples\n",
    "for i in range(3):\n",
    "    print(data[\"train\"][i])"
   ]
  },
  {
   "cell_type": "markdown",
   "metadata": {},
   "source": [
    "# Load Models"
   ]
  },
  {
   "cell_type": "code",
   "execution_count": 13,
   "metadata": {},
   "outputs": [],
   "source": [
    "# load the tokenizer and teacher model\n",
    "teacher_model_name = \"shawhin/bert-phishing-classifier_teacher\"\n",
    "tokenizer = AutoTokenizer.from_pretrained(teacher_model_name)\n",
    "teacher_model = AutoModelForSequenceClassification.from_pretrained(teacher_model_name)"
   ]
  },
  {
   "cell_type": "code",
   "execution_count": null,
   "metadata": {},
   "outputs": [],
   "source": [
    "# Drop 4 heads per layer and 2 layers\n",
    "# Original DistilBERT has 6 layers and 12 heads, context window size is 512, embedding size is 768\n",
    "# Technically we are pruning the original model to 4 layers and 8 heads\n",
    "student_model_config = DistilBertConfig(n_heads=8, n_layers=4)\n",
    "student_model = DistilBertForSequenceClassification.from_pretrained(\n",
    "    pretrained_model_name_or_path=\"distilbert-base-uncased\",\n",
    "    config=student_model_config,\n",
    ")"
   ]
  },
  {
   "cell_type": "markdown",
   "metadata": {},
   "source": [
    "# Tokenization"
   ]
  },
  {
   "cell_type": "code",
   "execution_count": null,
   "metadata": {},
   "outputs": [],
   "source": [
    "# define text preprocessing\n",
    "def preprocess_function(examples):\n",
    "    return tokenizer(examples[\"text\"], padding=\"max_length\", truncation=True)\n",
    "\n",
    "\n",
    "# tokenize all datasetse\n",
    "tokenized_data = data.map(preprocess_function, batched=True)\n",
    "tokenized_data.set_format(\n",
    "    type=\"torch\", columns=[\"input_ids\", \"attention_mask\", \"labels\"]\n",
    ")"
   ]
  },
  {
   "cell_type": "markdown",
   "metadata": {},
   "source": [
    "# Helper Functions"
   ]
  },
  {
   "cell_type": "code",
   "execution_count": 17,
   "metadata": {},
   "outputs": [],
   "source": [
    "# Function to evaluate model performance\n",
    "def evaluate_model(\n",
    "    model: nn.Module,\n",
    "    dataloader: DataLoader,\n",
    "    device: torch.device,\n",
    ") -> Tuple[float, float, float, float]:\n",
    "    \"\"\"\n",
    "    Evaluate a PyTorch model on a given DataLoader.\n",
    "    \"\"\"\n",
    "\n",
    "    model.eval()  # Set model to evaluation mode\n",
    "    all_preds = []\n",
    "    all_labels = []\n",
    "\n",
    "    # Disable gradient calculations\n",
    "    with torch.no_grad():\n",
    "        for batch in dataloader:\n",
    "            input_ids = batch[\"input_ids\"].to(device)\n",
    "            attention_mask = batch[\"attention_mask\"].to(device)\n",
    "            labels = batch[\"labels\"].to(device)\n",
    "\n",
    "            # Forward pass to get logits\n",
    "            outputs = model(input_ids, attention_mask=attention_mask)\n",
    "            logits = outputs.logits\n",
    "\n",
    "            # Get predictions\n",
    "            preds = torch.argmax(logits, dim=1).cpu().numpy()\n",
    "            all_preds.extend(preds)\n",
    "            all_labels.extend(labels.cpu().numpy())\n",
    "\n",
    "    # Calculate evaluation metrics\n",
    "    accuracy = accuracy_score(all_labels, all_preds)\n",
    "    precision, recall, f1, _ = precision_recall_fscore_support(\n",
    "        all_labels, all_preds, average=\"binary\"\n",
    "    )\n",
    "\n",
    "    return accuracy, precision, recall, f1"
   ]
  },
  {
   "cell_type": "code",
   "execution_count": 16,
   "metadata": {},
   "outputs": [],
   "source": [
    "# Function to compute distillation and hard-label loss\n",
    "def distillation_loss(\n",
    "    student_logits: torch.FloatTensor,\n",
    "    teacher_logits: torch.FloatTensor,\n",
    "    true_labels: torch.LongTensor,\n",
    "    temperature: float,\n",
    "    alpha: float,\n",
    ") -> torch.FloatTensor:\n",
    "    \"\"\"\n",
    "    Compute the knowledge distillation loss by combining:\n",
    "      - KL Divergence between the student and teacher distributions\n",
    "      - Hard-label cross-entropy loss with the ground truth labels\n",
    "    Original Paper: “Distilling the Knowledge in a Neural Network”\n",
    "    Typical Temperature Values: 1.0 - 20.0, but 2.0 is common\n",
    "    Typical Alpha Values: 0.3 and 0.7\n",
    "    \"\"\"\n",
    "\n",
    "    # Compute the soft targets from the teacher using the temperature\n",
    "    teacher_probs = F.softmax(teacher_logits / temperature, dim=1)\n",
    "    student_log_probs = F.log_softmax(student_logits / temperature, dim=1)\n",
    "\n",
    "    # Knowledge Distillation (KL Divergence) part\n",
    "    distill_loss = F.kl_div(student_log_probs, teacher_probs, reduction=\"batchmean\") * (\n",
    "        temperature**2\n",
    "    )\n",
    "\n",
    "    # Hard-label cross-entropy loss\n",
    "    hard_loss = F.cross_entropy(student_logits, true_labels)\n",
    "\n",
    "    # Combine\n",
    "    loss = alpha * distill_loss + (1.0 - alpha) * hard_loss\n",
    "    return loss"
   ]
  },
  {
   "cell_type": "code",
   "execution_count": 20,
   "metadata": {},
   "outputs": [],
   "source": [
    "# Test the distillation loss function\n",
    "teacher_logits = torch.randn(4, 2)\n",
    "student_logits = torch.randn(4, 2)\n",
    "true_labels = torch.tensor([0, 1, 0, 1])\n",
    "temperature = 2.0\n",
    "alpha = 0.5\n",
    "\n",
    "loss = distillation_loss(\n",
    "    student_logits, teacher_logits, true_labels, temperature, alpha\n",
    ")"
   ]
  },
  {
   "cell_type": "markdown",
   "metadata": {},
   "source": [
    "# Teacher Model Pruning"
   ]
  },
  {
   "cell_type": "code",
   "execution_count": null,
   "metadata": {},
   "outputs": [],
   "source": []
  },
  {
   "cell_type": "markdown",
   "metadata": {},
   "source": [
    "# Student Model Training"
   ]
  },
  {
   "cell_type": "code",
   "execution_count": 21,
   "metadata": {},
   "outputs": [],
   "source": [
    "# Hyperparameters\n",
    "batch_size = 32\n",
    "lr = 1e-4\n",
    "num_epochs = 5\n",
    "temperature = 2.0\n",
    "alpha = 0.5\n",
    "\n",
    "# Define Optimizer\n",
    "optimizer = optim.AdamW(student_model.parameters(), lr=lr)\n",
    "\n",
    "# Set the device to GPU if available\n",
    "device = torch.device(\"cuda\" if torch.cuda.is_available() else \"cpu\")\n",
    "\n",
    "# Create training data loader\n",
    "dataloader = DataLoader(\n",
    "    tokenized_data[\"train\"],\n",
    "    batch_size=batch_size,\n",
    "    shuffle=True,\n",
    ")\n",
    "\n",
    "# Create testing data loader\n",
    "test_dataloader = DataLoader(\n",
    "    tokenized_data[\"test\"],\n",
    "    batch_size=batch_size,\n",
    "    shuffle=False,\n",
    ")"
   ]
  },
  {
   "cell_type": "code",
   "execution_count": null,
   "metadata": {},
   "outputs": [],
   "source": [
    "# Move models to device\n",
    "student_model.to(device)\n",
    "teacher_model.to(device)\n",
    "\n",
    "# put student model in train mode\n",
    "student_model.train()\n",
    "\n",
    "# train model\n",
    "for epoch in range(num_epochs):\n",
    "    for batch in dataloader:\n",
    "        # Prepare inputs\n",
    "        input_ids = batch[\"input_ids\"].to(device)\n",
    "        attention_mask = batch[\"attention_mask\"].to(device)\n",
    "        labels = batch[\"labels\"].to(device)\n",
    "\n",
    "        # Disable gradient calculation for teacher model\n",
    "        with torch.no_grad():\n",
    "            teacher_outputs = teacher_model(input_ids, attention_mask=attention_mask)\n",
    "            teacher_logits = teacher_outputs.logits\n",
    "\n",
    "        # Forward pass through the student model\n",
    "        student_outputs = student_model(input_ids, attention_mask=attention_mask)\n",
    "        student_logits = student_outputs.logits\n",
    "\n",
    "        # Compute the distillation loss\n",
    "        loss = distillation_loss(\n",
    "            student_logits, teacher_logits, labels, temperature, alpha\n",
    "        )\n",
    "\n",
    "        # Backpropagation\n",
    "        optimizer.zero_grad()\n",
    "        loss.backward()\n",
    "        optimizer.step()\n",
    "\n",
    "    print(f\"Epoch {epoch + 1} completed with loss: {loss.item()}\")\n",
    "\n",
    "    # Evaluate the teacher model\n",
    "    teacher_accuracy, teacher_precision, teacher_recall, teacher_f1 = evaluate_model(\n",
    "        teacher_model, test_dataloader, device\n",
    "    )\n",
    "    print(\n",
    "        f\"Teacher (test) - Accuracy: {teacher_accuracy:.4f}, Precision: {teacher_precision:.4f}, Recall: {teacher_recall:.4f}, F1 Score: {teacher_f1:.4f}\"\n",
    "    )\n",
    "\n",
    "    # Evaluate the student model\n",
    "    student_accuracy, student_precision, student_recall, student_f1 = evaluate_model(\n",
    "        student_model, test_dataloader, device\n",
    "    )\n",
    "    print(\n",
    "        f\"Student (test) - Accuracy: {student_accuracy:.4f}, Precision: {student_precision:.4f}, Recall: {student_recall:.4f}, F1 Score: {student_f1:.4f}\"\n",
    "    )\n",
    "    print(\"\\n\")\n",
    "\n",
    "    # put student model back into train mode\n",
    "    student_model.train()"
   ]
  },
  {
   "cell_type": "markdown",
   "metadata": {},
   "source": [
    "# Evaluate Models"
   ]
  },
  {
   "cell_type": "code",
   "execution_count": null,
   "metadata": {},
   "outputs": [],
   "source": [
    "# create testing data loader\n",
    "validation_dataloader = DataLoader(tokenized_data[\"validation\"], batch_size=8)\n",
    "\n",
    "# Evaluate the teacher model\n",
    "teacher_accuracy, teacher_precision, teacher_recall, teacher_f1 = evaluate_model(\n",
    "    teacher_model, validation_dataloader, device\n",
    ")\n",
    "print(\n",
    "    f\"Teacher (validation) - Accuracy: {teacher_accuracy:.4f}, Precision: {teacher_precision:.4f}, Recall: {teacher_recall:.4f}, F1 Score: {teacher_f1:.4f}\"\n",
    ")\n",
    "\n",
    "# Evaluate the student model\n",
    "student_accuracy, student_precision, student_recall, student_f1 = evaluate_model(\n",
    "    student_model, validation_dataloader, device\n",
    ")\n",
    "print(\n",
    "    f\"Student (validation) - Accuracy: {student_accuracy:.4f}, Precision: {student_precision:.4f}, Recall: {student_recall:.4f}, F1 Score: {student_f1:.4f}\"\n",
    ")"
   ]
  },
  {
   "cell_type": "markdown",
   "metadata": {},
   "source": [
    "# Save the Student Model Locally"
   ]
  },
  {
   "cell_type": "code",
   "execution_count": null,
   "metadata": {},
   "outputs": [],
   "source": [
    "# Save the student model\n",
    "student_model.save_pretrained(\"models/phishing-site-classifier_student\")\n",
    "\n",
    "# How to load the student model from disk for future use\n",
    "# from transformers import AutoModelForSequenceClassification\n",
    "\n",
    "# # Load the student model from disk\n",
    "# loaded_student_model = AutoModelForSequenceClassification.from_pretrained(\n",
    "#     \"models/phishing-site-classifier_student\"\n",
    "# )"
   ]
  },
  {
   "cell_type": "markdown",
   "metadata": {},
   "source": [
    "# Quantization"
   ]
  },
  {
   "cell_type": "code",
   "execution_count": null,
   "metadata": {},
   "outputs": [],
   "source": [
    "# Set the device to GPU if available\n",
    "device = torch.device(\"cuda\" if torch.cuda.is_available() else \"cpu\")\n",
    "\n",
    "# load model in model as 4-bit\n",
    "nf4_config = BitsAndBytesConfig(\n",
    "    load_in_4bit=True,\n",
    "    bnb_4bit_quant_type=\"nf4\",\n",
    "    bnb_4bit_compute_dtype=torch.bfloat16,\n",
    "    bnb_4bit_use_double_quant=True,\n",
    ")\n",
    "\n",
    "student_model_nf4 = AutoModelForSequenceClassification.from_pretrained(\n",
    "    pretrained_model_name_or_path=\"models/phishing-site-classifier_student\",\n",
    "    device_map=device,\n",
    "    quantization_config=nf4_config,\n",
    ")"
   ]
  },
  {
   "cell_type": "code",
   "execution_count": null,
   "metadata": {},
   "outputs": [],
   "source": [
    "# Evaluate the student model\n",
    "quantized_accuracy, quantized_precision, quantized_recall, quantized_f1 = (\n",
    "    evaluate_model(student_model_nf4, validation_dataloader, device)\n",
    ")\n",
    "\n",
    "print(\"Post-quantization Performance\")\n",
    "print(\n",
    "    f\"Accuracy: {quantized_accuracy:.4f}, Precision: {quantized_precision:.4f}, Recall: {quantized_recall:.4f}, F1 Score: {quantized_f1:.4f}\"\n",
    ")"
   ]
  },
  {
   "cell_type": "code",
   "execution_count": null,
   "metadata": {},
   "outputs": [],
   "source": [
    "# Save the quantized model\n",
    "student_model_nf4.save_pretrained(\"models/phishing-site-classifier_student_nf4\")"
   ]
  },
  {
   "cell_type": "markdown",
   "metadata": {},
   "source": [
    "# Evaluate size difference between student and quantized student models"
   ]
  },
  {
   "cell_type": "code",
   "execution_count": null,
   "metadata": {},
   "outputs": [],
   "source": [
    "# Function to get model size on disk\n",
    "def get_model_size(filepath):\n",
    "    size_in_mb = os.path.getsize(filepath) / (1024**2)  # Convert to MB\n",
    "    return size_in_mb"
   ]
  }
 ],
 "metadata": {
  "kernelspec": {
   "display_name": "llms",
   "language": "python",
   "name": "python3"
  },
  "language_info": {
   "codemirror_mode": {
    "name": "ipython",
    "version": 3
   },
   "file_extension": ".py",
   "mimetype": "text/x-python",
   "name": "python",
   "nbconvert_exporter": "python",
   "pygments_lexer": "ipython3",
   "version": "3.11.10"
  }
 },
 "nbformat": 4,
 "nbformat_minor": 2
}
