{
 "cells": [
  {
   "cell_type": "markdown",
   "id": "52459a63",
   "metadata": {},
   "source": [
    "# 🧠 PPO: Proximal Policy Optimization — A Deep Dive\n",
    "\n",
    "## 📌 What Problem is PPO Solving?\n",
    "At its core, PPO is solving the RL objective of maximizing expected reward across trajectories:\n",
    "\n",
    "$$\n",
    "\\max_\\theta \\mathbb{E}_{\\tau \\sim \\pi_\\theta}[R(\\tau)]\n",
    "$$\n",
    "\n",
    "Where:\n",
    "- \\( \\pi_\\theta \\) is the policy parameterized by \\(\\theta\\)\n",
    "- \\( \\tau = (s_0, a_0, s_1, a_1, ..., s_T, a_T) \\) is a trajectory: a sequence of states and actions\n",
    "- \\( R(\\tau) = \\sum_t r_t \\) is the return (total reward for that trajectory)\n",
    "\n",
    "## 🧱 Key Components of PPO\n",
    "\n",
    "### 1. Policy Gradient Foundation\n",
    "PPO builds on the policy gradient theorem:\n",
    "\n",
    "$$\n",
    "\\nabla_\\theta J(\\theta) = \\mathbb{E}[\\nabla_\\theta \\log \\pi_\\theta(a_t | s_t) \\cdot A_t]\n",
    "$$\n",
    "\n",
    "- \\(A_t\\): Advantage — measures how much better (or worse) an action is compared to expected.\n",
    "\n",
    "But this can be unstable, which is where PPO helps.\n",
    "\n",
    "---\n",
    "\n",
    "## 🚧 Problem with Vanilla Policy Gradient: Instability\n",
    "\n",
    "If the policy \\(\\pi_\\theta\\) suddenly increases the probability of a single action too much, it can:\n",
    "- Overfit\n",
    "- Lose diversity\n",
    "- Collapse training\n",
    "\n",
    "PPO addresses this by **restricting how far the new policy can move** — using a **clipping mechanism**.\n",
    "\n",
    "---\n",
    "\n",
    "## ✅ PPO’s Surrogate Objective (Clipped)\n",
    "\n",
    "PPO introduces a clipped surrogate loss:\n",
    "\n",
    "$$\n",
    "L^{\\text{CLIP}}(\\theta) = \\mathbb{E}_t\\left[\\min\\left(r_t(\\theta) \\cdot \\hat{A}_t, \\text{clip}(r_t(\\theta), 1 - \\epsilon, 1 + \\epsilon) \\cdot \\hat{A}_t\\right)\\right]\n",
    "$$\n",
    "\n",
    "Where:\n",
    "- \\( r_t(\\theta) = \\frac{\\pi_\\theta(a_t | s_t)}{\\pi_{\\theta_{\\text{old}}}(a_t | s_t)} \\) — the probability ratio\n",
    "- \\( \\hat{A}_t \\) — advantage estimate\n",
    "- \\(\\epsilon\\) — clipping threshold (e.g., 0.2)\n",
    "\n",
    "---\n",
    "\n",
    "## 🧮 Step-by-Step Breakdown\n",
    "\n",
    "### 🔁 Step 1: Sample Trajectories\n",
    "\n",
    "```python\n",
    "response = ppo_trainer.generate(query, **generation_kwargs)\n",
    "```\n",
    "Generates \\(\\tau = \\text{prompt} + \\text{response}\\)\n",
    "\n",
    "---\n",
    "\n",
    "### 🧠 Step 2: Compute Rewards \\(R(\\tau)\\)\n",
    "\n",
    "```python\n",
    "rewards = [torch.tensor(output[1][\"score\"]) for output in pipe_outputs]\n",
    "```\n",
    "Assigns a scalar reward to each generated sequence.\n",
    "\n",
    "---\n",
    "\n",
    "### 💡 Step 3: Estimate Advantage \\(\\hat{A}_t\\)\n",
    "\n",
    "Using **Generalized Advantage Estimation (GAE)**:\n",
    "\n",
    "$$\n",
    "\\hat{A}_t = \\sum_{l=0}^{\\infty} (\\gamma\\lambda)^l \\cdot \\delta_{t+l}\n",
    "$$\n",
    "\n",
    "Where:\n",
    "\n",
    "$$\n",
    "\\delta_t = r_t + \\gamma V(s_{t+1}) - V(s_t)\n",
    "$$\n",
    "\n",
    "- \\(\\gamma\\): Discount factor (e.g., 0.99)\n",
    "- \\(\\lambda\\): Smoothing factor (e.g., 0.95)\n",
    "- \\(V(s)\\): Estimated value function\n",
    "\n",
    "```python\n",
    "ppo_trainer.step(query_tensors, response_tensors, rewards)\n",
    "```\n",
    "\n",
    "---\n",
    "\n",
    "### 🔢 Step 4: Compute Probability Ratio \\(r_t\\)\n",
    "\n",
    "```python\n",
    "ratio = torch.exp(new_log_probs - old_log_probs)\n",
    "```\n",
    "\n",
    "This is:\n",
    "$$\n",
    "\\frac{\\pi_\\theta(a_t | s_t)}{\\pi_{\\theta_{\\text{old}}}(a_t | s_t)}\n",
    "$$\n",
    "\n",
    "---\n",
    "\n",
    "### 🔒 Step 5: Clip the Ratio\n",
    "\n",
    "```python\n",
    "clipped_ratio = torch.clamp(ratio, 1 - epsilon, 1 + epsilon)\n",
    "```\n",
    "\n",
    "This creates a **trust region** to prevent large, destabilizing updates.\n",
    "\n",
    "---\n",
    "\n",
    "### 🔁 Step 6: Apply the PPO Objective\n",
    "\n",
    "```python\n",
    "loss1 = ratio * advantages\n",
    "loss2 = clipped_ratio * advantages\n",
    "loss = torch.min(loss1, loss2)\n",
    "```\n",
    "\n",
    "Ensures:\n",
    "- If \\(\\hat{A}_t > 0\\), reinforce action — but gently\n",
    "- If \\(\\hat{A}_t < 0\\), suppress action — but not too harshly\n",
    "\n",
    "---\n",
    "\n",
    "## 🧭 KL Divergence as a Constraint\n",
    "\n",
    "Many implementations add a KL penalty:\n",
    "\n",
    "$$\n",
    "L^{\\text{KL-PEN}}(\\theta) = \\mathbb{E}\\left[r_t(\\theta) \\cdot \\hat{A}_t - \\beta \\cdot D_{\\text{KL}}(\\pi_\\theta \\| \\pi_{\\theta_{\\text{old}}})\\right]\n",
    "$$\n",
    "\n",
    "This keeps \\(\\pi_\\theta\\) from drifting too far from the original (reference) policy:\n",
    "\n",
    "```python\n",
    "ref_model = AutoModelForCausalLMWithValueHead.from_pretrained(config.model_name)\n",
    "```\n",
    "\n",
    "---\n",
    "\n",
    "## 🔄 Full PPO Loop in Practice\n",
    "1. Generate responses: \\(\\tau = \\text{prompt} + \\text{response}\\)\n",
    "2. Compute reward: \\(R(\\tau)\\)\n",
    "3. Estimate value: \\(V(s)\\)\n",
    "4. Compute advantage: \\(\\hat{A}_t\\)\n",
    "5. Calculate ratio \\(r_t\\)\n",
    "6. Clip ratio & apply surrogate loss\n",
    "7. (Optionally) apply KL penalty\n",
    "8. Update policy\n",
    "\n",
    "---\n",
    "\n",
    "\n",
    "## 🧪 PPO in Natural Language Tasks (e.g. RLHF)\n",
    "\n",
    "| Concept        | Implementation |\n",
    "|----------------|----------------|\n",
    "| Query          | Prompt         |\n",
    "| Response       | Generated text |\n",
    "| Reward         | Sentiment, helpfulness, preference |\n",
    "| Trajectory     | Token sequence |\n",
    "| Policy         | Causal LM with value head |\n",
    "| Update         | PPO clipped objective |\n",
    "\n",
    "---\n",
    "\n",
    "## ✅ Why PPO Works\n",
    "- **Stable**: Clipping controls how far updates go\n",
    "- **Effective**: Advantage estimates focus learning\n",
    "- **General**: Works with any reward function\n",
    "- **Safe**: KL penalty prevents policy collapse\n",
    "\n",
    "---\n",
    "\n",
    "## 📚 References\n",
    "- [Policy Gradient](https://huggingface.co/learn/deep-rl-course/unit4/policy-gradient)\n",
    "- [Reinforcement Learning from Human Feedback explained with math derivations and the PyTorch code](https://www.youtube.com/watch?v=qGyFrqc34yc&t=6400s&ab_channel=UmarJamil)\n",
    "- [OpenAI PPO Blog](https://openai.com/research/openai-baselines-ppo/)\n",
    "- [SpinningUp PPO](https://spinningup.openai.com/en/latest/algorithms/ppo.html)\n",
    "- [TRL PPO Cookbook (Hugging Face)](https://huggingface.co/learn/cookbook/en/ppo_rlhf_trl)"
   ]
  },
  {
   "cell_type": "code",
   "execution_count": 1,
   "id": "c4b1d3c6",
   "metadata": {},
   "outputs": [],
   "source": [
    "# !pip install trl==0.11.3\n",
    "# !pip install wandb"
   ]
  },
  {
   "cell_type": "code",
   "execution_count": 2,
   "id": "6a821a24",
   "metadata": {},
   "outputs": [
    {
     "name": "stderr",
     "output_type": "stream",
     "text": [
      "/home/saul/.pyenv/versions/ppo_test/lib/python3.11/site-packages/tqdm/auto.py:21: TqdmWarning: IProgress not found. Please update jupyter and ipywidgets. See https://ipywidgets.readthedocs.io/en/stable/user_install.html\n",
      "  from .autonotebook import tqdm as notebook_tqdm\n"
     ]
    }
   ],
   "source": [
    "import torch\n",
    "from tqdm import tqdm\n",
    "from transformers import pipeline, AutoTokenizer\n",
    "from datasets import load_dataset\n",
    "from trl import PPOTrainer, PPOConfig, AutoModelForCausalLMWithValueHead\n",
    "from trl.core import LengthSampler\n",
    "import wandb"
   ]
  },
  {
   "cell_type": "code",
   "execution_count": null,
   "id": "5e63e0d2",
   "metadata": {},
   "outputs": [
    {
     "name": "stderr",
     "output_type": "stream",
     "text": [
      "/home/saul/.pyenv/versions/ppo_test/lib/python3.11/site-packages/trl/trainer/ppo_config.py:207: FutureWarning: `PPOConfig` is deprecated and will be removed in the future. Please use `PPOv2Config` with `PPOv2Trainer` instead.\n",
      "  warnings.warn(\n"
     ]
    }
   ],
   "source": [
    "# 🚀 1. Define PPO Configuration\n",
    "config = PPOConfig(\n",
    "    model_name=\"lvwerra/gpt2-imdb\",\n",
    "    learning_rate=1.41e-5,\n",
    "    # log_with=\"wandb\",\n",
    ")"
   ]
  },
  {
   "cell_type": "code",
   "execution_count": null,
   "id": "28edaf4b",
   "metadata": {},
   "outputs": [],
   "source": [
    "# 🧱 2. Build the IMDB Prompt Dataset for Training\n",
    "def build_dataset(\n",
    "    config, dataset_name=\"imdb\", input_min_text_length=2, input_max_text_length=8\n",
    "):\n",
    "    tokenizer = AutoTokenizer.from_pretrained(config.model_name)\n",
    "    tokenizer.pad_token = tokenizer.eos_token\n",
    "    ds = load_dataset(dataset_name, split=\"train\")\n",
    "    ds = ds.rename_columns({\"text\": \"review\"})\n",
    "    ds = ds.filter(lambda x: len(x[\"review\"]) > 200)\n",
    "\n",
    "    input_size = LengthSampler(input_min_text_length, input_max_text_length)\n",
    "\n",
    "    def tokenize(sample):\n",
    "        sample[\"input_ids\"] = tokenizer.encode(sample[\"review\"])[: input_size()]\n",
    "        sample[\"query\"] = tokenizer.decode(sample[\"input_ids\"])\n",
    "        return sample\n",
    "\n",
    "    ds = ds.map(tokenize)\n",
    "    ds.set_format(type=\"torch\")\n",
    "    return ds"
   ]
  },
  {
   "cell_type": "code",
   "execution_count": 5,
   "id": "8e115d09",
   "metadata": {},
   "outputs": [],
   "source": [
    "# 📦 Custom data collator for PPOTrainer\n",
    "def collator(data):\n",
    "    return dict((key, [d[key] for d in data]) for key in data[0])"
   ]
  },
  {
   "cell_type": "code",
   "execution_count": null,
   "id": "02e9b4a6",
   "metadata": {},
   "outputs": [
    {
     "name": "stderr",
     "output_type": "stream",
     "text": [
      "/home/saul/.pyenv/versions/ppo_test/lib/python3.11/site-packages/trl/trainer/ppo_trainer.py:193: FutureWarning: `PPOTrainer` is deprecated and will be removed in trl v0.12. Please use `PPOv2Trainer` instead.\n",
      "  warnings.warn(\n"
     ]
    }
   ],
   "source": [
    "# 🔧 3. Load Dataset and Initialize PPO Components\n",
    "dataset = build_dataset(config)\n",
    "\n",
    "model = AutoModelForCausalLMWithValueHead.from_pretrained(config.model_name)\n",
    "ref_model = AutoModelForCausalLMWithValueHead.from_pretrained(config.model_name)\n",
    "tokenizer = AutoTokenizer.from_pretrained(config.model_name)\n",
    "tokenizer.pad_token = tokenizer.eos_token\n",
    "\n",
    "ppo_trainer = PPOTrainer(\n",
    "    config, model, ref_model, tokenizer, dataset=dataset, data_collator=collator\n",
    ")"
   ]
  },
  {
   "cell_type": "code",
   "execution_count": null,
   "id": "dbc59d23",
   "metadata": {},
   "outputs": [
    {
     "name": "stderr",
     "output_type": "stream",
     "text": [
      "Device set to use cuda:0\n"
     ]
    }
   ],
   "source": [
    "# 🧠 4. Load Reward Model (Sentiment Classifier)\n",
    "device = ppo_trainer.accelerator.device\n",
    "if ppo_trainer.accelerator.num_processes == 1:\n",
    "    device = 0 if torch.cuda.is_available() else \"cpu\"\n",
    "\n",
    "sentiment_pipe = pipeline(\n",
    "    \"sentiment-analysis\",\n",
    "    model=\"lvwerra/distilbert-imdb\",\n",
    "    device=device,\n",
    ")\n",
    "sent_kwargs = {\n",
    "    \"return_all_scores\": True,\n",
    "    \"function_to_apply\": \"none\",\n",
    "    \"batch_size\": 16,\n",
    "}"
   ]
  },
  {
   "cell_type": "code",
   "execution_count": 8,
   "id": "da7041ed",
   "metadata": {},
   "outputs": [
    {
     "name": "stdout",
     "output_type": "stream",
     "text": [
      "[[{'label': 'NEGATIVE', 'score': 2.335048198699951}, {'label': 'POSITIVE', 'score': -2.726576328277588}]]\n",
      "[[{'label': 'NEGATIVE', 'score': -2.2947897911071777}, {'label': 'POSITIVE', 'score': 2.557039737701416}]]\n"
     ]
    },
    {
     "name": "stderr",
     "output_type": "stream",
     "text": [
      "/home/saul/.pyenv/versions/ppo_test/lib/python3.11/site-packages/transformers/pipelines/text_classification.py:106: UserWarning: `return_all_scores` is now deprecated,  if want a similar functionality use `top_k=None` instead of `return_all_scores=True` or `top_k=1` instead of `return_all_scores=False`.\n",
      "  warnings.warn(\n"
     ]
    }
   ],
   "source": [
    "# 🔍 Test reward model\n",
    "print(sentiment_pipe(\"this movie was really bad!!\", **sent_kwargs))\n",
    "print(sentiment_pipe(\"this movie was really good!!\", **sent_kwargs))"
   ]
  },
  {
   "cell_type": "code",
   "execution_count": 11,
   "id": "c9a870e5",
   "metadata": {},
   "outputs": [],
   "source": [
    "# ⚙️ 5. Response Generation Configuration\n",
    "output_min_length = 4\n",
    "output_max_length = 16\n",
    "output_length_sampler = LengthSampler(output_min_length, output_max_length)\n",
    "\n",
    "generation_kwargs = {\n",
    "    \"min_length\": -1,\n",
    "    \"top_k\": 0.0,\n",
    "    \"top_p\": 1.0,\n",
    "    \"do_sample\": True,\n",
    "    \"pad_token_id\": tokenizer.eos_token_id,\n",
    "}"
   ]
  },
  {
   "cell_type": "code",
   "execution_count": null,
   "id": "b92f2eee",
   "metadata": {},
   "outputs": [
    {
     "name": "stderr",
     "output_type": "stream",
     "text": [
      "0it [00:00, ?it/s]The attention mask is not set and cannot be inferred from input because pad token is same as eos token. As a consequence, you may observe unexpected behavior. Please pass your input's `attention_mask` to obtain reliable results.\n",
      "8it [01:15,  9.05s/it]You seem to be using the pipelines sequentially on GPU. In order to maximize efficiency please use a dataset\n",
      "45it [07:13,  9.29s/it]"
     ]
    }
   ],
   "source": [
    "# 🔁 6. PPO Training Loop\n",
    "for epoch, batch in tqdm(enumerate(ppo_trainer.dataloader)):\n",
    "    query_tensors = batch[\"input_ids\"]\n",
    "\n",
    "    # Step 1: Generate responses\n",
    "    response_tensors = []\n",
    "    for query in query_tensors:\n",
    "        gen_len = output_length_sampler()\n",
    "        generation_kwargs[\"max_new_tokens\"] = gen_len\n",
    "        response = ppo_trainer.generate(query, **generation_kwargs)\n",
    "        response_tensors.append(response.squeeze()[-gen_len:])\n",
    "\n",
    "    batch[\"response\"] = [tokenizer.decode(r) for r in response_tensors]\n",
    "\n",
    "    # Step 2: Compute rewards using sentiment\n",
    "    texts = [q + r for q, r in zip(batch[\"query\"], batch[\"response\"])]\n",
    "    pipe_outputs = sentiment_pipe(texts, **sent_kwargs)\n",
    "    rewards = [torch.tensor(output[1][\"score\"]) for output in pipe_outputs]\n",
    "\n",
    "    # Step 3: PPO update (policy gradient step with clipping & advantage estimation)\n",
    "    stats = ppo_trainer.step(query_tensors, response_tensors, rewards)\n",
    "    ppo_trainer.log_stats(stats, batch, rewards)"
   ]
  },
  {
   "cell_type": "code",
   "execution_count": null,
   "id": "c603e168",
   "metadata": {},
   "outputs": [],
   "source": [
    "# 💾 7. Save Fine-Tuned Model\n",
    "model.save_pretrained(\"gpt2-imdb-pos-v2\", push_to_hub=False)\n",
    "tokenizer.save_pretrained(\"gpt2-imdb-pos-v2\", push_to_hub=False)"
   ]
  }
 ],
 "metadata": {
  "kernelspec": {
   "display_name": "ppo_test",
   "language": "python",
   "name": "python3"
  },
  "language_info": {
   "codemirror_mode": {
    "name": "ipython",
    "version": 3
   },
   "file_extension": ".py",
   "mimetype": "text/x-python",
   "name": "python",
   "nbconvert_exporter": "python",
   "pygments_lexer": "ipython3",
   "version": "3.11.10"
  }
 },
 "nbformat": 4,
 "nbformat_minor": 5
}
