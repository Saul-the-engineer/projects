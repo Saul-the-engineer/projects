{
 "cells": [
  {
   "cell_type": "code",
   "execution_count": 1,
   "metadata": {},
   "outputs": [],
   "source": [
    "import numpy as np"
   ]
  },
  {
   "attachments": {},
   "cell_type": "markdown",
   "metadata": {},
   "source": [
    "## One dimensional operations"
   ]
  },
  {
   "cell_type": "code",
   "execution_count": 5,
   "metadata": {},
   "outputs": [
    {
     "name": "stdout",
     "output_type": "stream",
     "text": [
      "Matrix A is: \n",
      " [[3 6 2]\n",
      " [8 0 9]\n",
      " [4 8 0]]\n",
      "\n",
      "\n",
      "Matrix B is: \n",
      " [[4 9 6]\n",
      " [2 0 9]\n",
      " [8 9 4]]\n"
     ]
    }
   ],
   "source": [
    "# make 2 random integer matrices of size 3x3\n",
    "A = np.random.randint(0, 10, (3, 3))\n",
    "B = np.random.randint(0, 10, (3, 3))\n",
    "print(\"Matrix A is: \\n\",A)\n",
    "print('\\n')\n",
    "print(\"Matrix B is: \\n\",B)"
   ]
  },
  {
   "cell_type": "code",
   "execution_count": 8,
   "metadata": {},
   "outputs": [
    {
     "name": "stdout",
     "output_type": "stream",
     "text": [
      "The sum of all elements in A is:  [3 6 2]\n",
      "\n",
      "\n",
      "The sum of all elements in A is:  [3 6 2]\n"
     ]
    }
   ],
   "source": [
    "# simple einsum example\n",
    "es1 = np.einsum('i', A[0,:])\n",
    "print(\"The sum of all elements in A is: \", es1)\n",
    "print('\\n')\n",
    "print(\"The sum of all elements in A is: \", A[0,:])"
   ]
  },
  {
   "cell_type": "code",
   "execution_count": 11,
   "metadata": {},
   "outputs": [
    {
     "name": "stdout",
     "output_type": "stream",
     "text": [
      "The sum of all rows in A is:  11\n",
      "\n",
      "\n",
      "The sum of all rows in A is:  [3 6 2]\n",
      "\n",
      "\n",
      "The sum of all rows in A is:  11\n"
     ]
    }
   ],
   "source": [
    "# sum over the rows of A\n",
    "es2 = np.einsum('i->', A[0,:])\n",
    "print(\"The sum of all rows in A is: \", es2)\n",
    "print('\\n')\n",
    "es2p = np.einsum('i->i', A[0,:])\n",
    "print(\"The sum of all rows in A is: \", es2p)\n",
    "print('\\n')\n",
    "print(\"The sum of all rows in A is: \", np.sum(A[0,:], axis=0))"
   ]
  },
  {
   "cell_type": "code",
   "execution_count": 13,
   "metadata": {},
   "outputs": [
    {
     "name": "stdout",
     "output_type": "stream",
     "text": [
      "The element-wise multiplication of A and B is: \n",
      " [12 54 12]\n",
      "\n",
      "\n",
      "The element-wise multiplication of A and B is: \n",
      " [12 54 12]\n"
     ]
    }
   ],
   "source": [
    "# sample of element-wise multiplication\n",
    "es3 = np.einsum('i,i->i', A[0,:], B[0,:])\n",
    "print(\"The element-wise multiplication of A and B is: \\n\", es3)\n",
    "print('\\n')\n",
    "print(\"The element-wise multiplication of A and B is: \\n\", A[0,:]*B[0,:])"
   ]
  },
  {
   "cell_type": "code",
   "execution_count": 15,
   "metadata": {},
   "outputs": [
    {
     "name": "stdout",
     "output_type": "stream",
     "text": [
      "The inner product of A and B is:  78\n",
      "\n",
      "\n",
      "The inner product of A and B is:  78\n",
      "\n",
      "\n",
      "The inner product of A and B is:  78\n"
     ]
    }
   ],
   "source": [
    "# sample of inner product\n",
    "es4 = np.einsum('i,i', A[0,:], B[0,:])\n",
    "print(\"The inner product of A and B is: \", es4)\n",
    "print('\\n')\n",
    "print(\"The inner product of A and B is: \", np.inner(A[0,:], B[0,:]))\n",
    "print('\\n')\n",
    "print(\"The inner product of A and B is: \", np.dot(A[0,:], B[0,:]))"
   ]
  },
  {
   "cell_type": "code",
   "execution_count": 21,
   "metadata": {},
   "outputs": [
    {
     "name": "stdout",
     "output_type": "stream",
     "text": [
      "The outer product of A and B is: \n",
      " [[12 27 18]\n",
      " [24 54 36]\n",
      " [ 8 18 12]]\n",
      "\n",
      "\n",
      "The outer product of A and B is: \n",
      " [[12 27 18]\n",
      " [24 54 36]\n",
      " [ 8 18 12]]\n",
      "\n",
      "\n",
      "[3 6 2] [4 9 6]\n"
     ]
    }
   ],
   "source": [
    "# sample of outer product\n",
    "es5 = np.einsum('i,j->ij', A[0,:], B[0,:])\n",
    "print(\"The outer product of A and B is: \\n\", es5)\n",
    "print('\\n')\n",
    "print(\"The outer product of A and B is: \\n\", np.outer(A[0,:], B[0,:]))\n",
    "print('\\n')\n",
    "print(A[0,:], B[0,:])"
   ]
  },
  {
   "attachments": {},
   "cell_type": "markdown",
   "metadata": {},
   "source": [
    "## Two Dimensional Operations"
   ]
  },
  {
   "cell_type": "code",
   "execution_count": 22,
   "metadata": {},
   "outputs": [
    {
     "name": "stdout",
     "output_type": "stream",
     "text": [
      "The matrix A is: \n",
      " [[3 6 2]\n",
      " [8 0 9]\n",
      " [4 8 0]]\n",
      "\n",
      "\n",
      "The matrix A is: \n",
      " [[3 6 2]\n",
      " [8 0 9]\n",
      " [4 8 0]]\n"
     ]
    }
   ],
   "source": [
    "# return the matrix A\n",
    "es6 = np.einsum('ij', A)\n",
    "print(\"The matrix A is: \\n\", es6)\n",
    "print('\\n')\n",
    "print(\"The matrix A is: \\n\", A)"
   ]
  },
  {
   "cell_type": "code",
   "execution_count": 23,
   "metadata": {},
   "outputs": [
    {
     "name": "stdout",
     "output_type": "stream",
     "text": [
      "The transpose of A is: \n",
      " [[3 8 4]\n",
      " [6 0 8]\n",
      " [2 9 0]]\n",
      "\n",
      "\n",
      "The transpose of A is: \n",
      " [[3 8 4]\n",
      " [6 0 8]\n",
      " [2 9 0]]\n"
     ]
    }
   ],
   "source": [
    "# transpose of A\n",
    "es7 = np.einsum('ji', A)\n",
    "print(\"The transpose of A is: \\n\", es7)\n",
    "print('\\n')\n",
    "print(\"The transpose of A is: \\n\", A.T)"
   ]
  },
  {
   "cell_type": "code",
   "execution_count": 25,
   "metadata": {},
   "outputs": [
    {
     "name": "stdout",
     "output_type": "stream",
     "text": [
      "The diagonal of A is:  [3 0 0]\n",
      "\n",
      "\n",
      "The diagonal of A is:  [3 0 0]\n"
     ]
    },
    {
     "data": {
      "text/plain": [
       "\"\\nBy using the same index name for both dimensions, 'i', you are essentially instructing einsum to sum along the diagonal elements of A. \\nEach element along the diagonal has the same index value for both rows and columns, and by specifying 'ii->i', \\nyou are telling einsum to collapse the two 'i' indices into a single 'i' index in the output array.\\n\""
      ]
     },
     "execution_count": 25,
     "metadata": {},
     "output_type": "execute_result"
    }
   ],
   "source": [
    "# view diagonal of A\n",
    "es8 = np.einsum('ii->i', A)\n",
    "print(\"The diagonal of A is: \", es8)\n",
    "print('\\n')\n",
    "print(\"The diagonal of A is: \", np.diag(A))\n",
    "\n",
    "'''\n",
    "By using the same index name for both dimensions, 'i', you are essentially instructing einsum to sum along the diagonal elements of A. \n",
    "Each element along the diagonal has the same index value for both rows and columns, and by specifying 'ii->i', \n",
    "you are telling einsum to collapse the two 'i' indices into a single 'i' index in the output array.\n",
    "'''"
   ]
  },
  {
   "cell_type": "code",
   "execution_count": 26,
   "metadata": {},
   "outputs": [
    {
     "name": "stdout",
     "output_type": "stream",
     "text": [
      "The anti-diagonal of A is:  [2 0 4]\n",
      "\n",
      "\n",
      "The anti-diagonal of A is:  [2 0 4]\n"
     ]
    }
   ],
   "source": [
    "# view anti-diagonal of A\n",
    "es9 = np.einsum('ii->i', A[:,::-1])\n",
    "print(\"The anti-diagonal of A is: \", es9)\n",
    "print('\\n')\n",
    "print(\"The anti-diagonal of A is: \", np.diag(A[:,::-1]))"
   ]
  },
  {
   "cell_type": "code",
   "execution_count": 29,
   "metadata": {},
   "outputs": [
    {
     "name": "stdout",
     "output_type": "stream",
     "text": [
      "The sum of A is:  40\n",
      "\n",
      "\n",
      "The sum of A is:  40\n"
     ]
    }
   ],
   "source": [
    "# sum matrix A\n",
    "es10 = np.einsum('ij->', A)\n",
    "print(\"The sum of A is: \", es10)\n",
    "print('\\n')\n",
    "print(\"The sum of A is: \", np.sum(A))"
   ]
  },
  {
   "cell_type": "code",
   "execution_count": 30,
   "metadata": {},
   "outputs": [
    {
     "name": "stdout",
     "output_type": "stream",
     "text": [
      "The sum of A along columns is:  [15 14 11]\n",
      "\n",
      "\n",
      "The sum of A along columns is:  [15 14 11]\n"
     ]
    }
   ],
   "source": [
    "# sum matrix A along columns\n",
    "es11 = np.einsum('ij->j', A)\n",
    "print(\"The sum of A along columns is: \", es11)\n",
    "print('\\n')\n",
    "print(\"The sum of A along columns is: \", np.sum(A, axis=0))"
   ]
  },
  {
   "cell_type": "code",
   "execution_count": 31,
   "metadata": {},
   "outputs": [
    {
     "name": "stdout",
     "output_type": "stream",
     "text": [
      "The element-wise multiplication of A and B is: \n",
      " [[12 54 12]\n",
      " [16  0 81]\n",
      " [32 72  0]]\n",
      "\n",
      "\n",
      "The element-wise multiplication of A and B is: \n",
      " [[12 54 12]\n",
      " [16  0 81]\n",
      " [32 72  0]]\n"
     ]
    }
   ],
   "source": [
    "# element-wise multiplication of A and B\n",
    "es12 = np.einsum('ij,ij->ij', A, B)\n",
    "print(\"The element-wise multiplication of A and B is: \\n\", es12)\n",
    "print('\\n')\n",
    "print(\"The element-wise multiplication of A and B is: \\n\", A*B)"
   ]
  },
  {
   "cell_type": "code",
   "execution_count": 35,
   "metadata": {},
   "outputs": [
    {
     "name": "stdout",
     "output_type": "stream",
     "text": [
      "The dot product of A and B is:  [[ 40  45  80]\n",
      " [104 153  84]\n",
      " [ 32  36  96]]\n",
      "\n",
      "\n",
      "The dot product of A and B is:  [[ 40  45  80]\n",
      " [104 153  84]\n",
      " [ 32  36  96]]\n"
     ]
    }
   ],
   "source": [
    "# dot product of A and B\n",
    "es13 = np.einsum('ij,jk', A, B)\n",
    "print(\"The dot product of A and B is: \", es13)\n",
    "print('\\n')\n",
    "print(\"The dot product of A and B is: \", np.dot(A, B))"
   ]
  },
  {
   "cell_type": "code",
   "execution_count": 37,
   "metadata": {},
   "outputs": [
    {
     "name": "stdout",
     "output_type": "stream",
     "text": [
      "The inner product of A and B is:  [[ 78  24  86]\n",
      " [ 86  97 100]\n",
      " [ 88   8 104]]\n",
      "\n",
      "\n",
      "The inner product of A and B is:  [[ 78  24  86]\n",
      " [ 86  97 100]\n",
      " [ 88   8 104]]\n"
     ]
    }
   ],
   "source": [
    "# inner product of A and B\n",
    "es14 = np.einsum('ij,kj->ik', A, B)\n",
    "print(\"The inner product of A and B is: \", es14)\n",
    "print('\\n')\n",
    "print(\"The inner product of A and B is: \", np.inner(A, B))"
   ]
  },
  {
   "cell_type": "code",
   "execution_count": 39,
   "metadata": {},
   "outputs": [
    {
     "name": "stdout",
     "output_type": "stream",
     "text": [
      "The dot product of A and B is:  [[ 40  45  80]\n",
      " [104 153  84]\n",
      " [ 32  36  96]]\n",
      "\n",
      "\n",
      "The dot product of A and B is:  [[ 40  45  80]\n",
      " [104 153  84]\n",
      " [ 32  36  96]]\n"
     ]
    }
   ],
   "source": [
    "# dot product of A and B\n",
    "es13 = np.einsum('ij,jk->ik', A, B)\n",
    "print(\"The dot product of A and B is: \", es13)\n",
    "print('\\n')\n",
    "print(\"The dot product of A and B is: \", np.dot(A, B))"
   ]
  }
 ],
 "metadata": {
  "kernelspec": {
   "display_name": "DL_PyTorch",
   "language": "python",
   "name": "python3"
  },
  "language_info": {
   "codemirror_mode": {
    "name": "ipython",
    "version": 3
   },
   "file_extension": ".py",
   "mimetype": "text/x-python",
   "name": "python",
   "nbconvert_exporter": "python",
   "pygments_lexer": "ipython3",
   "version": "3.9.15"
  },
  "orig_nbformat": 4
 },
 "nbformat": 4,
 "nbformat_minor": 2
}
