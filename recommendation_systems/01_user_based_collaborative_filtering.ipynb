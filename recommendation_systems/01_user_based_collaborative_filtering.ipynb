{
 "cells": [
  {
   "cell_type": "code",
   "execution_count": 2,
   "metadata": {},
   "outputs": [],
   "source": [
    "import torch\n",
    "import torch.nn.functional as F"
   ]
  },
  {
   "cell_type": "markdown",
   "metadata": {},
   "source": [
    "# User Based Collaborative Filtering\n",
    "\n",
    "User-based collaborative filtering is a technique used to recommend items based on how similar users have rated them in the past. The basic idea is that if two users have rated items similarly in the past, they are likely to have similar preferences in the future.\n",
    "\n",
    "Understanding the Process of Finding Top-K Similar Users\n",
    "User Ratings Matrix: The ratings matrix (let's assume it looks something like this for illustration) represents ratings by each user for various items, where 0 indicates an unrated item:\n",
    "\n",
    "User-Item Ratings Matrix:\n",
    "```python\n",
    "tensor([[4., 3., 0., 5., 5.],  # User 0\n",
    "        [5., 0., 4., 4., 3.],  # User 1\n",
    "        [4., 2., 0., 4., 5.],  # User 2\n",
    "        [3., 0., 4., 4., 2.]]) # User 3\n",
    "```\n",
    "\n",
    "User Similarity Matrix: As you've provided, the user similarity matrix gives the cosine similarity between each pair of users:\n",
    "\n",
    "User Similarity Matrix:\n",
    "```python\n",
    "tensor([[ 1.0000,  0.0000,  0.6547,  0.0000],  # User 0\n",
    "        [ 0.0000,  1.0000, -0.4364,  0.5000],  # User 1\n",
    "        [ 0.6547, -0.4364,  1.0000, -0.4364],  # User 2\n",
    "        [ 0.0000,  0.5000, -0.4364,  1.0000]]) # User 3\n",
    "        \n",
    "\n",
    "Finding Similar Users\n",
    "When calculating the top-K similar users for User 0, the following happens:\n",
    "\n",
    "Identifying Similar Users:\n",
    "The similarity scores for User 0 are [1.0000, 0.0000, 0.6547, 0.0000].\n",
    "Here, 1.0000 is the self-similarity (User 0 to User 0), which is not considered for prediction.\n",
    "The highest non-zero similarity score is 0.6547 (User 0 with User 2).\n",
    "Top Similar Users: For User 0:\n",
    "\n",
    "The next best similarity score after itself is 0.6547, indicating that User 2 is the most similar user.\n",
    "Since the scores for User 1 and User 3 are 0.0000, they are not similar to User 0.\n",
    "Handling Zeros in the Ratings\n",
    "The presence of 0s in the ratings does not affect the calculation of similarity scores. Instead, it affects how predictions are made:\n",
    "\n",
    "Unrated Items: The 0 values simply mean that User 0 has not rated those specific items. When making predictions, the algorithm focuses on how similar users (like User 2) rated those items.\n",
    "Example of Prediction for User 0\n",
    "If User 0 is being evaluated, the prediction process might work like this:\n",
    "\n",
    "Top-K Similar Users: Identify the top-K similar users. For User 0, this might just be User 2 (if k=1 or k=2, depending on how many are available).\n",
    "\n",
    "Weighted Ratings Calculation:\n",
    "\n",
    "Look at the ratings of User 2 for items that User 0 has not rated. For example, if User 2 rated Item 2 as 5 and Item 3 as 3, those ratings will be considered in the prediction.\n",
    "Final Prediction: The predicted rating for an unrated item by User 0 is calculated based on the ratings from the similar users (like User 2), weighted by their similarity scores."
   ]
  },
  {
   "cell_type": "code",
   "execution_count": 3,
   "metadata": {},
   "outputs": [],
   "source": [
    "# Sample data: rows are users, columns are items, and values are ratings (0 means no rating)\n",
    "ratings_matrix = torch.tensor(\n",
    "    [\n",
    "        [4.0, 3.0, 0.0, 5.0, 0.0],\n",
    "        [5.0, 0.0, 4.0, 4.0, 3.0],\n",
    "        [0.0, 2.0, 0.0, 4.0, 5.0],\n",
    "        [3.0, 0.0, 4.0, 0.0, 2.0],\n",
    "    ],\n",
    "    dtype=torch.float32,\n",
    ")"
   ]
  },
  {
   "cell_type": "code",
   "execution_count": 8,
   "metadata": {},
   "outputs": [
    {
     "name": "stdout",
     "output_type": "stream",
     "text": [
      "Normalized ratings:\n",
      "tensor([[ 0.0000, -1.0000,  0.0000,  1.0000,  0.0000],\n",
      "        [ 1.0000,  0.0000,  0.0000,  0.0000, -1.0000],\n",
      "        [ 0.0000, -1.6667,  0.0000,  0.3333,  1.3333],\n",
      "        [ 0.0000,  0.0000,  1.0000,  0.0000, -1.0000]])\n"
     ]
    }
   ],
   "source": [
    "# Step 1: Normalize ratings to handle different user rating scales\n",
    "def normalize_ratings(ratings):\n",
    "    # Calibrate ratings by removing mean rating for each user\n",
    "    mean_ratings = ratings.sum(dim=1) / (ratings > 0).sum(dim=1).float()\n",
    "    mean_ratings = mean_ratings.view(-1, 1)\n",
    "    # Normalize ratings by subtracting mean ratings\n",
    "    normalized_ratings = torch.where(\n",
    "        ratings > 0, ratings - mean_ratings, torch.tensor(0.0)\n",
    "    )\n",
    "    return normalized_ratings, mean_ratings\n",
    "\n",
    "\n",
    "# Normalize ratings matrix\n",
    "# We see things as deviations from mean rating, unless there is no rating\n",
    "normalized_ratings, user_means = normalize_ratings(ratings_matrix)\n",
    "print(\"Normalized ratings:\")\n",
    "print(normalized_ratings)"
   ]
  },
  {
   "cell_type": "code",
   "execution_count": 9,
   "metadata": {},
   "outputs": [
    {
     "name": "stdout",
     "output_type": "stream",
     "text": [
      "User similarity:\n",
      "tensor([[ 1.0000,  0.0000,  0.6547,  0.0000],\n",
      "        [ 0.0000,  1.0000, -0.4364,  0.5000],\n",
      "        [ 0.6547, -0.4364,  1.0000, -0.4364],\n",
      "        [ 0.0000,  0.5000, -0.4364,  1.0000]])\n"
     ]
    }
   ],
   "source": [
    "# Step 2: Calculate cosine similarity between users\n",
    "def user_similarity_matrix(normalized_ratings):\n",
    "    similarity = F.cosine_similarity(\n",
    "        normalized_ratings.unsqueeze(1), normalized_ratings.unsqueeze(0), dim=2\n",
    "    )\n",
    "    return similarity\n",
    "\n",
    "\n",
    "# User 0 is most similar to user 3, and least similar to user 2\n",
    "user_similarity = user_similarity_matrix(normalized_ratings)\n",
    "print(\"User similarity:\")\n",
    "print(user_similarity)"
   ]
  },
  {
   "cell_type": "code",
   "execution_count": 12,
   "metadata": {},
   "outputs": [
    {
     "name": "stdout",
     "output_type": "stream",
     "text": [
      "Predicted ratings:\n",
      "tensor([[4., 3., 0., 5., 5.],\n",
      "        [5., 0., 4., 4., 3.],\n",
      "        [4., 2., 0., 4., 5.],\n",
      "        [3., 0., 4., 4., 2.]])\n"
     ]
    }
   ],
   "source": [
    "# Step 3: Make predictions based on similar users\n",
    "def predict_ratings(ratings, similarity, k=2):\n",
    "    # Set self-similarity to zero to avoid using the user's own ratings\n",
    "    similarity.fill_diagonal_(0)\n",
    "\n",
    "    # For each user, calculate weighted average of ratings from top-K similar users\n",
    "    pred_ratings = torch.zeros_like(ratings)\n",
    "    for user in range(ratings.size(0)):\n",
    "        # Get top-K similar users for the current user\n",
    "        top_k_users = torch.topk(similarity[user], k=k).indices\n",
    "        similarity_scores = similarity[user, top_k_users]\n",
    "\n",
    "        # Calculate weighted ratings for each item\n",
    "        weighted_ratings = (similarity_scores.view(-1, 1) * ratings[top_k_users]).sum(\n",
    "            dim=0\n",
    "        )\n",
    "        normalization_factor = similarity_scores.sum()\n",
    "\n",
    "        # Only predict ratings where user has not rated\n",
    "        pred_ratings[user] = torch.where(\n",
    "            ratings[user] == 0,\n",
    "            weighted_ratings / (normalization_factor + 1e-8),\n",
    "            ratings[user],\n",
    "        )\n",
    "\n",
    "    return pred_ratings\n",
    "\n",
    "\n",
    "# Step 4: Make predictions for all users\n",
    "# Predict ratings for all users\n",
    "predicted_ratings = predict_ratings(ratings_matrix, user_similarity, k=2)\n",
    "print(\"Predicted ratings:\")\n",
    "print(predicted_ratings)"
   ]
  },
  {
   "cell_type": "code",
   "execution_count": 13,
   "metadata": {},
   "outputs": [
    {
     "name": "stdout",
     "output_type": "stream",
     "text": [
      "Recommended items for user 0: [4, 3]\n"
     ]
    }
   ],
   "source": [
    "# Step 5: Recommend items to a specific user\n",
    "def recommend_items(pred_ratings, user_id, num_recommendations=2):\n",
    "    # Get the predicted ratings for the user\n",
    "    user_ratings = pred_ratings[user_id]\n",
    "    # Recommend items with the highest predicted ratings that haven't been rated yet\n",
    "    recommended_items = torch.topk(user_ratings, num_recommendations).indices\n",
    "    return recommended_items\n",
    "\n",
    "\n",
    "# Example: Get top-2 recommendations for user 0\n",
    "user_id = 0\n",
    "recommendations = recommend_items(predicted_ratings, user_id, num_recommendations=2)\n",
    "print(f\"Recommended items for user {user_id}: {recommendations.tolist()}\")"
   ]
  }
 ],
 "metadata": {
  "kernelspec": {
   "display_name": "llm",
   "language": "python",
   "name": "python3"
  },
  "language_info": {
   "codemirror_mode": {
    "name": "ipython",
    "version": 3
   },
   "file_extension": ".py",
   "mimetype": "text/x-python",
   "name": "python",
   "nbconvert_exporter": "python",
   "pygments_lexer": "ipython3",
   "version": "3.11.8"
  }
 },
 "nbformat": 4,
 "nbformat_minor": 2
}
